{
 "cells": [
  {
   "cell_type": "code",
   "execution_count": 195,
   "metadata": {},
   "outputs": [],
   "source": [
    "import io\n",
    "import json\n",
    "import numpy as np\n",
    "from six.moves import urllib\n",
    "from torch_geometric_temporal.signal import StaticGraphTemporalSignal\n",
    "from torch_geometric_temporal.signal import temporal_signal_split\n",
    "import matplotlib.pyplot as plt"
   ]
  },
  {
   "cell_type": "code",
   "execution_count": 226,
   "metadata": {},
   "outputs": [],
   "source": [
    "class COVIDIndiaDatasetLoader(object):\n",
    "    \"\"\"A dataset of county level chicken pox cases in Hungary between 2004\n",
    "    and 2014. We made it public during the development of PyTorch Geometric\n",
    "    Temporal. The underlying graph is static - vertices are counties and \n",
    "    edges are neighbourhoods. Vertex features are lagged weekly counts of the \n",
    "    chickenpox cases (we included 4 lags). The target is the weekly number of \n",
    "    cases for the upcoming week (signed integers). Our dataset consist of more\n",
    "    than 500 snapshots (weeks). \n",
    "    \"\"\"\n",
    "    def __init__(self):\n",
    "        self._read_web_data()\n",
    "\n",
    "\n",
    "    def _read_web_data(self):\n",
    "        self._dataset = json.load(open(\"./processed_data.json\",  \"r\"))\n",
    "\n",
    "\n",
    "    def _get_edges(self):\n",
    "        self._edges = np.array(self._dataset[\"edges\"]).T\n",
    "\n",
    "\n",
    "    def _get_edge_weights(self):\n",
    "        self._edge_weights = np.ones(self._edges.shape[1])\n",
    "\n",
    "\n",
    "    def _get_targets_and_features(self):\n",
    "        stacked_target = np.array(self._dataset[\"FX\"])\n",
    "        self.features = [stacked_target[i:i+self.lags,:].T for i in range(stacked_target.shape[0]-self.lags)]\n",
    "        self.targets = [stacked_target[i+self.lags,:].T for i in range(stacked_target.shape[0]-self.lags)]\n",
    "\n",
    "\n",
    "    def get_dataset(self, lags: int=4) -> StaticGraphTemporalSignal:\n",
    "        \"\"\"Returning the Chickenpox Hungary data iterator.\n",
    "\n",
    "        Args types:\n",
    "            * **lags** *(int)* - The number of time lags. \n",
    "        Return types:\n",
    "            * **dataset** *(StaticGraphTemporalSignal)* - The Chickenpox Hungary dataset.\n",
    "        \"\"\"\n",
    "        self.lags = lags\n",
    "        self._get_edges()\n",
    "        self._get_edge_weights()\n",
    "        self._get_targets_and_features()\n",
    "        dataset = StaticGraphTemporalSignal(self._edges, self._edge_weights, self.features, self.targets)\n",
    "        return dataset"
   ]
  },
  {
   "cell_type": "code",
   "execution_count": 227,
   "metadata": {},
   "outputs": [],
   "source": [
    "dataloader = COVIDIndiaDatasetLoader()"
   ]
  },
  {
   "cell_type": "code",
   "execution_count": 228,
   "metadata": {},
   "outputs": [],
   "source": [
    "dataset = dataloader.get_dataset(lags=14)"
   ]
  },
  {
   "cell_type": "code",
   "execution_count": 229,
   "metadata": {},
   "outputs": [],
   "source": [
    "train_dataset, test_dataset = temporal_signal_split(dataset, train_ratio=0.8)"
   ]
  },
  {
   "cell_type": "code",
   "execution_count": 231,
   "metadata": {},
   "outputs": [],
   "source": [
    "import torch\n",
    "import torch.nn.functional as F\n",
    "from torch_geometric_temporal.nn.recurrent import DCRNN\n",
    "\n",
    "class RecurrentGCN(torch.nn.Module):\n",
    "    def __init__(self, node_features):\n",
    "        super(RecurrentGCN, self).__init__()\n",
    "        self.recurrent = DCRNN(node_features, 16, 1)\n",
    "        self.linear = torch.nn.Linear(16, 1)\n",
    "\n",
    "    def forward(self, x, edge_index, edge_weight):\n",
    "        h = self.recurrent(x, edge_index, edge_weight)\n",
    "        #h = F.leaky_relu(h)\n",
    "        h = self.linear(h)\n",
    "        return h"
   ]
  },
  {
   "cell_type": "code",
   "execution_count": 232,
   "metadata": {},
   "outputs": [
    {
     "name": "stderr",
     "output_type": "stream",
     "text": [
      "100%|████████████████████████████████████████████████████████████████████████████████| 300/300 [01:38<00:00,  3.06it/s]\n"
     ]
    }
   ],
   "source": [
    "from tqdm import tqdm\n",
    "\n",
    "model = RecurrentGCN(node_features=14)\n",
    "\n",
    "optimizer = torch.optim.Adam(model.parameters(), lr=0.01)\n",
    "\n",
    "model.train()\n",
    "\n",
    "for epoch in tqdm(range(300)):\n",
    "    cost = 0\n",
    "    for time, snapshot in enumerate(train_dataset):\n",
    "        y_hat = model(snapshot.x, snapshot.edge_index, snapshot.edge_attr)\n",
    "        cost = cost + torch.mean((y_hat-snapshot.y)**2)\n",
    "    cost = cost / (time+1)\n",
    "    cost.backward()\n",
    "    optimizer.step()\n",
    "    optimizer.zero_grad()"
   ]
  },
  {
   "cell_type": "code",
   "execution_count": 233,
   "metadata": {},
   "outputs": [
    {
     "name": "stdout",
     "output_type": "stream",
     "text": [
      "MSE: 179390.9531\n"
     ]
    }
   ],
   "source": [
    "model.eval()\n",
    "cost = 0\n",
    "preds = []\n",
    "ys = []\n",
    "for time, snapshot in enumerate(test_dataset):\n",
    "    y_hat = model(snapshot.x, snapshot.edge_index, snapshot.edge_attr)\n",
    "    cost = cost + torch.mean((y_hat-snapshot.y)**2)\n",
    "    preds.append(y_hat.detach().numpy().reshape(1, 34))\n",
    "    ys.append(snapshot.y.detach().numpy().reshape(1, 34))\n",
    "cost = cost / (time+1)\n",
    "cost = cost.item()\n",
    "print(\"MSE: {:.4f}\".format(cost))"
   ]
  },
  {
   "cell_type": "code",
   "execution_count": 234,
   "metadata": {},
   "outputs": [],
   "source": [
    "import joblib \n",
    "scaler = joblib.load('minmaxscaler.pkl') "
   ]
  },
  {
   "cell_type": "code",
   "execution_count": 238,
   "metadata": {},
   "outputs": [
    {
     "data": {
      "text/plain": [
       "(29, 1, 34)"
      ]
     },
     "execution_count": 238,
     "metadata": {},
     "output_type": "execute_result"
    }
   ],
   "source": [
    "np.array(preds).shape"
   ]
  },
  {
   "cell_type": "code",
   "execution_count": 239,
   "metadata": {},
   "outputs": [],
   "source": [
    "preds = np.array(preds).reshape(29, 34)\n",
    "ys = np.array(ys).reshape(29, 34)"
   ]
  },
  {
   "cell_type": "code",
   "execution_count": 240,
   "metadata": {},
   "outputs": [
    {
     "data": {
      "text/plain": [
       "array([-45.623257 ,  49.033867 ,  42.960438 ,  -4.53512  ,   5.052417 ,\n",
       "         8.004122 , -42.54948  , -45.164684 ,  27.315144 ,  30.50428  ,\n",
       "        -4.536895 ,   5.143964 ,  19.407516 , -42.666546 ,  -5.588119 ,\n",
       "        13.964458 , -17.381481 ,  -6.7195234,   2.6804247,  -1.4945406,\n",
       "         7.646783 , -39.23894  ,  14.702369 ,  30.738327 ,  43.074913 ,\n",
       "        -1.3502337,   1.8350686,  20.99945  , -23.406883 ], dtype=float32)"
      ]
     },
     "execution_count": 240,
     "metadata": {},
     "output_type": "execute_result"
    }
   ],
   "source": [
    "preds[:, 0]"
   ]
  },
  {
   "cell_type": "code",
   "execution_count": 241,
   "metadata": {},
   "outputs": [
    {
     "data": {
      "text/plain": [
       "array([-53., 106.,   4., -58.,   6.,   3., -15., -25.,  57., -27., -10.,\n",
       "        31., -18.,   6.,  -6., -67.,  77.,   8.,  18., -65.,  12.,  19.,\n",
       "       -63.,  50.,  84., -78., -27.,  67., -55.], dtype=float32)"
      ]
     },
     "execution_count": 241,
     "metadata": {},
     "output_type": "execute_result"
    }
   ],
   "source": [
    "ys[:,0]"
   ]
  },
  {
   "cell_type": "code",
   "execution_count": 242,
   "metadata": {},
   "outputs": [
    {
     "data": {
      "text/plain": [
       "[<matplotlib.lines.Line2D at 0x20c0ee07808>]"
      ]
     },
     "execution_count": 242,
     "metadata": {},
     "output_type": "execute_result"
    },
    {
     "data": {
      "image/png": "[encoded data removed]",
      "text/plain": [
       "<Figure size 432x288 with 1 Axes>"
      ]
     },
     "metadata": {
      "needs_background": "light"
     },
     "output_type": "display_data"
    }
   ],
   "source": [
    "plt.plot(ys[:,1])\n",
    "plt.plot(preds[:,1], c='r')"
   ]
  }
 ],
 "metadata": {
  "kernelspec": {
   "display_name": "Python 3",
   "language": "python",
   "name": "python3"
  },
  "language_info": {
   "codemirror_mode": {
    "name": "ipython",
    "version": 3
   },
   "file_extension": ".py",
   "mimetype": "text/x-python",
   "name": "python",
   "nbconvert_exporter": "python",
   "pygments_lexer": "ipython3",
   "version": "3.7.4"
  }
 },
 "nbformat": 4,
 "nbformat_minor": 2
}
