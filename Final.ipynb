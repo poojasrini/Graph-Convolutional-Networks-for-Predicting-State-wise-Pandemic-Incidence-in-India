{
 "cells": [
  {
   "cell_type": "markdown",
   "metadata": {},
   "source": [
    "## Imports"
   ]
  },
  {
   "cell_type": "code",
   "execution_count": 1,
   "metadata": {
    "colab": {
     "base_uri": "https://localhost:8080/"
    },
    "id": "NZQkvXIxws5L",
    "outputId": "e14d17b3-b684-47f2-ae92-a43b874ea854"
   },
   "outputs": [
    {
     "name": "stderr",
     "output_type": "stream",
     "text": [
      "Using backend: pytorch\n"
     ]
    }
   ],
   "source": [
    "import dgl\n",
    "import numpy as np\n",
    "import pandas as pd\n",
    "import networkx as nx\n",
    "import random\n",
    "import itertools\n",
    "\n",
    "from helper_functions import build_map_1"
   ]
  },
  {
   "cell_type": "code",
   "execution_count": 2,
   "metadata": {},
   "outputs": [],
   "source": [
    "import torch\n",
    "import torch.nn as nn\n",
    "import torch.nn.functional as F\n",
    "from dgl.nn.pytorch import GraphConv"
   ]
  },
  {
   "cell_type": "markdown",
   "metadata": {},
   "source": [
    "## Creating the graph:"
   ]
  },
  {
   "cell_type": "code",
   "execution_count": 3,
   "metadata": {
    "id": "TGOS54Tev894"
   },
   "outputs": [],
   "source": [
    "# CONSTANTS\n",
    "\n",
    "n_states = 34"
   ]
  },
  {
   "cell_type": "code",
   "execution_count": 4,
   "metadata": {
    "id": "D__CS6ra7kz-"
   },
   "outputs": [
    {
     "name": "stderr",
     "output_type": "stream",
     "text": [
      "c:\\users\\siddh\\appdata\\local\\programs\\python\\python37\\lib\\site-packages\\dgl\\base.py:45: DGLWarning: Recommend creating graphs by `dgl.graph(data)` instead of `dgl.DGLGraph(data)`.\n",
      "  return warnings.warn(message, category=category, stacklevel=1)\n"
     ]
    }
   ],
   "source": [
    "G = dgl.DGLGraph()\n",
    "G.add_nodes(n_states)\n",
    "u, v = build_map_1()\n",
    "G = dgl.graph((u, v))"
   ]
  },
  {
   "cell_type": "code",
   "execution_count": 5,
   "metadata": {
    "colab": {
     "base_uri": "https://localhost:8080/"
    },
    "id": "Fa4QrYLEoCXr",
    "outputId": "4898a6b4-e01a-4213-a3e8-b551e69c32f3"
   },
   "outputs": [
    {
     "name": "stdout",
     "output_type": "stream",
     "text": [
      "34\n",
      "128\n",
      "Graph(num_nodes=34, num_edges=128,\n",
      "      ndata_schemes={}\n",
      "      edata_schemes={})\n"
     ]
    }
   ],
   "source": [
    "print(G.number_of_nodes())\n",
    "print(G.number_of_edges())\n",
    "print(G)"
   ]
  },
  {
   "cell_type": "code",
   "execution_count": 6,
   "metadata": {
    "collapsed": true
   },
   "outputs": [
    {
     "ename": "KeyboardInterrupt",
     "evalue": "",
     "output_type": "error",
     "traceback": [
      "\u001b[1;31m---------------------------------------------------------------------------\u001b[0m",
      "\u001b[1;31mKeyboardInterrupt\u001b[0m                         Traceback (most recent call last)",
      "\u001b[1;32m<ipython-input-6-b5f21b98799c>\u001b[0m in \u001b[0;36m<module>\u001b[1;34m\u001b[0m\n\u001b[1;32m----> 1\u001b[1;33m \u001b[1;32mfrom\u001b[0m \u001b[0mnode2vec\u001b[0m \u001b[1;32mimport\u001b[0m \u001b[0mNode2Vec\u001b[0m\u001b[1;33m\u001b[0m\u001b[1;33m\u001b[0m\u001b[0m\n\u001b[0m",
      "\u001b[1;32mc:\\users\\siddh\\appdata\\local\\programs\\python\\python37\\lib\\site-packages\\node2vec\\__init__.py\u001b[0m in \u001b[0;36m<module>\u001b[1;34m\u001b[0m\n\u001b[1;32m----> 1\u001b[1;33m \u001b[1;32mfrom\u001b[0m \u001b[1;33m.\u001b[0m \u001b[1;32mimport\u001b[0m \u001b[0medges\u001b[0m\u001b[1;33m\u001b[0m\u001b[1;33m\u001b[0m\u001b[0m\n\u001b[0m\u001b[0;32m      2\u001b[0m \u001b[1;32mfrom\u001b[0m \u001b[1;33m.\u001b[0m\u001b[0mnode2vec\u001b[0m \u001b[1;32mimport\u001b[0m \u001b[0mNode2Vec\u001b[0m\u001b[1;33m\u001b[0m\u001b[1;33m\u001b[0m\u001b[0m\n\u001b[0;32m      3\u001b[0m \u001b[1;33m\u001b[0m\u001b[0m\n\u001b[0;32m      4\u001b[0m \u001b[0m__version__\u001b[0m \u001b[1;33m=\u001b[0m \u001b[1;34m'0.4.3'\u001b[0m\u001b[1;33m\u001b[0m\u001b[1;33m\u001b[0m\u001b[0m\n",
      "\u001b[1;32mc:\\users\\siddh\\appdata\\local\\programs\\python\\python37\\lib\\site-packages\\node2vec\\edges.py\u001b[0m in \u001b[0;36m<module>\u001b[1;34m\u001b[0m\n\u001b[0;32m      5\u001b[0m \u001b[1;32mimport\u001b[0m \u001b[0mnumpy\u001b[0m \u001b[1;32mas\u001b[0m \u001b[0mnp\u001b[0m\u001b[1;33m\u001b[0m\u001b[1;33m\u001b[0m\u001b[0m\n\u001b[0;32m      6\u001b[0m \u001b[1;32mimport\u001b[0m \u001b[0mpkg_resources\u001b[0m\u001b[1;33m\u001b[0m\u001b[1;33m\u001b[0m\u001b[0m\n\u001b[1;32m----> 7\u001b[1;33m \u001b[1;32mfrom\u001b[0m \u001b[0mgensim\u001b[0m\u001b[1;33m.\u001b[0m\u001b[0mmodels\u001b[0m \u001b[1;32mimport\u001b[0m \u001b[0mKeyedVectors\u001b[0m\u001b[1;33m\u001b[0m\u001b[1;33m\u001b[0m\u001b[0m\n\u001b[0m\u001b[0;32m      8\u001b[0m \u001b[1;32mfrom\u001b[0m \u001b[0mtqdm\u001b[0m \u001b[1;32mimport\u001b[0m \u001b[0mtqdm\u001b[0m\u001b[1;33m\u001b[0m\u001b[1;33m\u001b[0m\u001b[0m\n\u001b[0;32m      9\u001b[0m \u001b[1;33m\u001b[0m\u001b[0m\n",
      "\u001b[1;32m~\\AppData\\Roaming\\Python\\Python37\\site-packages\\gensim\\__init__.py\u001b[0m in \u001b[0;36m<module>\u001b[1;34m\u001b[0m\n\u001b[0;32m      3\u001b[0m \"\"\"\n\u001b[0;32m      4\u001b[0m \u001b[1;33m\u001b[0m\u001b[0m\n\u001b[1;32m----> 5\u001b[1;33m \u001b[1;32mfrom\u001b[0m \u001b[0mgensim\u001b[0m \u001b[1;32mimport\u001b[0m \u001b[0mparsing\u001b[0m\u001b[1;33m,\u001b[0m \u001b[0mcorpora\u001b[0m\u001b[1;33m,\u001b[0m \u001b[0mmatutils\u001b[0m\u001b[1;33m,\u001b[0m \u001b[0minterfaces\u001b[0m\u001b[1;33m,\u001b[0m \u001b[0mmodels\u001b[0m\u001b[1;33m,\u001b[0m \u001b[0msimilarities\u001b[0m\u001b[1;33m,\u001b[0m \u001b[0msummarization\u001b[0m\u001b[1;33m,\u001b[0m \u001b[0mutils\u001b[0m  \u001b[1;31m# noqa:F401\u001b[0m\u001b[1;33m\u001b[0m\u001b[1;33m\u001b[0m\u001b[0m\n\u001b[0m\u001b[0;32m      6\u001b[0m \u001b[1;32mimport\u001b[0m \u001b[0mlogging\u001b[0m\u001b[1;33m\u001b[0m\u001b[1;33m\u001b[0m\u001b[0m\n\u001b[0;32m      7\u001b[0m \u001b[1;33m\u001b[0m\u001b[0m\n",
      "\u001b[1;32m~\\AppData\\Roaming\\Python\\Python37\\site-packages\\gensim\\corpora\\__init__.py\u001b[0m in \u001b[0;36m<module>\u001b[1;34m\u001b[0m\n\u001b[0;32m      4\u001b[0m \u001b[1;33m\u001b[0m\u001b[0m\n\u001b[0;32m      5\u001b[0m \u001b[1;31m# bring corpus classes directly into package namespace, to save some typing\u001b[0m\u001b[1;33m\u001b[0m\u001b[1;33m\u001b[0m\u001b[1;33m\u001b[0m\u001b[0m\n\u001b[1;32m----> 6\u001b[1;33m \u001b[1;32mfrom\u001b[0m \u001b[1;33m.\u001b[0m\u001b[0mindexedcorpus\u001b[0m \u001b[1;32mimport\u001b[0m \u001b[0mIndexedCorpus\u001b[0m  \u001b[1;31m# noqa:F401 must appear before the other classes\u001b[0m\u001b[1;33m\u001b[0m\u001b[1;33m\u001b[0m\u001b[0m\n\u001b[0m\u001b[0;32m      7\u001b[0m \u001b[1;33m\u001b[0m\u001b[0m\n\u001b[0;32m      8\u001b[0m \u001b[1;32mfrom\u001b[0m \u001b[1;33m.\u001b[0m\u001b[0mmmcorpus\u001b[0m \u001b[1;32mimport\u001b[0m \u001b[0mMmCorpus\u001b[0m  \u001b[1;31m# noqa:F401\u001b[0m\u001b[1;33m\u001b[0m\u001b[1;33m\u001b[0m\u001b[0m\n",
      "\u001b[1;32m~\\AppData\\Roaming\\Python\\Python37\\site-packages\\gensim\\corpora\\indexedcorpus.py\u001b[0m in \u001b[0;36m<module>\u001b[1;34m\u001b[0m\n\u001b[0;32m     13\u001b[0m \u001b[1;32mimport\u001b[0m \u001b[0mnumpy\u001b[0m\u001b[1;33m\u001b[0m\u001b[1;33m\u001b[0m\u001b[0m\n\u001b[0;32m     14\u001b[0m \u001b[1;33m\u001b[0m\u001b[0m\n\u001b[1;32m---> 15\u001b[1;33m \u001b[1;32mfrom\u001b[0m \u001b[0mgensim\u001b[0m \u001b[1;32mimport\u001b[0m \u001b[0minterfaces\u001b[0m\u001b[1;33m,\u001b[0m \u001b[0mutils\u001b[0m\u001b[1;33m\u001b[0m\u001b[1;33m\u001b[0m\u001b[0m\n\u001b[0m\u001b[0;32m     16\u001b[0m \u001b[1;33m\u001b[0m\u001b[0m\n\u001b[0;32m     17\u001b[0m \u001b[0mlogger\u001b[0m \u001b[1;33m=\u001b[0m \u001b[0mlogging\u001b[0m\u001b[1;33m.\u001b[0m\u001b[0mgetLogger\u001b[0m\u001b[1;33m(\u001b[0m\u001b[0m__name__\u001b[0m\u001b[1;33m)\u001b[0m\u001b[1;33m\u001b[0m\u001b[1;33m\u001b[0m\u001b[0m\n",
      "\u001b[1;32m~\\AppData\\Roaming\\Python\\Python37\\site-packages\\gensim\\interfaces.py\u001b[0m in \u001b[0;36m<module>\u001b[1;34m\u001b[0m\n\u001b[0;32m     19\u001b[0m \u001b[1;32mimport\u001b[0m \u001b[0mlogging\u001b[0m\u001b[1;33m\u001b[0m\u001b[1;33m\u001b[0m\u001b[0m\n\u001b[0;32m     20\u001b[0m \u001b[1;33m\u001b[0m\u001b[0m\n\u001b[1;32m---> 21\u001b[1;33m \u001b[1;32mfrom\u001b[0m \u001b[0mgensim\u001b[0m \u001b[1;32mimport\u001b[0m \u001b[0mutils\u001b[0m\u001b[1;33m,\u001b[0m \u001b[0mmatutils\u001b[0m\u001b[1;33m\u001b[0m\u001b[1;33m\u001b[0m\u001b[0m\n\u001b[0m\u001b[0;32m     22\u001b[0m \u001b[1;32mfrom\u001b[0m \u001b[0msix\u001b[0m\u001b[1;33m.\u001b[0m\u001b[0mmoves\u001b[0m \u001b[1;32mimport\u001b[0m \u001b[0mrange\u001b[0m\u001b[1;33m\u001b[0m\u001b[1;33m\u001b[0m\u001b[0m\n\u001b[0;32m     23\u001b[0m \u001b[1;33m\u001b[0m\u001b[0m\n",
      "\u001b[1;32m~\\AppData\\Roaming\\Python\\Python37\\site-packages\\gensim\\matutils.py\u001b[0m in \u001b[0;36m<module>\u001b[1;34m\u001b[0m\n\u001b[0;32m     19\u001b[0m \u001b[1;32mimport\u001b[0m \u001b[0mnumpy\u001b[0m \u001b[1;32mas\u001b[0m \u001b[0mnp\u001b[0m\u001b[1;33m\u001b[0m\u001b[1;33m\u001b[0m\u001b[0m\n\u001b[0;32m     20\u001b[0m \u001b[1;32mimport\u001b[0m \u001b[0mscipy\u001b[0m\u001b[1;33m.\u001b[0m\u001b[0msparse\u001b[0m\u001b[1;33m\u001b[0m\u001b[1;33m\u001b[0m\u001b[0m\n\u001b[1;32m---> 21\u001b[1;33m \u001b[1;32mfrom\u001b[0m \u001b[0mscipy\u001b[0m\u001b[1;33m.\u001b[0m\u001b[0mstats\u001b[0m \u001b[1;32mimport\u001b[0m \u001b[0mentropy\u001b[0m\u001b[1;33m\u001b[0m\u001b[1;33m\u001b[0m\u001b[0m\n\u001b[0m\u001b[0;32m     22\u001b[0m \u001b[1;32mimport\u001b[0m \u001b[0mscipy\u001b[0m\u001b[1;33m.\u001b[0m\u001b[0mlinalg\u001b[0m\u001b[1;33m\u001b[0m\u001b[1;33m\u001b[0m\u001b[0m\n\u001b[0;32m     23\u001b[0m \u001b[1;32mfrom\u001b[0m \u001b[0mscipy\u001b[0m\u001b[1;33m.\u001b[0m\u001b[0mlinalg\u001b[0m\u001b[1;33m.\u001b[0m\u001b[0mlapack\u001b[0m \u001b[1;32mimport\u001b[0m \u001b[0mget_lapack_funcs\u001b[0m\u001b[1;33m\u001b[0m\u001b[1;33m\u001b[0m\u001b[0m\n",
      "\u001b[1;32mc:\\users\\siddh\\appdata\\local\\programs\\python\\python37\\lib\\site-packages\\scipy\\stats\\__init__.py\u001b[0m in \u001b[0;36m<module>\u001b[1;34m\u001b[0m\n\u001b[0;32m    382\u001b[0m \u001b[1;32mfrom\u001b[0m \u001b[0m__future__\u001b[0m \u001b[1;32mimport\u001b[0m \u001b[0mdivision\u001b[0m\u001b[1;33m,\u001b[0m \u001b[0mprint_function\u001b[0m\u001b[1;33m,\u001b[0m \u001b[0mabsolute_import\u001b[0m\u001b[1;33m\u001b[0m\u001b[1;33m\u001b[0m\u001b[0m\n\u001b[0;32m    383\u001b[0m \u001b[1;33m\u001b[0m\u001b[0m\n\u001b[1;32m--> 384\u001b[1;33m \u001b[1;32mfrom\u001b[0m \u001b[1;33m.\u001b[0m\u001b[0mstats\u001b[0m \u001b[1;32mimport\u001b[0m \u001b[1;33m*\u001b[0m\u001b[1;33m\u001b[0m\u001b[1;33m\u001b[0m\u001b[0m\n\u001b[0m\u001b[0;32m    385\u001b[0m \u001b[1;32mfrom\u001b[0m \u001b[1;33m.\u001b[0m\u001b[0mdistributions\u001b[0m \u001b[1;32mimport\u001b[0m \u001b[1;33m*\u001b[0m\u001b[1;33m\u001b[0m\u001b[1;33m\u001b[0m\u001b[0m\n\u001b[0;32m    386\u001b[0m \u001b[1;32mfrom\u001b[0m \u001b[1;33m.\u001b[0m\u001b[0mmorestats\u001b[0m \u001b[1;32mimport\u001b[0m \u001b[1;33m*\u001b[0m\u001b[1;33m\u001b[0m\u001b[1;33m\u001b[0m\u001b[0m\n",
      "\u001b[1;32mc:\\users\\siddh\\appdata\\local\\programs\\python\\python37\\lib\\site-packages\\scipy\\stats\\stats.py\u001b[0m in \u001b[0;36m<module>\u001b[1;34m\u001b[0m\n\u001b[0;32m    183\u001b[0m \u001b[1;32mimport\u001b[0m \u001b[0mscipy\u001b[0m\u001b[1;33m.\u001b[0m\u001b[0mspecial\u001b[0m \u001b[1;32mas\u001b[0m \u001b[0mspecial\u001b[0m\u001b[1;33m\u001b[0m\u001b[1;33m\u001b[0m\u001b[0m\n\u001b[0;32m    184\u001b[0m \u001b[1;32mfrom\u001b[0m \u001b[0mscipy\u001b[0m \u001b[1;32mimport\u001b[0m \u001b[0mlinalg\u001b[0m\u001b[1;33m\u001b[0m\u001b[1;33m\u001b[0m\u001b[0m\n\u001b[1;32m--> 185\u001b[1;33m \u001b[1;32mfrom\u001b[0m \u001b[1;33m.\u001b[0m \u001b[1;32mimport\u001b[0m \u001b[0mdistributions\u001b[0m\u001b[1;33m\u001b[0m\u001b[1;33m\u001b[0m\u001b[0m\n\u001b[0m\u001b[0;32m    186\u001b[0m \u001b[1;32mfrom\u001b[0m \u001b[1;33m.\u001b[0m \u001b[1;32mimport\u001b[0m \u001b[0mmstats_basic\u001b[0m\u001b[1;33m\u001b[0m\u001b[1;33m\u001b[0m\u001b[0m\n\u001b[0;32m    187\u001b[0m from ._stats_mstats_common import (_find_repeats, linregress, theilslopes,\n",
      "\u001b[1;32mc:\\users\\siddh\\appdata\\local\\programs\\python\\python37\\lib\\site-packages\\scipy\\stats\\distributions.py\u001b[0m in \u001b[0;36m<module>\u001b[1;34m\u001b[0m\n\u001b[0;32m      8\u001b[0m \u001b[1;32mfrom\u001b[0m \u001b[0m__future__\u001b[0m \u001b[1;32mimport\u001b[0m \u001b[0mdivision\u001b[0m\u001b[1;33m,\u001b[0m \u001b[0mprint_function\u001b[0m\u001b[1;33m,\u001b[0m \u001b[0mabsolute_import\u001b[0m\u001b[1;33m\u001b[0m\u001b[1;33m\u001b[0m\u001b[0m\n\u001b[0;32m      9\u001b[0m \u001b[1;33m\u001b[0m\u001b[0m\n\u001b[1;32m---> 10\u001b[1;33m from ._distn_infrastructure import (entropy, rv_discrete, rv_continuous,\n\u001b[0m\u001b[0;32m     11\u001b[0m                                     rv_frozen)\n\u001b[0;32m     12\u001b[0m \u001b[1;33m\u001b[0m\u001b[0m\n",
      "\u001b[1;32mc:\\users\\siddh\\appdata\\local\\programs\\python\\python37\\lib\\site-packages\\scipy\\stats\\_distn_infrastructure.py\u001b[0m in \u001b[0;36m<module>\u001b[1;34m\u001b[0m\n\u001b[0;32m     23\u001b[0m \u001b[1;33m\u001b[0m\u001b[0m\n\u001b[0;32m     24\u001b[0m \u001b[1;31m# for root finding for discrete distribution ppf, and max likelihood estimation\u001b[0m\u001b[1;33m\u001b[0m\u001b[1;33m\u001b[0m\u001b[1;33m\u001b[0m\u001b[0m\n\u001b[1;32m---> 25\u001b[1;33m \u001b[1;32mfrom\u001b[0m \u001b[0mscipy\u001b[0m \u001b[1;32mimport\u001b[0m \u001b[0moptimize\u001b[0m\u001b[1;33m\u001b[0m\u001b[1;33m\u001b[0m\u001b[0m\n\u001b[0m\u001b[0;32m     26\u001b[0m \u001b[1;33m\u001b[0m\u001b[0m\n\u001b[0;32m     27\u001b[0m \u001b[1;31m# for functions of continuous distributions (e.g. moments, entropy, cdf)\u001b[0m\u001b[1;33m\u001b[0m\u001b[1;33m\u001b[0m\u001b[1;33m\u001b[0m\u001b[0m\n",
      "\u001b[1;32mc:\\users\\siddh\\appdata\\local\\programs\\python\\python37\\lib\\site-packages\\scipy\\optimize\\__init__.py\u001b[0m in \u001b[0;36m<module>\u001b[1;34m\u001b[0m\n\u001b[0;32m    400\u001b[0m \u001b[1;32mfrom\u001b[0m \u001b[1;33m.\u001b[0m\u001b[0mnnls\u001b[0m \u001b[1;32mimport\u001b[0m \u001b[0mnnls\u001b[0m\u001b[1;33m\u001b[0m\u001b[1;33m\u001b[0m\u001b[0m\n\u001b[0;32m    401\u001b[0m \u001b[1;32mfrom\u001b[0m \u001b[1;33m.\u001b[0m\u001b[0m_basinhopping\u001b[0m \u001b[1;32mimport\u001b[0m \u001b[0mbasinhopping\u001b[0m\u001b[1;33m\u001b[0m\u001b[1;33m\u001b[0m\u001b[0m\n\u001b[1;32m--> 402\u001b[1;33m \u001b[1;32mfrom\u001b[0m \u001b[1;33m.\u001b[0m\u001b[0m_linprog\u001b[0m \u001b[1;32mimport\u001b[0m \u001b[0mlinprog\u001b[0m\u001b[1;33m,\u001b[0m \u001b[0mlinprog_verbose_callback\u001b[0m\u001b[1;33m\u001b[0m\u001b[1;33m\u001b[0m\u001b[0m\n\u001b[0m\u001b[0;32m    403\u001b[0m \u001b[1;32mfrom\u001b[0m \u001b[1;33m.\u001b[0m\u001b[0m_lsap\u001b[0m \u001b[1;32mimport\u001b[0m \u001b[0mlinear_sum_assignment\u001b[0m\u001b[1;33m\u001b[0m\u001b[1;33m\u001b[0m\u001b[0m\n\u001b[0;32m    404\u001b[0m \u001b[1;32mfrom\u001b[0m \u001b[1;33m.\u001b[0m\u001b[0m_differentialevolution\u001b[0m \u001b[1;32mimport\u001b[0m \u001b[0mdifferential_evolution\u001b[0m\u001b[1;33m\u001b[0m\u001b[1;33m\u001b[0m\u001b[0m\n",
      "\u001b[1;32mc:\\users\\siddh\\appdata\\local\\programs\\python\\python37\\lib\\site-packages\\scipy\\optimize\\_linprog.py\u001b[0m in \u001b[0;36m<module>\u001b[1;34m\u001b[0m\n\u001b[0;32m     22\u001b[0m \u001b[1;32mfrom\u001b[0m \u001b[1;33m.\u001b[0m\u001b[0moptimize\u001b[0m \u001b[1;32mimport\u001b[0m \u001b[0mOptimizeResult\u001b[0m\u001b[1;33m,\u001b[0m \u001b[0mOptimizeWarning\u001b[0m\u001b[1;33m\u001b[0m\u001b[1;33m\u001b[0m\u001b[0m\n\u001b[0;32m     23\u001b[0m \u001b[1;32mfrom\u001b[0m \u001b[0mwarnings\u001b[0m \u001b[1;32mimport\u001b[0m \u001b[0mwarn\u001b[0m\u001b[1;33m\u001b[0m\u001b[1;33m\u001b[0m\u001b[0m\n\u001b[1;32m---> 24\u001b[1;33m \u001b[1;32mfrom\u001b[0m \u001b[1;33m.\u001b[0m\u001b[0m_linprog_ip\u001b[0m \u001b[1;32mimport\u001b[0m \u001b[0m_linprog_ip\u001b[0m\u001b[1;33m\u001b[0m\u001b[1;33m\u001b[0m\u001b[0m\n\u001b[0m\u001b[0;32m     25\u001b[0m \u001b[1;32mfrom\u001b[0m \u001b[1;33m.\u001b[0m\u001b[0m_linprog_simplex\u001b[0m \u001b[1;32mimport\u001b[0m \u001b[0m_linprog_simplex\u001b[0m\u001b[1;33m\u001b[0m\u001b[1;33m\u001b[0m\u001b[0m\n\u001b[0;32m     26\u001b[0m \u001b[1;32mfrom\u001b[0m \u001b[1;33m.\u001b[0m\u001b[0m_linprog_rs\u001b[0m \u001b[1;32mimport\u001b[0m \u001b[0m_linprog_rs\u001b[0m\u001b[1;33m\u001b[0m\u001b[1;33m\u001b[0m\u001b[0m\n",
      "\u001b[1;32mc:\\users\\siddh\\appdata\\local\\programs\\python\\python37\\lib\\site-packages\\scipy\\optimize\\_linprog_ip.py\u001b[0m in \u001b[0;36m<module>\u001b[1;34m\u001b[0m\n\u001b[0;32m     27\u001b[0m \u001b[1;32mfrom\u001b[0m \u001b[0mscipy\u001b[0m\u001b[1;33m.\u001b[0m\u001b[0mlinalg\u001b[0m \u001b[1;32mimport\u001b[0m \u001b[0mLinAlgError\u001b[0m\u001b[1;33m\u001b[0m\u001b[1;33m\u001b[0m\u001b[0m\n\u001b[0;32m     28\u001b[0m \u001b[1;32mfrom\u001b[0m \u001b[1;33m.\u001b[0m\u001b[0moptimize\u001b[0m \u001b[1;32mimport\u001b[0m \u001b[0mOptimizeWarning\u001b[0m\u001b[1;33m,\u001b[0m \u001b[0mOptimizeResult\u001b[0m\u001b[1;33m,\u001b[0m \u001b[0m_check_unknown_options\u001b[0m\u001b[1;33m\u001b[0m\u001b[1;33m\u001b[0m\u001b[0m\n\u001b[1;32m---> 29\u001b[1;33m \u001b[1;32mfrom\u001b[0m \u001b[1;33m.\u001b[0m\u001b[0m_linprog_util\u001b[0m \u001b[1;32mimport\u001b[0m \u001b[0m_postsolve\u001b[0m\u001b[1;33m\u001b[0m\u001b[1;33m\u001b[0m\u001b[0m\n\u001b[0m\u001b[0;32m     30\u001b[0m \u001b[0mhas_umfpack\u001b[0m \u001b[1;33m=\u001b[0m \u001b[1;32mTrue\u001b[0m\u001b[1;33m\u001b[0m\u001b[1;33m\u001b[0m\u001b[0m\n\u001b[0;32m     31\u001b[0m \u001b[0mhas_cholmod\u001b[0m \u001b[1;33m=\u001b[0m \u001b[1;32mTrue\u001b[0m\u001b[1;33m\u001b[0m\u001b[1;33m\u001b[0m\u001b[0m\n",
      "\u001b[1;32mc:\\users\\siddh\\appdata\\local\\programs\\python\\python37\\lib\\site-packages\\scipy\\optimize\\_linprog_util.py\u001b[0m in \u001b[0;36m<module>\u001b[1;34m\u001b[0m\n\u001b[0;32m      7\u001b[0m \u001b[1;32mfrom\u001b[0m \u001b[0mwarnings\u001b[0m \u001b[1;32mimport\u001b[0m \u001b[0mwarn\u001b[0m\u001b[1;33m\u001b[0m\u001b[1;33m\u001b[0m\u001b[0m\n\u001b[0;32m      8\u001b[0m \u001b[1;32mfrom\u001b[0m \u001b[1;33m.\u001b[0m\u001b[0moptimize\u001b[0m \u001b[1;32mimport\u001b[0m \u001b[0mOptimizeWarning\u001b[0m\u001b[1;33m\u001b[0m\u001b[1;33m\u001b[0m\u001b[0m\n\u001b[1;32m----> 9\u001b[1;33m from scipy.optimize._remove_redundancy import (\n\u001b[0m\u001b[0;32m     10\u001b[0m     \u001b[0m_remove_redundancy\u001b[0m\u001b[1;33m,\u001b[0m \u001b[0m_remove_redundancy_sparse\u001b[0m\u001b[1;33m,\u001b[0m \u001b[0m_remove_redundancy_dense\u001b[0m\u001b[1;33m\u001b[0m\u001b[1;33m\u001b[0m\u001b[0m\n\u001b[0;32m     11\u001b[0m     )\n",
      "\u001b[1;32mc:\\users\\siddh\\appdata\\local\\programs\\python\\python37\\lib\\importlib\\_bootstrap.py\u001b[0m in \u001b[0;36m_find_and_load\u001b[1;34m(name, import_)\u001b[0m\n",
      "\u001b[1;32mc:\\users\\siddh\\appdata\\local\\programs\\python\\python37\\lib\\importlib\\_bootstrap.py\u001b[0m in \u001b[0;36m_find_and_load_unlocked\u001b[1;34m(name, import_)\u001b[0m\n",
      "\u001b[1;32mc:\\users\\siddh\\appdata\\local\\programs\\python\\python37\\lib\\importlib\\_bootstrap.py\u001b[0m in \u001b[0;36m_load_unlocked\u001b[1;34m(spec)\u001b[0m\n",
      "\u001b[1;32mc:\\users\\siddh\\appdata\\local\\programs\\python\\python37\\lib\\importlib\\_bootstrap_external.py\u001b[0m in \u001b[0;36mexec_module\u001b[1;34m(self, module)\u001b[0m\n",
      "\u001b[1;32mc:\\users\\siddh\\appdata\\local\\programs\\python\\python37\\lib\\importlib\\_bootstrap_external.py\u001b[0m in \u001b[0;36mget_code\u001b[1;34m(self, fullname)\u001b[0m\n",
      "\u001b[1;32mc:\\users\\siddh\\appdata\\local\\programs\\python\\python37\\lib\\importlib\\_bootstrap_external.py\u001b[0m in \u001b[0;36mpath_stats\u001b[1;34m(self, path)\u001b[0m\n",
      "\u001b[1;32mc:\\users\\siddh\\appdata\\local\\programs\\python\\python37\\lib\\importlib\\_bootstrap_external.py\u001b[0m in \u001b[0;36m_path_stat\u001b[1;34m(path)\u001b[0m\n",
      "\u001b[1;31mKeyboardInterrupt\u001b[0m: "
     ]
    }
   ],
   "source": [
    "from node2vec import Node2Vec"
   ]
  },
  {
   "cell_type": "code",
   "execution_count": null,
   "metadata": {},
   "outputs": [],
   "source": [
    "node2vec = Node2Vec(G.to_networkx(), dimensions=34, walk_length=10, num_walks=200, workers=6)"
   ]
  },
  {
   "cell_type": "code",
   "execution_count": null,
   "metadata": {},
   "outputs": [],
   "source": [
    "model = node2vec.fit(window=4)"
   ]
  },
  {
   "cell_type": "code",
   "execution_count": 14,
   "metadata": {},
   "outputs": [],
   "source": [
    "import matplotlib.pyplot as plt\n",
    "#plt.scatter(model.wv.vectors[:, 0], model.wv.vectors[:, 1], c=y_true)"
   ]
  },
  {
   "cell_type": "code",
   "execution_count": 15,
   "metadata": {},
   "outputs": [],
   "source": [
    "import matplotlib as mpl\n",
    "mpl.rcParams['figure.dpi'] = 300"
   ]
  },
  {
   "cell_type": "code",
   "execution_count": 16,
   "metadata": {},
   "outputs": [],
   "source": [
    "colors = [[.4,.5,.9] for _ in range(G.number_of_nodes())]"
   ]
  },
  {
   "cell_type": "code",
   "execution_count": 17,
   "metadata": {},
   "outputs": [],
   "source": [
    "#for i in train_ind:\n",
    "#    colors[i] = [.9, .3, .3]"
   ]
  },
  {
   "cell_type": "code",
   "execution_count": 18,
   "metadata": {
    "colab": {
     "base_uri": "https://localhost:8080/",
     "height": 319
    },
    "id": "FvU3EOCX8Q9-",
    "outputId": "fb343463-d388-4650-d177-325d219a896d"
   },
   "outputs": [
    {
     "name": "stderr",
     "output_type": "stream",
     "text": [
      "*c* argument looks like a single numeric RGB or RGBA sequence, which should be avoided as value-mapping will have precedence in case its length matches with *x* & *y*.  Please use the *color* keyword-argument or provide a 2-D array with a single row if you intend to specify the same RGB or RGBA value for all points.\n"
     ]
    },
    {
     "data": {
      "image/png": "[encoded data removed]",
      "text/plain": [
       "<Figure size 1800x1200 with 1 Axes>"
      ]
     },
     "metadata": {},
     "output_type": "display_data"
    }
   ],
   "source": [
    "nx_G = G.to_networkx().to_undirected()\n",
    "pos = nx.kamada_kawai_layout(nx_G)\n",
    "\n",
    "nx.draw(nx_G, pos, with_labels=True, node_color=[.9, .3, .3])\n",
    "plt.show()"
   ]
  },
  {
   "cell_type": "code",
   "execution_count": 19,
   "metadata": {},
   "outputs": [],
   "source": [
    "import json\n",
    "cases = json.load(open(\"./data/alldata.json\", \"r\"))"
   ]
  },
  {
   "cell_type": "code",
   "execution_count": 20,
   "metadata": {},
   "outputs": [],
   "source": [
    "states_ = open('./data/state_code_mapping.txt', 'r').read()"
   ]
  },
  {
   "cell_type": "code",
   "execution_count": 21,
   "metadata": {},
   "outputs": [],
   "source": [
    "name_map_dict = dict([[s.rsplit(\" \", 1)[0], s.rsplit(\" \", 1)[1]] for s in states_.split('\\n')])"
   ]
  },
  {
   "cell_type": "markdown",
   "metadata": {},
   "source": [
    "## Loading and pre-processing the data:"
   ]
  },
  {
   "cell_type": "code",
   "execution_count": 22,
   "metadata": {},
   "outputs": [
    {
     "data": {
      "text/plain": [
       "dict_keys(['AN', 'AP', 'AR', 'AS', 'BR', 'CH', 'CT', 'DL', 'DN', 'GA', 'GJ', 'HP', 'HR', 'JH', 'JK', 'KA', 'KL', 'LA', 'LD', 'MH', 'ML', 'MN', 'MP', 'MZ', 'NL', 'OR', 'PB', 'PY', 'RJ', 'SK', 'TG', 'TN', 'TR', 'TT', 'UN', 'UP', 'UT', 'WB'])"
      ]
     },
     "execution_count": 22,
     "metadata": {},
     "output_type": "execute_result"
    }
   ],
   "source": [
    "cases.keys()"
   ]
  },
  {
   "cell_type": "code",
   "execution_count": 23,
   "metadata": {},
   "outputs": [],
   "source": [
    "# manually found this online since data wasn't present in the file\n",
    "cases['LA']['dates']['2020-06-12']['total']['confirmed'] = 239"
   ]
  },
  {
   "cell_type": "code",
   "execution_count": 24,
   "metadata": {},
   "outputs": [],
   "source": [
    "with open('./data/states_list.txt', 'r') as file:\n",
    "    states = file.readlines()\n",
    "\n",
    "for ind in range(len(states) - 1):\n",
    "    states[ind] = states[ind][:-1]"
   ]
  },
  {
   "cell_type": "code",
   "execution_count": 25,
   "metadata": {
    "scrolled": true
   },
   "outputs": [
    {
     "data": {
      "text/html": [
       "<div>\n",
       "<style scoped>\n",
       "    .dataframe tbody tr th:only-of-type {\n",
       "        vertical-align: middle;\n",
       "    }\n",
       "\n",
       "    .dataframe tbody tr th {\n",
       "        vertical-align: top;\n",
       "    }\n",
       "\n",
       "    .dataframe thead th {\n",
       "        text-align: right;\n",
       "    }\n",
       "</style>\n",
       "<table border=\"1\" class=\"dataframe\">\n",
       "  <thead>\n",
       "    <tr style=\"text-align: right;\">\n",
       "      <th></th>\n",
       "      <th>Rank</th>\n",
       "      <th>State or union territory</th>\n",
       "      <th>Population</th>\n",
       "      <th>National Share (%)</th>\n",
       "      <th>Decadal growth(2001–2012)</th>\n",
       "      <th>Rural population</th>\n",
       "      <th>Percent rural</th>\n",
       "      <th>Urban population</th>\n",
       "      <th>Percent urban</th>\n",
       "      <th>Area[16]</th>\n",
       "      <th>Density[a]</th>\n",
       "      <th>Sex ratio</th>\n",
       "      <th>Foreign Visits</th>\n",
       "      <th>Health Index</th>\n",
       "    </tr>\n",
       "  </thead>\n",
       "  <tbody>\n",
       "    <tr>\n",
       "      <th>0</th>\n",
       "      <td>1</td>\n",
       "      <td>Uttar Pradesh</td>\n",
       "      <td>199,812,341</td>\n",
       "      <td>16.51</td>\n",
       "      <td>20.2%</td>\n",
       "      <td>155,317,278</td>\n",
       "      <td>77.73</td>\n",
       "      <td>44,495,063</td>\n",
       "      <td>22.27</td>\n",
       "      <td>240,928 km2 (93,023 sq mi)</td>\n",
       "      <td>828.0</td>\n",
       "      <td>912</td>\n",
       "      <td>4745181</td>\n",
       "      <td>29.16</td>\n",
       "    </tr>\n",
       "    <tr>\n",
       "      <th>1</th>\n",
       "      <td>2</td>\n",
       "      <td>Maharashtra</td>\n",
       "      <td>112,374,333</td>\n",
       "      <td>9.28</td>\n",
       "      <td>20.0%</td>\n",
       "      <td>61,556,074</td>\n",
       "      <td>54.78</td>\n",
       "      <td>50,818,259</td>\n",
       "      <td>45.22</td>\n",
       "      <td>307,713 km2 (118,809 sq mi)</td>\n",
       "      <td>365.0</td>\n",
       "      <td>929</td>\n",
       "      <td>5528704</td>\n",
       "      <td>64.53</td>\n",
       "    </tr>\n",
       "    <tr>\n",
       "      <th>2</th>\n",
       "      <td>3</td>\n",
       "      <td>Bihar</td>\n",
       "      <td>104,099,452</td>\n",
       "      <td>8.60</td>\n",
       "      <td>25.4%</td>\n",
       "      <td>92,341,436</td>\n",
       "      <td>88.71</td>\n",
       "      <td>11,758,016</td>\n",
       "      <td>11.29</td>\n",
       "      <td>94,163 km2 (36,357 sq mi)</td>\n",
       "      <td>1102.0</td>\n",
       "      <td>918</td>\n",
       "      <td>1093141</td>\n",
       "      <td>32.42</td>\n",
       "    </tr>\n",
       "    <tr>\n",
       "      <th>3</th>\n",
       "      <td>4</td>\n",
       "      <td>West Bengal</td>\n",
       "      <td>91,276,115</td>\n",
       "      <td>7.54</td>\n",
       "      <td>13.8%</td>\n",
       "      <td>62,183,113</td>\n",
       "      <td>68.13</td>\n",
       "      <td>29,093,002</td>\n",
       "      <td>31.87</td>\n",
       "      <td>88,752 km2 (34,267 sq mi)</td>\n",
       "      <td>1029.0</td>\n",
       "      <td>953</td>\n",
       "      <td>1656145</td>\n",
       "      <td>58.25</td>\n",
       "    </tr>\n",
       "    <tr>\n",
       "      <th>4</th>\n",
       "      <td>5</td>\n",
       "      <td>Madhya Pradesh</td>\n",
       "      <td>72,626,809</td>\n",
       "      <td>6.00</td>\n",
       "      <td>16.3%</td>\n",
       "      <td>52,557,404</td>\n",
       "      <td>72.37</td>\n",
       "      <td>20,069,405</td>\n",
       "      <td>27.63</td>\n",
       "      <td>308,245 km2 (119,014 sq mi)</td>\n",
       "      <td>236.0</td>\n",
       "      <td>931</td>\n",
       "      <td>327958</td>\n",
       "      <td>38.69</td>\n",
       "    </tr>\n",
       "  </tbody>\n",
       "</table>\n",
       "</div>"
      ],
      "text/plain": [
       "  Rank State or union territory   Population  National Share (%)  \\\n",
       "0    1            Uttar Pradesh  199,812,341               16.51   \n",
       "1    2              Maharashtra  112,374,333                9.28   \n",
       "2    3                    Bihar  104,099,452                8.60   \n",
       "3    4              West Bengal   91,276,115                7.54   \n",
       "4    5           Madhya Pradesh   72,626,809                6.00   \n",
       "\n",
       "  Decadal growth(2001–2012) Rural population  Percent rural Urban population  \\\n",
       "0                     20.2%      155,317,278          77.73       44,495,063   \n",
       "1                     20.0%       61,556,074          54.78       50,818,259   \n",
       "2                     25.4%       92,341,436          88.71       11,758,016   \n",
       "3                     13.8%       62,183,113          68.13       29,093,002   \n",
       "4                     16.3%       52,557,404          72.37       20,069,405   \n",
       "\n",
       "   Percent urban                     Area[16]  Density[a] Sex ratio  \\\n",
       "0          22.27   240,928 km2 (93,023 sq mi)       828.0       912   \n",
       "1          45.22  307,713 km2 (118,809 sq mi)       365.0       929   \n",
       "2          11.29    94,163 km2 (36,357 sq mi)      1102.0       918   \n",
       "3          31.87    88,752 km2 (34,267 sq mi)      1029.0       953   \n",
       "4          27.63  308,245 km2 (119,014 sq mi)       236.0       931   \n",
       "\n",
       "   Foreign Visits  Health Index  \n",
       "0         4745181         29.16  \n",
       "1         5528704         64.53  \n",
       "2         1093141         32.42  \n",
       "3         1656145         58.25  \n",
       "4          327958         38.69  "
      ]
     },
     "execution_count": 25,
     "metadata": {},
     "output_type": "execute_result"
    }
   ],
   "source": [
    "df = pd.read_csv(\"./data/state_data.csv\")\n",
    "df.head(5)"
   ]
  },
  {
   "cell_type": "code",
   "execution_count": 26,
   "metadata": {},
   "outputs": [],
   "source": [
    "# used average 7.9 for ladakh and for telangana took 2015 value of 8.03, averaged dadra and daman and diu\n",
    "# https://www.censusindia.gov.in/vital_statistics/SRS_Report_2015/6.Chap%202-Population%20Composition-2015.pdf\n",
    "senior_arr = [9.7, 9.9, 7.4, 8.5, 7.9, 10.4, 7.5, 7.7, 7.9, 9.8, 9.5, 8.5, 12.6, 7.1, 6.7, 10.3, 7.8, 8.7, 6.8, 7.4, 8.9, 10.2, 7.9, 4.7, 7.0, 5.2, 11.2, 4.6, 9.7, 6.3, 6.4, 6.7, 4.35, 8.03]"
   ]
  },
  {
   "cell_type": "code",
   "execution_count": 27,
   "metadata": {},
   "outputs": [
    {
     "data": {
      "text/plain": [
       "(8.037647058823529, 34)"
      ]
     },
     "execution_count": 27,
     "metadata": {},
     "output_type": "execute_result"
    }
   ],
   "source": [
    "sum(senior_arr)/len(senior_arr), len(senior_arr)"
   ]
  },
  {
   "cell_type": "code",
   "execution_count": 28,
   "metadata": {},
   "outputs": [],
   "source": [
    "df['Senior Citizen Share'] = senior_arr"
   ]
  },
  {
   "cell_type": "code",
   "execution_count": 29,
   "metadata": {},
   "outputs": [],
   "source": [
    "actual_data = pd.read_csv(\"./data/actual_covid_data_17april.csv\")\n",
    "actual_data = actual_data.drop([0, 37]).reset_index(drop=True)\n",
    "actual_data = actual_data.drop([32, 35]).reset_index(drop=True)\n",
    "actual_data.iloc[5, 0] = 'NCT of Delhi'"
   ]
  },
  {
   "cell_type": "code",
   "execution_count": 30,
   "metadata": {
    "scrolled": true
   },
   "outputs": [
    {
     "name": "stderr",
     "output_type": "stream",
     "text": [
      "c:\\users\\siddh\\appdata\\local\\programs\\python\\python37\\lib\\site-packages\\ipykernel_launcher.py:6: SettingWithCopyWarning: \n",
      "A value is trying to be set on a copy of a slice from a DataFrame.\n",
      "Try using .loc[row_indexer,col_indexer] = value instead\n",
      "\n",
      "See the caveats in the documentation: https://pandas.pydata.org/pandas-docs/stable/user_guide/indexing.html#returning-a-view-versus-a-copy\n",
      "  \n"
     ]
    }
   ],
   "source": [
    "# replacing with data right before the 1st wave (12th June 2020)\n",
    "\n",
    "case_data = actual_data[['State', 'Confirmed']]\n",
    "for state in case_data['State']:\n",
    "    code = name_map_dict[state]\n",
    "    case_data[case_data['State'] == state]['Confirmed'] = cases[code]['dates']['2020-06-12']['total']['confirmed']"
   ]
  },
  {
   "cell_type": "code",
   "execution_count": 31,
   "metadata": {},
   "outputs": [
    {
     "name": "stderr",
     "output_type": "stream",
     "text": [
      "c:\\users\\siddh\\appdata\\local\\programs\\python\\python37\\lib\\site-packages\\ipykernel_launcher.py:1: SettingWithCopyWarning: \n",
      "A value is trying to be set on a copy of a slice from a DataFrame.\n",
      "Try using .loc[row_indexer,col_indexer] = value instead\n",
      "\n",
      "See the caveats in the documentation: https://pandas.pydata.org/pandas-docs/stable/user_guide/indexing.html#returning-a-view-versus-a-copy\n",
      "  \"\"\"Entry point for launching an IPython kernel.\n",
      "c:\\users\\siddh\\appdata\\local\\programs\\python\\python37\\lib\\site-packages\\pandas\\core\\indexing.py:966: SettingWithCopyWarning: \n",
      "A value is trying to be set on a copy of a slice from a DataFrame.\n",
      "Try using .loc[row_indexer,col_indexer] = value instead\n",
      "\n",
      "See the caveats in the documentation: https://pandas.pydata.org/pandas-docs/stable/user_guide/indexing.html#returning-a-view-versus-a-copy\n",
      "  self.obj[item] = s\n"
     ]
    }
   ],
   "source": [
    "case_data['label'] = 0\n",
    "\n",
    "label_1 = case_data['Confirmed'].quantile(q=1/3)\n",
    "label_2 = case_data['Confirmed'].quantile(q=2/3)\n",
    "\n",
    "case_data.iloc[case_data.index[case_data['Confirmed'] >= label_1], 2] = 1\n",
    "case_data.iloc[case_data.index[case_data['Confirmed'] >= label_2], 2] = 2"
   ]
  },
  {
   "cell_type": "code",
   "execution_count": 32,
   "metadata": {},
   "outputs": [],
   "source": [
    "y_true = []\n",
    "for state in states:\n",
    "    y_true.append(case_data[case_data['State'] == state]['label'].values[0])\n",
    "y_true = np.array(y_true)"
   ]
  },
  {
   "cell_type": "code",
   "execution_count": 33,
   "metadata": {},
   "outputs": [],
   "source": [
    "train_ind = [32, 27, 16, 3, 15, 20]\n",
    "train_labels = [0, 0, 1, 1, 2, 2]\n",
    "\n",
    "train_ind = [5, 14, 21, 19, 11, 23] \n",
    "train_labels = [1, 0, 2, 1, 2, 0]\n",
    "\n",
    "test_ind = []\n",
    "for i in range(n_states):\n",
    "    if i not in train_ind:\n",
    "        test_ind.append(i)"
   ]
  },
  {
   "cell_type": "markdown",
   "metadata": {},
   "source": [
    "## Encoding the features:"
   ]
  },
  {
   "cell_type": "code",
   "execution_count": 34,
   "metadata": {
    "scrolled": true
   },
   "outputs": [
    {
     "name": "stdout",
     "output_type": "stream",
     "text": [
      "1 Haryana 48046\n",
      "0 Dadra and Nagar Haveli and Daman and Diu 7369\n",
      "2 Kerala 1189771\n",
      "1 Telangana 323326\n",
      "2 Chhattisgarh 6817\n",
      "0 Sikkim 133388\n"
     ]
    }
   ],
   "source": [
    "for i in train_ind:\n",
    "    print(y_true[i], states[i], df[df['State or union territory'] == states[i]]['Foreign Visits'].values[0])"
   ]
  },
  {
   "cell_type": "code",
   "execution_count": 35,
   "metadata": {},
   "outputs": [],
   "source": [
    "from sklearn.linear_model import LogisticRegression\n",
    "from sklearn.neighbors import KNeighborsClassifier\n",
    "from sklearn.svm import SVC\n",
    "from sklearn.ensemble import RandomForestClassifier"
   ]
  },
  {
   "cell_type": "code",
   "execution_count": 36,
   "metadata": {},
   "outputs": [],
   "source": [
    "acc_dict = {\n",
    "    \"svc\": [],\n",
    "    \"knn\": [],\n",
    "    \"rf\" : [],\n",
    "    \"gcn\": []\n",
    "}"
   ]
  },
  {
   "cell_type": "code",
   "execution_count": 37,
   "metadata": {},
   "outputs": [],
   "source": [
    "class GCN(nn.Module):\n",
    "    def __init__(self, in_feats, hidden_size, num_classes):\n",
    "        super(GCN, self).__init__()\n",
    "        self.conv1 = GraphConv(in_feats, hidden_size)\n",
    "        self.conv2 = GraphConv(hidden_size, hidden_size)\n",
    "        self.lin = torch.nn.Linear(hidden_size, 3)\n",
    "\n",
    "    def forward(self, g, inputs):\n",
    "        h = self.conv1(g, inputs)\n",
    "        h = F.leaky_relu(h)\n",
    "        h = self.conv2(g, h)\n",
    "        h = F.leaky_relu(h)\n",
    "        h = self.lin(h)\n",
    "        return h"
   ]
  },
  {
   "cell_type": "code",
   "execution_count": 40,
   "metadata": {
    "colab": {
     "base_uri": "https://localhost:8080/"
    },
    "collapsed": true,
    "id": "DnXReHAnsfNS",
    "outputId": "4021c6df-8943-47d8-e83f-5f8e70ea6c95"
   },
   "outputs": [
    {
     "name": "stdout",
     "output_type": "stream",
     "text": [
      "Epoch:   0 Train Loss: 1.0968 Train Acc: 0.3333 Val Acc: 0.2857\n",
      "Epoch:  20 Train Loss: 0.6055 Train Acc: 0.6667 Val Acc: 0.6071\n",
      "Epoch:   0 Train Loss: 1.1072 Train Acc: 0.3333 Val Acc: 0.3214\n",
      "Epoch:  20 Train Loss: 0.6672 Train Acc: 0.8333 Val Acc: 0.6429\n",
      "Epoch:  40 Train Loss: 0.2806 Train Acc: 0.8333 Val Acc: 0.5714\n",
      "Epoch:   0 Train Loss: 1.1207 Train Acc: 0.3333 Val Acc: 0.3929\n",
      "Epoch:  20 Train Loss: 0.5693 Train Acc: 0.8333 Val Acc: 0.6429\n",
      "Epoch:   0 Train Loss: 1.0547 Train Acc: 0.1667 Val Acc: 0.1071\n",
      "Epoch:  20 Train Loss: 0.5879 Train Acc: 0.5000 Val Acc: 0.3214\n",
      "Epoch:   0 Train Loss: 1.0888 Train Acc: 0.3333 Val Acc: 0.2500\n",
      "Epoch:  20 Train Loss: 0.7345 Train Acc: 0.5000 Val Acc: 0.6429\n",
      "Epoch:  40 Train Loss: 0.4643 Train Acc: 0.8333 Val Acc: 0.7857\n",
      "Epoch:  60 Train Loss: 0.3496 Train Acc: 0.8333 Val Acc: 0.7500\n",
      "Epoch:  80 Train Loss: 0.2541 Train Acc: 0.8333 Val Acc: 0.7500\n",
      "Epoch:   0 Train Loss: 1.1691 Train Acc: 0.3333 Val Acc: 0.3571\n",
      "Epoch:   0 Train Loss: 1.1171 Train Acc: 0.3333 Val Acc: 0.3214\n",
      "Epoch:  20 Train Loss: 0.6084 Train Acc: 0.6667 Val Acc: 0.5000\n",
      "Epoch:   0 Train Loss: 1.0911 Train Acc: 0.3333 Val Acc: 0.3214\n",
      "Epoch:  20 Train Loss: 0.4563 Train Acc: 0.8333 Val Acc: 0.5714\n",
      "Epoch:   0 Train Loss: 1.1349 Train Acc: 0.3333 Val Acc: 0.3214\n",
      "Epoch:  20 Train Loss: 0.5211 Train Acc: 0.8333 Val Acc: 0.5714\n",
      "Epoch:   0 Train Loss: 1.0987 Train Acc: 0.3333 Val Acc: 0.3214\n",
      "Epoch:  20 Train Loss: 0.6087 Train Acc: 0.8333 Val Acc: 0.4643\n",
      "Epoch:  40 Train Loss: 0.2357 Train Acc: 1.0000 Val Acc: 0.5357\n",
      "Epoch:   0 Train Loss: 1.1390 Train Acc: 0.3333 Val Acc: 0.3571\n",
      "Epoch:  20 Train Loss: 0.6255 Train Acc: 0.8333 Val Acc: 0.4286\n",
      "Epoch:   0 Train Loss: 1.0420 Train Acc: 0.5000 Val Acc: 0.3214\n",
      "Epoch:  20 Train Loss: 0.4904 Train Acc: 0.8333 Val Acc: 0.5714\n",
      "Epoch:  40 Train Loss: 0.2252 Train Acc: 0.8333 Val Acc: 0.5714\n",
      "Epoch:   0 Train Loss: 1.2104 Train Acc: 0.3333 Val Acc: 0.3214\n",
      "Epoch:  20 Train Loss: 0.6997 Train Acc: 1.0000 Val Acc: 0.5714\n",
      "Epoch:   0 Train Loss: 1.4259 Train Acc: 0.5000 Val Acc: 0.5000\n",
      "Epoch:  20 Train Loss: 0.6654 Train Acc: 0.8333 Val Acc: 0.5357\n",
      "Epoch:   0 Train Loss: 1.1302 Train Acc: 0.1667 Val Acc: 0.2857\n",
      "Epoch:  20 Train Loss: 0.6607 Train Acc: 0.6667 Val Acc: 0.5357\n",
      "Epoch:   0 Train Loss: 1.1652 Train Acc: 0.3333 Val Acc: 0.3571\n",
      "Epoch:  20 Train Loss: 0.7878 Train Acc: 0.6667 Val Acc: 0.7143\n",
      "Epoch:  40 Train Loss: 0.3709 Train Acc: 1.0000 Val Acc: 0.7143\n",
      "Epoch:   0 Train Loss: 1.1330 Train Acc: 0.3333 Val Acc: 0.3214\n",
      "Epoch:  20 Train Loss: 0.5051 Train Acc: 0.6667 Val Acc: 0.5357\n",
      "Epoch:   0 Train Loss: 1.0929 Train Acc: 0.3333 Val Acc: 0.3214\n",
      "Epoch:  20 Train Loss: 0.6668 Train Acc: 0.6667 Val Acc: 0.4286\n",
      "Epoch:   0 Train Loss: 1.1158 Train Acc: 0.3333 Val Acc: 0.3214\n",
      "Epoch:  20 Train Loss: 0.6918 Train Acc: 0.8333 Val Acc: 0.4643\n",
      "Epoch:   0 Train Loss: 1.0988 Train Acc: 0.1667 Val Acc: 0.1071\n",
      "Epoch:  20 Train Loss: 0.6396 Train Acc: 0.5000 Val Acc: 0.4286\n",
      "Epoch:  40 Train Loss: 0.3029 Train Acc: 0.8333 Val Acc: 0.4643\n",
      "Epoch:   0 Train Loss: 1.0734 Train Acc: 0.3333 Val Acc: 0.3571\n",
      "Epoch:   0 Train Loss: 1.0972 Train Acc: 0.3333 Val Acc: 0.3214\n",
      "Epoch:  20 Train Loss: 0.3749 Train Acc: 0.8333 Val Acc: 0.6786\n",
      "Epoch:   0 Train Loss: 1.0978 Train Acc: 0.3333 Val Acc: 0.3571\n",
      "Epoch:  20 Train Loss: 0.6132 Train Acc: 1.0000 Val Acc: 0.7857\n",
      "Epoch:   0 Train Loss: 1.0562 Train Acc: 0.5000 Val Acc: 0.5000\n",
      "Epoch:   0 Train Loss: 1.1123 Train Acc: 0.3333 Val Acc: 0.3214\n",
      "Epoch:  20 Train Loss: 0.7127 Train Acc: 0.6667 Val Acc: 0.2500\n"
     ]
    },
    {
     "ename": "KeyboardInterrupt",
     "evalue": "",
     "output_type": "error",
     "traceback": [
      "\u001b[1;31m---------------------------------------------------------------------------\u001b[0m",
      "\u001b[1;31mKeyboardInterrupt\u001b[0m                         Traceback (most recent call last)",
      "\u001b[1;32m<ipython-input-40-b9de2d8ccfae>\u001b[0m in \u001b[0;36m<module>\u001b[1;34m\u001b[0m\n\u001b[0;32m     31\u001b[0m         \u001b[0mforeign_visits\u001b[0m \u001b[1;33m=\u001b[0m \u001b[0mdf\u001b[0m\u001b[1;33m[\u001b[0m\u001b[0mdf\u001b[0m\u001b[1;33m[\u001b[0m\u001b[1;34m'State or union territory'\u001b[0m\u001b[1;33m]\u001b[0m \u001b[1;33m==\u001b[0m \u001b[0mstates\u001b[0m\u001b[1;33m[\u001b[0m\u001b[0mi\u001b[0m\u001b[1;33m]\u001b[0m\u001b[1;33m]\u001b[0m\u001b[1;33m[\u001b[0m\u001b[1;34m'Foreign Visits'\u001b[0m\u001b[1;33m]\u001b[0m\u001b[1;33m.\u001b[0m\u001b[0mvalues\u001b[0m\u001b[1;33m[\u001b[0m\u001b[1;36m0\u001b[0m\u001b[1;33m]\u001b[0m\u001b[1;33m\u001b[0m\u001b[1;33m\u001b[0m\u001b[0m\n\u001b[0;32m     32\u001b[0m         \u001b[0mpercent_rural\u001b[0m \u001b[1;33m=\u001b[0m \u001b[0mdf\u001b[0m\u001b[1;33m[\u001b[0m\u001b[0mdf\u001b[0m\u001b[1;33m[\u001b[0m\u001b[1;34m'State or union territory'\u001b[0m\u001b[1;33m]\u001b[0m \u001b[1;33m==\u001b[0m \u001b[0mstates\u001b[0m\u001b[1;33m[\u001b[0m\u001b[0mi\u001b[0m\u001b[1;33m]\u001b[0m\u001b[1;33m]\u001b[0m\u001b[1;33m[\u001b[0m\u001b[1;34m'Percent rural'\u001b[0m\u001b[1;33m]\u001b[0m\u001b[1;33m.\u001b[0m\u001b[0mvalues\u001b[0m\u001b[1;33m[\u001b[0m\u001b[1;36m0\u001b[0m\u001b[1;33m]\u001b[0m\u001b[1;33m\u001b[0m\u001b[1;33m\u001b[0m\u001b[0m\n\u001b[1;32m---> 33\u001b[1;33m         \u001b[0mshare\u001b[0m \u001b[1;33m=\u001b[0m \u001b[0mdf\u001b[0m\u001b[1;33m[\u001b[0m\u001b[0mdf\u001b[0m\u001b[1;33m[\u001b[0m\u001b[1;34m'State or union territory'\u001b[0m\u001b[1;33m]\u001b[0m \u001b[1;33m==\u001b[0m \u001b[0mstates\u001b[0m\u001b[1;33m[\u001b[0m\u001b[0mi\u001b[0m\u001b[1;33m]\u001b[0m\u001b[1;33m]\u001b[0m\u001b[1;33m[\u001b[0m\u001b[1;34m'National Share (%)'\u001b[0m\u001b[1;33m]\u001b[0m\u001b[1;33m.\u001b[0m\u001b[0mvalues\u001b[0m\u001b[1;33m[\u001b[0m\u001b[1;36m0\u001b[0m\u001b[1;33m]\u001b[0m\u001b[1;33m\u001b[0m\u001b[1;33m\u001b[0m\u001b[0m\n\u001b[0m\u001b[0;32m     34\u001b[0m         \u001b[0msenior_citizen\u001b[0m \u001b[1;33m=\u001b[0m \u001b[0mdf\u001b[0m\u001b[1;33m[\u001b[0m\u001b[0mdf\u001b[0m\u001b[1;33m[\u001b[0m\u001b[1;34m'State or union territory'\u001b[0m\u001b[1;33m]\u001b[0m \u001b[1;33m==\u001b[0m \u001b[0mstates\u001b[0m\u001b[1;33m[\u001b[0m\u001b[0mi\u001b[0m\u001b[1;33m]\u001b[0m\u001b[1;33m]\u001b[0m\u001b[1;33m[\u001b[0m\u001b[1;34m'Senior Citizen Share'\u001b[0m\u001b[1;33m]\u001b[0m\u001b[1;33m.\u001b[0m\u001b[0mvalues\u001b[0m\u001b[1;33m[\u001b[0m\u001b[1;36m0\u001b[0m\u001b[1;33m]\u001b[0m\u001b[1;33m\u001b[0m\u001b[1;33m\u001b[0m\u001b[0m\n\u001b[0;32m     35\u001b[0m \u001b[1;33m\u001b[0m\u001b[0m\n",
      "\u001b[1;32mc:\\users\\siddh\\appdata\\local\\programs\\python\\python37\\lib\\site-packages\\pandas\\core\\frame.py\u001b[0m in \u001b[0;36m__getitem__\u001b[1;34m(self, key)\u001b[0m\n\u001b[0;32m   2789\u001b[0m         \u001b[1;31m# Do we have a (boolean) 1d indexer?\u001b[0m\u001b[1;33m\u001b[0m\u001b[1;33m\u001b[0m\u001b[1;33m\u001b[0m\u001b[0m\n\u001b[0;32m   2790\u001b[0m         \u001b[1;32mif\u001b[0m \u001b[0mcom\u001b[0m\u001b[1;33m.\u001b[0m\u001b[0mis_bool_indexer\u001b[0m\u001b[1;33m(\u001b[0m\u001b[0mkey\u001b[0m\u001b[1;33m)\u001b[0m\u001b[1;33m:\u001b[0m\u001b[1;33m\u001b[0m\u001b[1;33m\u001b[0m\u001b[0m\n\u001b[1;32m-> 2791\u001b[1;33m             \u001b[1;32mreturn\u001b[0m \u001b[0mself\u001b[0m\u001b[1;33m.\u001b[0m\u001b[0m_getitem_bool_array\u001b[0m\u001b[1;33m(\u001b[0m\u001b[0mkey\u001b[0m\u001b[1;33m)\u001b[0m\u001b[1;33m\u001b[0m\u001b[1;33m\u001b[0m\u001b[0m\n\u001b[0m\u001b[0;32m   2792\u001b[0m \u001b[1;33m\u001b[0m\u001b[0m\n\u001b[0;32m   2793\u001b[0m         \u001b[1;31m# We are left with two options: a single key, and a collection of keys,\u001b[0m\u001b[1;33m\u001b[0m\u001b[1;33m\u001b[0m\u001b[1;33m\u001b[0m\u001b[0m\n",
      "\u001b[1;32mc:\\users\\siddh\\appdata\\local\\programs\\python\\python37\\lib\\site-packages\\pandas\\core\\frame.py\u001b[0m in \u001b[0;36m_getitem_bool_array\u001b[1;34m(self, key)\u001b[0m\n\u001b[0;32m   2843\u001b[0m         \u001b[0mkey\u001b[0m \u001b[1;33m=\u001b[0m \u001b[0mcheck_bool_indexer\u001b[0m\u001b[1;33m(\u001b[0m\u001b[0mself\u001b[0m\u001b[1;33m.\u001b[0m\u001b[0mindex\u001b[0m\u001b[1;33m,\u001b[0m \u001b[0mkey\u001b[0m\u001b[1;33m)\u001b[0m\u001b[1;33m\u001b[0m\u001b[1;33m\u001b[0m\u001b[0m\n\u001b[0;32m   2844\u001b[0m         \u001b[0mindexer\u001b[0m \u001b[1;33m=\u001b[0m \u001b[0mkey\u001b[0m\u001b[1;33m.\u001b[0m\u001b[0mnonzero\u001b[0m\u001b[1;33m(\u001b[0m\u001b[1;33m)\u001b[0m\u001b[1;33m[\u001b[0m\u001b[1;36m0\u001b[0m\u001b[1;33m]\u001b[0m\u001b[1;33m\u001b[0m\u001b[1;33m\u001b[0m\u001b[0m\n\u001b[1;32m-> 2845\u001b[1;33m         \u001b[1;32mreturn\u001b[0m \u001b[0mself\u001b[0m\u001b[1;33m.\u001b[0m\u001b[0m_take_with_is_copy\u001b[0m\u001b[1;33m(\u001b[0m\u001b[0mindexer\u001b[0m\u001b[1;33m,\u001b[0m \u001b[0maxis\u001b[0m\u001b[1;33m=\u001b[0m\u001b[1;36m0\u001b[0m\u001b[1;33m)\u001b[0m\u001b[1;33m\u001b[0m\u001b[1;33m\u001b[0m\u001b[0m\n\u001b[0m\u001b[0;32m   2846\u001b[0m \u001b[1;33m\u001b[0m\u001b[0m\n\u001b[0;32m   2847\u001b[0m     \u001b[1;32mdef\u001b[0m \u001b[0m_getitem_multilevel\u001b[0m\u001b[1;33m(\u001b[0m\u001b[0mself\u001b[0m\u001b[1;33m,\u001b[0m \u001b[0mkey\u001b[0m\u001b[1;33m)\u001b[0m\u001b[1;33m:\u001b[0m\u001b[1;33m\u001b[0m\u001b[1;33m\u001b[0m\u001b[0m\n",
      "\u001b[1;32mc:\\users\\siddh\\appdata\\local\\programs\\python\\python37\\lib\\site-packages\\pandas\\core\\generic.py\u001b[0m in \u001b[0;36m_take_with_is_copy\u001b[1;34m(self, indices, axis, **kwargs)\u001b[0m\n\u001b[0;32m   3407\u001b[0m         \u001b[0mSee\u001b[0m \u001b[0mthe\u001b[0m \u001b[0mdocstring\u001b[0m \u001b[0mof\u001b[0m\u001b[0;31m \u001b[0m\u001b[0;31m`\u001b[0m\u001b[0mtake\u001b[0m\u001b[0;31m`\u001b[0m \u001b[1;32mfor\u001b[0m \u001b[0mfull\u001b[0m \u001b[0mexplanation\u001b[0m \u001b[0mof\u001b[0m \u001b[0mthe\u001b[0m \u001b[0mparameters\u001b[0m\u001b[1;33m.\u001b[0m\u001b[1;33m\u001b[0m\u001b[1;33m\u001b[0m\u001b[0m\n\u001b[0;32m   3408\u001b[0m         \"\"\"\n\u001b[1;32m-> 3409\u001b[1;33m         \u001b[0mresult\u001b[0m \u001b[1;33m=\u001b[0m \u001b[0mself\u001b[0m\u001b[1;33m.\u001b[0m\u001b[0mtake\u001b[0m\u001b[1;33m(\u001b[0m\u001b[0mindices\u001b[0m\u001b[1;33m=\u001b[0m\u001b[0mindices\u001b[0m\u001b[1;33m,\u001b[0m \u001b[0maxis\u001b[0m\u001b[1;33m=\u001b[0m\u001b[0maxis\u001b[0m\u001b[1;33m,\u001b[0m \u001b[1;33m**\u001b[0m\u001b[0mkwargs\u001b[0m\u001b[1;33m)\u001b[0m\u001b[1;33m\u001b[0m\u001b[1;33m\u001b[0m\u001b[0m\n\u001b[0m\u001b[0;32m   3410\u001b[0m         \u001b[1;31m# Maybe set copy if we didn't actually change the index.\u001b[0m\u001b[1;33m\u001b[0m\u001b[1;33m\u001b[0m\u001b[1;33m\u001b[0m\u001b[0m\n\u001b[0;32m   3411\u001b[0m         \u001b[1;32mif\u001b[0m \u001b[1;32mnot\u001b[0m \u001b[0mresult\u001b[0m\u001b[1;33m.\u001b[0m\u001b[0m_get_axis\u001b[0m\u001b[1;33m(\u001b[0m\u001b[0maxis\u001b[0m\u001b[1;33m)\u001b[0m\u001b[1;33m.\u001b[0m\u001b[0mequals\u001b[0m\u001b[1;33m(\u001b[0m\u001b[0mself\u001b[0m\u001b[1;33m.\u001b[0m\u001b[0m_get_axis\u001b[0m\u001b[1;33m(\u001b[0m\u001b[0maxis\u001b[0m\u001b[1;33m)\u001b[0m\u001b[1;33m)\u001b[0m\u001b[1;33m:\u001b[0m\u001b[1;33m\u001b[0m\u001b[1;33m\u001b[0m\u001b[0m\n",
      "\u001b[1;32mc:\\users\\siddh\\appdata\\local\\programs\\python\\python37\\lib\\site-packages\\pandas\\core\\generic.py\u001b[0m in \u001b[0;36mtake\u001b[1;34m(self, indices, axis, is_copy, **kwargs)\u001b[0m\n\u001b[0;32m   3393\u001b[0m \u001b[1;33m\u001b[0m\u001b[0m\n\u001b[0;32m   3394\u001b[0m         new_data = self._data.take(\n\u001b[1;32m-> 3395\u001b[1;33m             \u001b[0mindices\u001b[0m\u001b[1;33m,\u001b[0m \u001b[0maxis\u001b[0m\u001b[1;33m=\u001b[0m\u001b[0mself\u001b[0m\u001b[1;33m.\u001b[0m\u001b[0m_get_block_manager_axis\u001b[0m\u001b[1;33m(\u001b[0m\u001b[0maxis\u001b[0m\u001b[1;33m)\u001b[0m\u001b[1;33m,\u001b[0m \u001b[0mverify\u001b[0m\u001b[1;33m=\u001b[0m\u001b[1;32mTrue\u001b[0m\u001b[1;33m\u001b[0m\u001b[1;33m\u001b[0m\u001b[0m\n\u001b[0m\u001b[0;32m   3396\u001b[0m         )\n\u001b[0;32m   3397\u001b[0m         \u001b[1;32mreturn\u001b[0m \u001b[0mself\u001b[0m\u001b[1;33m.\u001b[0m\u001b[0m_constructor\u001b[0m\u001b[1;33m(\u001b[0m\u001b[0mnew_data\u001b[0m\u001b[1;33m)\u001b[0m\u001b[1;33m.\u001b[0m\u001b[0m__finalize__\u001b[0m\u001b[1;33m(\u001b[0m\u001b[0mself\u001b[0m\u001b[1;33m)\u001b[0m\u001b[1;33m\u001b[0m\u001b[1;33m\u001b[0m\u001b[0m\n",
      "\u001b[1;32mc:\\users\\siddh\\appdata\\local\\programs\\python\\python37\\lib\\site-packages\\pandas\\core\\internals\\managers.py\u001b[0m in \u001b[0;36mtake\u001b[1;34m(self, indexer, axis, verify, convert)\u001b[0m\n\u001b[0;32m   1392\u001b[0m         \u001b[0mnew_labels\u001b[0m \u001b[1;33m=\u001b[0m \u001b[0mself\u001b[0m\u001b[1;33m.\u001b[0m\u001b[0maxes\u001b[0m\u001b[1;33m[\u001b[0m\u001b[0maxis\u001b[0m\u001b[1;33m]\u001b[0m\u001b[1;33m.\u001b[0m\u001b[0mtake\u001b[0m\u001b[1;33m(\u001b[0m\u001b[0mindexer\u001b[0m\u001b[1;33m)\u001b[0m\u001b[1;33m\u001b[0m\u001b[1;33m\u001b[0m\u001b[0m\n\u001b[0;32m   1393\u001b[0m         return self.reindex_indexer(\n\u001b[1;32m-> 1394\u001b[1;33m             \u001b[0mnew_axis\u001b[0m\u001b[1;33m=\u001b[0m\u001b[0mnew_labels\u001b[0m\u001b[1;33m,\u001b[0m \u001b[0mindexer\u001b[0m\u001b[1;33m=\u001b[0m\u001b[0mindexer\u001b[0m\u001b[1;33m,\u001b[0m \u001b[0maxis\u001b[0m\u001b[1;33m=\u001b[0m\u001b[0maxis\u001b[0m\u001b[1;33m,\u001b[0m \u001b[0mallow_dups\u001b[0m\u001b[1;33m=\u001b[0m\u001b[1;32mTrue\u001b[0m\u001b[1;33m\u001b[0m\u001b[1;33m\u001b[0m\u001b[0m\n\u001b[0m\u001b[0;32m   1395\u001b[0m         )\n\u001b[0;32m   1396\u001b[0m \u001b[1;33m\u001b[0m\u001b[0m\n",
      "\u001b[1;32mc:\\users\\siddh\\appdata\\local\\programs\\python\\python37\\lib\\site-packages\\pandas\\core\\internals\\managers.py\u001b[0m in \u001b[0;36mreindex_indexer\u001b[1;34m(self, new_axis, indexer, axis, fill_value, allow_dups, copy)\u001b[0m\n\u001b[0;32m   1270\u001b[0m         \u001b[0mnew_axes\u001b[0m \u001b[1;33m=\u001b[0m \u001b[0mlist\u001b[0m\u001b[1;33m(\u001b[0m\u001b[0mself\u001b[0m\u001b[1;33m.\u001b[0m\u001b[0maxes\u001b[0m\u001b[1;33m)\u001b[0m\u001b[1;33m\u001b[0m\u001b[1;33m\u001b[0m\u001b[0m\n\u001b[0;32m   1271\u001b[0m         \u001b[0mnew_axes\u001b[0m\u001b[1;33m[\u001b[0m\u001b[0maxis\u001b[0m\u001b[1;33m]\u001b[0m \u001b[1;33m=\u001b[0m \u001b[0mnew_axis\u001b[0m\u001b[1;33m\u001b[0m\u001b[1;33m\u001b[0m\u001b[0m\n\u001b[1;32m-> 1272\u001b[1;33m         \u001b[1;32mreturn\u001b[0m \u001b[0mtype\u001b[0m\u001b[1;33m(\u001b[0m\u001b[0mself\u001b[0m\u001b[1;33m)\u001b[0m\u001b[1;33m(\u001b[0m\u001b[0mnew_blocks\u001b[0m\u001b[1;33m,\u001b[0m \u001b[0mnew_axes\u001b[0m\u001b[1;33m)\u001b[0m\u001b[1;33m\u001b[0m\u001b[1;33m\u001b[0m\u001b[0m\n\u001b[0m\u001b[0;32m   1273\u001b[0m \u001b[1;33m\u001b[0m\u001b[0m\n\u001b[0;32m   1274\u001b[0m     \u001b[1;32mdef\u001b[0m \u001b[0m_slice_take_blocks_ax0\u001b[0m\u001b[1;33m(\u001b[0m\u001b[0mself\u001b[0m\u001b[1;33m,\u001b[0m \u001b[0mslice_or_indexer\u001b[0m\u001b[1;33m,\u001b[0m \u001b[0mfill_tuple\u001b[0m\u001b[1;33m=\u001b[0m\u001b[1;32mNone\u001b[0m\u001b[1;33m)\u001b[0m\u001b[1;33m:\u001b[0m\u001b[1;33m\u001b[0m\u001b[1;33m\u001b[0m\u001b[0m\n",
      "\u001b[1;32mc:\\users\\siddh\\appdata\\local\\programs\\python\\python37\\lib\\site-packages\\pandas\\core\\internals\\managers.py\u001b[0m in \u001b[0;36m__init__\u001b[1;34m(self, blocks, axes, do_integrity_check)\u001b[0m\n\u001b[0;32m    141\u001b[0m         \u001b[0mself\u001b[0m\u001b[1;33m.\u001b[0m\u001b[0m_consolidate_check\u001b[0m\u001b[1;33m(\u001b[0m\u001b[1;33m)\u001b[0m\u001b[1;33m\u001b[0m\u001b[1;33m\u001b[0m\u001b[0m\n\u001b[0;32m    142\u001b[0m \u001b[1;33m\u001b[0m\u001b[0m\n\u001b[1;32m--> 143\u001b[1;33m         \u001b[0mself\u001b[0m\u001b[1;33m.\u001b[0m\u001b[0m_rebuild_blknos_and_blklocs\u001b[0m\u001b[1;33m(\u001b[0m\u001b[1;33m)\u001b[0m\u001b[1;33m\u001b[0m\u001b[1;33m\u001b[0m\u001b[0m\n\u001b[0m\u001b[0;32m    144\u001b[0m \u001b[1;33m\u001b[0m\u001b[0m\n\u001b[0;32m    145\u001b[0m     \u001b[1;32mdef\u001b[0m \u001b[0mmake_empty\u001b[0m\u001b[1;33m(\u001b[0m\u001b[0mself\u001b[0m\u001b[1;33m,\u001b[0m \u001b[0maxes\u001b[0m\u001b[1;33m=\u001b[0m\u001b[1;32mNone\u001b[0m\u001b[1;33m)\u001b[0m\u001b[1;33m:\u001b[0m\u001b[1;33m\u001b[0m\u001b[1;33m\u001b[0m\u001b[0m\n",
      "\u001b[1;32mc:\\users\\siddh\\appdata\\local\\programs\\python\\python37\\lib\\site-packages\\pandas\\core\\internals\\managers.py\u001b[0m in \u001b[0;36m_rebuild_blknos_and_blklocs\u001b[1;34m(self)\u001b[0m\n\u001b[0;32m    222\u001b[0m             \u001b[0mrl\u001b[0m \u001b[1;33m=\u001b[0m \u001b[0mblk\u001b[0m\u001b[1;33m.\u001b[0m\u001b[0mmgr_locs\u001b[0m\u001b[1;33m\u001b[0m\u001b[1;33m\u001b[0m\u001b[0m\n\u001b[0;32m    223\u001b[0m             \u001b[0mnew_blknos\u001b[0m\u001b[1;33m[\u001b[0m\u001b[0mrl\u001b[0m\u001b[1;33m.\u001b[0m\u001b[0mindexer\u001b[0m\u001b[1;33m]\u001b[0m \u001b[1;33m=\u001b[0m \u001b[0mblkno\u001b[0m\u001b[1;33m\u001b[0m\u001b[1;33m\u001b[0m\u001b[0m\n\u001b[1;32m--> 224\u001b[1;33m             \u001b[0mnew_blklocs\u001b[0m\u001b[1;33m[\u001b[0m\u001b[0mrl\u001b[0m\u001b[1;33m.\u001b[0m\u001b[0mindexer\u001b[0m\u001b[1;33m]\u001b[0m \u001b[1;33m=\u001b[0m \u001b[0mnp\u001b[0m\u001b[1;33m.\u001b[0m\u001b[0marange\u001b[0m\u001b[1;33m(\u001b[0m\u001b[0mlen\u001b[0m\u001b[1;33m(\u001b[0m\u001b[0mrl\u001b[0m\u001b[1;33m)\u001b[0m\u001b[1;33m)\u001b[0m\u001b[1;33m\u001b[0m\u001b[1;33m\u001b[0m\u001b[0m\n\u001b[0m\u001b[0;32m    225\u001b[0m \u001b[1;33m\u001b[0m\u001b[0m\n\u001b[0;32m    226\u001b[0m         \u001b[1;32mif\u001b[0m \u001b[1;33m(\u001b[0m\u001b[0mnew_blknos\u001b[0m \u001b[1;33m==\u001b[0m \u001b[1;33m-\u001b[0m\u001b[1;36m1\u001b[0m\u001b[1;33m)\u001b[0m\u001b[1;33m.\u001b[0m\u001b[0many\u001b[0m\u001b[1;33m(\u001b[0m\u001b[1;33m)\u001b[0m\u001b[1;33m:\u001b[0m\u001b[1;33m\u001b[0m\u001b[1;33m\u001b[0m\u001b[0m\n",
      "\u001b[1;31mKeyboardInterrupt\u001b[0m: "
     ]
    }
   ],
   "source": [
    "#embed = nn.Embedding(n_states, n_feats)  \n",
    "#inputs = embed.weight\n",
    "#labeled_nodes = torch.tensor([32, 27, 3, 4, 15, 20])  \n",
    "#labels = torch.tensor([0, 0, 1, 1, 2, 2])  \n",
    "test_acc = 0\n",
    "train_acc = 0\n",
    "while train_acc != 1 or test_acc < 0.8000:\n",
    "    while True:\n",
    "        train_ind = random.sample([0, 1, 2, 3, 4, 5, 32, 33, 7], k=1) + random.sample([6, 9, 14, 15, 10], k=1) \\\n",
    "                             + random.sample([17, 18, 19, 20, 21, 22, 31], k=2) + random.sample([8, 11, 12, 13, 16], k=1) \\\n",
    "                             + random.sample([23, 24, 25, 26, 27, 28, 29, 30], k=1) \n",
    "        train_labels = [y_true[i] for i in train_ind]\n",
    "        tl = np.array(train_labels)\n",
    "        if tl[tl == 0].shape[0] == 2 \\\n",
    "        and tl[tl == 1].shape[0] == 2 \\\n",
    "        and tl[tl == 2].shape[0] == 2:\n",
    "            break\n",
    "\n",
    "    test_ind = []\n",
    "    for i in range(n_states):\n",
    "        if i not in train_ind:\n",
    "            test_ind.append(i)\n",
    "\n",
    "    n_feats = 2\n",
    "    feats = torch.zeros(n_states, n_feats)\n",
    "    for i in range(n_states):\n",
    "\n",
    "        density = df[df['State or union territory'] == states[i]]['Density[a]'].values[0]\n",
    "        percent_urban = df[df['State or union territory'] == states[i]]['Percent urban'].values[0]\n",
    "        health_index = df[df['State or union territory'] == states[i]]['Health Index'].values[0]\n",
    "        foreign_visits = df[df['State or union territory'] == states[i]]['Foreign Visits'].values[0]\n",
    "        percent_rural = df[df['State or union territory'] == states[i]]['Percent rural'].values[0]\n",
    "        share = df[df['State or union territory'] == states[i]]['National Share (%)'].values[0]\n",
    "        senior_citizen = df[df['State or union territory'] == states[i]]['Senior Citizen Share'].values[0]\n",
    "\n",
    "        # adding the features we want: \n",
    "        feats[i] = (torch.Tensor([foreign_visits, density]))\n",
    "\n",
    "    feats = (feats - feats[train_ind, :].mean(axis=0)) / feats[train_ind, :].std(axis=0)\n",
    "            \n",
    "    labeled_nodes = torch.tensor(train_ind)  \n",
    "    labels = torch.tensor(train_labels) \n",
    "\n",
    "    epochs = 200\n",
    "    net = GCN(n_feats, 16, 3)\n",
    "    optimizer = torch.optim.Adam(net.parameters(), lr=0.01)\n",
    "    all_logits = []\n",
    "\n",
    "    for epoch in range(epochs + 1):\n",
    "        logits = net(G, feats)\n",
    "        all_logits.append(logits.detach())\n",
    "        logp = F.log_softmax(logits, dim=1)\n",
    "        loss = F.nll_loss(logp[labeled_nodes], labels)\n",
    "        optimizer.zero_grad()\n",
    "        loss.backward()\n",
    "        optimizer.step()\n",
    "\n",
    "        train_acc = (np.array(y_true)[train_ind] == all_logits[-1].argmax(axis=1).numpy()[train_ind]).mean()\n",
    "        test_acc = (np.array(y_true)[test_ind] == all_logits[-1].argmax(axis=1).numpy()[test_ind]).mean()\n",
    "\n",
    "        if epoch % 20 == 0:\n",
    "            #print(f'Epoch: {epoch}\\nLoss: {round(loss.item(), 4)} Test Accuracy: {round(acc, 4)} Train Acc: {round(acc2, 4)}')\n",
    "            print(\"Epoch: %3d Train Loss: %.4f Train Acc: %.4f Val Acc: %.4f\" % (epoch, round(loss.item(), 4), round(train_acc, 4), round(test_acc, 4)))\n",
    "        if round(train_acc, 4) == 1:\n",
    "            break"
   ]
  },
  {
   "cell_type": "code",
   "execution_count": 52,
   "metadata": {},
   "outputs": [],
   "source": [
    "acc_dict = {\n",
    "    \"svc\": [],\n",
    "    \"knn\": [],\n",
    "    \"rf\" : [],\n",
    "    \"gcn\": []\n",
    "}"
   ]
  },
  {
   "cell_type": "code",
   "execution_count": 53,
   "metadata": {},
   "outputs": [
    {
     "name": "stdout",
     "output_type": "stream",
     "text": [
      "[5, 9, 31, 21, 12, 29] [1, 2, 0, 2, 1, 0]\n",
      "0.7058823529411765\n",
      "0.29411764705882354\n",
      "0.4411764705882353\n",
      "Epoch:   0 Train Loss: 1.0694 Train Acc: 0.5000 Val Acc: 0.5000\n",
      "Epoch:  20 Train Loss: 0.6078 Train Acc: 1.0000 Val Acc: 0.5714\n",
      "0.6470588235294118\n",
      "[4, 9, 20, 31, 16, 28] [1, 2, 2, 0, 1, 0]\n",
      "0.5\n",
      "0.47058823529411764\n",
      "0.35294117647058826\n",
      "Epoch:   0 Train Loss: 1.2297 Train Acc: 0.5000 Val Acc: 0.5000\n",
      "Epoch:  20 Train Loss: 0.7588 Train Acc: 0.5000 Val Acc: 0.6071\n",
      "Epoch:  40 Train Loss: 0.5766 Train Acc: 0.6667 Val Acc: 0.7143\n",
      "Epoch:  60 Train Loss: 0.4366 Train Acc: 0.8333 Val Acc: 0.7143\n",
      "Epoch:  80 Train Loss: 0.2622 Train Acc: 0.8333 Val Acc: 0.7143\n",
      "0.7647058823529411\n",
      "[3, 14, 21, 20, 12, 23] [1, 0, 2, 2, 1, 0]\n",
      "0.6764705882352942\n",
      "0.3235294117647059\n",
      "0.5588235294117647\n",
      "Epoch:   0 Train Loss: 1.0927 Train Acc: 0.3333 Val Acc: 0.3571\n",
      "Epoch:  20 Train Loss: 0.5542 Train Acc: 0.8333 Val Acc: 0.7143\n",
      "0.7352941176470589\n",
      "[5, 14, 22, 19, 13, 27] [1, 0, 2, 1, 2, 0]\n",
      "0.6764705882352942\n",
      "0.29411764705882354\n",
      "0.6764705882352942\n",
      "Epoch:   0 Train Loss: 1.0814 Train Acc: 0.3333 Val Acc: 0.2500\n",
      "Epoch:  20 Train Loss: 0.6773 Train Acc: 0.8333 Val Acc: 0.5357\n",
      "Epoch:  40 Train Loss: 0.3779 Train Acc: 0.8333 Val Acc: 0.5714\n",
      "0.6470588235294118\n",
      "[32, 9, 19, 21, 8, 30] [0, 2, 1, 2, 1, 0]\n",
      "0.6176470588235294\n",
      "0.4117647058823529\n",
      "0.5588235294117647\n",
      "Epoch:   0 Train Loss: 1.1164 Train Acc: 0.3333 Val Acc: 0.2857\n",
      "Epoch:  20 Train Loss: 0.7171 Train Acc: 0.6667 Val Acc: 0.5714\n",
      "Epoch:  40 Train Loss: 0.4709 Train Acc: 0.8333 Val Acc: 0.7143\n",
      "Epoch:  60 Train Loss: 0.3953 Train Acc: 0.8333 Val Acc: 0.7500\n",
      "0.7941176470588235\n",
      "[33, 9, 31, 17, 8, 28] [2, 2, 0, 1, 1, 0]\n",
      "0.5\n",
      "0.3235294117647059\n",
      "0.5294117647058824\n",
      "Epoch:   0 Train Loss: 1.1382 Train Acc: 0.3333 Val Acc: 0.3214\n",
      "Epoch:  20 Train Loss: 0.7693 Train Acc: 0.6667 Val Acc: 0.5357\n",
      "0.6470588235294118\n",
      "[1, 15, 21, 31, 16, 30] [1, 2, 2, 0, 1, 0]\n",
      "0.5882352941176471\n",
      "0.2647058823529412\n",
      "0.47058823529411764\n",
      "Epoch:   0 Train Loss: 1.1173 Train Acc: 0.3333 Val Acc: 0.3214\n",
      "Epoch:  20 Train Loss: 0.8312 Train Acc: 0.6667 Val Acc: 0.7143\n",
      "Epoch:  40 Train Loss: 0.4310 Train Acc: 0.8333 Val Acc: 0.6071\n",
      "0.7058823529411765\n",
      "[4, 14, 22, 18, 16, 30] [1, 0, 2, 2, 1, 0]\n",
      "0.6176470588235294\n",
      "0.2647058823529412\n",
      "0.47058823529411764\n",
      "Epoch:   0 Train Loss: 1.1266 Train Acc: 0.1667 Val Acc: 0.1071\n",
      "Epoch:  20 Train Loss: 0.6136 Train Acc: 0.8333 Val Acc: 0.5357\n",
      "0.6176470588235294\n",
      "[1, 6, 17, 31, 11, 29] [1, 2, 1, 0, 2, 0]\n",
      "0.5588235294117647\n",
      "0.35294117647058826\n",
      "0.4411764705882353\n",
      "Epoch:   0 Train Loss: 1.0820 Train Acc: 0.3333 Val Acc: 0.3571\n",
      "Epoch:  20 Train Loss: 0.6512 Train Acc: 0.6667 Val Acc: 0.6429\n",
      "Epoch:  40 Train Loss: 0.3502 Train Acc: 0.8333 Val Acc: 0.7500\n",
      "0.7941176470588235\n",
      "[1, 15, 31, 22, 12, 28] [1, 2, 0, 2, 1, 0]\n",
      "0.6176470588235294\n",
      "0.38235294117647056\n",
      "0.47058823529411764\n",
      "Epoch:   0 Train Loss: 1.0766 Train Acc: 0.3333 Val Acc: 0.3571\n",
      "Epoch:  20 Train Loss: 0.6906 Train Acc: 0.8333 Val Acc: 0.4643\n",
      "0.6176470588235294\n",
      "[0, 9, 17, 22, 16, 23] [0, 2, 1, 2, 1, 0]\n",
      "0.6470588235294118\n",
      "0.3235294117647059\n",
      "0.5882352941176471\n",
      "Epoch:   0 Train Loss: 1.1122 Train Acc: 0.3333 Val Acc: 0.3214\n",
      "Epoch:  20 Train Loss: 0.8270 Train Acc: 0.6667 Val Acc: 0.6071\n",
      "Epoch:  40 Train Loss: 0.4742 Train Acc: 1.0000 Val Acc: 0.5357\n",
      "0.6176470588235294\n",
      "[4, 14, 21, 19, 11, 29] [1, 0, 2, 1, 2, 0]\n",
      "0.4117647058823529\n",
      "0.35294117647058826\n",
      "0.4117647058823529\n",
      "Epoch:   0 Train Loss: 1.2440 Train Acc: 0.3333 Val Acc: 0.3214\n",
      "Epoch:  20 Train Loss: 0.7348 Train Acc: 0.6667 Val Acc: 0.6786\n",
      "0.8235294117647058\n",
      "[0, 15, 19, 18, 8, 23] [0, 2, 1, 2, 1, 0]\n",
      "0.47058823529411764\n",
      "0.29411764705882354\n",
      "0.5\n",
      "Epoch:   0 Train Loss: 1.0885 Train Acc: 0.3333 Val Acc: 0.3929\n",
      "0.6470588235294118\n",
      "[0, 10, 17, 19, 13, 30] [0, 2, 1, 1, 2, 0]\n",
      "0.6470588235294118\n",
      "0.29411764705882354\n",
      "0.5588235294117647\n",
      "Epoch:   0 Train Loss: 1.1366 Train Acc: 0.3333 Val Acc: 0.3214\n",
      "0.47058823529411764\n",
      "[32, 10, 19, 20, 12, 30] [0, 2, 1, 2, 1, 0]\n",
      "0.5\n",
      "0.38235294117647056\n",
      "0.38235294117647056\n",
      "Epoch:   0 Train Loss: 1.4284 Train Acc: 0.3333 Val Acc: 0.2857\n",
      "Epoch:  20 Train Loss: 0.8761 Train Acc: 0.5000 Val Acc: 0.4286\n",
      "Epoch:  40 Train Loss: 0.7258 Train Acc: 0.6667 Val Acc: 0.4286\n",
      "Epoch:  60 Train Loss: 0.5858 Train Acc: 0.6667 Val Acc: 0.4643\n",
      "Epoch:  80 Train Loss: 0.4773 Train Acc: 0.8333 Val Acc: 0.4286\n",
      "Epoch: 100 Train Loss: 0.4607 Train Acc: 0.8333 Val Acc: 0.4286\n",
      "Epoch: 120 Train Loss: 0.4541 Train Acc: 0.8333 Val Acc: 0.5357\n",
      "0.5882352941176471\n",
      "[3, 6, 31, 19, 11, 28] [1, 2, 0, 1, 2, 0]\n",
      "0.35294117647058826\n",
      "0.35294117647058826\n",
      "0.47058823529411764\n",
      "Epoch:   0 Train Loss: 1.1502 Train Acc: 0.0000 Val Acc: 0.1071\n",
      "Epoch:  20 Train Loss: 0.6201 Train Acc: 0.8333 Val Acc: 0.5000\n",
      "0.7352941176470589\n",
      "[32, 10, 17, 18, 16, 24] [0, 2, 1, 2, 1, 0]\n",
      "0.5588235294117647\n",
      "0.47058823529411764\n",
      "0.5\n",
      "Epoch:   0 Train Loss: 1.1125 Train Acc: 0.6667 Val Acc: 0.6786\n",
      "Epoch:  20 Train Loss: 0.6592 Train Acc: 0.6667 Val Acc: 0.7500\n",
      "0.7941176470588235\n",
      "[5, 14, 31, 20, 11, 25] [1, 0, 0, 2, 2, 1]\n",
      "0.4411764705882353\n",
      "0.35294117647058826\n",
      "0.5\n",
      "Epoch:   0 Train Loss: 1.1628 Train Acc: 0.1667 Val Acc: 0.0357\n",
      "Epoch:  20 Train Loss: 0.7735 Train Acc: 0.5000 Val Acc: 0.5357\n",
      "Epoch:  40 Train Loss: 0.3388 Train Acc: 0.8333 Val Acc: 0.5714\n",
      "0.6176470588235294\n",
      "[2, 14, 19, 22, 11, 30] [1, 0, 1, 2, 2, 0]\n",
      "0.5294117647058824\n",
      "0.29411764705882354\n",
      "0.47058823529411764\n",
      "Epoch:   0 Train Loss: 1.0611 Train Acc: 0.5000 Val Acc: 0.3571\n",
      "Epoch:  20 Train Loss: 0.6401 Train Acc: 0.8333 Val Acc: 0.6429\n",
      "Epoch:  40 Train Loss: 0.3826 Train Acc: 0.8333 Val Acc: 0.6429\n",
      "0.7352941176470589\n",
      "[0, 15, 18, 19, 12, 23] [0, 2, 2, 1, 1, 0]\n",
      "0.6470588235294118\n",
      "0.35294117647058826\n",
      "0.5294117647058824\n",
      "Epoch:   0 Train Loss: 1.1756 Train Acc: 0.3333 Val Acc: 0.1429\n",
      "Epoch:  20 Train Loss: 0.7929 Train Acc: 0.6667 Val Acc: 0.5714\n",
      "Epoch:  40 Train Loss: 0.3974 Train Acc: 0.8333 Val Acc: 0.5714\n",
      "0.6470588235294118\n",
      "[3, 14, 18, 22, 12, 30] [1, 0, 2, 2, 1, 0]\n",
      "0.6470588235294118\n",
      "0.17647058823529413\n",
      "0.6176470588235294\n",
      "Epoch:   0 Train Loss: 1.1295 Train Acc: 0.3333 Val Acc: 0.2143\n",
      "0.5882352941176471\n",
      "[5, 10, 31, 21, 8, 23] [1, 2, 0, 2, 1, 0]\n",
      "0.7058823529411765\n",
      "0.35294117647058826\n",
      "0.5588235294117647\n",
      "Epoch:   0 Train Loss: 1.1244 Train Acc: 0.3333 Val Acc: 0.3214\n",
      "0.7058823529411765\n",
      "[1, 6, 20, 31, 12, 29] [1, 2, 2, 0, 1, 0]\n",
      "0.7647058823529411\n",
      "0.38235294117647056\n",
      "0.38235294117647056\n",
      "Epoch:   0 Train Loss: 1.3147 Train Acc: 0.3333 Val Acc: 0.3214\n",
      "Epoch:  20 Train Loss: 0.7878 Train Acc: 0.5000 Val Acc: 0.6071\n",
      "Epoch:  40 Train Loss: 0.4681 Train Acc: 0.8333 Val Acc: 0.7143\n",
      "0.7647058823529411\n",
      "[1, 15, 18, 31, 16, 26] [1, 2, 2, 0, 1, 0]\n",
      "0.6764705882352942\n",
      "0.2647058823529412\n",
      "0.47058823529411764\n",
      "Epoch:   0 Train Loss: 1.1141 Train Acc: 0.3333 Val Acc: 0.3214\n",
      "Epoch:  20 Train Loss: 0.9171 Train Acc: 0.6667 Val Acc: 0.3571\n",
      "0.5882352941176471\n",
      "[0, 9, 20, 17, 16, 28] [0, 2, 2, 1, 1, 0]\n",
      "0.5294117647058824\n",
      "0.4117647058823529\n",
      "0.5588235294117647\n",
      "Epoch:   0 Train Loss: 1.0502 Train Acc: 0.3333 Val Acc: 0.2857\n",
      "Epoch:  20 Train Loss: 0.4846 Train Acc: 0.8333 Val Acc: 0.5714\n",
      "Epoch:  40 Train Loss: 0.3162 Train Acc: 0.8333 Val Acc: 0.5357\n",
      "0.6470588235294118\n",
      "[2, 14, 17, 21, 13, 24] [1, 0, 1, 2, 2, 0]\n",
      "0.6176470588235294\n",
      "0.35294117647058826\n",
      "0.5588235294117647\n",
      "Epoch:   0 Train Loss: 1.1130 Train Acc: 0.3333 Val Acc: 0.3571\n",
      "Epoch:  20 Train Loss: 0.8042 Train Acc: 0.5000 Val Acc: 0.5000\n",
      "Epoch:  40 Train Loss: 0.4334 Train Acc: 0.8333 Val Acc: 0.6786\n",
      "0.7058823529411765\n",
      "[0, 9, 17, 22, 12, 28] [0, 2, 1, 2, 1, 0]\n",
      "0.5588235294117647\n",
      "0.3235294117647059\n",
      "0.6176470588235294\n",
      "Epoch:   0 Train Loss: 1.1224 Train Acc: 0.3333 Val Acc: 0.3214\n",
      "0.5882352941176471\n",
      "[32, 9, 22, 17, 16, 29] [0, 2, 2, 1, 1, 0]\n",
      "0.5882352941176471\n",
      "0.4411764705882353\n",
      "0.4411764705882353\n",
      "Epoch:   0 Train Loss: 1.0657 Train Acc: 0.3333 Val Acc: 0.4286\n",
      "Epoch:  20 Train Loss: 0.6601 Train Acc: 0.6667 Val Acc: 0.6071\n",
      "0.7058823529411765\n",
      "[0, 15, 19, 22, 16, 27] [0, 2, 1, 2, 1, 0]\n",
      "0.6470588235294118\n",
      "0.3235294117647059\n",
      "0.6470588235294118\n",
      "Epoch:   0 Train Loss: 1.1014 Train Acc: 0.3333 Val Acc: 0.1786\n",
      "0.6176470588235294\n",
      "[3, 10, 31, 22, 12, 27] [1, 2, 0, 2, 1, 0]\n",
      "0.6764705882352942\n",
      "0.23529411764705882\n",
      "0.47058823529411764\n",
      "Epoch:   0 Train Loss: 1.1203 Train Acc: 0.3333 Val Acc: 0.3571\n",
      "Epoch:  20 Train Loss: 0.8044 Train Acc: 0.6667 Val Acc: 0.7500\n",
      "0.7941176470588235\n",
      "[7, 9, 17, 31, 8, 26] [2, 2, 1, 0, 1, 0]\n"
     ]
    },
    {
     "name": "stdout",
     "output_type": "stream",
     "text": [
      "0.5\n",
      "0.29411764705882354\n",
      "0.5588235294117647\n",
      "Epoch:   0 Train Loss: 1.1040 Train Acc: 0.5000 Val Acc: 0.3571\n",
      "Epoch:  20 Train Loss: 0.6921 Train Acc: 0.8333 Val Acc: 0.6071\n",
      "0.7058823529411765\n",
      "[32, 6, 21, 19, 8, 23] [0, 2, 2, 1, 1, 0]\n",
      "0.7058823529411765\n",
      "0.4117647058823529\n",
      "0.5294117647058824\n",
      "Epoch:   0 Train Loss: 1.1276 Train Acc: 0.3333 Val Acc: 0.3571\n",
      "Epoch:  20 Train Loss: 0.8711 Train Acc: 0.6667 Val Acc: 0.7857\n",
      "Epoch:  40 Train Loss: 0.5113 Train Acc: 0.6667 Val Acc: 0.7143\n",
      "0.7352941176470589\n",
      "[0, 10, 22, 19, 8, 30] [0, 2, 2, 1, 1, 0]\n",
      "0.5294117647058824\n",
      "0.29411764705882354\n",
      "0.5\n",
      "Epoch:   0 Train Loss: 1.1844 Train Acc: 0.1667 Val Acc: 0.1429\n",
      "Epoch:  20 Train Loss: 0.6645 Train Acc: 0.6667 Val Acc: 0.5000\n",
      "Epoch:  40 Train Loss: 0.3825 Train Acc: 0.8333 Val Acc: 0.7143\n",
      "Epoch:  60 Train Loss: 0.2566 Train Acc: 0.8333 Val Acc: 0.7143\n",
      "0.7647058823529411\n",
      "[0, 6, 18, 19, 12, 27] [0, 2, 2, 1, 1, 0]\n",
      "0.6470588235294118\n",
      "0.35294117647058826\n",
      "0.5882352941176471\n",
      "Epoch:   0 Train Loss: 1.2295 Train Acc: 0.0000 Val Acc: 0.2857\n",
      "Epoch:  20 Train Loss: 0.6478 Train Acc: 0.8333 Val Acc: 0.5000\n",
      "Epoch:  40 Train Loss: 0.2747 Train Acc: 0.8333 Val Acc: 0.5000\n",
      "0.5588235294117647\n",
      "[1, 10, 31, 19, 13, 27] [1, 2, 0, 1, 2, 0]\n",
      "0.7352941176470589\n",
      "0.4411764705882353\n",
      "0.38235294117647056\n",
      "Epoch:   0 Train Loss: 1.0913 Train Acc: 0.3333 Val Acc: 0.3214\n",
      "Epoch:  20 Train Loss: 0.7919 Train Acc: 0.6667 Val Acc: 0.6071\n",
      "0.7352941176470589\n",
      "[33, 9, 17, 31, 12, 27] [2, 2, 1, 0, 1, 0]\n",
      "0.6176470588235294\n",
      "0.3235294117647059\n",
      "0.47058823529411764\n",
      "Epoch:   0 Train Loss: 1.0917 Train Acc: 0.5000 Val Acc: 0.5357\n",
      "Epoch:  20 Train Loss: 0.7002 Train Acc: 0.8333 Val Acc: 0.5357\n",
      "0.5882352941176471\n",
      "[4, 14, 19, 18, 11, 24] [1, 0, 1, 2, 2, 0]\n",
      "0.6176470588235294\n",
      "0.2647058823529412\n",
      "0.47058823529411764\n",
      "Epoch:   0 Train Loss: 1.0923 Train Acc: 0.3333 Val Acc: 0.2857\n",
      "Epoch:  20 Train Loss: 0.7083 Train Acc: 0.6667 Val Acc: 0.7143\n",
      "Epoch:  40 Train Loss: 0.4852 Train Acc: 0.8333 Val Acc: 0.7143\n",
      "0.7941176470588235\n",
      "[4, 10, 31, 21, 12, 24] [1, 2, 0, 2, 1, 0]\n",
      "0.7352941176470589\n",
      "0.4117647058823529\n",
      "0.4117647058823529\n",
      "Epoch:   0 Train Loss: 1.1363 Train Acc: 0.0000 Val Acc: 0.1071\n",
      "Epoch:  20 Train Loss: 0.7929 Train Acc: 0.6667 Val Acc: 0.6071\n",
      "Epoch:  40 Train Loss: 0.5008 Train Acc: 0.8333 Val Acc: 0.7500\n",
      "0.7647058823529411\n",
      "[32, 10, 22, 17, 16, 28] [0, 2, 2, 1, 1, 0]\n",
      "0.5588235294117647\n",
      "0.4411764705882353\n",
      "0.4411764705882353\n",
      "Epoch:   0 Train Loss: 1.0987 Train Acc: 0.3333 Val Acc: 0.3571\n",
      "Epoch:  20 Train Loss: 0.7575 Train Acc: 0.8333 Val Acc: 0.5000\n",
      "Epoch:  40 Train Loss: 0.3791 Train Acc: 0.8333 Val Acc: 0.5000\n",
      "Epoch:  60 Train Loss: 0.2460 Train Acc: 0.8333 Val Acc: 0.5000\n",
      "0.5882352941176471\n",
      "[3, 15, 31, 20, 16, 24] [1, 2, 0, 2, 1, 0]\n",
      "0.5588235294117647\n",
      "0.20588235294117646\n",
      "0.47058823529411764\n",
      "Epoch:   0 Train Loss: 1.0877 Train Acc: 0.3333 Val Acc: 0.3214\n",
      "Epoch:  20 Train Loss: 0.7391 Train Acc: 0.8333 Val Acc: 0.6786\n",
      "Epoch:  40 Train Loss: 0.3431 Train Acc: 0.8333 Val Acc: 0.6071\n",
      "0.6764705882352942\n",
      "[4, 9, 22, 31, 16, 23] [1, 2, 2, 0, 1, 0]\n",
      "0.7058823529411765\n",
      "0.20588235294117646\n",
      "0.47058823529411764\n",
      "Epoch:   0 Train Loss: 1.1124 Train Acc: 0.3333 Val Acc: 0.2857\n",
      "Epoch:  20 Train Loss: 0.8208 Train Acc: 0.5000 Val Acc: 0.2857\n",
      "0.4411764705882353\n",
      "[5, 14, 18, 22, 8, 24] [1, 0, 2, 2, 1, 0]\n",
      "0.5294117647058824\n",
      "0.29411764705882354\n",
      "0.5294117647058824\n",
      "Epoch:   0 Train Loss: 1.0621 Train Acc: 0.5000 Val Acc: 0.3214\n",
      "0.5294117647058824\n",
      "[4, 14, 20, 19, 11, 28] [1, 0, 2, 1, 2, 0]\n",
      "0.29411764705882354\n",
      "0.3235294117647059\n",
      "0.29411764705882354\n",
      "Epoch:   0 Train Loss: 1.2121 Train Acc: 0.3333 Val Acc: 0.3214\n",
      "Epoch:  20 Train Loss: 0.7589 Train Acc: 0.6667 Val Acc: 0.7500\n",
      "Epoch:  40 Train Loss: 0.4830 Train Acc: 0.8333 Val Acc: 0.7500\n",
      "0.7352941176470589\n",
      "[1, 9, 22, 31, 16, 24] [1, 2, 2, 0, 1, 0]\n",
      "0.6176470588235294\n",
      "0.20588235294117646\n",
      "0.47058823529411764\n",
      "Epoch:   0 Train Loss: 1.0914 Train Acc: 0.3333 Val Acc: 0.3571\n",
      "Epoch:  20 Train Loss: 0.7765 Train Acc: 0.5000 Val Acc: 0.3214\n",
      "Epoch:  40 Train Loss: 0.4894 Train Acc: 0.8333 Val Acc: 0.4286\n",
      "0.5588235294117647\n",
      "[2, 14, 17, 21, 13, 28] [1, 0, 1, 2, 2, 0]\n",
      "0.38235294117647056\n",
      "0.38235294117647056\n",
      "0.2647058823529412\n",
      "Epoch:   0 Train Loss: 1.0419 Train Acc: 0.3333 Val Acc: 0.4286\n",
      "Epoch:  20 Train Loss: 0.6358 Train Acc: 0.8333 Val Acc: 0.7143\n",
      "Epoch:  40 Train Loss: 0.2741 Train Acc: 0.8333 Val Acc: 0.7143\n",
      "0.7941176470588235\n",
      "[4, 14, 20, 31, 11, 25] [1, 0, 2, 0, 2, 1]\n",
      "0.4411764705882353\n",
      "0.35294117647058826\n",
      "0.5588235294117647\n",
      "Epoch:   0 Train Loss: 1.2305 Train Acc: 0.3333 Val Acc: 0.3214\n",
      "Epoch:  20 Train Loss: 0.7060 Train Acc: 0.5000 Val Acc: 0.4643\n",
      "Epoch:  40 Train Loss: 0.5313 Train Acc: 0.6667 Val Acc: 0.3929\n",
      "Epoch:  60 Train Loss: 0.4192 Train Acc: 0.8333 Val Acc: 0.3929\n",
      "0.5\n",
      "[5, 14, 19, 22, 11, 27] [1, 0, 1, 2, 2, 0]\n",
      "0.5882352941176471\n",
      "0.23529411764705882\n",
      "0.6470588235294118\n",
      "Epoch:   0 Train Loss: 1.0870 Train Acc: 0.5000 Val Acc: 0.4643\n",
      "Epoch:  20 Train Loss: 0.8080 Train Acc: 0.6667 Val Acc: 0.6429\n",
      "Epoch:  40 Train Loss: 0.4978 Train Acc: 0.8333 Val Acc: 0.6071\n",
      "0.7058823529411765\n",
      "[0, 10, 20, 19, 8, 27] [0, 2, 2, 1, 1, 0]\n",
      "0.47058823529411764\n",
      "0.35294117647058826\n",
      "0.5\n",
      "Epoch:   0 Train Loss: 1.0211 Train Acc: 0.5000 Val Acc: 0.5000\n",
      "0.6176470588235294\n",
      "[32, 10, 17, 20, 8, 24] [0, 2, 1, 2, 1, 0]\n",
      "0.5588235294117647\n",
      "0.4117647058823529\n",
      "0.2647058823529412\n",
      "Epoch:   0 Train Loss: 1.1081 Train Acc: 0.1667 Val Acc: 0.1429\n",
      "Epoch:  20 Train Loss: 0.8071 Train Acc: 0.5000 Val Acc: 0.6429\n",
      "Epoch:  40 Train Loss: 0.4263 Train Acc: 0.8333 Val Acc: 0.7500\n",
      "0.7941176470588235\n",
      "[3, 15, 31, 21, 16, 28] [1, 2, 0, 2, 1, 0]\n",
      "0.5\n",
      "0.29411764705882354\n",
      "0.47058823529411764\n",
      "Epoch:   0 Train Loss: 1.1120 Train Acc: 0.3333 Val Acc: 0.3214\n",
      "Epoch:  20 Train Loss: 0.9631 Train Acc: 0.8333 Val Acc: 0.6071\n",
      "Epoch:  40 Train Loss: 0.5763 Train Acc: 0.8333 Val Acc: 0.6429\n",
      "0.7058823529411765\n",
      "[2, 14, 20, 21, 12, 24] [1, 0, 2, 2, 1, 0]\n",
      "0.6176470588235294\n",
      "0.35294117647058826\n",
      "0.4411764705882353\n",
      "Epoch:   0 Train Loss: 1.2132 Train Acc: 0.1667 Val Acc: 0.1071\n",
      "Epoch:  20 Train Loss: 0.5289 Train Acc: 0.8333 Val Acc: 0.7143\n",
      "Epoch:  40 Train Loss: 0.2352 Train Acc: 1.0000 Val Acc: 0.6786\n",
      "0.7352941176470589\n",
      "[3, 15, 18, 31, 16, 29] [1, 2, 2, 0, 1, 0]\n",
      "0.5588235294117647\n",
      "0.23529411764705882\n",
      "0.47058823529411764\n",
      "Epoch:   0 Train Loss: 1.1515 Train Acc: 0.3333 Val Acc: 0.3214\n",
      "Epoch:  20 Train Loss: 0.7778 Train Acc: 0.6667 Val Acc: 0.6071\n",
      "0.6176470588235294\n",
      "[2, 15, 22, 31, 16, 26] [1, 2, 2, 0, 1, 0]\n",
      "0.47058823529411764\n",
      "0.35294117647058826\n",
      "0.47058823529411764\n",
      "Epoch:   0 Train Loss: 1.1129 Train Acc: 0.3333 Val Acc: 0.3571\n",
      "Epoch:  20 Train Loss: 0.7562 Train Acc: 0.8333 Val Acc: 0.3571\n",
      "0.5\n",
      "[2, 14, 20, 18, 12, 23] [1, 0, 2, 2, 1, 0]\n",
      "0.6470588235294118\n",
      "0.38235294117647056\n",
      "0.5882352941176471\n",
      "Epoch:   0 Train Loss: 0.9748 Train Acc: 0.8333 Val Acc: 0.7143\n",
      "Epoch:  20 Train Loss: 0.4070 Train Acc: 0.8333 Val Acc: 0.5000\n",
      "0.5882352941176471\n",
      "[32, 9, 19, 22, 16, 23] [0, 2, 1, 2, 1, 0]\n",
      "0.7058823529411765\n",
      "0.4411764705882353\n",
      "0.4411764705882353\n",
      "Epoch:   0 Train Loss: 1.1225 Train Acc: 0.1667 Val Acc: 0.3571\n",
      "Epoch:  20 Train Loss: 0.8928 Train Acc: 0.6667 Val Acc: 0.3571\n",
      "0.4117647058823529\n",
      "[33, 10, 17, 31, 8, 30] [2, 2, 1, 0, 1, 0]\n",
      "0.5294117647058824\n",
      "0.3235294117647059\n",
      "0.47058823529411764\n",
      "Epoch:   0 Train Loss: 1.1048 Train Acc: 0.3333 Val Acc: 0.3214\n",
      "Epoch:  20 Train Loss: 0.8582 Train Acc: 0.6667 Val Acc: 0.6071\n",
      "Epoch:  40 Train Loss: 0.3822 Train Acc: 0.8333 Val Acc: 0.6786\n",
      "0.7352941176470589\n",
      "[2, 15, 31, 20, 8, 29] [1, 2, 0, 2, 1, 0]\n",
      "0.5882352941176471\n",
      "0.29411764705882354\n",
      "0.47058823529411764\n",
      "Epoch:   0 Train Loss: 1.1142 Train Acc: 0.3333 Val Acc: 0.3214\n",
      "Epoch:  20 Train Loss: 0.7325 Train Acc: 0.6667 Val Acc: 0.5714\n",
      "0.7352941176470589\n",
      "[33, 9, 19, 31, 12, 26] [2, 2, 1, 0, 1, 0]\n",
      "0.6764705882352942\n",
      "0.3235294117647059\n",
      "0.5294117647058824\n",
      "Epoch:   0 Train Loss: 1.1183 Train Acc: 0.3333 Val Acc: 0.3571\n",
      "Epoch:  20 Train Loss: 0.8029 Train Acc: 0.8333 Val Acc: 0.3571\n",
      "Epoch:  40 Train Loss: 0.3726 Train Acc: 0.8333 Val Acc: 0.6071\n",
      "0.6764705882352942\n",
      "[2, 9, 20, 31, 8, 24] [1, 2, 2, 0, 1, 0]\n",
      "0.5294117647058824\n",
      "0.4411764705882353\n",
      "0.47058823529411764\n",
      "Epoch:   0 Train Loss: 1.1940 Train Acc: 0.3333 Val Acc: 0.3214\n",
      "Epoch:  20 Train Loss: 0.5088 Train Acc: 0.8333 Val Acc: 0.6786\n",
      "0.7647058823529411\n",
      "[1, 6, 21, 31, 12, 27] [1, 2, 2, 0, 1, 0]\n"
     ]
    },
    {
     "name": "stdout",
     "output_type": "stream",
     "text": [
      "0.6470588235294118\n",
      "0.38235294117647056\n",
      "0.38235294117647056\n",
      "Epoch:   0 Train Loss: 1.1451 Train Acc: 0.3333 Val Acc: 0.3214\n",
      "Epoch:  20 Train Loss: 0.7322 Train Acc: 0.6667 Val Acc: 0.6071\n",
      "0.8529411764705882\n",
      "[33, 10, 17, 31, 8, 27] [2, 2, 1, 0, 1, 0]\n",
      "0.6470588235294118\n",
      "0.3235294117647059\n",
      "0.47058823529411764\n",
      "Epoch:   0 Train Loss: 1.1207 Train Acc: 0.3333 Val Acc: 0.3571\n",
      "Epoch:  20 Train Loss: 0.7732 Train Acc: 0.8333 Val Acc: 0.5714\n",
      "Epoch:  40 Train Loss: 0.3445 Train Acc: 0.8333 Val Acc: 0.6786\n",
      "0.7352941176470589\n",
      "[2, 14, 18, 19, 13, 28] [1, 0, 2, 1, 2, 0]\n",
      "0.4411764705882353\n",
      "0.38235294117647056\n",
      "0.47058823529411764\n",
      "Epoch:   0 Train Loss: 1.1051 Train Acc: 0.3333 Val Acc: 0.2857\n",
      "Epoch:  20 Train Loss: 0.6368 Train Acc: 0.6667 Val Acc: 0.6786\n",
      "Epoch:  40 Train Loss: 0.3512 Train Acc: 0.8333 Val Acc: 0.6786\n",
      "0.7058823529411765\n",
      "[0, 15, 20, 19, 8, 23] [0, 2, 2, 1, 1, 0]\n",
      "0.5588235294117647\n",
      "0.29411764705882354\n",
      "0.5294117647058824\n",
      "Epoch:   0 Train Loss: 1.1184 Train Acc: 0.1667 Val Acc: 0.3571\n",
      "Epoch:  20 Train Loss: 0.6916 Train Acc: 0.8333 Val Acc: 0.6071\n",
      "Epoch:  40 Train Loss: 0.3478 Train Acc: 0.8333 Val Acc: 0.6429\n",
      "0.7647058823529411\n",
      "[3, 9, 19, 31, 11, 26] [1, 2, 1, 0, 2, 0]\n",
      "0.4117647058823529\n",
      "0.29411764705882354\n",
      "0.38235294117647056\n",
      "Epoch:   0 Train Loss: 1.0644 Train Acc: 0.3333 Val Acc: 0.3571\n",
      "Epoch:  20 Train Loss: 0.6798 Train Acc: 0.8333 Val Acc: 0.6786\n",
      "Epoch:  40 Train Loss: 0.4120 Train Acc: 0.8333 Val Acc: 0.6429\n",
      "Epoch:  60 Train Loss: 0.3207 Train Acc: 0.8333 Val Acc: 0.6786\n",
      "Epoch:  80 Train Loss: 0.2486 Train Acc: 0.8333 Val Acc: 0.6071\n",
      "0.6764705882352942\n",
      "[4, 10, 19, 31, 13, 30] [1, 2, 1, 0, 2, 0]\n",
      "0.7058823529411765\n",
      "0.4411764705882353\n",
      "0.4117647058823529\n",
      "Epoch:   0 Train Loss: 1.1396 Train Acc: 0.3333 Val Acc: 0.3214\n",
      "Epoch:  20 Train Loss: 0.8874 Train Acc: 0.3333 Val Acc: 0.5000\n",
      "Epoch:  40 Train Loss: 0.5890 Train Acc: 0.8333 Val Acc: 0.4286\n",
      "0.5\n",
      "[4, 9, 18, 31, 8, 27] [1, 2, 2, 0, 1, 0]\n",
      "0.5\n",
      "0.4411764705882353\n",
      "0.5\n",
      "Epoch:   0 Train Loss: 1.1544 Train Acc: 0.1667 Val Acc: 0.1071\n",
      "Epoch:  20 Train Loss: 0.6288 Train Acc: 0.8333 Val Acc: 0.6071\n",
      "0.7352941176470589\n",
      "[0, 10, 17, 19, 13, 24] [0, 2, 1, 1, 2, 0]\n",
      "0.6176470588235294\n",
      "0.3235294117647059\n",
      "0.5588235294117647\n",
      "Epoch:   0 Train Loss: 1.1076 Train Acc: 0.3333 Val Acc: 0.3214\n",
      "0.5\n",
      "[2, 15, 22, 31, 12, 23] [1, 2, 2, 0, 1, 0]\n",
      "0.6176470588235294\n",
      "0.3235294117647059\n",
      "0.47058823529411764\n",
      "Epoch:   0 Train Loss: 1.0999 Train Acc: 0.3333 Val Acc: 0.3214\n",
      "0.5588235294117647\n",
      "[5, 15, 31, 18, 16, 24] [1, 2, 0, 2, 1, 0]\n",
      "0.7058823529411765\n",
      "0.23529411764705882\n",
      "0.47058823529411764\n",
      "Epoch:   0 Train Loss: 1.1141 Train Acc: 0.1667 Val Acc: 0.3214\n",
      "Epoch:  20 Train Loss: 0.7091 Train Acc: 0.6667 Val Acc: 0.6071\n",
      "0.6176470588235294\n",
      "[0, 6, 19, 18, 12, 24] [0, 2, 1, 2, 1, 0]\n",
      "0.6470588235294118\n",
      "0.3235294117647059\n",
      "0.6176470588235294\n",
      "Epoch:   0 Train Loss: 1.3032 Train Acc: 0.3333 Val Acc: 0.3214\n",
      "Epoch:  20 Train Loss: 0.6206 Train Acc: 0.6667 Val Acc: 0.5357\n",
      "Epoch:  40 Train Loss: 0.3548 Train Acc: 0.8333 Val Acc: 0.5714\n",
      "0.7058823529411765\n",
      "[3, 6, 31, 21, 12, 28] [1, 2, 0, 2, 1, 0]\n",
      "0.7058823529411765\n",
      "0.38235294117647056\n",
      "0.4117647058823529\n",
      "Epoch:   0 Train Loss: 1.1039 Train Acc: 0.3333 Val Acc: 0.3214\n",
      "Epoch:  20 Train Loss: 0.7733 Train Acc: 0.6667 Val Acc: 0.6786\n",
      "0.7941176470588235\n",
      "[4, 14, 17, 20, 13, 23] [1, 0, 1, 2, 2, 0]\n",
      "0.6764705882352942\n",
      "0.35294117647058826\n",
      "0.47058823529411764\n",
      "Epoch:   0 Train Loss: 1.1081 Train Acc: 0.3333 Val Acc: 0.3214\n",
      "Epoch:  20 Train Loss: 0.8156 Train Acc: 0.6667 Val Acc: 0.7143\n",
      "Epoch:  40 Train Loss: 0.3864 Train Acc: 0.8333 Val Acc: 0.7500\n",
      "0.7941176470588235\n",
      "[1, 14, 22, 18, 12, 29] [1, 0, 2, 2, 1, 0]\n",
      "0.6470588235294118\n",
      "0.20588235294117646\n",
      "0.5882352941176471\n",
      "Epoch:   0 Train Loss: 1.0600 Train Acc: 0.3333 Val Acc: 0.4286\n",
      "0.5588235294117647\n",
      "[32, 9, 18, 17, 12, 26] [0, 2, 2, 1, 1, 0]\n",
      "0.5294117647058824\n",
      "0.4117647058823529\n",
      "0.5294117647058824\n",
      "Epoch:   0 Train Loss: 0.9959 Train Acc: 0.3333 Val Acc: 0.5714\n",
      "Epoch:  20 Train Loss: 0.7077 Train Acc: 0.6667 Val Acc: 0.7500\n",
      "0.8235294117647058\n",
      "[5, 9, 20, 31, 12, 28] [1, 2, 2, 0, 1, 0]\n",
      "0.7058823529411765\n",
      "0.4411764705882353\n",
      "0.35294117647058826\n",
      "Epoch:   0 Train Loss: 1.0527 Train Acc: 0.3333 Val Acc: 0.3571\n",
      "Epoch:  20 Train Loss: 0.6152 Train Acc: 0.6667 Val Acc: 0.6786\n",
      "0.7647058823529411\n",
      "[5, 6, 20, 31, 16, 23] [1, 2, 2, 0, 1, 0]\n",
      "0.6764705882352942\n",
      "0.4117647058823529\n",
      "0.38235294117647056\n",
      "Epoch:   0 Train Loss: 1.0876 Train Acc: 0.3333 Val Acc: 0.5357\n",
      "Epoch:  20 Train Loss: 0.7375 Train Acc: 0.5000 Val Acc: 0.6786\n",
      "0.8235294117647058\n",
      "[3, 9, 18, 31, 12, 27] [1, 2, 2, 0, 1, 0]\n",
      "0.6470588235294118\n",
      "0.38235294117647056\n",
      "0.5588235294117647\n",
      "Epoch:   0 Train Loss: 1.2759 Train Acc: 0.3333 Val Acc: 0.2857\n",
      "Epoch:  20 Train Loss: 0.6312 Train Acc: 0.6667 Val Acc: 0.6786\n",
      "0.7647058823529411\n",
      "[32, 15, 19, 20, 12, 23] [0, 2, 1, 2, 1, 0]\n",
      "0.5588235294117647\n",
      "0.4411764705882353\n",
      "0.4411764705882353\n",
      "Epoch:   0 Train Loss: 1.0927 Train Acc: 0.3333 Val Acc: 0.3214\n",
      "Epoch:  20 Train Loss: 0.6927 Train Acc: 0.6667 Val Acc: 0.5357\n",
      "Epoch:  40 Train Loss: 0.3979 Train Acc: 0.6667 Val Acc: 0.5714\n",
      "Epoch:  60 Train Loss: 0.3010 Train Acc: 0.6667 Val Acc: 0.6071\n",
      "0.7058823529411765\n",
      "[0, 14, 17, 20, 11, 25] [0, 0, 1, 2, 2, 1]\n",
      "0.5294117647058824\n",
      "0.3235294117647059\n",
      "0.2647058823529412\n",
      "Epoch:   0 Train Loss: 1.0053 Train Acc: 0.3333 Val Acc: 0.3571\n",
      "Epoch:  20 Train Loss: 0.6025 Train Acc: 0.6667 Val Acc: 0.3929\n",
      "0.47058823529411764\n",
      "[1, 9, 31, 22, 8, 23] [1, 2, 0, 2, 1, 0]\n",
      "0.5882352941176471\n",
      "0.20588235294117646\n",
      "0.47058823529411764\n",
      "Epoch:   0 Train Loss: 1.1212 Train Acc: 0.3333 Val Acc: 0.2857\n",
      "Epoch:  20 Train Loss: 0.7235 Train Acc: 0.8333 Val Acc: 0.4286\n",
      "0.5588235294117647\n",
      "[0, 10, 17, 20, 12, 28] [0, 2, 1, 2, 1, 0]\n",
      "0.5588235294117647\n",
      "0.4117647058823529\n",
      "0.5\n",
      "Epoch:   0 Train Loss: 1.4402 Train Acc: 0.3333 Val Acc: 0.3214\n",
      "0.7647058823529411\n",
      "[2, 9, 20, 31, 12, 30] [1, 2, 2, 0, 1, 0]\n",
      "0.6764705882352942\n",
      "0.5\n",
      "0.47058823529411764\n",
      "Epoch:   0 Train Loss: 1.0401 Train Acc: 0.3333 Val Acc: 0.3571\n",
      "Epoch:  20 Train Loss: 0.4686 Train Acc: 0.6667 Val Acc: 0.7143\n",
      "0.7352941176470589\n",
      "[33, 10, 17, 31, 12, 26] [2, 2, 1, 0, 1, 0]\n",
      "0.5882352941176471\n",
      "0.3235294117647059\n",
      "0.47058823529411764\n",
      "Epoch:   0 Train Loss: 1.1277 Train Acc: 0.3333 Val Acc: 0.3571\n",
      "Epoch:  20 Train Loss: 0.7364 Train Acc: 0.6667 Val Acc: 0.6071\n",
      "0.7647058823529411\n",
      "[32, 6, 19, 20, 12, 26] [0, 2, 1, 2, 1, 0]\n",
      "0.5\n",
      "0.47058823529411764\n",
      "0.35294117647058826\n",
      "Epoch:   0 Train Loss: 1.1038 Train Acc: 0.3333 Val Acc: 0.3214\n",
      "Epoch:  20 Train Loss: 0.8217 Train Acc: 0.6667 Val Acc: 0.4643\n",
      "0.7352941176470589\n",
      "[2, 15, 31, 21, 12, 26] [1, 2, 0, 2, 1, 0]\n",
      "0.6176470588235294\n",
      "0.23529411764705882\n",
      "0.47058823529411764\n",
      "Epoch:   0 Train Loss: 1.0827 Train Acc: 0.3333 Val Acc: 0.3571\n",
      "Epoch:  20 Train Loss: 0.7011 Train Acc: 0.6667 Val Acc: 0.6429\n",
      "0.7352941176470589\n",
      "[5, 6, 18, 31, 12, 27] [1, 2, 2, 0, 1, 0]\n",
      "0.7352941176470589\n",
      "0.29411764705882354\n",
      "0.4411764705882353\n",
      "Epoch:   0 Train Loss: 1.0777 Train Acc: 0.3333 Val Acc: 0.3571\n",
      "Epoch:  20 Train Loss: 0.7024 Train Acc: 0.5000 Val Acc: 0.7143\n",
      "0.7352941176470589\n",
      "[5, 9, 19, 31, 11, 24] [1, 2, 1, 0, 2, 0]\n",
      "0.5588235294117647\n",
      "0.3235294117647059\n",
      "0.38235294117647056\n",
      "Epoch:   0 Train Loss: 1.1428 Train Acc: 0.3333 Val Acc: 0.3571\n",
      "Epoch:  20 Train Loss: 0.7124 Train Acc: 0.5000 Val Acc: 0.6071\n",
      "Epoch:  40 Train Loss: 0.5100 Train Acc: 0.8333 Val Acc: 0.7143\n",
      "Epoch:  60 Train Loss: 0.4027 Train Acc: 0.8333 Val Acc: 0.6071\n",
      "Epoch:  80 Train Loss: 0.3484 Train Acc: 0.8333 Val Acc: 0.6071\n",
      "Epoch: 100 Train Loss: 0.2950 Train Acc: 0.8333 Val Acc: 0.7143\n",
      "0.7647058823529411\n",
      "[7, 14, 17, 20, 8, 30] [2, 0, 1, 2, 1, 0]\n",
      "0.5588235294117647\n",
      "0.29411764705882354\n",
      "0.5588235294117647\n",
      "Epoch:   0 Train Loss: 1.1669 Train Acc: 0.3333 Val Acc: 0.3214\n",
      "Epoch:  20 Train Loss: 0.8050 Train Acc: 0.6667 Val Acc: 0.5357\n",
      "0.6764705882352942\n",
      "[0, 10, 19, 21, 16, 23] [0, 2, 1, 2, 1, 0]\n",
      "0.6470588235294118\n",
      "0.3235294117647059\n",
      "0.6470588235294118\n",
      "Epoch:   0 Train Loss: 1.1163 Train Acc: 0.3333 Val Acc: 0.3571\n",
      "0.6470588235294118\n",
      "[1, 9, 19, 31, 11, 26] [1, 2, 1, 0, 2, 0]\n",
      "0.5\n",
      "0.29411764705882354\n",
      "0.5294117647058824\n",
      "Epoch:   0 Train Loss: 1.0161 Train Acc: 0.6667 Val Acc: 0.6429\n",
      "Epoch:  20 Train Loss: 0.6818 Train Acc: 0.8333 Val Acc: 0.6071\n",
      "Epoch:  40 Train Loss: 0.3640 Train Acc: 0.8333 Val Acc: 0.6786\n"
     ]
    },
    {
     "name": "stdout",
     "output_type": "stream",
     "text": [
      "0.7352941176470589\n",
      "[3, 14, 17, 20, 13, 24] [1, 0, 1, 2, 2, 0]\n",
      "0.5882352941176471\n",
      "0.35294117647058826\n",
      "0.47058823529411764\n",
      "Epoch:   0 Train Loss: 1.1038 Train Acc: 0.1667 Val Acc: 0.3571\n",
      "Epoch:  20 Train Loss: 0.6530 Train Acc: 0.6667 Val Acc: 0.6429\n",
      "Epoch:  40 Train Loss: 0.3591 Train Acc: 0.8333 Val Acc: 0.7500\n",
      "0.7647058823529411\n",
      "[1, 9, 22, 31, 12, 27] [1, 2, 2, 0, 1, 0]\n",
      "0.7058823529411765\n",
      "0.2647058823529412\n",
      "0.47058823529411764\n",
      "Epoch:   0 Train Loss: 1.1174 Train Acc: 0.0000 Val Acc: 0.2500\n",
      "Epoch:  20 Train Loss: 0.7297 Train Acc: 0.6667 Val Acc: 0.7500\n",
      "Epoch:  40 Train Loss: 0.3136 Train Acc: 0.8333 Val Acc: 0.6071\n",
      "0.6176470588235294\n",
      "[5, 6, 31, 17, 11, 24] [1, 2, 0, 1, 2, 0]\n",
      "0.5\n",
      "0.35294117647058826\n",
      "0.4411764705882353\n",
      "Epoch:   0 Train Loss: 1.1353 Train Acc: 0.1667 Val Acc: 0.3214\n",
      "Epoch:  20 Train Loss: 0.7956 Train Acc: 0.6667 Val Acc: 0.4286\n",
      "Epoch:  40 Train Loss: 0.4720 Train Acc: 0.8333 Val Acc: 0.6071\n",
      "0.7058823529411765\n",
      "[2, 14, 18, 22, 8, 23] [1, 0, 2, 2, 1, 0]\n",
      "0.6176470588235294\n",
      "0.2647058823529412\n",
      "0.4411764705882353\n",
      "Epoch:   0 Train Loss: 1.1277 Train Acc: 0.3333 Val Acc: 0.1429\n",
      "0.38235294117647056\n",
      "[0, 6, 17, 18, 8, 29] [0, 2, 1, 2, 1, 0]\n",
      "0.5882352941176471\n",
      "0.3235294117647059\n",
      "0.5\n",
      "Epoch:   0 Train Loss: 1.0101 Train Acc: 0.3333 Val Acc: 0.3571\n",
      "0.6764705882352942\n",
      "[33, 14, 17, 20, 16, 30] [2, 0, 1, 2, 1, 0]\n",
      "0.6176470588235294\n",
      "0.3235294117647059\n",
      "0.4411764705882353\n",
      "Epoch:   0 Train Loss: 1.0981 Train Acc: 0.3333 Val Acc: 0.3214\n",
      "Epoch:  20 Train Loss: 0.7922 Train Acc: 0.6667 Val Acc: 0.7143\n",
      "Epoch:  40 Train Loss: 0.5038 Train Acc: 0.8333 Val Acc: 0.5714\n",
      "0.6764705882352942\n",
      "[1, 14, 22, 19, 13, 23] [1, 0, 2, 1, 2, 0]\n",
      "0.6764705882352942\n",
      "0.29411764705882354\n",
      "0.5\n",
      "Epoch:   0 Train Loss: 1.0912 Train Acc: 0.3333 Val Acc: 0.3214\n",
      "Epoch:  20 Train Loss: 0.8168 Train Acc: 0.8333 Val Acc: 0.2857\n",
      "0.6176470588235294\n",
      "[3, 14, 18, 20, 8, 29] [1, 0, 2, 2, 1, 0]\n",
      "0.5\n",
      "0.35294117647058826\n",
      "0.5\n",
      "Epoch:   0 Train Loss: 1.1109 Train Acc: 0.3333 Val Acc: 0.2857\n",
      "Epoch:  20 Train Loss: 0.4999 Train Acc: 0.8333 Val Acc: 0.6071\n",
      "0.6764705882352942\n",
      "[32, 6, 19, 18, 16, 27] [0, 2, 1, 2, 1, 0]\n",
      "0.6764705882352942\n",
      "0.47058823529411764\n",
      "0.35294117647058826\n",
      "Epoch:   0 Train Loss: 1.1411 Train Acc: 0.3333 Val Acc: 0.1429\n",
      "Epoch:  20 Train Loss: 0.8222 Train Acc: 0.5000 Val Acc: 0.6786\n",
      "Epoch:  40 Train Loss: 0.5055 Train Acc: 1.0000 Val Acc: 0.6429\n",
      "0.7058823529411765\n",
      "[2, 6, 20, 31, 16, 23] [1, 2, 2, 0, 1, 0]\n",
      "0.6176470588235294\n",
      "0.4411764705882353\n",
      "0.35294117647058826\n",
      "Epoch:   0 Train Loss: 1.1101 Train Acc: 0.3333 Val Acc: 0.3571\n",
      "Epoch:  20 Train Loss: 0.7810 Train Acc: 0.6667 Val Acc: 0.6071\n",
      "0.7647058823529411\n"
     ]
    }
   ],
   "source": [
    "for _ in range(100):\n",
    "    while True:\n",
    "        train_ind = random.sample([0, 1, 2, 3, 4, 5, 32, 33, 7], k=1) \\\n",
    "                    + random.sample([6, 9, 14, 15, 10], k=1) \\\n",
    "                    + random.sample([17, 18, 19, 20, 21, 22, 31], k=2) \\\n",
    "                    + random.sample([8, 11, 12, 13, 16], k=1) \\\n",
    "                    + random.sample([23, 24, 25, 26, 27, 28, 29, 30], k=1) \n",
    "        train_labels = [y_true[i] for i in train_ind]\n",
    "        tl = np.array(train_labels)\n",
    "        if tl[tl == 0].shape[0] == 2 and tl[tl == 1].shape[0] == 2 and tl[tl == 2].shape[0] == 2:\n",
    "            break\n",
    "\n",
    "    print(train_ind, train_labels)\n",
    "    test_ind = []\n",
    "    for i in range(n_states):\n",
    "        if i not in train_ind:\n",
    "            test_ind.append(i)\n",
    "\n",
    "    n_feats = 2\n",
    "    feats = torch.zeros(n_states, n_feats)\n",
    "    for i in range(n_states):\n",
    "        density = df[df['State or union territory'] == states[i]]['Density[a]'].values[0]\n",
    "        foreign_visits = df[df['State or union territory'] == states[i]]['Foreign Visits'].values[0]\n",
    "        feats[i] = (torch.Tensor([foreign_visits, density]))\n",
    "\n",
    "    feats = (feats - feats[train_ind, :].mean(axis=0)) / feats[train_ind, :].std(axis=0)\n",
    "\n",
    "    our_data = feats[train_ind, :]\n",
    "    clf = RandomForestClassifier(n_estimators=32)\n",
    "    clf.fit(our_data, train_labels)\n",
    "    acc = (clf.predict(feats) == y_true).mean()\n",
    "    print(acc)\n",
    "    acc_dict['rf'].append(acc)\n",
    "\n",
    "    clf = KNeighborsClassifier(n_neighbors=5)\n",
    "    clf.fit(our_data, train_labels)\n",
    "    acc = (clf.predict(feats) == y_true).mean()\n",
    "    print(acc)\n",
    "    acc_dict['knn'].append(acc)     \n",
    "\n",
    "    clf = SVC()\n",
    "    clf.fit(our_data, train_labels)\n",
    "    acc = (clf.predict(feats) == y_true).mean()\n",
    "    print(acc)\n",
    "    acc_dict['svc'].append(acc)\n",
    "\n",
    "    labeled_nodes = torch.tensor(train_ind)  \n",
    "    labels = torch.tensor(train_labels) \n",
    "\n",
    "    epochs = 200\n",
    "    net = GCN(n_feats, 12, 3)\n",
    "    optimizer = torch.optim.Adam(net.parameters(), lr=0.01)\n",
    "    all_logits = []\n",
    "\n",
    "    for epoch in range(epochs + 1):\n",
    "        logits = net(G, feats)\n",
    "        all_logits.append(logits.detach())\n",
    "        logp = F.log_softmax(logits, dim=1)\n",
    "        loss = F.nll_loss(logp[labeled_nodes], labels)\n",
    "        optimizer.zero_grad()\n",
    "        loss.backward()\n",
    "        optimizer.step()\n",
    "\n",
    "        train_acc = (np.array(y_true)[train_ind] == all_logits[-1].argmax(axis=1).numpy()[train_ind]).mean()\n",
    "        test_acc = (np.array(y_true)[test_ind] == all_logits[-1].argmax(axis=1).numpy()[test_ind]).mean()\n",
    "        \n",
    "        if epoch % 20 == 0:\n",
    "            print(\"Epoch: %3d Train Loss: %.4f Train Acc: %.4f Val Acc: %.4f\" % (epoch, round(loss.item(), 4), round(train_acc, 4), round(test_acc, 4)))\n",
    "        \n",
    "        if round(train_acc, 4) == 1:\n",
    "            break\n",
    "\n",
    "    test_acc = (np.array(y_true) == all_logits[-1].argmax(axis=1).numpy()).mean()\n",
    "    print(test_acc)\n",
    "    acc_dict['gcn'].append(test_acc)"
   ]
  },
  {
   "cell_type": "code",
   "execution_count": 54,
   "metadata": {},
   "outputs": [
    {
     "name": "stdout",
     "output_type": "stream",
     "text": [
      "svc 0.6764705882352942 0.47882352941176437\n",
      "knn 0.5 0.33999999999999986\n",
      "rf 0.7647058823529411 0.5908823529411766\n",
      "gcn 0.8529411764705882 0.6770588235294119\n"
     ]
    }
   ],
   "source": [
    "for mod in acc_dict:\n",
    "    print(mod, max(acc_dict[mod]), sum(acc_dict[mod]) / len(acc_dict[mod]))"
   ]
  },
  {
   "cell_type": "code",
   "execution_count": 57,
   "metadata": {
    "scrolled": true
   },
   "outputs": [
    {
     "data": {
      "text/plain": [
       "100"
      ]
     },
     "execution_count": 57,
     "metadata": {},
     "output_type": "execute_result"
    }
   ],
   "source": [
    "len(acc_dict['gcn'])"
   ]
  },
  {
   "cell_type": "code",
   "execution_count": 62,
   "metadata": {
    "collapsed": true
   },
   "outputs": [
    {
     "data": {
      "text/plain": [
       "{'svc': [0.4411764705882353,\n",
       "  0.35294117647058826,\n",
       "  0.5588235294117647,\n",
       "  0.6764705882352942,\n",
       "  0.5588235294117647,\n",
       "  0.5294117647058824,\n",
       "  0.47058823529411764,\n",
       "  0.47058823529411764,\n",
       "  0.4411764705882353,\n",
       "  0.47058823529411764,\n",
       "  0.5882352941176471,\n",
       "  0.4117647058823529,\n",
       "  0.5,\n",
       "  0.5588235294117647,\n",
       "  0.38235294117647056,\n",
       "  0.47058823529411764,\n",
       "  0.5,\n",
       "  0.5,\n",
       "  0.47058823529411764,\n",
       "  0.5294117647058824,\n",
       "  0.6176470588235294,\n",
       "  0.5588235294117647,\n",
       "  0.38235294117647056,\n",
       "  0.47058823529411764,\n",
       "  0.5588235294117647,\n",
       "  0.5588235294117647,\n",
       "  0.6176470588235294,\n",
       "  0.4411764705882353,\n",
       "  0.6470588235294118,\n",
       "  0.47058823529411764,\n",
       "  0.5588235294117647,\n",
       "  0.5294117647058824,\n",
       "  0.5,\n",
       "  0.5882352941176471,\n",
       "  0.38235294117647056,\n",
       "  0.47058823529411764,\n",
       "  0.47058823529411764,\n",
       "  0.4117647058823529,\n",
       "  0.4411764705882353,\n",
       "  0.47058823529411764,\n",
       "  0.47058823529411764,\n",
       "  0.5294117647058824,\n",
       "  0.29411764705882354,\n",
       "  0.47058823529411764,\n",
       "  0.2647058823529412,\n",
       "  0.5588235294117647,\n",
       "  0.6470588235294118,\n",
       "  0.5,\n",
       "  0.2647058823529412,\n",
       "  0.47058823529411764,\n",
       "  0.4411764705882353,\n",
       "  0.47058823529411764,\n",
       "  0.47058823529411764,\n",
       "  0.5882352941176471,\n",
       "  0.4411764705882353,\n",
       "  0.47058823529411764,\n",
       "  0.47058823529411764,\n",
       "  0.5294117647058824,\n",
       "  0.47058823529411764,\n",
       "  0.38235294117647056,\n",
       "  0.47058823529411764,\n",
       "  0.47058823529411764,\n",
       "  0.5294117647058824,\n",
       "  0.38235294117647056,\n",
       "  0.4117647058823529,\n",
       "  0.5,\n",
       "  0.5588235294117647,\n",
       "  0.47058823529411764,\n",
       "  0.47058823529411764,\n",
       "  0.6176470588235294,\n",
       "  0.4117647058823529,\n",
       "  0.47058823529411764,\n",
       "  0.5882352941176471,\n",
       "  0.5294117647058824,\n",
       "  0.35294117647058826,\n",
       "  0.38235294117647056,\n",
       "  0.5588235294117647,\n",
       "  0.4411764705882353,\n",
       "  0.2647058823529412,\n",
       "  0.47058823529411764,\n",
       "  0.5,\n",
       "  0.47058823529411764,\n",
       "  0.47058823529411764,\n",
       "  0.35294117647058826,\n",
       "  0.47058823529411764,\n",
       "  0.4411764705882353,\n",
       "  0.38235294117647056,\n",
       "  0.5588235294117647,\n",
       "  0.6470588235294118,\n",
       "  0.5294117647058824,\n",
       "  0.47058823529411764,\n",
       "  0.47058823529411764,\n",
       "  0.4411764705882353,\n",
       "  0.4411764705882353,\n",
       "  0.5,\n",
       "  0.4411764705882353,\n",
       "  0.5,\n",
       "  0.5,\n",
       "  0.35294117647058826,\n",
       "  0.35294117647058826],\n",
       " 'knn': [0.29411764705882354,\n",
       "  0.47058823529411764,\n",
       "  0.3235294117647059,\n",
       "  0.29411764705882354,\n",
       "  0.4117647058823529,\n",
       "  0.3235294117647059,\n",
       "  0.2647058823529412,\n",
       "  0.2647058823529412,\n",
       "  0.35294117647058826,\n",
       "  0.38235294117647056,\n",
       "  0.3235294117647059,\n",
       "  0.35294117647058826,\n",
       "  0.29411764705882354,\n",
       "  0.29411764705882354,\n",
       "  0.38235294117647056,\n",
       "  0.35294117647058826,\n",
       "  0.47058823529411764,\n",
       "  0.35294117647058826,\n",
       "  0.29411764705882354,\n",
       "  0.35294117647058826,\n",
       "  0.17647058823529413,\n",
       "  0.35294117647058826,\n",
       "  0.38235294117647056,\n",
       "  0.2647058823529412,\n",
       "  0.4117647058823529,\n",
       "  0.35294117647058826,\n",
       "  0.3235294117647059,\n",
       "  0.4411764705882353,\n",
       "  0.3235294117647059,\n",
       "  0.23529411764705882,\n",
       "  0.29411764705882354,\n",
       "  0.4117647058823529,\n",
       "  0.29411764705882354,\n",
       "  0.35294117647058826,\n",
       "  0.4411764705882353,\n",
       "  0.3235294117647059,\n",
       "  0.2647058823529412,\n",
       "  0.4117647058823529,\n",
       "  0.4411764705882353,\n",
       "  0.20588235294117646,\n",
       "  0.20588235294117646,\n",
       "  0.29411764705882354,\n",
       "  0.3235294117647059,\n",
       "  0.20588235294117646,\n",
       "  0.38235294117647056,\n",
       "  0.35294117647058826,\n",
       "  0.23529411764705882,\n",
       "  0.35294117647058826,\n",
       "  0.4117647058823529,\n",
       "  0.29411764705882354,\n",
       "  0.35294117647058826,\n",
       "  0.23529411764705882,\n",
       "  0.35294117647058826,\n",
       "  0.38235294117647056,\n",
       "  0.4411764705882353,\n",
       "  0.3235294117647059,\n",
       "  0.29411764705882354,\n",
       "  0.3235294117647059,\n",
       "  0.4411764705882353,\n",
       "  0.38235294117647056,\n",
       "  0.3235294117647059,\n",
       "  0.38235294117647056,\n",
       "  0.29411764705882354,\n",
       "  0.29411764705882354,\n",
       "  0.4411764705882353,\n",
       "  0.4411764705882353,\n",
       "  0.3235294117647059,\n",
       "  0.3235294117647059,\n",
       "  0.23529411764705882,\n",
       "  0.3235294117647059,\n",
       "  0.38235294117647056,\n",
       "  0.35294117647058826,\n",
       "  0.20588235294117646,\n",
       "  0.4117647058823529,\n",
       "  0.4411764705882353,\n",
       "  0.4117647058823529,\n",
       "  0.38235294117647056,\n",
       "  0.4411764705882353,\n",
       "  0.3235294117647059,\n",
       "  0.20588235294117646,\n",
       "  0.4117647058823529,\n",
       "  0.5,\n",
       "  0.3235294117647059,\n",
       "  0.47058823529411764,\n",
       "  0.23529411764705882,\n",
       "  0.29411764705882354,\n",
       "  0.3235294117647059,\n",
       "  0.29411764705882354,\n",
       "  0.3235294117647059,\n",
       "  0.29411764705882354,\n",
       "  0.35294117647058826,\n",
       "  0.2647058823529412,\n",
       "  0.35294117647058826,\n",
       "  0.2647058823529412,\n",
       "  0.3235294117647059,\n",
       "  0.3235294117647059,\n",
       "  0.29411764705882354,\n",
       "  0.35294117647058826,\n",
       "  0.47058823529411764,\n",
       "  0.4411764705882353],\n",
       " 'rf': [0.7058823529411765,\n",
       "  0.5,\n",
       "  0.6764705882352942,\n",
       "  0.6764705882352942,\n",
       "  0.6176470588235294,\n",
       "  0.5,\n",
       "  0.5882352941176471,\n",
       "  0.6176470588235294,\n",
       "  0.5588235294117647,\n",
       "  0.6176470588235294,\n",
       "  0.6470588235294118,\n",
       "  0.4117647058823529,\n",
       "  0.47058823529411764,\n",
       "  0.6470588235294118,\n",
       "  0.5,\n",
       "  0.35294117647058826,\n",
       "  0.5588235294117647,\n",
       "  0.4411764705882353,\n",
       "  0.5294117647058824,\n",
       "  0.6470588235294118,\n",
       "  0.6470588235294118,\n",
       "  0.7058823529411765,\n",
       "  0.7647058823529411,\n",
       "  0.6764705882352942,\n",
       "  0.5294117647058824,\n",
       "  0.6176470588235294,\n",
       "  0.5588235294117647,\n",
       "  0.5882352941176471,\n",
       "  0.6470588235294118,\n",
       "  0.6764705882352942,\n",
       "  0.5,\n",
       "  0.7058823529411765,\n",
       "  0.5294117647058824,\n",
       "  0.6470588235294118,\n",
       "  0.7352941176470589,\n",
       "  0.6176470588235294,\n",
       "  0.6176470588235294,\n",
       "  0.7352941176470589,\n",
       "  0.5588235294117647,\n",
       "  0.5588235294117647,\n",
       "  0.7058823529411765,\n",
       "  0.5294117647058824,\n",
       "  0.29411764705882354,\n",
       "  0.6176470588235294,\n",
       "  0.38235294117647056,\n",
       "  0.4411764705882353,\n",
       "  0.5882352941176471,\n",
       "  0.47058823529411764,\n",
       "  0.5588235294117647,\n",
       "  0.5,\n",
       "  0.6176470588235294,\n",
       "  0.5588235294117647,\n",
       "  0.47058823529411764,\n",
       "  0.6470588235294118,\n",
       "  0.7058823529411765,\n",
       "  0.5294117647058824,\n",
       "  0.5882352941176471,\n",
       "  0.6764705882352942,\n",
       "  0.5294117647058824,\n",
       "  0.6470588235294118,\n",
       "  0.6470588235294118,\n",
       "  0.4411764705882353,\n",
       "  0.5588235294117647,\n",
       "  0.4117647058823529,\n",
       "  0.7058823529411765,\n",
       "  0.5,\n",
       "  0.6176470588235294,\n",
       "  0.6176470588235294,\n",
       "  0.7058823529411765,\n",
       "  0.6470588235294118,\n",
       "  0.7058823529411765,\n",
       "  0.6764705882352942,\n",
       "  0.6470588235294118,\n",
       "  0.5294117647058824,\n",
       "  0.7058823529411765,\n",
       "  0.6764705882352942,\n",
       "  0.6470588235294118,\n",
       "  0.5588235294117647,\n",
       "  0.5294117647058824,\n",
       "  0.5882352941176471,\n",
       "  0.5588235294117647,\n",
       "  0.6764705882352942,\n",
       "  0.5882352941176471,\n",
       "  0.5,\n",
       "  0.6176470588235294,\n",
       "  0.7352941176470589,\n",
       "  0.5588235294117647,\n",
       "  0.5588235294117647,\n",
       "  0.6470588235294118,\n",
       "  0.5,\n",
       "  0.5882352941176471,\n",
       "  0.7058823529411765,\n",
       "  0.5,\n",
       "  0.6176470588235294,\n",
       "  0.5882352941176471,\n",
       "  0.6176470588235294,\n",
       "  0.6764705882352942,\n",
       "  0.5,\n",
       "  0.6764705882352942,\n",
       "  0.6176470588235294],\n",
       " 'gcn': [0.6470588235294118,\n",
       "  0.7647058823529411,\n",
       "  0.7352941176470589,\n",
       "  0.6470588235294118,\n",
       "  0.7941176470588235,\n",
       "  0.6470588235294118,\n",
       "  0.7058823529411765,\n",
       "  0.6176470588235294,\n",
       "  0.7941176470588235,\n",
       "  0.6176470588235294,\n",
       "  0.6176470588235294,\n",
       "  0.8235294117647058,\n",
       "  0.6470588235294118,\n",
       "  0.47058823529411764,\n",
       "  0.5882352941176471,\n",
       "  0.7352941176470589,\n",
       "  0.7941176470588235,\n",
       "  0.6176470588235294,\n",
       "  0.7352941176470589,\n",
       "  0.6470588235294118,\n",
       "  0.5882352941176471,\n",
       "  0.7058823529411765,\n",
       "  0.7647058823529411,\n",
       "  0.5882352941176471,\n",
       "  0.6470588235294118,\n",
       "  0.7058823529411765,\n",
       "  0.5882352941176471,\n",
       "  0.7058823529411765,\n",
       "  0.6176470588235294,\n",
       "  0.7941176470588235,\n",
       "  0.7058823529411765,\n",
       "  0.7352941176470589,\n",
       "  0.7647058823529411,\n",
       "  0.5588235294117647,\n",
       "  0.7352941176470589,\n",
       "  0.5882352941176471,\n",
       "  0.7941176470588235,\n",
       "  0.7647058823529411,\n",
       "  0.5882352941176471,\n",
       "  0.6764705882352942,\n",
       "  0.4411764705882353,\n",
       "  0.5294117647058824,\n",
       "  0.7352941176470589,\n",
       "  0.5588235294117647,\n",
       "  0.7941176470588235,\n",
       "  0.5,\n",
       "  0.7058823529411765,\n",
       "  0.6176470588235294,\n",
       "  0.7941176470588235,\n",
       "  0.7058823529411765,\n",
       "  0.7352941176470589,\n",
       "  0.6176470588235294,\n",
       "  0.5,\n",
       "  0.5882352941176471,\n",
       "  0.4117647058823529,\n",
       "  0.7352941176470589,\n",
       "  0.7352941176470589,\n",
       "  0.6764705882352942,\n",
       "  0.7647058823529411,\n",
       "  0.8529411764705882,\n",
       "  0.7352941176470589,\n",
       "  0.7058823529411765,\n",
       "  0.7647058823529411,\n",
       "  0.6764705882352942,\n",
       "  0.5,\n",
       "  0.7352941176470589,\n",
       "  0.5,\n",
       "  0.5588235294117647,\n",
       "  0.6176470588235294,\n",
       "  0.7058823529411765,\n",
       "  0.7941176470588235,\n",
       "  0.7941176470588235,\n",
       "  0.5588235294117647,\n",
       "  0.8235294117647058,\n",
       "  0.7647058823529411,\n",
       "  0.8235294117647058,\n",
       "  0.7647058823529411,\n",
       "  0.7058823529411765,\n",
       "  0.47058823529411764,\n",
       "  0.5588235294117647,\n",
       "  0.7647058823529411,\n",
       "  0.7352941176470589,\n",
       "  0.7647058823529411,\n",
       "  0.7352941176470589,\n",
       "  0.7352941176470589,\n",
       "  0.7352941176470589,\n",
       "  0.7647058823529411,\n",
       "  0.6764705882352942,\n",
       "  0.6470588235294118,\n",
       "  0.7352941176470589,\n",
       "  0.7647058823529411,\n",
       "  0.6176470588235294,\n",
       "  0.7058823529411765,\n",
       "  0.38235294117647056,\n",
       "  0.6764705882352942,\n",
       "  0.6764705882352942,\n",
       "  0.6176470588235294,\n",
       "  0.6764705882352942,\n",
       "  0.7058823529411765,\n",
       "  0.7647058823529411]}"
      ]
     },
     "execution_count": 62,
     "metadata": {},
     "output_type": "execute_result"
    }
   ],
   "source": [
    "acc_dict"
   ]
  },
  {
   "cell_type": "markdown",
   "metadata": {},
   "source": [
    "## Results:"
   ]
  },
  {
   "cell_type": "code",
   "execution_count": 63,
   "metadata": {
    "id": "LNDkozLeGMGi"
   },
   "outputs": [],
   "source": [
    "op_df = pd.DataFrame(all_logits[-1][:].numpy())\n",
    "op_list = []\n",
    "\n",
    "for i in range(n_states):\n",
    "    op_list.append((all_logits[-1][i].numpy().argmax()))\n",
    "\n",
    "op_df['preds'] = pd.Series(op_list)\n",
    "op_df['State'] = states"
   ]
  },
  {
   "cell_type": "code",
   "execution_count": 64,
   "metadata": {},
   "outputs": [
    {
     "data": {
      "text/plain": [
       "0.7647058823529411"
      ]
     },
     "execution_count": 64,
     "metadata": {},
     "output_type": "execute_result"
    }
   ],
   "source": [
    "final_df = pd.merge(op_df, case_data, on='State')#.sort_values('label', ascending=False)[['State', 'preds', 'label']]\n",
    "(final_df['preds'] == final_df['label']).mean()"
   ]
  },
  {
   "cell_type": "code",
   "execution_count": 65,
   "metadata": {},
   "outputs": [
    {
     "data": {
      "text/html": [
       "<div>\n",
       "<style scoped>\n",
       "    .dataframe tbody tr th:only-of-type {\n",
       "        vertical-align: middle;\n",
       "    }\n",
       "\n",
       "    .dataframe tbody tr th {\n",
       "        vertical-align: top;\n",
       "    }\n",
       "\n",
       "    .dataframe thead th {\n",
       "        text-align: right;\n",
       "    }\n",
       "</style>\n",
       "<table border=\"1\" class=\"dataframe\">\n",
       "  <thead>\n",
       "    <tr style=\"text-align: right;\">\n",
       "      <th></th>\n",
       "      <th>0</th>\n",
       "      <th>1</th>\n",
       "      <th>2</th>\n",
       "      <th>preds</th>\n",
       "      <th>State</th>\n",
       "      <th>Confirmed</th>\n",
       "      <th>label</th>\n",
       "    </tr>\n",
       "  </thead>\n",
       "  <tbody>\n",
       "    <tr>\n",
       "      <th>0</th>\n",
       "      <td>0.175401</td>\n",
       "      <td>0.189357</td>\n",
       "      <td>-0.097930</td>\n",
       "      <td>1</td>\n",
       "      <td>Ladakh</td>\n",
       "      <td>11709</td>\n",
       "      <td>0</td>\n",
       "    </tr>\n",
       "    <tr>\n",
       "      <th>1</th>\n",
       "      <td>0.254180</td>\n",
       "      <td>0.249244</td>\n",
       "      <td>-0.191417</td>\n",
       "      <td>0</td>\n",
       "      <td>Jammu and Kashmir</td>\n",
       "      <td>145166</td>\n",
       "      <td>1</td>\n",
       "    </tr>\n",
       "    <tr>\n",
       "      <th>2</th>\n",
       "      <td>-3.214385</td>\n",
       "      <td>2.096022</td>\n",
       "      <td>2.045867</td>\n",
       "      <td>1</td>\n",
       "      <td>Himachal Pradesh</td>\n",
       "      <td>75587</td>\n",
       "      <td>1</td>\n",
       "    </tr>\n",
       "    <tr>\n",
       "      <th>3</th>\n",
       "      <td>-2.180093</td>\n",
       "      <td>1.551304</td>\n",
       "      <td>1.346453</td>\n",
       "      <td>1</td>\n",
       "      <td>Punjab</td>\n",
       "      <td>290707</td>\n",
       "      <td>1</td>\n",
       "    </tr>\n",
       "    <tr>\n",
       "      <th>4</th>\n",
       "      <td>0.102723</td>\n",
       "      <td>0.230097</td>\n",
       "      <td>-0.002535</td>\n",
       "      <td>1</td>\n",
       "      <td>Uttarakhand</td>\n",
       "      <td>121403</td>\n",
       "      <td>1</td>\n",
       "    </tr>\n",
       "    <tr>\n",
       "      <th>5</th>\n",
       "      <td>-2.842018</td>\n",
       "      <td>1.883259</td>\n",
       "      <td>1.749768</td>\n",
       "      <td>1</td>\n",
       "      <td>Haryana</td>\n",
       "      <td>342077</td>\n",
       "      <td>1</td>\n",
       "    </tr>\n",
       "    <tr>\n",
       "      <th>6</th>\n",
       "      <td>-4.505276</td>\n",
       "      <td>2.568283</td>\n",
       "      <td>3.294712</td>\n",
       "      <td>2</td>\n",
       "      <td>Rajasthan</td>\n",
       "      <td>404355</td>\n",
       "      <td>2</td>\n",
       "    </tr>\n",
       "    <tr>\n",
       "      <th>7</th>\n",
       "      <td>-9.038009</td>\n",
       "      <td>5.013725</td>\n",
       "      <td>5.918803</td>\n",
       "      <td>2</td>\n",
       "      <td>Uttar Pradesh</td>\n",
       "      <td>821054</td>\n",
       "      <td>2</td>\n",
       "    </tr>\n",
       "    <tr>\n",
       "      <th>8</th>\n",
       "      <td>-1.199922</td>\n",
       "      <td>0.912139</td>\n",
       "      <td>0.846226</td>\n",
       "      <td>1</td>\n",
       "      <td>Bihar</td>\n",
       "      <td>307557</td>\n",
       "      <td>1</td>\n",
       "    </tr>\n",
       "    <tr>\n",
       "      <th>9</th>\n",
       "      <td>-6.010197</td>\n",
       "      <td>3.504621</td>\n",
       "      <td>3.643728</td>\n",
       "      <td>2</td>\n",
       "      <td>Gujarat</td>\n",
       "      <td>384688</td>\n",
       "      <td>2</td>\n",
       "    </tr>\n",
       "    <tr>\n",
       "      <th>10</th>\n",
       "      <td>-3.424666</td>\n",
       "      <td>2.119102</td>\n",
       "      <td>2.140245</td>\n",
       "      <td>2</td>\n",
       "      <td>Madhya Pradesh</td>\n",
       "      <td>384563</td>\n",
       "      <td>2</td>\n",
       "    </tr>\n",
       "    <tr>\n",
       "      <th>11</th>\n",
       "      <td>-5.245145</td>\n",
       "      <td>3.105180</td>\n",
       "      <td>3.239373</td>\n",
       "      <td>2</td>\n",
       "      <td>Chhattisgarh</td>\n",
       "      <td>516412</td>\n",
       "      <td>2</td>\n",
       "    </tr>\n",
       "    <tr>\n",
       "      <th>12</th>\n",
       "      <td>-2.938612</td>\n",
       "      <td>1.877280</td>\n",
       "      <td>1.841006</td>\n",
       "      <td>1</td>\n",
       "      <td>Jharkhand</td>\n",
       "      <td>155115</td>\n",
       "      <td>1</td>\n",
       "    </tr>\n",
       "    <tr>\n",
       "      <th>13</th>\n",
       "      <td>-3.931998</td>\n",
       "      <td>2.446497</td>\n",
       "      <td>2.372046</td>\n",
       "      <td>1</td>\n",
       "      <td>West Bengal</td>\n",
       "      <td>651508</td>\n",
       "      <td>2</td>\n",
       "    </tr>\n",
       "    <tr>\n",
       "      <th>14</th>\n",
       "      <td>-1.649797</td>\n",
       "      <td>1.170480</td>\n",
       "      <td>0.955994</td>\n",
       "      <td>1</td>\n",
       "      <td>Dadra and Nagar Haveli and Daman and Diu</td>\n",
       "      <td>4568</td>\n",
       "      <td>0</td>\n",
       "    </tr>\n",
       "    <tr>\n",
       "      <th>15</th>\n",
       "      <td>-11.449964</td>\n",
       "      <td>6.349090</td>\n",
       "      <td>7.132082</td>\n",
       "      <td>2</td>\n",
       "      <td>Maharashtra</td>\n",
       "      <td>3703584</td>\n",
       "      <td>2</td>\n",
       "    </tr>\n",
       "    <tr>\n",
       "      <th>16</th>\n",
       "      <td>-3.784960</td>\n",
       "      <td>2.343147</td>\n",
       "      <td>2.237766</td>\n",
       "      <td>1</td>\n",
       "      <td>Odisha</td>\n",
       "      <td>364594</td>\n",
       "      <td>1</td>\n",
       "    </tr>\n",
       "    <tr>\n",
       "      <th>17</th>\n",
       "      <td>-3.497541</td>\n",
       "      <td>2.125215</td>\n",
       "      <td>2.140234</td>\n",
       "      <td>2</td>\n",
       "      <td>Goa</td>\n",
       "      <td>66261</td>\n",
       "      <td>1</td>\n",
       "    </tr>\n",
       "    <tr>\n",
       "      <th>18</th>\n",
       "      <td>-8.758067</td>\n",
       "      <td>4.929138</td>\n",
       "      <td>5.465836</td>\n",
       "      <td>2</td>\n",
       "      <td>Karnataka</td>\n",
       "      <td>1141998</td>\n",
       "      <td>2</td>\n",
       "    </tr>\n",
       "    <tr>\n",
       "      <th>19</th>\n",
       "      <td>-5.524448</td>\n",
       "      <td>3.226292</td>\n",
       "      <td>3.362906</td>\n",
       "      <td>2</td>\n",
       "      <td>Telangana</td>\n",
       "      <td>346331</td>\n",
       "      <td>1</td>\n",
       "    </tr>\n",
       "    <tr>\n",
       "      <th>20</th>\n",
       "      <td>-4.783708</td>\n",
       "      <td>2.833290</td>\n",
       "      <td>2.956008</td>\n",
       "      <td>2</td>\n",
       "      <td>Andhra Pradesh</td>\n",
       "      <td>955455</td>\n",
       "      <td>2</td>\n",
       "    </tr>\n",
       "    <tr>\n",
       "      <th>21</th>\n",
       "      <td>-3.395771</td>\n",
       "      <td>1.991300</td>\n",
       "      <td>2.278099</td>\n",
       "      <td>2</td>\n",
       "      <td>Kerala</td>\n",
       "      <td>1221168</td>\n",
       "      <td>2</td>\n",
       "    </tr>\n",
       "    <tr>\n",
       "      <th>22</th>\n",
       "      <td>-18.403261</td>\n",
       "      <td>9.809440</td>\n",
       "      <td>11.908849</td>\n",
       "      <td>2</td>\n",
       "      <td>Tamil Nadu</td>\n",
       "      <td>971384</td>\n",
       "      <td>2</td>\n",
       "    </tr>\n",
       "    <tr>\n",
       "      <th>23</th>\n",
       "      <td>0.574845</td>\n",
       "      <td>-0.106578</td>\n",
       "      <td>-0.250134</td>\n",
       "      <td>0</td>\n",
       "      <td>Sikkim</td>\n",
       "      <td>6519</td>\n",
       "      <td>0</td>\n",
       "    </tr>\n",
       "    <tr>\n",
       "      <th>24</th>\n",
       "      <td>0.581558</td>\n",
       "      <td>-0.021289</td>\n",
       "      <td>-0.321801</td>\n",
       "      <td>0</td>\n",
       "      <td>Arunachal Pradesh</td>\n",
       "      <td>16948</td>\n",
       "      <td>0</td>\n",
       "    </tr>\n",
       "    <tr>\n",
       "      <th>25</th>\n",
       "      <td>0.469566</td>\n",
       "      <td>0.240934</td>\n",
       "      <td>-0.390382</td>\n",
       "      <td>0</td>\n",
       "      <td>Assam</td>\n",
       "      <td>222940</td>\n",
       "      <td>1</td>\n",
       "    </tr>\n",
       "    <tr>\n",
       "      <th>26</th>\n",
       "      <td>0.590084</td>\n",
       "      <td>-0.095425</td>\n",
       "      <td>-0.274868</td>\n",
       "      <td>0</td>\n",
       "      <td>Meghalaya</td>\n",
       "      <td>14798</td>\n",
       "      <td>0</td>\n",
       "    </tr>\n",
       "    <tr>\n",
       "      <th>27</th>\n",
       "      <td>0.562365</td>\n",
       "      <td>0.040021</td>\n",
       "      <td>-0.345179</td>\n",
       "      <td>0</td>\n",
       "      <td>Nagaland</td>\n",
       "      <td>12504</td>\n",
       "      <td>0</td>\n",
       "    </tr>\n",
       "    <tr>\n",
       "      <th>28</th>\n",
       "      <td>0.589895</td>\n",
       "      <td>-0.041863</td>\n",
       "      <td>-0.317633</td>\n",
       "      <td>0</td>\n",
       "      <td>Tripura</td>\n",
       "      <td>33930</td>\n",
       "      <td>0</td>\n",
       "    </tr>\n",
       "    <tr>\n",
       "      <th>29</th>\n",
       "      <td>0.557598</td>\n",
       "      <td>0.046617</td>\n",
       "      <td>-0.344150</td>\n",
       "      <td>0</td>\n",
       "      <td>Mizoram</td>\n",
       "      <td>4809</td>\n",
       "      <td>0</td>\n",
       "    </tr>\n",
       "    <tr>\n",
       "      <th>30</th>\n",
       "      <td>0.573692</td>\n",
       "      <td>0.024503</td>\n",
       "      <td>-0.346524</td>\n",
       "      <td>0</td>\n",
       "      <td>Manipur</td>\n",
       "      <td>29610</td>\n",
       "      <td>0</td>\n",
       "    </tr>\n",
       "    <tr>\n",
       "      <th>31</th>\n",
       "      <td>0.579548</td>\n",
       "      <td>-0.121741</td>\n",
       "      <td>-0.240056</td>\n",
       "      <td>0</td>\n",
       "      <td>Puducherry</td>\n",
       "      <td>47108</td>\n",
       "      <td>0</td>\n",
       "    </tr>\n",
       "    <tr>\n",
       "      <th>32</th>\n",
       "      <td>-1.289900</td>\n",
       "      <td>0.831759</td>\n",
       "      <td>1.278235</td>\n",
       "      <td>2</td>\n",
       "      <td>Chandigarh</td>\n",
       "      <td>32878</td>\n",
       "      <td>0</td>\n",
       "    </tr>\n",
       "    <tr>\n",
       "      <th>33</th>\n",
       "      <td>-1.562801</td>\n",
       "      <td>0.886646</td>\n",
       "      <td>1.635690</td>\n",
       "      <td>2</td>\n",
       "      <td>NCT of Delhi</td>\n",
       "      <td>803623</td>\n",
       "      <td>2</td>\n",
       "    </tr>\n",
       "  </tbody>\n",
       "</table>\n",
       "</div>"
      ],
      "text/plain": [
       "            0         1          2  preds  \\\n",
       "0    0.175401  0.189357  -0.097930      1   \n",
       "1    0.254180  0.249244  -0.191417      0   \n",
       "2   -3.214385  2.096022   2.045867      1   \n",
       "3   -2.180093  1.551304   1.346453      1   \n",
       "4    0.102723  0.230097  -0.002535      1   \n",
       "5   -2.842018  1.883259   1.749768      1   \n",
       "6   -4.505276  2.568283   3.294712      2   \n",
       "7   -9.038009  5.013725   5.918803      2   \n",
       "8   -1.199922  0.912139   0.846226      1   \n",
       "9   -6.010197  3.504621   3.643728      2   \n",
       "10  -3.424666  2.119102   2.140245      2   \n",
       "11  -5.245145  3.105180   3.239373      2   \n",
       "12  -2.938612  1.877280   1.841006      1   \n",
       "13  -3.931998  2.446497   2.372046      1   \n",
       "14  -1.649797  1.170480   0.955994      1   \n",
       "15 -11.449964  6.349090   7.132082      2   \n",
       "16  -3.784960  2.343147   2.237766      1   \n",
       "17  -3.497541  2.125215   2.140234      2   \n",
       "18  -8.758067  4.929138   5.465836      2   \n",
       "19  -5.524448  3.226292   3.362906      2   \n",
       "20  -4.783708  2.833290   2.956008      2   \n",
       "21  -3.395771  1.991300   2.278099      2   \n",
       "22 -18.403261  9.809440  11.908849      2   \n",
       "23   0.574845 -0.106578  -0.250134      0   \n",
       "24   0.581558 -0.021289  -0.321801      0   \n",
       "25   0.469566  0.240934  -0.390382      0   \n",
       "26   0.590084 -0.095425  -0.274868      0   \n",
       "27   0.562365  0.040021  -0.345179      0   \n",
       "28   0.589895 -0.041863  -0.317633      0   \n",
       "29   0.557598  0.046617  -0.344150      0   \n",
       "30   0.573692  0.024503  -0.346524      0   \n",
       "31   0.579548 -0.121741  -0.240056      0   \n",
       "32  -1.289900  0.831759   1.278235      2   \n",
       "33  -1.562801  0.886646   1.635690      2   \n",
       "\n",
       "                                       State  Confirmed  label  \n",
       "0                                     Ladakh      11709      0  \n",
       "1                          Jammu and Kashmir     145166      1  \n",
       "2                           Himachal Pradesh      75587      1  \n",
       "3                                     Punjab     290707      1  \n",
       "4                                Uttarakhand     121403      1  \n",
       "5                                    Haryana     342077      1  \n",
       "6                                  Rajasthan     404355      2  \n",
       "7                              Uttar Pradesh     821054      2  \n",
       "8                                      Bihar     307557      1  \n",
       "9                                    Gujarat     384688      2  \n",
       "10                            Madhya Pradesh     384563      2  \n",
       "11                              Chhattisgarh     516412      2  \n",
       "12                                 Jharkhand     155115      1  \n",
       "13                               West Bengal     651508      2  \n",
       "14  Dadra and Nagar Haveli and Daman and Diu       4568      0  \n",
       "15                               Maharashtra    3703584      2  \n",
       "16                                    Odisha     364594      1  \n",
       "17                                       Goa      66261      1  \n",
       "18                                 Karnataka    1141998      2  \n",
       "19                                 Telangana     346331      1  \n",
       "20                            Andhra Pradesh     955455      2  \n",
       "21                                    Kerala    1221168      2  \n",
       "22                                Tamil Nadu     971384      2  \n",
       "23                                    Sikkim       6519      0  \n",
       "24                         Arunachal Pradesh      16948      0  \n",
       "25                                     Assam     222940      1  \n",
       "26                                 Meghalaya      14798      0  \n",
       "27                                  Nagaland      12504      0  \n",
       "28                                   Tripura      33930      0  \n",
       "29                                   Mizoram       4809      0  \n",
       "30                                   Manipur      29610      0  \n",
       "31                                Puducherry      47108      0  \n",
       "32                                Chandigarh      32878      0  \n",
       "33                              NCT of Delhi     803623      2  "
      ]
     },
     "execution_count": 65,
     "metadata": {},
     "output_type": "execute_result"
    }
   ],
   "source": [
    "final_df"
   ]
  },
  {
   "cell_type": "code",
   "execution_count": 67,
   "metadata": {},
   "outputs": [
    {
     "data": {
      "text/plain": [
       "2    14\n",
       "1    10\n",
       "0    10\n",
       "Name: preds, dtype: int64"
      ]
     },
     "execution_count": 67,
     "metadata": {},
     "output_type": "execute_result"
    }
   ],
   "source": [
    "final_df['preds'].value_counts()"
   ]
  },
  {
   "cell_type": "code",
   "execution_count": 68,
   "metadata": {},
   "outputs": [
    {
     "data": {
      "text/plain": [
       "2    12\n",
       "1    11\n",
       "0    11\n",
       "Name: label, dtype: int64"
      ]
     },
     "execution_count": 68,
     "metadata": {},
     "output_type": "execute_result"
    }
   ],
   "source": [
    "final_df['label'].value_counts()"
   ]
  },
  {
   "cell_type": "code",
   "execution_count": 69,
   "metadata": {},
   "outputs": [
    {
     "data": {
      "text/html": [
       "<div>\n",
       "<style scoped>\n",
       "    .dataframe tbody tr th:only-of-type {\n",
       "        vertical-align: middle;\n",
       "    }\n",
       "\n",
       "    .dataframe tbody tr th {\n",
       "        vertical-align: top;\n",
       "    }\n",
       "\n",
       "    .dataframe thead th {\n",
       "        text-align: right;\n",
       "    }\n",
       "</style>\n",
       "<table border=\"1\" class=\"dataframe\">\n",
       "  <thead>\n",
       "    <tr style=\"text-align: right;\">\n",
       "      <th></th>\n",
       "      <th>0</th>\n",
       "      <th>1</th>\n",
       "      <th>2</th>\n",
       "      <th>preds</th>\n",
       "      <th>State</th>\n",
       "      <th>Confirmed</th>\n",
       "      <th>label</th>\n",
       "    </tr>\n",
       "  </thead>\n",
       "  <tbody>\n",
       "    <tr>\n",
       "      <th>0</th>\n",
       "      <td>0.175401</td>\n",
       "      <td>0.189357</td>\n",
       "      <td>-0.097930</td>\n",
       "      <td>1</td>\n",
       "      <td>Ladakh</td>\n",
       "      <td>11709</td>\n",
       "      <td>0</td>\n",
       "    </tr>\n",
       "    <tr>\n",
       "      <th>1</th>\n",
       "      <td>0.254180</td>\n",
       "      <td>0.249244</td>\n",
       "      <td>-0.191417</td>\n",
       "      <td>0</td>\n",
       "      <td>Jammu and Kashmir</td>\n",
       "      <td>145166</td>\n",
       "      <td>1</td>\n",
       "    </tr>\n",
       "    <tr>\n",
       "      <th>13</th>\n",
       "      <td>-3.931998</td>\n",
       "      <td>2.446497</td>\n",
       "      <td>2.372046</td>\n",
       "      <td>1</td>\n",
       "      <td>West Bengal</td>\n",
       "      <td>651508</td>\n",
       "      <td>2</td>\n",
       "    </tr>\n",
       "    <tr>\n",
       "      <th>14</th>\n",
       "      <td>-1.649797</td>\n",
       "      <td>1.170480</td>\n",
       "      <td>0.955994</td>\n",
       "      <td>1</td>\n",
       "      <td>Dadra and Nagar Haveli and Daman and Diu</td>\n",
       "      <td>4568</td>\n",
       "      <td>0</td>\n",
       "    </tr>\n",
       "    <tr>\n",
       "      <th>17</th>\n",
       "      <td>-3.497541</td>\n",
       "      <td>2.125215</td>\n",
       "      <td>2.140234</td>\n",
       "      <td>2</td>\n",
       "      <td>Goa</td>\n",
       "      <td>66261</td>\n",
       "      <td>1</td>\n",
       "    </tr>\n",
       "    <tr>\n",
       "      <th>19</th>\n",
       "      <td>-5.524448</td>\n",
       "      <td>3.226292</td>\n",
       "      <td>3.362906</td>\n",
       "      <td>2</td>\n",
       "      <td>Telangana</td>\n",
       "      <td>346331</td>\n",
       "      <td>1</td>\n",
       "    </tr>\n",
       "    <tr>\n",
       "      <th>25</th>\n",
       "      <td>0.469566</td>\n",
       "      <td>0.240934</td>\n",
       "      <td>-0.390382</td>\n",
       "      <td>0</td>\n",
       "      <td>Assam</td>\n",
       "      <td>222940</td>\n",
       "      <td>1</td>\n",
       "    </tr>\n",
       "    <tr>\n",
       "      <th>32</th>\n",
       "      <td>-1.289900</td>\n",
       "      <td>0.831759</td>\n",
       "      <td>1.278235</td>\n",
       "      <td>2</td>\n",
       "      <td>Chandigarh</td>\n",
       "      <td>32878</td>\n",
       "      <td>0</td>\n",
       "    </tr>\n",
       "  </tbody>\n",
       "</table>\n",
       "</div>"
      ],
      "text/plain": [
       "           0         1         2  preds  \\\n",
       "0   0.175401  0.189357 -0.097930      1   \n",
       "1   0.254180  0.249244 -0.191417      0   \n",
       "13 -3.931998  2.446497  2.372046      1   \n",
       "14 -1.649797  1.170480  0.955994      1   \n",
       "17 -3.497541  2.125215  2.140234      2   \n",
       "19 -5.524448  3.226292  3.362906      2   \n",
       "25  0.469566  0.240934 -0.390382      0   \n",
       "32 -1.289900  0.831759  1.278235      2   \n",
       "\n",
       "                                       State  Confirmed  label  \n",
       "0                                     Ladakh      11709      0  \n",
       "1                          Jammu and Kashmir     145166      1  \n",
       "13                               West Bengal     651508      2  \n",
       "14  Dadra and Nagar Haveli and Daman and Diu       4568      0  \n",
       "17                                       Goa      66261      1  \n",
       "19                                 Telangana     346331      1  \n",
       "25                                     Assam     222940      1  \n",
       "32                                Chandigarh      32878      0  "
      ]
     },
     "execution_count": 69,
     "metadata": {},
     "output_type": "execute_result"
    }
   ],
   "source": [
    "final_df[final_df['preds'] != final_df['label']]"
   ]
  },
  {
   "cell_type": "code",
   "execution_count": 394,
   "metadata": {
    "scrolled": false
   },
   "outputs": [],
   "source": [
    "#!pip install chart_studio\n",
    "import plotly.express as px\n",
    "import chart_studio.plotly as py"
   ]
  },
  {
   "cell_type": "code",
   "execution_count": 395,
   "metadata": {},
   "outputs": [],
   "source": [
    "st = '''Andhra Pradesh\t15.91°N\t79.74°E\n",
    "Arunachal Pradesh\t28.21°N\t94.72°E\n",
    "Assam\t26.20°N\t92.93°E\n",
    "Bihar\t25.09°N\t85.31°E\n",
    "Chhattisgarh\t21.27°N\t81.86°E\n",
    "Goa\t15.29°N\t74.12°E\n",
    "Gujarat\t22.25°N\t71.19°E\n",
    "Haryana\t29.05°N\t76.08°E\n",
    "Himachal Pradesh\t31.10°N\t77.17°E\n",
    "Jammu and Kashmir\t33.77 °N\t76.57°E\n",
    "Jharkhand\t23.61°N\t85.27°E\n",
    "Karnataka\t15.31°N\t75.71°E\n",
    "Kerala\t10.85°N\t76.27°E\n",
    "Madhya Pradesh\t22.97°N\t78.65°E\n",
    "Maharashtra\t19.75°N\t75.71°E\n",
    "Manipur\t24.66°N\t93.90°E\n",
    "Meghalaya\t25.46°N\t91.36°E\n",
    "Mizoram\t23.16°N\t92.93°E\n",
    "Nagaland\t26.15°N\t94.56°E\n",
    "Odisha\t20.95°N\t85.09°E\n",
    "Punjab\t31.14°N\t75.34°E\n",
    "Rajasthan\t27.02°N\t74.21°E\n",
    "Sikkim\t27.53°N\t88.51°E\n",
    "Tamil Nadu\t11.12°N\t78.65°E\n",
    "Tripura\t23.94°N\t91.98°E\n",
    "Uttarakhand\t30.06°N\t79.01°E\n",
    "Uttar Pradesh\t26.84°N\t80.94°E\n",
    "West Bengal\t22.98°N\t87.85°E'''"
   ]
  },
  {
   "cell_type": "code",
   "execution_count": 396,
   "metadata": {},
   "outputs": [],
   "source": [
    "arr = st.split('\\n')\n",
    "vals = []\n",
    "\n",
    "for i, ar in enumerate(arr):\n",
    "    d = arr[i].split('\\t')\n",
    "    vals.append([d[0], float(d[1][:-2].strip()), float(d[2][:-2].strip())])\n",
    "    \n",
    "vals.append(['Dadra and Nagar Haveli and Daman and Diu', 20.26657819, 73.0166178])\n",
    "vals.append(['Ladakh', 34.2268, 77.5619])\n",
    "vals.append(['Puducherry', 11.9416, 79.8083])\n",
    "vals.append(['NCT of Delhi',28.7041, 77.1025])\n",
    "vals.append(['Chandigarh', 30.7333, 76.7794])\n",
    "vals.append(['Telangana', 18.1124, 79.0193])"
   ]
  },
  {
   "cell_type": "code",
   "execution_count": 397,
   "metadata": {},
   "outputs": [],
   "source": [
    "res = []\n",
    "for i in states:\n",
    "    f = False\n",
    "    for st in vals:\n",
    "        if st[0] == i:\n",
    "            res.append(st)\n",
    "            f = True\n",
    "            break\n",
    "    if not f:\n",
    "        print(i)"
   ]
  },
  {
   "cell_type": "code",
   "execution_count": 398,
   "metadata": {},
   "outputs": [],
   "source": [
    "final_df['lat'] = [val[1] for val in res]\n",
    "final_df['long'] = [val[2] for val in res]"
   ]
  },
  {
   "cell_type": "code",
   "execution_count": 399,
   "metadata": {
    "scrolled": true
   },
   "outputs": [
    {
     "data": {
      "application/vnd.plotly.v1+json": {
       "config": {
        "plotlyServerURL": "https://plot.ly"
       },
       "data": [
        {
         "geo": "geo",
         "hovertemplate": "size=%{marker.size}<br>State=%{text}<br>lat=%{lat}<br>long=%{lon}<br>label=%{marker.color}<extra></extra>",
         "lat": [
          34.2268,
          33.77,
          31.1,
          31.14,
          30.06,
          29.05,
          27.02,
          26.84,
          25.09,
          22.25,
          22.97,
          21.27,
          23.61,
          22.98,
          20.26657819,
          19.75,
          20.95,
          15.29,
          15.31,
          18.1124,
          15.91,
          10.85,
          11.12,
          27.53,
          28.21,
          26.2,
          25.46,
          26.15,
          23.94,
          23.16,
          24.66,
          11.9416,
          30.7333,
          28.7041
         ],
         "legendgroup": "",
         "lon": [
          77.5619,
          76.57,
          77.17,
          75.34,
          79.01,
          76.08,
          74.21,
          80.94,
          85.31,
          71.19,
          78.65,
          81.86,
          85.27,
          87.85,
          73.0166178,
          75.71,
          85.09,
          74.12,
          75.71,
          79.0193,
          79.74,
          76.27,
          78.65,
          88.51,
          94.72,
          92.93,
          91.36,
          94.56,
          91.98,
          92.93,
          93.9,
          79.8083,
          76.7794,
          77.1025
         ],
         "marker": {
          "color": [
           0,
           1,
           1,
           1,
           1,
           1,
           2,
           2,
           1,
           2,
           2,
           2,
           1,
           2,
           0,
           2,
           1,
           1,
           2,
           1,
           2,
           2,
           2,
           0,
           0,
           1,
           0,
           0,
           0,
           0,
           0,
           0,
           0,
           2
          ],
          "coloraxis": "coloraxis",
          "size": [
           1,
           2,
           2,
           2,
           2,
           2,
           3,
           3,
           2,
           3,
           3,
           3,
           2,
           3,
           1,
           3,
           2,
           2,
           3,
           2,
           3,
           3,
           3,
           1,
           1,
           2,
           1,
           1,
           1,
           1,
           1,
           1,
           1,
           3
          ],
          "sizemode": "area",
          "sizeref": 0.0075
         },
         "name": "",
         "showlegend": false,
         "text": [
          "Ladakh",
          "Jammu and Kashmir",
          "Himachal Pradesh",
          "Punjab",
          "Uttarakhand",
          "Haryana",
          "Rajasthan",
          "Uttar Pradesh",
          "Bihar",
          "Gujarat",
          "Madhya Pradesh",
          "Chhattisgarh",
          "Jharkhand",
          "West Bengal",
          "Dadra and Nagar Haveli and Daman and Diu",
          "Maharashtra",
          "Odisha",
          "Goa",
          "Karnataka",
          "Telangana",
          "Andhra Pradesh",
          "Kerala",
          "Tamil Nadu",
          "Sikkim",
          "Arunachal Pradesh",
          "Assam",
          "Meghalaya",
          "Nagaland",
          "Tripura",
          "Mizoram",
          "Manipur",
          "Puducherry",
          "Chandigarh",
          "NCT of Delhi"
         ],
         "type": "scattergeo"
        }
       ],
       "layout": {
        "coloraxis": {
         "colorbar": {
          "title": {
           "text": "label"
          }
         },
         "colorscale": [
          [
           0,
           "#0d0887"
          ],
          [
           0.1111111111111111,
           "#46039f"
          ],
          [
           0.2222222222222222,
           "#7201a8"
          ],
          [
           0.3333333333333333,
           "#9c179e"
          ],
          [
           0.4444444444444444,
           "#bd3786"
          ],
          [
           0.5555555555555556,
           "#d8576b"
          ],
          [
           0.6666666666666666,
           "#ed7953"
          ],
          [
           0.7777777777777778,
           "#fb9f3a"
          ],
          [
           0.8888888888888888,
           "#fdca26"
          ],
          [
           1,
           "#f0f921"
          ]
         ]
        },
        "geo": {
         "center": {
          "lat": 19,
          "lon": -99
         },
         "domain": {
          "x": [
           0,
           1
          ],
          "y": [
           0,
           1
          ]
         },
         "projection": {
          "type": "natural earth"
         },
         "scope": "asia"
        },
        "legend": {
         "itemsizing": "constant",
         "tracegroupgap": 0
        },
        "margin": {
         "t": 60
        },
        "template": {
         "data": {
          "bar": [
           {
            "error_x": {
             "color": "#2a3f5f"
            },
            "error_y": {
             "color": "#2a3f5f"
            },
            "marker": {
             "line": {
              "color": "#E5ECF6",
              "width": 0.5
             }
            },
            "type": "bar"
           }
          ],
          "barpolar": [
           {
            "marker": {
             "line": {
              "color": "#E5ECF6",
              "width": 0.5
             }
            },
            "type": "barpolar"
           }
          ],
          "carpet": [
           {
            "aaxis": {
             "endlinecolor": "#2a3f5f",
             "gridcolor": "white",
             "linecolor": "white",
             "minorgridcolor": "white",
             "startlinecolor": "#2a3f5f"
            },
            "baxis": {
             "endlinecolor": "#2a3f5f",
             "gridcolor": "white",
             "linecolor": "white",
             "minorgridcolor": "white",
             "startlinecolor": "#2a3f5f"
            },
            "type": "carpet"
           }
          ],
          "choropleth": [
           {
            "colorbar": {
             "outlinewidth": 0,
             "ticks": ""
            },
            "type": "choropleth"
           }
          ],
          "contour": [
           {
            "colorbar": {
             "outlinewidth": 0,
             "ticks": ""
            },
            "colorscale": [
             [
              0,
              "#0d0887"
             ],
             [
              0.1111111111111111,
              "#46039f"
             ],
             [
              0.2222222222222222,
              "#7201a8"
             ],
             [
              0.3333333333333333,
              "#9c179e"
             ],
             [
              0.4444444444444444,
              "#bd3786"
             ],
             [
              0.5555555555555556,
              "#d8576b"
             ],
             [
              0.6666666666666666,
              "#ed7953"
             ],
             [
              0.7777777777777778,
              "#fb9f3a"
             ],
             [
              0.8888888888888888,
              "#fdca26"
             ],
             [
              1,
              "#f0f921"
             ]
            ],
            "type": "contour"
           }
          ],
          "contourcarpet": [
           {
            "colorbar": {
             "outlinewidth": 0,
             "ticks": ""
            },
            "type": "contourcarpet"
           }
          ],
          "heatmap": [
           {
            "colorbar": {
             "outlinewidth": 0,
             "ticks": ""
            },
            "colorscale": [
             [
              0,
              "#0d0887"
             ],
             [
              0.1111111111111111,
              "#46039f"
             ],
             [
              0.2222222222222222,
              "#7201a8"
             ],
             [
              0.3333333333333333,
              "#9c179e"
             ],
             [
              0.4444444444444444,
              "#bd3786"
             ],
             [
              0.5555555555555556,
              "#d8576b"
             ],
             [
              0.6666666666666666,
              "#ed7953"
             ],
             [
              0.7777777777777778,
              "#fb9f3a"
             ],
             [
              0.8888888888888888,
              "#fdca26"
             ],
             [
              1,
              "#f0f921"
             ]
            ],
            "type": "heatmap"
           }
          ],
          "heatmapgl": [
           {
            "colorbar": {
             "outlinewidth": 0,
             "ticks": ""
            },
            "colorscale": [
             [
              0,
              "#0d0887"
             ],
             [
              0.1111111111111111,
              "#46039f"
             ],
             [
              0.2222222222222222,
              "#7201a8"
             ],
             [
              0.3333333333333333,
              "#9c179e"
             ],
             [
              0.4444444444444444,
              "#bd3786"
             ],
             [
              0.5555555555555556,
              "#d8576b"
             ],
             [
              0.6666666666666666,
              "#ed7953"
             ],
             [
              0.7777777777777778,
              "#fb9f3a"
             ],
             [
              0.8888888888888888,
              "#fdca26"
             ],
             [
              1,
              "#f0f921"
             ]
            ],
            "type": "heatmapgl"
           }
          ],
          "histogram": [
           {
            "marker": {
             "colorbar": {
              "outlinewidth": 0,
              "ticks": ""
             }
            },
            "type": "histogram"
           }
          ],
          "histogram2d": [
           {
            "colorbar": {
             "outlinewidth": 0,
             "ticks": ""
            },
            "colorscale": [
             [
              0,
              "#0d0887"
             ],
             [
              0.1111111111111111,
              "#46039f"
             ],
             [
              0.2222222222222222,
              "#7201a8"
             ],
             [
              0.3333333333333333,
              "#9c179e"
             ],
             [
              0.4444444444444444,
              "#bd3786"
             ],
             [
              0.5555555555555556,
              "#d8576b"
             ],
             [
              0.6666666666666666,
              "#ed7953"
             ],
             [
              0.7777777777777778,
              "#fb9f3a"
             ],
             [
              0.8888888888888888,
              "#fdca26"
             ],
             [
              1,
              "#f0f921"
             ]
            ],
            "type": "histogram2d"
           }
          ],
          "histogram2dcontour": [
           {
            "colorbar": {
             "outlinewidth": 0,
             "ticks": ""
            },
            "colorscale": [
             [
              0,
              "#0d0887"
             ],
             [
              0.1111111111111111,
              "#46039f"
             ],
             [
              0.2222222222222222,
              "#7201a8"
             ],
             [
              0.3333333333333333,
              "#9c179e"
             ],
             [
              0.4444444444444444,
              "#bd3786"
             ],
             [
              0.5555555555555556,
              "#d8576b"
             ],
             [
              0.6666666666666666,
              "#ed7953"
             ],
             [
              0.7777777777777778,
              "#fb9f3a"
             ],
             [
              0.8888888888888888,
              "#fdca26"
             ],
             [
              1,
              "#f0f921"
             ]
            ],
            "type": "histogram2dcontour"
           }
          ],
          "mesh3d": [
           {
            "colorbar": {
             "outlinewidth": 0,
             "ticks": ""
            },
            "type": "mesh3d"
           }
          ],
          "parcoords": [
           {
            "line": {
             "colorbar": {
              "outlinewidth": 0,
              "ticks": ""
             }
            },
            "type": "parcoords"
           }
          ],
          "pie": [
           {
            "automargin": true,
            "type": "pie"
           }
          ],
          "scatter": [
           {
            "marker": {
             "colorbar": {
              "outlinewidth": 0,
              "ticks": ""
             }
            },
            "type": "scatter"
           }
          ],
          "scatter3d": [
           {
            "line": {
             "colorbar": {
              "outlinewidth": 0,
              "ticks": ""
             }
            },
            "marker": {
             "colorbar": {
              "outlinewidth": 0,
              "ticks": ""
             }
            },
            "type": "scatter3d"
           }
          ],
          "scattercarpet": [
           {
            "marker": {
             "colorbar": {
              "outlinewidth": 0,
              "ticks": ""
             }
            },
            "type": "scattercarpet"
           }
          ],
          "scattergeo": [
           {
            "marker": {
             "colorbar": {
              "outlinewidth": 0,
              "ticks": ""
             }
            },
            "type": "scattergeo"
           }
          ],
          "scattergl": [
           {
            "marker": {
             "colorbar": {
              "outlinewidth": 0,
              "ticks": ""
             }
            },
            "type": "scattergl"
           }
          ],
          "scattermapbox": [
           {
            "marker": {
             "colorbar": {
              "outlinewidth": 0,
              "ticks": ""
             }
            },
            "type": "scattermapbox"
           }
          ],
          "scatterpolar": [
           {
            "marker": {
             "colorbar": {
              "outlinewidth": 0,
              "ticks": ""
             }
            },
            "type": "scatterpolar"
           }
          ],
          "scatterpolargl": [
           {
            "marker": {
             "colorbar": {
              "outlinewidth": 0,
              "ticks": ""
             }
            },
            "type": "scatterpolargl"
           }
          ],
          "scatterternary": [
           {
            "marker": {
             "colorbar": {
              "outlinewidth": 0,
              "ticks": ""
             }
            },
            "type": "scatterternary"
           }
          ],
          "surface": [
           {
            "colorbar": {
             "outlinewidth": 0,
             "ticks": ""
            },
            "colorscale": [
             [
              0,
              "#0d0887"
             ],
             [
              0.1111111111111111,
              "#46039f"
             ],
             [
              0.2222222222222222,
              "#7201a8"
             ],
             [
              0.3333333333333333,
              "#9c179e"
             ],
             [
              0.4444444444444444,
              "#bd3786"
             ],
             [
              0.5555555555555556,
              "#d8576b"
             ],
             [
              0.6666666666666666,
              "#ed7953"
             ],
             [
              0.7777777777777778,
              "#fb9f3a"
             ],
             [
              0.8888888888888888,
              "#fdca26"
             ],
             [
              1,
              "#f0f921"
             ]
            ],
            "type": "surface"
           }
          ],
          "table": [
           {
            "cells": {
             "fill": {
              "color": "#EBF0F8"
             },
             "line": {
              "color": "white"
             }
            },
            "header": {
             "fill": {
              "color": "#C8D4E3"
             },
             "line": {
              "color": "white"
             }
            },
            "type": "table"
           }
          ]
         },
         "layout": {
          "annotationdefaults": {
           "arrowcolor": "#2a3f5f",
           "arrowhead": 0,
           "arrowwidth": 1
          },
          "coloraxis": {
           "colorbar": {
            "outlinewidth": 0,
            "ticks": ""
           }
          },
          "colorscale": {
           "diverging": [
            [
             0,
             "#8e0152"
            ],
            [
             0.1,
             "#c51b7d"
            ],
            [
             0.2,
             "#de77ae"
            ],
            [
             0.3,
             "#f1b6da"
            ],
            [
             0.4,
             "#fde0ef"
            ],
            [
             0.5,
             "#f7f7f7"
            ],
            [
             0.6,
             "#e6f5d0"
            ],
            [
             0.7,
             "#b8e186"
            ],
            [
             0.8,
             "#7fbc41"
            ],
            [
             0.9,
             "#4d9221"
            ],
            [
             1,
             "#276419"
            ]
           ],
           "sequential": [
            [
             0,
             "#0d0887"
            ],
            [
             0.1111111111111111,
             "#46039f"
            ],
            [
             0.2222222222222222,
             "#7201a8"
            ],
            [
             0.3333333333333333,
             "#9c179e"
            ],
            [
             0.4444444444444444,
             "#bd3786"
            ],
            [
             0.5555555555555556,
             "#d8576b"
            ],
            [
             0.6666666666666666,
             "#ed7953"
            ],
            [
             0.7777777777777778,
             "#fb9f3a"
            ],
            [
             0.8888888888888888,
             "#fdca26"
            ],
            [
             1,
             "#f0f921"
            ]
           ],
           "sequentialminus": [
            [
             0,
             "#0d0887"
            ],
            [
             0.1111111111111111,
             "#46039f"
            ],
            [
             0.2222222222222222,
             "#7201a8"
            ],
            [
             0.3333333333333333,
             "#9c179e"
            ],
            [
             0.4444444444444444,
             "#bd3786"
            ],
            [
             0.5555555555555556,
             "#d8576b"
            ],
            [
             0.6666666666666666,
             "#ed7953"
            ],
            [
             0.7777777777777778,
             "#fb9f3a"
            ],
            [
             0.8888888888888888,
             "#fdca26"
            ],
            [
             1,
             "#f0f921"
            ]
           ]
          },
          "colorway": [
           "#636efa",
           "#EF553B",
           "#00cc96",
           "#ab63fa",
           "#FFA15A",
           "#19d3f3",
           "#FF6692",
           "#B6E880",
           "#FF97FF",
           "#FECB52"
          ],
          "font": {
           "color": "#2a3f5f"
          },
          "geo": {
           "bgcolor": "white",
           "lakecolor": "white",
           "landcolor": "#E5ECF6",
           "showlakes": true,
           "showland": true,
           "subunitcolor": "white"
          },
          "hoverlabel": {
           "align": "left"
          },
          "hovermode": "closest",
          "mapbox": {
           "style": "light"
          },
          "paper_bgcolor": "white",
          "plot_bgcolor": "#E5ECF6",
          "polar": {
           "angularaxis": {
            "gridcolor": "white",
            "linecolor": "white",
            "ticks": ""
           },
           "bgcolor": "#E5ECF6",
           "radialaxis": {
            "gridcolor": "white",
            "linecolor": "white",
            "ticks": ""
           }
          },
          "scene": {
           "xaxis": {
            "backgroundcolor": "#E5ECF6",
            "gridcolor": "white",
            "gridwidth": 2,
            "linecolor": "white",
            "showbackground": true,
            "ticks": "",
            "zerolinecolor": "white"
           },
           "yaxis": {
            "backgroundcolor": "#E5ECF6",
            "gridcolor": "white",
            "gridwidth": 2,
            "linecolor": "white",
            "showbackground": true,
            "ticks": "",
            "zerolinecolor": "white"
           },
           "zaxis": {
            "backgroundcolor": "#E5ECF6",
            "gridcolor": "white",
            "gridwidth": 2,
            "linecolor": "white",
            "showbackground": true,
            "ticks": "",
            "zerolinecolor": "white"
           }
          },
          "shapedefaults": {
           "line": {
            "color": "#2a3f5f"
           }
          },
          "ternary": {
           "aaxis": {
            "gridcolor": "white",
            "linecolor": "white",
            "ticks": ""
           },
           "baxis": {
            "gridcolor": "white",
            "linecolor": "white",
            "ticks": ""
           },
           "bgcolor": "#E5ECF6",
           "caxis": {
            "gridcolor": "white",
            "linecolor": "white",
            "ticks": ""
           }
          },
          "title": {
           "x": 0.05
          },
          "xaxis": {
           "automargin": true,
           "gridcolor": "white",
           "linecolor": "white",
           "ticks": "",
           "title": {
            "standoff": 15
           },
           "zerolinecolor": "white",
           "zerolinewidth": 2
          },
          "yaxis": {
           "automargin": true,
           "gridcolor": "white",
           "linecolor": "white",
           "ticks": "",
           "title": {
            "standoff": 15
           },
           "zerolinecolor": "white",
           "zerolinewidth": 2
          }
         }
        },
        "width": 800
       }
      },
      "text/html": [
       "<div>\n",
       "        \n",
       "        \n",
       "            <div id=\"dbd6c600-0290-4ccc-bd5d-7f4b19ad1e3f\" class=\"plotly-graph-div\" style=\"height:525px; width:800px;\"></div>\n",
       "            <script type=\"text/javascript\">\n",
       "                require([\"plotly\"], function(Plotly) {\n",
       "                    window.PLOTLYENV=window.PLOTLYENV || {};\n",
       "                    \n",
       "                if (document.getElementById(\"dbd6c600-0290-4ccc-bd5d-7f4b19ad1e3f\")) {\n",
       "                    Plotly.newPlot(\n",
       "                        'dbd6c600-0290-4ccc-bd5d-7f4b19ad1e3f',\n",
       "                        [{\"geo\": \"geo\", \"hovertemplate\": \"size=%{marker.size}<br>State=%{text}<br>lat=%{lat}<br>long=%{lon}<br>label=%{marker.color}<extra></extra>\", \"lat\": [34.2268, 33.77, 31.1, 31.14, 30.06, 29.05, 27.02, 26.84, 25.09, 22.25, 22.97, 21.27, 23.61, 22.98, 20.26657819, 19.75, 20.95, 15.29, 15.31, 18.1124, 15.91, 10.85, 11.12, 27.53, 28.21, 26.2, 25.46, 26.15, 23.94, 23.16, 24.66, 11.9416, 30.7333, 28.7041], \"legendgroup\": \"\", \"lon\": [77.5619, 76.57, 77.17, 75.34, 79.01, 76.08, 74.21, 80.94, 85.31, 71.19, 78.65, 81.86, 85.27, 87.85, 73.0166178, 75.71, 85.09, 74.12, 75.71, 79.0193, 79.74, 76.27, 78.65, 88.51, 94.72, 92.93, 91.36, 94.56, 91.98, 92.93, 93.9, 79.8083, 76.7794, 77.1025], \"marker\": {\"color\": [0, 1, 1, 1, 1, 1, 2, 2, 1, 2, 2, 2, 1, 2, 0, 2, 1, 1, 2, 1, 2, 2, 2, 0, 0, 1, 0, 0, 0, 0, 0, 0, 0, 2], \"coloraxis\": \"coloraxis\", \"size\": [1, 2, 2, 2, 2, 2, 3, 3, 2, 3, 3, 3, 2, 3, 1, 3, 2, 2, 3, 2, 3, 3, 3, 1, 1, 2, 1, 1, 1, 1, 1, 1, 1, 3], \"sizemode\": \"area\", \"sizeref\": 0.0075}, \"name\": \"\", \"showlegend\": false, \"text\": [\"Ladakh\", \"Jammu and Kashmir\", \"Himachal Pradesh\", \"Punjab\", \"Uttarakhand\", \"Haryana\", \"Rajasthan\", \"Uttar Pradesh\", \"Bihar\", \"Gujarat\", \"Madhya Pradesh\", \"Chhattisgarh\", \"Jharkhand\", \"West Bengal\", \"Dadra and Nagar Haveli and Daman and Diu\", \"Maharashtra\", \"Odisha\", \"Goa\", \"Karnataka\", \"Telangana\", \"Andhra Pradesh\", \"Kerala\", \"Tamil Nadu\", \"Sikkim\", \"Arunachal Pradesh\", \"Assam\", \"Meghalaya\", \"Nagaland\", \"Tripura\", \"Mizoram\", \"Manipur\", \"Puducherry\", \"Chandigarh\", \"NCT of Delhi\"], \"type\": \"scattergeo\"}],\n",
       "                        {\"coloraxis\": {\"colorbar\": {\"title\": {\"text\": \"label\"}}, \"colorscale\": [[0.0, \"#0d0887\"], [0.1111111111111111, \"#46039f\"], [0.2222222222222222, \"#7201a8\"], [0.3333333333333333, \"#9c179e\"], [0.4444444444444444, \"#bd3786\"], [0.5555555555555556, \"#d8576b\"], [0.6666666666666666, \"#ed7953\"], [0.7777777777777778, \"#fb9f3a\"], [0.8888888888888888, \"#fdca26\"], [1.0, \"#f0f921\"]]}, \"geo\": {\"center\": {\"lat\": 19, \"lon\": -99}, \"domain\": {\"x\": [0.0, 1.0], \"y\": [0.0, 1.0]}, \"projection\": {\"type\": \"natural earth\"}, \"scope\": \"asia\"}, \"legend\": {\"itemsizing\": \"constant\", \"tracegroupgap\": 0}, \"margin\": {\"t\": 60}, \"template\": {\"data\": {\"bar\": [{\"error_x\": {\"color\": \"#2a3f5f\"}, \"error_y\": {\"color\": \"#2a3f5f\"}, \"marker\": {\"line\": {\"color\": \"#E5ECF6\", \"width\": 0.5}}, \"type\": \"bar\"}], \"barpolar\": [{\"marker\": {\"line\": {\"color\": \"#E5ECF6\", \"width\": 0.5}}, \"type\": \"barpolar\"}], \"carpet\": [{\"aaxis\": {\"endlinecolor\": \"#2a3f5f\", \"gridcolor\": \"white\", \"linecolor\": \"white\", \"minorgridcolor\": \"white\", \"startlinecolor\": \"#2a3f5f\"}, \"baxis\": {\"endlinecolor\": \"#2a3f5f\", \"gridcolor\": \"white\", \"linecolor\": \"white\", \"minorgridcolor\": \"white\", \"startlinecolor\": \"#2a3f5f\"}, \"type\": \"carpet\"}], \"choropleth\": [{\"colorbar\": {\"outlinewidth\": 0, \"ticks\": \"\"}, \"type\": \"choropleth\"}], \"contour\": [{\"colorbar\": {\"outlinewidth\": 0, \"ticks\": \"\"}, \"colorscale\": [[0.0, \"#0d0887\"], [0.1111111111111111, \"#46039f\"], [0.2222222222222222, \"#7201a8\"], [0.3333333333333333, \"#9c179e\"], [0.4444444444444444, \"#bd3786\"], [0.5555555555555556, \"#d8576b\"], [0.6666666666666666, \"#ed7953\"], [0.7777777777777778, \"#fb9f3a\"], [0.8888888888888888, \"#fdca26\"], [1.0, \"#f0f921\"]], \"type\": \"contour\"}], \"contourcarpet\": [{\"colorbar\": {\"outlinewidth\": 0, \"ticks\": \"\"}, \"type\": \"contourcarpet\"}], \"heatmap\": [{\"colorbar\": {\"outlinewidth\": 0, \"ticks\": \"\"}, \"colorscale\": [[0.0, \"#0d0887\"], [0.1111111111111111, \"#46039f\"], [0.2222222222222222, \"#7201a8\"], [0.3333333333333333, \"#9c179e\"], [0.4444444444444444, \"#bd3786\"], [0.5555555555555556, \"#d8576b\"], [0.6666666666666666, \"#ed7953\"], [0.7777777777777778, \"#fb9f3a\"], [0.8888888888888888, \"#fdca26\"], [1.0, \"#f0f921\"]], \"type\": \"heatmap\"}], \"heatmapgl\": [{\"colorbar\": {\"outlinewidth\": 0, \"ticks\": \"\"}, \"colorscale\": [[0.0, \"#0d0887\"], [0.1111111111111111, \"#46039f\"], [0.2222222222222222, \"#7201a8\"], [0.3333333333333333, \"#9c179e\"], [0.4444444444444444, \"#bd3786\"], [0.5555555555555556, \"#d8576b\"], [0.6666666666666666, \"#ed7953\"], [0.7777777777777778, \"#fb9f3a\"], [0.8888888888888888, \"#fdca26\"], [1.0, \"#f0f921\"]], \"type\": \"heatmapgl\"}], \"histogram\": [{\"marker\": {\"colorbar\": {\"outlinewidth\": 0, \"ticks\": \"\"}}, \"type\": \"histogram\"}], \"histogram2d\": [{\"colorbar\": {\"outlinewidth\": 0, \"ticks\": \"\"}, \"colorscale\": [[0.0, \"#0d0887\"], [0.1111111111111111, \"#46039f\"], [0.2222222222222222, \"#7201a8\"], [0.3333333333333333, \"#9c179e\"], [0.4444444444444444, \"#bd3786\"], [0.5555555555555556, \"#d8576b\"], [0.6666666666666666, \"#ed7953\"], [0.7777777777777778, \"#fb9f3a\"], [0.8888888888888888, \"#fdca26\"], [1.0, \"#f0f921\"]], \"type\": \"histogram2d\"}], \"histogram2dcontour\": [{\"colorbar\": {\"outlinewidth\": 0, \"ticks\": \"\"}, \"colorscale\": [[0.0, \"#0d0887\"], [0.1111111111111111, \"#46039f\"], [0.2222222222222222, \"#7201a8\"], [0.3333333333333333, \"#9c179e\"], [0.4444444444444444, \"#bd3786\"], [0.5555555555555556, \"#d8576b\"], [0.6666666666666666, \"#ed7953\"], [0.7777777777777778, \"#fb9f3a\"], [0.8888888888888888, \"#fdca26\"], [1.0, \"#f0f921\"]], \"type\": \"histogram2dcontour\"}], \"mesh3d\": [{\"colorbar\": {\"outlinewidth\": 0, \"ticks\": \"\"}, \"type\": \"mesh3d\"}], \"parcoords\": [{\"line\": {\"colorbar\": {\"outlinewidth\": 0, \"ticks\": \"\"}}, \"type\": \"parcoords\"}], \"pie\": [{\"automargin\": true, \"type\": \"pie\"}], \"scatter\": [{\"marker\": {\"colorbar\": {\"outlinewidth\": 0, \"ticks\": \"\"}}, \"type\": \"scatter\"}], \"scatter3d\": [{\"line\": {\"colorbar\": {\"outlinewidth\": 0, \"ticks\": \"\"}}, \"marker\": {\"colorbar\": {\"outlinewidth\": 0, \"ticks\": \"\"}}, \"type\": \"scatter3d\"}], \"scattercarpet\": [{\"marker\": {\"colorbar\": {\"outlinewidth\": 0, \"ticks\": \"\"}}, \"type\": \"scattercarpet\"}], \"scattergeo\": [{\"marker\": {\"colorbar\": {\"outlinewidth\": 0, \"ticks\": \"\"}}, \"type\": \"scattergeo\"}], \"scattergl\": [{\"marker\": {\"colorbar\": {\"outlinewidth\": 0, \"ticks\": \"\"}}, \"type\": \"scattergl\"}], \"scattermapbox\": [{\"marker\": {\"colorbar\": {\"outlinewidth\": 0, \"ticks\": \"\"}}, \"type\": \"scattermapbox\"}], \"scatterpolar\": [{\"marker\": {\"colorbar\": {\"outlinewidth\": 0, \"ticks\": \"\"}}, \"type\": \"scatterpolar\"}], \"scatterpolargl\": [{\"marker\": {\"colorbar\": {\"outlinewidth\": 0, \"ticks\": \"\"}}, \"type\": \"scatterpolargl\"}], \"scatterternary\": [{\"marker\": {\"colorbar\": {\"outlinewidth\": 0, \"ticks\": \"\"}}, \"type\": \"scatterternary\"}], \"surface\": [{\"colorbar\": {\"outlinewidth\": 0, \"ticks\": \"\"}, \"colorscale\": [[0.0, \"#0d0887\"], [0.1111111111111111, \"#46039f\"], [0.2222222222222222, \"#7201a8\"], [0.3333333333333333, \"#9c179e\"], [0.4444444444444444, \"#bd3786\"], [0.5555555555555556, \"#d8576b\"], [0.6666666666666666, \"#ed7953\"], [0.7777777777777778, \"#fb9f3a\"], [0.8888888888888888, \"#fdca26\"], [1.0, \"#f0f921\"]], \"type\": \"surface\"}], \"table\": [{\"cells\": {\"fill\": {\"color\": \"#EBF0F8\"}, \"line\": {\"color\": \"white\"}}, \"header\": {\"fill\": {\"color\": \"#C8D4E3\"}, \"line\": {\"color\": \"white\"}}, \"type\": \"table\"}]}, \"layout\": {\"annotationdefaults\": {\"arrowcolor\": \"#2a3f5f\", \"arrowhead\": 0, \"arrowwidth\": 1}, \"coloraxis\": {\"colorbar\": {\"outlinewidth\": 0, \"ticks\": \"\"}}, \"colorscale\": {\"diverging\": [[0, \"#8e0152\"], [0.1, \"#c51b7d\"], [0.2, \"#de77ae\"], [0.3, \"#f1b6da\"], [0.4, \"#fde0ef\"], [0.5, \"#f7f7f7\"], [0.6, \"#e6f5d0\"], [0.7, \"#b8e186\"], [0.8, \"#7fbc41\"], [0.9, \"#4d9221\"], [1, \"#276419\"]], \"sequential\": [[0.0, \"#0d0887\"], [0.1111111111111111, \"#46039f\"], [0.2222222222222222, \"#7201a8\"], [0.3333333333333333, \"#9c179e\"], [0.4444444444444444, \"#bd3786\"], [0.5555555555555556, \"#d8576b\"], [0.6666666666666666, \"#ed7953\"], [0.7777777777777778, \"#fb9f3a\"], [0.8888888888888888, \"#fdca26\"], [1.0, \"#f0f921\"]], \"sequentialminus\": [[0.0, \"#0d0887\"], [0.1111111111111111, \"#46039f\"], [0.2222222222222222, \"#7201a8\"], [0.3333333333333333, \"#9c179e\"], [0.4444444444444444, \"#bd3786\"], [0.5555555555555556, \"#d8576b\"], [0.6666666666666666, \"#ed7953\"], [0.7777777777777778, \"#fb9f3a\"], [0.8888888888888888, \"#fdca26\"], [1.0, \"#f0f921\"]]}, \"colorway\": [\"#636efa\", \"#EF553B\", \"#00cc96\", \"#ab63fa\", \"#FFA15A\", \"#19d3f3\", \"#FF6692\", \"#B6E880\", \"#FF97FF\", \"#FECB52\"], \"font\": {\"color\": \"#2a3f5f\"}, \"geo\": {\"bgcolor\": \"white\", \"lakecolor\": \"white\", \"landcolor\": \"#E5ECF6\", \"showlakes\": true, \"showland\": true, \"subunitcolor\": \"white\"}, \"hoverlabel\": {\"align\": \"left\"}, \"hovermode\": \"closest\", \"mapbox\": {\"style\": \"light\"}, \"paper_bgcolor\": \"white\", \"plot_bgcolor\": \"#E5ECF6\", \"polar\": {\"angularaxis\": {\"gridcolor\": \"white\", \"linecolor\": \"white\", \"ticks\": \"\"}, \"bgcolor\": \"#E5ECF6\", \"radialaxis\": {\"gridcolor\": \"white\", \"linecolor\": \"white\", \"ticks\": \"\"}}, \"scene\": {\"xaxis\": {\"backgroundcolor\": \"#E5ECF6\", \"gridcolor\": \"white\", \"gridwidth\": 2, \"linecolor\": \"white\", \"showbackground\": true, \"ticks\": \"\", \"zerolinecolor\": \"white\"}, \"yaxis\": {\"backgroundcolor\": \"#E5ECF6\", \"gridcolor\": \"white\", \"gridwidth\": 2, \"linecolor\": \"white\", \"showbackground\": true, \"ticks\": \"\", \"zerolinecolor\": \"white\"}, \"zaxis\": {\"backgroundcolor\": \"#E5ECF6\", \"gridcolor\": \"white\", \"gridwidth\": 2, \"linecolor\": \"white\", \"showbackground\": true, \"ticks\": \"\", \"zerolinecolor\": \"white\"}}, \"shapedefaults\": {\"line\": {\"color\": \"#2a3f5f\"}}, \"ternary\": {\"aaxis\": {\"gridcolor\": \"white\", \"linecolor\": \"white\", \"ticks\": \"\"}, \"baxis\": {\"gridcolor\": \"white\", \"linecolor\": \"white\", \"ticks\": \"\"}, \"bgcolor\": \"#E5ECF6\", \"caxis\": {\"gridcolor\": \"white\", \"linecolor\": \"white\", \"ticks\": \"\"}}, \"title\": {\"x\": 0.05}, \"xaxis\": {\"automargin\": true, \"gridcolor\": \"white\", \"linecolor\": \"white\", \"ticks\": \"\", \"title\": {\"standoff\": 15}, \"zerolinecolor\": \"white\", \"zerolinewidth\": 2}, \"yaxis\": {\"automargin\": true, \"gridcolor\": \"white\", \"linecolor\": \"white\", \"ticks\": \"\", \"title\": {\"standoff\": 15}, \"zerolinecolor\": \"white\", \"zerolinewidth\": 2}}}, \"width\": 800},\n",
       "                        {\"responsive\": true}\n",
       "                    ).then(function(){\n",
       "                            \n",
       "var gd = document.getElementById('dbd6c600-0290-4ccc-bd5d-7f4b19ad1e3f');\n",
       "var x = new MutationObserver(function (mutations, observer) {{\n",
       "        var display = window.getComputedStyle(gd).display;\n",
       "        if (!display || display === 'none') {{\n",
       "            console.log([gd, 'removed!']);\n",
       "            Plotly.purge(gd);\n",
       "            observer.disconnect();\n",
       "        }}\n",
       "}});\n",
       "\n",
       "// Listen for the removal of the full notebook cells\n",
       "var notebookContainer = gd.closest('#notebook-container');\n",
       "if (notebookContainer) {{\n",
       "    x.observe(notebookContainer, {childList: true});\n",
       "}}\n",
       "\n",
       "// Listen for the clearing of the current output cell\n",
       "var outputEl = gd.closest('.output');\n",
       "if (outputEl) {{\n",
       "    x.observe(outputEl, {childList: true});\n",
       "}}\n",
       "\n",
       "                        })\n",
       "                };\n",
       "                });\n",
       "            </script>\n",
       "        </div>"
      ]
     },
     "metadata": {},
     "output_type": "display_data"
    },
    {
     "data": {
      "text/plain": [
       "'\\nChandigarh\\nNagaland\\nOdisha\\nPunjab\\nMaharashtra\\nAndhra Pradesh\\n'"
      ]
     },
     "execution_count": 399,
     "metadata": {},
     "output_type": "execute_result"
    }
   ],
   "source": [
    "fig = px.scatter_geo(final_df, \n",
    "                     lat=\"lat\", \n",
    "                     lon=\"long\", \n",
    "                     color='label', \n",
    "                     size=final_df['label']+1, \n",
    "                     scope='asia', \n",
    "                     center={'lat':19,'lon':-99}, \n",
    "                     width=800, \n",
    "                     text=final_df['State'],\n",
    "                     projection=\"natural earth\")\n",
    "\n",
    "fig.show()\n",
    "\n",
    "'''\n",
    "Chandigarh\n",
    "Nagaland\n",
    "Odisha\n",
    "Punjab\n",
    "Maharashtra\n",
    "Andhra Pradesh\n",
    "'''"
   ]
  },
  {
   "cell_type": "code",
   "execution_count": 411,
   "metadata": {},
   "outputs": [
    {
     "data": {
      "application/vnd.plotly.v1+json": {
       "config": {
        "plotlyServerURL": "https://plot.ly"
       },
       "data": [
        {
         "geo": "geo",
         "hovertemplate": "size=%{marker.size}<br>State=%{text}<br>lat=%{lat}<br>long=%{lon}<br>preds=%{marker.color}<extra></extra>",
         "lat": [
          34.2268,
          33.77,
          31.1,
          31.14,
          30.06,
          29.05,
          27.02,
          26.84,
          25.09,
          22.25,
          22.97,
          21.27,
          23.61,
          22.98,
          20.26657819,
          19.75,
          20.95,
          15.29,
          15.31,
          18.1124,
          15.91,
          10.85,
          11.12,
          27.53,
          28.21,
          26.2,
          25.46,
          26.15,
          23.94,
          23.16,
          24.66,
          11.9416,
          30.7333,
          28.7041
         ],
         "legendgroup": "",
         "lon": [
          77.5619,
          76.57,
          77.17,
          75.34,
          79.01,
          76.08,
          74.21,
          80.94,
          85.31,
          71.19,
          78.65,
          81.86,
          85.27,
          87.85,
          73.0166178,
          75.71,
          85.09,
          74.12,
          75.71,
          79.0193,
          79.74,
          76.27,
          78.65,
          88.51,
          94.72,
          92.93,
          91.36,
          94.56,
          91.98,
          92.93,
          93.9,
          79.8083,
          76.7794,
          77.1025
         ],
         "marker": {
          "color": [
           0,
           1,
           1,
           1,
           1,
           1,
           2,
           2,
           1,
           2,
           2,
           2,
           1,
           1,
           0,
           2,
           1,
           1,
           2,
           1,
           2,
           2,
           2,
           0,
           0,
           0,
           0,
           0,
           0,
           0,
           0,
           2,
           2,
           2
          ],
          "coloraxis": "coloraxis",
          "size": [
           1,
           2,
           2,
           2,
           2,
           2,
           3,
           3,
           2,
           3,
           3,
           3,
           2,
           2,
           1,
           3,
           2,
           2,
           3,
           2,
           3,
           3,
           3,
           1,
           1,
           1,
           1,
           1,
           1,
           1,
           1,
           3,
           3,
           3
          ],
          "sizemode": "area",
          "sizeref": 0.0075
         },
         "name": "",
         "showlegend": false,
         "text": [
          "Ladakh",
          "Jammu and Kashmir",
          "Himachal Pradesh",
          "Punjab",
          "Uttarakhand",
          "Haryana",
          "Rajasthan",
          "Uttar Pradesh",
          "Bihar",
          "Gujarat",
          "Madhya Pradesh",
          "Chhattisgarh",
          "Jharkhand",
          "West Bengal",
          "Dadra and Nagar Haveli and Daman and Diu",
          "Maharashtra",
          "Odisha",
          "Goa",
          "Karnataka",
          "Telangana",
          "Andhra Pradesh",
          "Kerala",
          "Tamil Nadu",
          "Sikkim",
          "Arunachal Pradesh",
          "Assam",
          "Meghalaya",
          "Nagaland",
          "Tripura",
          "Mizoram",
          "Manipur",
          "Puducherry",
          "Chandigarh",
          "NCT of Delhi"
         ],
         "type": "scattergeo"
        }
       ],
       "layout": {
        "coloraxis": {
         "colorbar": {
          "title": {
           "text": "preds"
          }
         },
         "colorscale": [
          [
           0,
           "#0d0887"
          ],
          [
           0.1111111111111111,
           "#46039f"
          ],
          [
           0.2222222222222222,
           "#7201a8"
          ],
          [
           0.3333333333333333,
           "#9c179e"
          ],
          [
           0.4444444444444444,
           "#bd3786"
          ],
          [
           0.5555555555555556,
           "#d8576b"
          ],
          [
           0.6666666666666666,
           "#ed7953"
          ],
          [
           0.7777777777777778,
           "#fb9f3a"
          ],
          [
           0.8888888888888888,
           "#fdca26"
          ],
          [
           1,
           "#f0f921"
          ]
         ]
        },
        "geo": {
         "center": {
          "lat": 19,
          "lon": -99
         },
         "domain": {
          "x": [
           0,
           1
          ],
          "y": [
           0,
           1
          ]
         },
         "projection": {
          "type": "natural earth"
         },
         "scope": "asia"
        },
        "legend": {
         "itemsizing": "constant",
         "tracegroupgap": 0
        },
        "margin": {
         "t": 60
        },
        "template": {
         "data": {
          "bar": [
           {
            "error_x": {
             "color": "#2a3f5f"
            },
            "error_y": {
             "color": "#2a3f5f"
            },
            "marker": {
             "line": {
              "color": "#E5ECF6",
              "width": 0.5
             }
            },
            "type": "bar"
           }
          ],
          "barpolar": [
           {
            "marker": {
             "line": {
              "color": "#E5ECF6",
              "width": 0.5
             }
            },
            "type": "barpolar"
           }
          ],
          "carpet": [
           {
            "aaxis": {
             "endlinecolor": "#2a3f5f",
             "gridcolor": "white",
             "linecolor": "white",
             "minorgridcolor": "white",
             "startlinecolor": "#2a3f5f"
            },
            "baxis": {
             "endlinecolor": "#2a3f5f",
             "gridcolor": "white",
             "linecolor": "white",
             "minorgridcolor": "white",
             "startlinecolor": "#2a3f5f"
            },
            "type": "carpet"
           }
          ],
          "choropleth": [
           {
            "colorbar": {
             "outlinewidth": 0,
             "ticks": ""
            },
            "type": "choropleth"
           }
          ],
          "contour": [
           {
            "colorbar": {
             "outlinewidth": 0,
             "ticks": ""
            },
            "colorscale": [
             [
              0,
              "#0d0887"
             ],
             [
              0.1111111111111111,
              "#46039f"
             ],
             [
              0.2222222222222222,
              "#7201a8"
             ],
             [
              0.3333333333333333,
              "#9c179e"
             ],
             [
              0.4444444444444444,
              "#bd3786"
             ],
             [
              0.5555555555555556,
              "#d8576b"
             ],
             [
              0.6666666666666666,
              "#ed7953"
             ],
             [
              0.7777777777777778,
              "#fb9f3a"
             ],
             [
              0.8888888888888888,
              "#fdca26"
             ],
             [
              1,
              "#f0f921"
             ]
            ],
            "type": "contour"
           }
          ],
          "contourcarpet": [
           {
            "colorbar": {
             "outlinewidth": 0,
             "ticks": ""
            },
            "type": "contourcarpet"
           }
          ],
          "heatmap": [
           {
            "colorbar": {
             "outlinewidth": 0,
             "ticks": ""
            },
            "colorscale": [
             [
              0,
              "#0d0887"
             ],
             [
              0.1111111111111111,
              "#46039f"
             ],
             [
              0.2222222222222222,
              "#7201a8"
             ],
             [
              0.3333333333333333,
              "#9c179e"
             ],
             [
              0.4444444444444444,
              "#bd3786"
             ],
             [
              0.5555555555555556,
              "#d8576b"
             ],
             [
              0.6666666666666666,
              "#ed7953"
             ],
             [
              0.7777777777777778,
              "#fb9f3a"
             ],
             [
              0.8888888888888888,
              "#fdca26"
             ],
             [
              1,
              "#f0f921"
             ]
            ],
            "type": "heatmap"
           }
          ],
          "heatmapgl": [
           {
            "colorbar": {
             "outlinewidth": 0,
             "ticks": ""
            },
            "colorscale": [
             [
              0,
              "#0d0887"
             ],
             [
              0.1111111111111111,
              "#46039f"
             ],
             [
              0.2222222222222222,
              "#7201a8"
             ],
             [
              0.3333333333333333,
              "#9c179e"
             ],
             [
              0.4444444444444444,
              "#bd3786"
             ],
             [
              0.5555555555555556,
              "#d8576b"
             ],
             [
              0.6666666666666666,
              "#ed7953"
             ],
             [
              0.7777777777777778,
              "#fb9f3a"
             ],
             [
              0.8888888888888888,
              "#fdca26"
             ],
             [
              1,
              "#f0f921"
             ]
            ],
            "type": "heatmapgl"
           }
          ],
          "histogram": [
           {
            "marker": {
             "colorbar": {
              "outlinewidth": 0,
              "ticks": ""
             }
            },
            "type": "histogram"
           }
          ],
          "histogram2d": [
           {
            "colorbar": {
             "outlinewidth": 0,
             "ticks": ""
            },
            "colorscale": [
             [
              0,
              "#0d0887"
             ],
             [
              0.1111111111111111,
              "#46039f"
             ],
             [
              0.2222222222222222,
              "#7201a8"
             ],
             [
              0.3333333333333333,
              "#9c179e"
             ],
             [
              0.4444444444444444,
              "#bd3786"
             ],
             [
              0.5555555555555556,
              "#d8576b"
             ],
             [
              0.6666666666666666,
              "#ed7953"
             ],
             [
              0.7777777777777778,
              "#fb9f3a"
             ],
             [
              0.8888888888888888,
              "#fdca26"
             ],
             [
              1,
              "#f0f921"
             ]
            ],
            "type": "histogram2d"
           }
          ],
          "histogram2dcontour": [
           {
            "colorbar": {
             "outlinewidth": 0,
             "ticks": ""
            },
            "colorscale": [
             [
              0,
              "#0d0887"
             ],
             [
              0.1111111111111111,
              "#46039f"
             ],
             [
              0.2222222222222222,
              "#7201a8"
             ],
             [
              0.3333333333333333,
              "#9c179e"
             ],
             [
              0.4444444444444444,
              "#bd3786"
             ],
             [
              0.5555555555555556,
              "#d8576b"
             ],
             [
              0.6666666666666666,
              "#ed7953"
             ],
             [
              0.7777777777777778,
              "#fb9f3a"
             ],
             [
              0.8888888888888888,
              "#fdca26"
             ],
             [
              1,
              "#f0f921"
             ]
            ],
            "type": "histogram2dcontour"
           }
          ],
          "mesh3d": [
           {
            "colorbar": {
             "outlinewidth": 0,
             "ticks": ""
            },
            "type": "mesh3d"
           }
          ],
          "parcoords": [
           {
            "line": {
             "colorbar": {
              "outlinewidth": 0,
              "ticks": ""
             }
            },
            "type": "parcoords"
           }
          ],
          "pie": [
           {
            "automargin": true,
            "type": "pie"
           }
          ],
          "scatter": [
           {
            "marker": {
             "colorbar": {
              "outlinewidth": 0,
              "ticks": ""
             }
            },
            "type": "scatter"
           }
          ],
          "scatter3d": [
           {
            "line": {
             "colorbar": {
              "outlinewidth": 0,
              "ticks": ""
             }
            },
            "marker": {
             "colorbar": {
              "outlinewidth": 0,
              "ticks": ""
             }
            },
            "type": "scatter3d"
           }
          ],
          "scattercarpet": [
           {
            "marker": {
             "colorbar": {
              "outlinewidth": 0,
              "ticks": ""
             }
            },
            "type": "scattercarpet"
           }
          ],
          "scattergeo": [
           {
            "marker": {
             "colorbar": {
              "outlinewidth": 0,
              "ticks": ""
             }
            },
            "type": "scattergeo"
           }
          ],
          "scattergl": [
           {
            "marker": {
             "colorbar": {
              "outlinewidth": 0,
              "ticks": ""
             }
            },
            "type": "scattergl"
           }
          ],
          "scattermapbox": [
           {
            "marker": {
             "colorbar": {
              "outlinewidth": 0,
              "ticks": ""
             }
            },
            "type": "scattermapbox"
           }
          ],
          "scatterpolar": [
           {
            "marker": {
             "colorbar": {
              "outlinewidth": 0,
              "ticks": ""
             }
            },
            "type": "scatterpolar"
           }
          ],
          "scatterpolargl": [
           {
            "marker": {
             "colorbar": {
              "outlinewidth": 0,
              "ticks": ""
             }
            },
            "type": "scatterpolargl"
           }
          ],
          "scatterternary": [
           {
            "marker": {
             "colorbar": {
              "outlinewidth": 0,
              "ticks": ""
             }
            },
            "type": "scatterternary"
           }
          ],
          "surface": [
           {
            "colorbar": {
             "outlinewidth": 0,
             "ticks": ""
            },
            "colorscale": [
             [
              0,
              "#0d0887"
             ],
             [
              0.1111111111111111,
              "#46039f"
             ],
             [
              0.2222222222222222,
              "#7201a8"
             ],
             [
              0.3333333333333333,
              "#9c179e"
             ],
             [
              0.4444444444444444,
              "#bd3786"
             ],
             [
              0.5555555555555556,
              "#d8576b"
             ],
             [
              0.6666666666666666,
              "#ed7953"
             ],
             [
              0.7777777777777778,
              "#fb9f3a"
             ],
             [
              0.8888888888888888,
              "#fdca26"
             ],
             [
              1,
              "#f0f921"
             ]
            ],
            "type": "surface"
           }
          ],
          "table": [
           {
            "cells": {
             "fill": {
              "color": "#EBF0F8"
             },
             "line": {
              "color": "white"
             }
            },
            "header": {
             "fill": {
              "color": "#C8D4E3"
             },
             "line": {
              "color": "white"
             }
            },
            "type": "table"
           }
          ]
         },
         "layout": {
          "annotationdefaults": {
           "arrowcolor": "#2a3f5f",
           "arrowhead": 0,
           "arrowwidth": 1
          },
          "coloraxis": {
           "colorbar": {
            "outlinewidth": 0,
            "ticks": ""
           }
          },
          "colorscale": {
           "diverging": [
            [
             0,
             "#8e0152"
            ],
            [
             0.1,
             "#c51b7d"
            ],
            [
             0.2,
             "#de77ae"
            ],
            [
             0.3,
             "#f1b6da"
            ],
            [
             0.4,
             "#fde0ef"
            ],
            [
             0.5,
             "#f7f7f7"
            ],
            [
             0.6,
             "#e6f5d0"
            ],
            [
             0.7,
             "#b8e186"
            ],
            [
             0.8,
             "#7fbc41"
            ],
            [
             0.9,
             "#4d9221"
            ],
            [
             1,
             "#276419"
            ]
           ],
           "sequential": [
            [
             0,
             "#0d0887"
            ],
            [
             0.1111111111111111,
             "#46039f"
            ],
            [
             0.2222222222222222,
             "#7201a8"
            ],
            [
             0.3333333333333333,
             "#9c179e"
            ],
            [
             0.4444444444444444,
             "#bd3786"
            ],
            [
             0.5555555555555556,
             "#d8576b"
            ],
            [
             0.6666666666666666,
             "#ed7953"
            ],
            [
             0.7777777777777778,
             "#fb9f3a"
            ],
            [
             0.8888888888888888,
             "#fdca26"
            ],
            [
             1,
             "#f0f921"
            ]
           ],
           "sequentialminus": [
            [
             0,
             "#0d0887"
            ],
            [
             0.1111111111111111,
             "#46039f"
            ],
            [
             0.2222222222222222,
             "#7201a8"
            ],
            [
             0.3333333333333333,
             "#9c179e"
            ],
            [
             0.4444444444444444,
             "#bd3786"
            ],
            [
             0.5555555555555556,
             "#d8576b"
            ],
            [
             0.6666666666666666,
             "#ed7953"
            ],
            [
             0.7777777777777778,
             "#fb9f3a"
            ],
            [
             0.8888888888888888,
             "#fdca26"
            ],
            [
             1,
             "#f0f921"
            ]
           ]
          },
          "colorway": [
           "#636efa",
           "#EF553B",
           "#00cc96",
           "#ab63fa",
           "#FFA15A",
           "#19d3f3",
           "#FF6692",
           "#B6E880",
           "#FF97FF",
           "#FECB52"
          ],
          "font": {
           "color": "#2a3f5f"
          },
          "geo": {
           "bgcolor": "white",
           "lakecolor": "white",
           "landcolor": "#E5ECF6",
           "showlakes": true,
           "showland": true,
           "subunitcolor": "white"
          },
          "hoverlabel": {
           "align": "left"
          },
          "hovermode": "closest",
          "mapbox": {
           "style": "light"
          },
          "paper_bgcolor": "white",
          "plot_bgcolor": "#E5ECF6",
          "polar": {
           "angularaxis": {
            "gridcolor": "white",
            "linecolor": "white",
            "ticks": ""
           },
           "bgcolor": "#E5ECF6",
           "radialaxis": {
            "gridcolor": "white",
            "linecolor": "white",
            "ticks": ""
           }
          },
          "scene": {
           "xaxis": {
            "backgroundcolor": "#E5ECF6",
            "gridcolor": "white",
            "gridwidth": 2,
            "linecolor": "white",
            "showbackground": true,
            "ticks": "",
            "zerolinecolor": "white"
           },
           "yaxis": {
            "backgroundcolor": "#E5ECF6",
            "gridcolor": "white",
            "gridwidth": 2,
            "linecolor": "white",
            "showbackground": true,
            "ticks": "",
            "zerolinecolor": "white"
           },
           "zaxis": {
            "backgroundcolor": "#E5ECF6",
            "gridcolor": "white",
            "gridwidth": 2,
            "linecolor": "white",
            "showbackground": true,
            "ticks": "",
            "zerolinecolor": "white"
           }
          },
          "shapedefaults": {
           "line": {
            "color": "#2a3f5f"
           }
          },
          "ternary": {
           "aaxis": {
            "gridcolor": "white",
            "linecolor": "white",
            "ticks": ""
           },
           "baxis": {
            "gridcolor": "white",
            "linecolor": "white",
            "ticks": ""
           },
           "bgcolor": "#E5ECF6",
           "caxis": {
            "gridcolor": "white",
            "linecolor": "white",
            "ticks": ""
           }
          },
          "title": {
           "x": 0.05
          },
          "xaxis": {
           "automargin": true,
           "gridcolor": "white",
           "linecolor": "white",
           "ticks": "",
           "title": {
            "standoff": 15
           },
           "zerolinecolor": "white",
           "zerolinewidth": 2
          },
          "yaxis": {
           "automargin": true,
           "gridcolor": "white",
           "linecolor": "white",
           "ticks": "",
           "title": {
            "standoff": 15
           },
           "zerolinecolor": "white",
           "zerolinewidth": 2
          }
         }
        },
        "width": 800
       }
      },
      "text/html": [
       "<div>\n",
       "        \n",
       "        \n",
       "            <div id=\"b99c6fe3-00de-42de-aa36-29a9a73dd1ee\" class=\"plotly-graph-div\" style=\"height:525px; width:800px;\"></div>\n",
       "            <script type=\"text/javascript\">\n",
       "                require([\"plotly\"], function(Plotly) {\n",
       "                    window.PLOTLYENV=window.PLOTLYENV || {};\n",
       "                    \n",
       "                if (document.getElementById(\"b99c6fe3-00de-42de-aa36-29a9a73dd1ee\")) {\n",
       "                    Plotly.newPlot(\n",
       "                        'b99c6fe3-00de-42de-aa36-29a9a73dd1ee',\n",
       "                        [{\"geo\": \"geo\", \"hovertemplate\": \"size=%{marker.size}<br>State=%{text}<br>lat=%{lat}<br>long=%{lon}<br>preds=%{marker.color}<extra></extra>\", \"lat\": [34.2268, 33.77, 31.1, 31.14, 30.06, 29.05, 27.02, 26.84, 25.09, 22.25, 22.97, 21.27, 23.61, 22.98, 20.26657819, 19.75, 20.95, 15.29, 15.31, 18.1124, 15.91, 10.85, 11.12, 27.53, 28.21, 26.2, 25.46, 26.15, 23.94, 23.16, 24.66, 11.9416, 30.7333, 28.7041], \"legendgroup\": \"\", \"lon\": [77.5619, 76.57, 77.17, 75.34, 79.01, 76.08, 74.21, 80.94, 85.31, 71.19, 78.65, 81.86, 85.27, 87.85, 73.0166178, 75.71, 85.09, 74.12, 75.71, 79.0193, 79.74, 76.27, 78.65, 88.51, 94.72, 92.93, 91.36, 94.56, 91.98, 92.93, 93.9, 79.8083, 76.7794, 77.1025], \"marker\": {\"color\": [0, 1, 1, 1, 1, 1, 2, 2, 1, 2, 2, 2, 1, 1, 0, 2, 1, 1, 2, 1, 2, 2, 2, 0, 0, 0, 0, 0, 0, 0, 0, 2, 2, 2], \"coloraxis\": \"coloraxis\", \"size\": [1, 2, 2, 2, 2, 2, 3, 3, 2, 3, 3, 3, 2, 2, 1, 3, 2, 2, 3, 2, 3, 3, 3, 1, 1, 1, 1, 1, 1, 1, 1, 3, 3, 3], \"sizemode\": \"area\", \"sizeref\": 0.0075}, \"name\": \"\", \"showlegend\": false, \"text\": [\"Ladakh\", \"Jammu and Kashmir\", \"Himachal Pradesh\", \"Punjab\", \"Uttarakhand\", \"Haryana\", \"Rajasthan\", \"Uttar Pradesh\", \"Bihar\", \"Gujarat\", \"Madhya Pradesh\", \"Chhattisgarh\", \"Jharkhand\", \"West Bengal\", \"Dadra and Nagar Haveli and Daman and Diu\", \"Maharashtra\", \"Odisha\", \"Goa\", \"Karnataka\", \"Telangana\", \"Andhra Pradesh\", \"Kerala\", \"Tamil Nadu\", \"Sikkim\", \"Arunachal Pradesh\", \"Assam\", \"Meghalaya\", \"Nagaland\", \"Tripura\", \"Mizoram\", \"Manipur\", \"Puducherry\", \"Chandigarh\", \"NCT of Delhi\"], \"type\": \"scattergeo\"}],\n",
       "                        {\"coloraxis\": {\"colorbar\": {\"title\": {\"text\": \"preds\"}}, \"colorscale\": [[0.0, \"#0d0887\"], [0.1111111111111111, \"#46039f\"], [0.2222222222222222, \"#7201a8\"], [0.3333333333333333, \"#9c179e\"], [0.4444444444444444, \"#bd3786\"], [0.5555555555555556, \"#d8576b\"], [0.6666666666666666, \"#ed7953\"], [0.7777777777777778, \"#fb9f3a\"], [0.8888888888888888, \"#fdca26\"], [1.0, \"#f0f921\"]]}, \"geo\": {\"center\": {\"lat\": 19, \"lon\": -99}, \"domain\": {\"x\": [0.0, 1.0], \"y\": [0.0, 1.0]}, \"projection\": {\"type\": \"natural earth\"}, \"scope\": \"asia\"}, \"legend\": {\"itemsizing\": \"constant\", \"tracegroupgap\": 0}, \"margin\": {\"t\": 60}, \"template\": {\"data\": {\"bar\": [{\"error_x\": {\"color\": \"#2a3f5f\"}, \"error_y\": {\"color\": \"#2a3f5f\"}, \"marker\": {\"line\": {\"color\": \"#E5ECF6\", \"width\": 0.5}}, \"type\": \"bar\"}], \"barpolar\": [{\"marker\": {\"line\": {\"color\": \"#E5ECF6\", \"width\": 0.5}}, \"type\": \"barpolar\"}], \"carpet\": [{\"aaxis\": {\"endlinecolor\": \"#2a3f5f\", \"gridcolor\": \"white\", \"linecolor\": \"white\", \"minorgridcolor\": \"white\", \"startlinecolor\": \"#2a3f5f\"}, \"baxis\": {\"endlinecolor\": \"#2a3f5f\", \"gridcolor\": \"white\", \"linecolor\": \"white\", \"minorgridcolor\": \"white\", \"startlinecolor\": \"#2a3f5f\"}, \"type\": \"carpet\"}], \"choropleth\": [{\"colorbar\": {\"outlinewidth\": 0, \"ticks\": \"\"}, \"type\": \"choropleth\"}], \"contour\": [{\"colorbar\": {\"outlinewidth\": 0, \"ticks\": \"\"}, \"colorscale\": [[0.0, \"#0d0887\"], [0.1111111111111111, \"#46039f\"], [0.2222222222222222, \"#7201a8\"], [0.3333333333333333, \"#9c179e\"], [0.4444444444444444, \"#bd3786\"], [0.5555555555555556, \"#d8576b\"], [0.6666666666666666, \"#ed7953\"], [0.7777777777777778, \"#fb9f3a\"], [0.8888888888888888, \"#fdca26\"], [1.0, \"#f0f921\"]], \"type\": \"contour\"}], \"contourcarpet\": [{\"colorbar\": {\"outlinewidth\": 0, \"ticks\": \"\"}, \"type\": \"contourcarpet\"}], \"heatmap\": [{\"colorbar\": {\"outlinewidth\": 0, \"ticks\": \"\"}, \"colorscale\": [[0.0, \"#0d0887\"], [0.1111111111111111, \"#46039f\"], [0.2222222222222222, \"#7201a8\"], [0.3333333333333333, \"#9c179e\"], [0.4444444444444444, \"#bd3786\"], [0.5555555555555556, \"#d8576b\"], [0.6666666666666666, \"#ed7953\"], [0.7777777777777778, \"#fb9f3a\"], [0.8888888888888888, \"#fdca26\"], [1.0, \"#f0f921\"]], \"type\": \"heatmap\"}], \"heatmapgl\": [{\"colorbar\": {\"outlinewidth\": 0, \"ticks\": \"\"}, \"colorscale\": [[0.0, \"#0d0887\"], [0.1111111111111111, \"#46039f\"], [0.2222222222222222, \"#7201a8\"], [0.3333333333333333, \"#9c179e\"], [0.4444444444444444, \"#bd3786\"], [0.5555555555555556, \"#d8576b\"], [0.6666666666666666, \"#ed7953\"], [0.7777777777777778, \"#fb9f3a\"], [0.8888888888888888, \"#fdca26\"], [1.0, \"#f0f921\"]], \"type\": \"heatmapgl\"}], \"histogram\": [{\"marker\": {\"colorbar\": {\"outlinewidth\": 0, \"ticks\": \"\"}}, \"type\": \"histogram\"}], \"histogram2d\": [{\"colorbar\": {\"outlinewidth\": 0, \"ticks\": \"\"}, \"colorscale\": [[0.0, \"#0d0887\"], [0.1111111111111111, \"#46039f\"], [0.2222222222222222, \"#7201a8\"], [0.3333333333333333, \"#9c179e\"], [0.4444444444444444, \"#bd3786\"], [0.5555555555555556, \"#d8576b\"], [0.6666666666666666, \"#ed7953\"], [0.7777777777777778, \"#fb9f3a\"], [0.8888888888888888, \"#fdca26\"], [1.0, \"#f0f921\"]], \"type\": \"histogram2d\"}], \"histogram2dcontour\": [{\"colorbar\": {\"outlinewidth\": 0, \"ticks\": \"\"}, \"colorscale\": [[0.0, \"#0d0887\"], [0.1111111111111111, \"#46039f\"], [0.2222222222222222, \"#7201a8\"], [0.3333333333333333, \"#9c179e\"], [0.4444444444444444, \"#bd3786\"], [0.5555555555555556, \"#d8576b\"], [0.6666666666666666, \"#ed7953\"], [0.7777777777777778, \"#fb9f3a\"], [0.8888888888888888, \"#fdca26\"], [1.0, \"#f0f921\"]], \"type\": \"histogram2dcontour\"}], \"mesh3d\": [{\"colorbar\": {\"outlinewidth\": 0, \"ticks\": \"\"}, \"type\": \"mesh3d\"}], \"parcoords\": [{\"line\": {\"colorbar\": {\"outlinewidth\": 0, \"ticks\": \"\"}}, \"type\": \"parcoords\"}], \"pie\": [{\"automargin\": true, \"type\": \"pie\"}], \"scatter\": [{\"marker\": {\"colorbar\": {\"outlinewidth\": 0, \"ticks\": \"\"}}, \"type\": \"scatter\"}], \"scatter3d\": [{\"line\": {\"colorbar\": {\"outlinewidth\": 0, \"ticks\": \"\"}}, \"marker\": {\"colorbar\": {\"outlinewidth\": 0, \"ticks\": \"\"}}, \"type\": \"scatter3d\"}], \"scattercarpet\": [{\"marker\": {\"colorbar\": {\"outlinewidth\": 0, \"ticks\": \"\"}}, \"type\": \"scattercarpet\"}], \"scattergeo\": [{\"marker\": {\"colorbar\": {\"outlinewidth\": 0, \"ticks\": \"\"}}, \"type\": \"scattergeo\"}], \"scattergl\": [{\"marker\": {\"colorbar\": {\"outlinewidth\": 0, \"ticks\": \"\"}}, \"type\": \"scattergl\"}], \"scattermapbox\": [{\"marker\": {\"colorbar\": {\"outlinewidth\": 0, \"ticks\": \"\"}}, \"type\": \"scattermapbox\"}], \"scatterpolar\": [{\"marker\": {\"colorbar\": {\"outlinewidth\": 0, \"ticks\": \"\"}}, \"type\": \"scatterpolar\"}], \"scatterpolargl\": [{\"marker\": {\"colorbar\": {\"outlinewidth\": 0, \"ticks\": \"\"}}, \"type\": \"scatterpolargl\"}], \"scatterternary\": [{\"marker\": {\"colorbar\": {\"outlinewidth\": 0, \"ticks\": \"\"}}, \"type\": \"scatterternary\"}], \"surface\": [{\"colorbar\": {\"outlinewidth\": 0, \"ticks\": \"\"}, \"colorscale\": [[0.0, \"#0d0887\"], [0.1111111111111111, \"#46039f\"], [0.2222222222222222, \"#7201a8\"], [0.3333333333333333, \"#9c179e\"], [0.4444444444444444, \"#bd3786\"], [0.5555555555555556, \"#d8576b\"], [0.6666666666666666, \"#ed7953\"], [0.7777777777777778, \"#fb9f3a\"], [0.8888888888888888, \"#fdca26\"], [1.0, \"#f0f921\"]], \"type\": \"surface\"}], \"table\": [{\"cells\": {\"fill\": {\"color\": \"#EBF0F8\"}, \"line\": {\"color\": \"white\"}}, \"header\": {\"fill\": {\"color\": \"#C8D4E3\"}, \"line\": {\"color\": \"white\"}}, \"type\": \"table\"}]}, \"layout\": {\"annotationdefaults\": {\"arrowcolor\": \"#2a3f5f\", \"arrowhead\": 0, \"arrowwidth\": 1}, \"coloraxis\": {\"colorbar\": {\"outlinewidth\": 0, \"ticks\": \"\"}}, \"colorscale\": {\"diverging\": [[0, \"#8e0152\"], [0.1, \"#c51b7d\"], [0.2, \"#de77ae\"], [0.3, \"#f1b6da\"], [0.4, \"#fde0ef\"], [0.5, \"#f7f7f7\"], [0.6, \"#e6f5d0\"], [0.7, \"#b8e186\"], [0.8, \"#7fbc41\"], [0.9, \"#4d9221\"], [1, \"#276419\"]], \"sequential\": [[0.0, \"#0d0887\"], [0.1111111111111111, \"#46039f\"], [0.2222222222222222, \"#7201a8\"], [0.3333333333333333, \"#9c179e\"], [0.4444444444444444, \"#bd3786\"], [0.5555555555555556, \"#d8576b\"], [0.6666666666666666, \"#ed7953\"], [0.7777777777777778, \"#fb9f3a\"], [0.8888888888888888, \"#fdca26\"], [1.0, \"#f0f921\"]], \"sequentialminus\": [[0.0, \"#0d0887\"], [0.1111111111111111, \"#46039f\"], [0.2222222222222222, \"#7201a8\"], [0.3333333333333333, \"#9c179e\"], [0.4444444444444444, \"#bd3786\"], [0.5555555555555556, \"#d8576b\"], [0.6666666666666666, \"#ed7953\"], [0.7777777777777778, \"#fb9f3a\"], [0.8888888888888888, \"#fdca26\"], [1.0, \"#f0f921\"]]}, \"colorway\": [\"#636efa\", \"#EF553B\", \"#00cc96\", \"#ab63fa\", \"#FFA15A\", \"#19d3f3\", \"#FF6692\", \"#B6E880\", \"#FF97FF\", \"#FECB52\"], \"font\": {\"color\": \"#2a3f5f\"}, \"geo\": {\"bgcolor\": \"white\", \"lakecolor\": \"white\", \"landcolor\": \"#E5ECF6\", \"showlakes\": true, \"showland\": true, \"subunitcolor\": \"white\"}, \"hoverlabel\": {\"align\": \"left\"}, \"hovermode\": \"closest\", \"mapbox\": {\"style\": \"light\"}, \"paper_bgcolor\": \"white\", \"plot_bgcolor\": \"#E5ECF6\", \"polar\": {\"angularaxis\": {\"gridcolor\": \"white\", \"linecolor\": \"white\", \"ticks\": \"\"}, \"bgcolor\": \"#E5ECF6\", \"radialaxis\": {\"gridcolor\": \"white\", \"linecolor\": \"white\", \"ticks\": \"\"}}, \"scene\": {\"xaxis\": {\"backgroundcolor\": \"#E5ECF6\", \"gridcolor\": \"white\", \"gridwidth\": 2, \"linecolor\": \"white\", \"showbackground\": true, \"ticks\": \"\", \"zerolinecolor\": \"white\"}, \"yaxis\": {\"backgroundcolor\": \"#E5ECF6\", \"gridcolor\": \"white\", \"gridwidth\": 2, \"linecolor\": \"white\", \"showbackground\": true, \"ticks\": \"\", \"zerolinecolor\": \"white\"}, \"zaxis\": {\"backgroundcolor\": \"#E5ECF6\", \"gridcolor\": \"white\", \"gridwidth\": 2, \"linecolor\": \"white\", \"showbackground\": true, \"ticks\": \"\", \"zerolinecolor\": \"white\"}}, \"shapedefaults\": {\"line\": {\"color\": \"#2a3f5f\"}}, \"ternary\": {\"aaxis\": {\"gridcolor\": \"white\", \"linecolor\": \"white\", \"ticks\": \"\"}, \"baxis\": {\"gridcolor\": \"white\", \"linecolor\": \"white\", \"ticks\": \"\"}, \"bgcolor\": \"#E5ECF6\", \"caxis\": {\"gridcolor\": \"white\", \"linecolor\": \"white\", \"ticks\": \"\"}}, \"title\": {\"x\": 0.05}, \"xaxis\": {\"automargin\": true, \"gridcolor\": \"white\", \"linecolor\": \"white\", \"ticks\": \"\", \"title\": {\"standoff\": 15}, \"zerolinecolor\": \"white\", \"zerolinewidth\": 2}, \"yaxis\": {\"automargin\": true, \"gridcolor\": \"white\", \"linecolor\": \"white\", \"ticks\": \"\", \"title\": {\"standoff\": 15}, \"zerolinecolor\": \"white\", \"zerolinewidth\": 2}}}, \"width\": 800},\n",
       "                        {\"responsive\": true}\n",
       "                    ).then(function(){\n",
       "                            \n",
       "var gd = document.getElementById('b99c6fe3-00de-42de-aa36-29a9a73dd1ee');\n",
       "var x = new MutationObserver(function (mutations, observer) {{\n",
       "        var display = window.getComputedStyle(gd).display;\n",
       "        if (!display || display === 'none') {{\n",
       "            console.log([gd, 'removed!']);\n",
       "            Plotly.purge(gd);\n",
       "            observer.disconnect();\n",
       "        }}\n",
       "}});\n",
       "\n",
       "// Listen for the removal of the full notebook cells\n",
       "var notebookContainer = gd.closest('#notebook-container');\n",
       "if (notebookContainer) {{\n",
       "    x.observe(notebookContainer, {childList: true});\n",
       "}}\n",
       "\n",
       "// Listen for the clearing of the current output cell\n",
       "var outputEl = gd.closest('.output');\n",
       "if (outputEl) {{\n",
       "    x.observe(outputEl, {childList: true});\n",
       "}}\n",
       "\n",
       "                        })\n",
       "                };\n",
       "                });\n",
       "            </script>\n",
       "        </div>"
      ]
     },
     "metadata": {},
     "output_type": "display_data"
    }
   ],
   "source": [
    "fig = px.scatter_geo(final_df, \n",
    "                     lat=\"lat\", \n",
    "                     lon=\"long\", \n",
    "                     color='preds', \n",
    "                     size=final_df['preds']+1, \n",
    "                     scope='asia', \n",
    "                     center={'lat':19,'lon':-99}, \n",
    "                     width=800, \n",
    "                     text=final_df['State'],\n",
    "                     projection=\"natural earth\")\n",
    "\n",
    "fig.show()"
   ]
  },
  {
   "cell_type": "code",
   "execution_count": null,
   "metadata": {},
   "outputs": [],
   "source": []
  }
 ],
 "metadata": {
  "colab": {
   "collapsed_sections": [],
   "name": "dgl_maps_in.ipynb",
   "provenance": []
  },
  "kernelspec": {
   "display_name": "Python 3",
   "language": "python",
   "name": "python3"
  },
  "language_info": {
   "codemirror_mode": {
    "name": "ipython",
    "version": 3
   },
   "file_extension": ".py",
   "mimetype": "text/x-python",
   "name": "python",
   "nbconvert_exporter": "python",
   "pygments_lexer": "ipython3",
   "version": "3.7.4"
  }
 },
 "nbformat": 4,
 "nbformat_minor": 1
}
