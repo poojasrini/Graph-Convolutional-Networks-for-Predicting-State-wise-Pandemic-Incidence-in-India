{
 "cells": [
  {
   "cell_type": "code",
   "execution_count": 57,
   "metadata": {},
   "outputs": [],
   "source": [
    "import io\n",
    "import json\n",
    "import numpy as np\n",
    "from six.moves import urllib\n",
    "from torch_geometric_temporal.signal import StaticGraphTemporalSignal\n",
    "from torch_geometric_temporal.signal import temporal_signal_split\n",
    "import matplotlib.pyplot as plt\n",
    "#from sklearn.metrics import mean_absolute_percentage_error"
   ]
  },
  {
   "cell_type": "code",
   "execution_count": 95,
   "metadata": {},
   "outputs": [],
   "source": [
    "class COVIDIndiaDatasetLoader(object):\n",
    "    \"\"\"A dataset of county level chicken pox cases in Hungary between 2004\n",
    "    and 2014. We made it public during the development of PyTorch Geometric\n",
    "    Temporal. The underlying graph is static - vertices are counties and \n",
    "    edges are neighbourhoods. Vertex features are lagged weekly counts of the \n",
    "    chickenpox cases (we included 4 lags). The target is the weekly number of \n",
    "    cases for the upcoming week (signed integers). Our dataset consist of more\n",
    "    than 500 snapshots (weeks). \n",
    "    \"\"\"\n",
    "    def __init__(self):\n",
    "        self._read_web_data()\n",
    "\n",
    "\n",
    "    def _read_web_data(self):\n",
    "        self._dataset = json.load(open(\"./processed_data.json\",  \"r\"))\n",
    "\n",
    "\n",
    "    def _get_edges(self):\n",
    "        self._edges = np.array(self._dataset[\"edges\"]).T\n",
    "\n",
    "\n",
    "    def _get_edge_weights(self):\n",
    "        self._edge_weights = np.ones(self._edges.shape[1])\n",
    "\n",
    "\n",
    "    def _get_targets_and_features(self):\n",
    "        stacked_target = np.array(self._dataset[\"FX\"])\n",
    "        self.features = [stacked_target[i:i+self.lags,:].T for i in range(stacked_target.shape[0]-self.lags)]\n",
    "        self.targets = [stacked_target[i+self.lags,:].T for i in range(stacked_target.shape[0]-self.lags)]\n",
    "\n",
    "\n",
    "    def get_dataset(self, lags: int=4) -> StaticGraphTemporalSignal:\n",
    "        \"\"\"Returning the Chickenpox Hungary data iterator.\n",
    "\n",
    "        Args types:\n",
    "            * **lags** *(int)* - The number of time lags. \n",
    "        Return types:\n",
    "            * **dataset** *(StaticGraphTemporalSignal)* - The Chickenpox Hungary dataset.\n",
    "        \"\"\"\n",
    "        self.lags = lags\n",
    "        self._get_edges()\n",
    "        self._get_edge_weights()\n",
    "        self._get_targets_and_features()\n",
    "        dataset = StaticGraphTemporalSignal(self._edges, self._edge_weights, self.features, self.targets)\n",
    "        return dataset"
   ]
  },
  {
   "cell_type": "code",
   "execution_count": 96,
   "metadata": {},
   "outputs": [],
   "source": [
    "dataloader = COVIDIndiaDatasetLoader()"
   ]
  },
  {
   "cell_type": "code",
   "execution_count": 97,
   "metadata": {},
   "outputs": [],
   "source": [
    "dataset = dataloader.get_dataset(lags=21)"
   ]
  },
  {
   "cell_type": "code",
   "execution_count": 98,
   "metadata": {},
   "outputs": [],
   "source": [
    "train_dataset, test_dataset = temporal_signal_split(dataset, train_ratio=0.8)"
   ]
  },
  {
   "cell_type": "code",
   "execution_count": 99,
   "metadata": {},
   "outputs": [],
   "source": [
    "import torch\n",
    "import torch.nn.functional as F\n",
    "from torch_geometric_temporal.nn.recurrent import DCRNN\n",
    "\n",
    "class RecurrentGCN(torch.nn.Module):\n",
    "    def __init__(self, node_features):\n",
    "        super(RecurrentGCN, self).__init__()\n",
    "        self.recurrent = DCRNN(node_features, 16, 1)\n",
    "        self.linear = torch.nn.Linear(16, 1)\n",
    "\n",
    "    def forward(self, x, edge_index, edge_weight):\n",
    "        h = self.recurrent(x, edge_index, edge_weight)\n",
    "        h = F.leaky_relu(h)\n",
    "        h = self.linear(h)\n",
    "        return h"
   ]
  },
  {
   "cell_type": "code",
   "execution_count": 100,
   "metadata": {},
   "outputs": [
    {
     "name": "stderr",
     "output_type": "stream",
     "text": [
      "100%|████████████████████████████████████████████████████████████████████████████████| 100/100 [00:33<00:00,  3.03it/s]\n"
     ]
    }
   ],
   "source": [
    "from tqdm import tqdm\n",
    "\n",
    "model = RecurrentGCN(node_features=21)\n",
    "\n",
    "optimizer = torch.optim.Adam(model.parameters(), lr=0.01)\n",
    "\n",
    "model.train()\n",
    "\n",
    "for epoch in tqdm(range(100)):\n",
    "    cost = 0\n",
    "    for time, snapshot in enumerate(train_dataset):\n",
    "        y_hat = model(snapshot.x, snapshot.edge_index, snapshot.edge_attr)\n",
    "        cost = cost + torch.mean((y_hat-snapshot.y)**2)\n",
    "    cost = cost / (time+1)\n",
    "    cost.backward()\n",
    "    optimizer.step()\n",
    "    optimizer.zero_grad()"
   ]
  },
  {
   "cell_type": "code",
   "execution_count": 110,
   "metadata": {},
   "outputs": [
    {
     "name": "stdout",
     "output_type": "stream",
     "text": [
      "MSE: 180209.1562\n"
     ]
    }
   ],
   "source": [
    "model.eval()\n",
    "cost = 0\n",
    "preds = []\n",
    "ys = []\n",
    "for time, snapshot in enumerate(test_dataset):\n",
    "    y_hat = model(snapshot.x, snapshot.edge_index, snapshot.edge_attr)\n",
    "    cost = cost + torch.mean((y_hat-snapshot.y) ** 2)\n",
    "    preds.append((y_hat.detach().numpy().reshape(1, 34)))\n",
    "    ys.append((snapshot.y.detach().numpy().reshape(1, 34)))\n",
    "cost = cost / (time+1)\n",
    "cost = cost.item()\n",
    "print(\"MSE: {:.4f}\".format(cost))"
   ]
  },
  {
   "cell_type": "code",
   "execution_count": 111,
   "metadata": {},
   "outputs": [],
   "source": [
    "import joblib \n",
    "scaler = joblib.load('minmaxscaler.pkl') "
   ]
  },
  {
   "cell_type": "code",
   "execution_count": 112,
   "metadata": {},
   "outputs": [
    {
     "data": {
      "text/plain": [
       "(28, 1, 34)"
      ]
     },
     "execution_count": 112,
     "metadata": {},
     "output_type": "execute_result"
    }
   ],
   "source": [
    "np.array(preds).shape"
   ]
  },
  {
   "cell_type": "code",
   "execution_count": 113,
   "metadata": {},
   "outputs": [],
   "source": [
    "preds = np.array(preds).reshape(28, 34)\n",
    "ys = np.array(ys).reshape(28, 34)"
   ]
  },
  {
   "cell_type": "code",
   "execution_count": 114,
   "metadata": {},
   "outputs": [
    {
     "data": {
      "text/plain": [
       "array([-9.078642  ,  9.868058  ,  9.868058  , -1.5919108 , -1.9012818 ,\n",
       "       -6.924945  , -7.789712  , -9.066868  ,  9.878572  ,  9.868058  ,\n",
       "        4.965765  ,  0.23815748, -8.9874    , -9.066868  , -9.0903    ,\n",
       "        9.868058  ,  9.880953  ,  7.467043  ,  0.21543182, -6.7243624 ,\n",
       "       -9.066868  , -9.078495  ,  9.868058  ,  9.891858  ,  4.744814  ,\n",
       "        2.3801625 , -6.6174145 , -9.066868  ], dtype=float32)"
      ]
     },
     "execution_count": 114,
     "metadata": {},
     "output_type": "execute_result"
    }
   ],
   "source": [
    "preds[:, 1]"
   ]
  },
  {
   "cell_type": "code",
   "execution_count": 115,
   "metadata": {},
   "outputs": [
    {
     "data": {
      "text/plain": [
       "array([ -95.,   32.,   15.,  110.,    9.,  -61., -105.,  -70.,  182.,\n",
       "          2.,  -14.,  101.,  -53.,  -44., -213.,   80.,   58.,   -2.,\n",
       "         78.,  -53.,  -41., -101.,   84.,   -2.,  130.,  -38.,  -43.,\n",
       "         30.], dtype=float32)"
      ]
     },
     "execution_count": 115,
     "metadata": {},
     "output_type": "execute_result"
    }
   ],
   "source": [
    "ys[:, 1]"
   ]
  },
  {
   "cell_type": "code",
   "execution_count": 116,
   "metadata": {},
   "outputs": [
    {
     "data": {
      "text/plain": [
       "[<matplotlib.lines.Line2D at 0x1048d2e9948>]"
      ]
     },
     "execution_count": 116,
     "metadata": {},
     "output_type": "execute_result"
    },
    {
     "data": {
      "image/png": "[encoded data removed]",
      "text/plain": [
       "<Figure size 432x288 with 1 Axes>"
      ]
     },
     "metadata": {
      "needs_background": "light"
     },
     "output_type": "display_data"
    }
   ],
   "source": [
    "plt.plot(ys[:,20])\n",
    "plt.plot(preds[:,20], c='r')"
   ]
  },
  {
   "cell_type": "code",
   "execution_count": null,
   "metadata": {},
   "outputs": [],
   "source": []
  }
 ],
 "metadata": {
  "kernelspec": {
   "display_name": "Python 3",
   "language": "python",
   "name": "python3"
  },
  "language_info": {
   "codemirror_mode": {
    "name": "ipython",
    "version": 3
   },
   "file_extension": ".py",
   "mimetype": "text/x-python",
   "name": "python",
   "nbconvert_exporter": "python",
   "pygments_lexer": "ipython3",
   "version": "3.7.4"
  }
 },
 "nbformat": 4,
 "nbformat_minor": 2
}
