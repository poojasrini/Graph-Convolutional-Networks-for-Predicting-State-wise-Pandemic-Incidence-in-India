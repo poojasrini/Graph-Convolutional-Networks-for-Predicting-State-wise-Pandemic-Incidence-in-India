{
 "cells": [
  {
   "cell_type": "code",
   "execution_count": 72,
   "metadata": {},
   "outputs": [],
   "source": [
    "import dgl\n",
    "import numpy as np\n",
    "import pandas as pd\n",
    "import networkx as nx\n",
    "import random\n",
    "import json\n",
    "import itertools\n",
    "\n",
    "from helper_functions import build_map_1\n",
    "\n",
    "import torch\n",
    "import torch.nn as nn\n",
    "import torch.nn.functional as F\n",
    "from dgl.nn.pytorch import GraphConv\n",
    "import matplotlib.pyplot as plt\n",
    "#from sklearn.metrics import mean_absolute_percentage_error"
   ]
  },
  {
   "cell_type": "code",
   "execution_count": 73,
   "metadata": {},
   "outputs": [],
   "source": [
    "all_data = pd.read_csv(\"./state_wise_daily (1).csv\")"
   ]
  },
  {
   "cell_type": "code",
   "execution_count": 74,
   "metadata": {},
   "outputs": [
    {
     "name": "stderr",
     "output_type": "stream",
     "text": [
      "c:\\users\\siddh\\appdata\\local\\programs\\python\\python37\\lib\\site-packages\\ipykernel_launcher.py:3: SettingWithCopyWarning: \n",
      "A value is trying to be set on a copy of a slice from a DataFrame.\n",
      "Try using .loc[row_indexer,col_indexer] = value instead\n",
      "\n",
      "See the caveats in the documentation: https://pandas.pydata.org/pandas-docs/stable/user_guide/indexing.html#returning-a-view-versus-a-copy\n",
      "  This is separate from the ipykernel package so we can avoid doing imports until\n"
     ]
    }
   ],
   "source": [
    "# preprocess data, take confirmed alone and convert to datetime\n",
    "cases_data = all_data[all_data['Status'] == 'Confirmed']\n",
    "cases_data['Date'] = pd.to_datetime(cases_data['Date'])"
   ]
  },
  {
   "cell_type": "code",
   "execution_count": 75,
   "metadata": {},
   "outputs": [],
   "source": [
    "states_ = open('../data/state_code_mapping.txt', 'r').read()\n",
    "name_map_dict = dict([[s.rsplit(\" \", 1)[0], s.rsplit(\" \", 1)[1]] for s in states_.split('\\n')])\n",
    "del name_map_dict['Andaman and Nicobar Islands'], name_map_dict['Lakshadweep'], name_map_dict['Daman and Diu']"
   ]
  },
  {
   "cell_type": "code",
   "execution_count": 76,
   "metadata": {},
   "outputs": [],
   "source": [
    "wave_1_data = cases_data[(cases_data['Date'] > '2020-06-30') & (cases_data['Date'] < '2020-12-07')].reset_index(drop=True)"
   ]
  },
  {
   "cell_type": "code",
   "execution_count": 77,
   "metadata": {},
   "outputs": [],
   "source": [
    "with open('../data/states_list.txt', 'r') as file:\n",
    "    states = file.readlines()\n",
    "    \n",
    "for ind in range(len(states) - 1):\n",
    "    states[ind] = states[ind][:-1]\n",
    "\n",
    "state_ordered = []\n",
    "for state in states:\n",
    "    state_ordered.append(name_map_dict[state])"
   ]
  },
  {
   "cell_type": "code",
   "execution_count": 78,
   "metadata": {},
   "outputs": [],
   "source": [
    "#from sklearn.preprocessing import StandardScaler, MinMaxScaler\n",
    "#scaler = StandardScaler()\n",
    "#wave_1_data[state_ordered] = scaler.fit_transform(wave_1_data[state_ordered])"
   ]
  },
  {
   "cell_type": "code",
   "execution_count": 79,
   "metadata": {},
   "outputs": [
    {
     "data": {
      "text/html": [
       "<div>\n",
       "<style scoped>\n",
       "    .dataframe tbody tr th:only-of-type {\n",
       "        vertical-align: middle;\n",
       "    }\n",
       "\n",
       "    .dataframe tbody tr th {\n",
       "        vertical-align: top;\n",
       "    }\n",
       "\n",
       "    .dataframe thead th {\n",
       "        text-align: right;\n",
       "    }\n",
       "</style>\n",
       "<table border=\"1\" class=\"dataframe\">\n",
       "  <thead>\n",
       "    <tr style=\"text-align: right;\">\n",
       "      <th></th>\n",
       "      <th>LA</th>\n",
       "      <th>JK</th>\n",
       "      <th>HP</th>\n",
       "      <th>PB</th>\n",
       "      <th>UT</th>\n",
       "      <th>HR</th>\n",
       "      <th>RJ</th>\n",
       "      <th>UP</th>\n",
       "      <th>BR</th>\n",
       "      <th>GJ</th>\n",
       "      <th>...</th>\n",
       "      <th>AR</th>\n",
       "      <th>AS</th>\n",
       "      <th>ML</th>\n",
       "      <th>NL</th>\n",
       "      <th>TR</th>\n",
       "      <th>MZ</th>\n",
       "      <th>MN</th>\n",
       "      <th>PY</th>\n",
       "      <th>CH</th>\n",
       "      <th>DL</th>\n",
       "    </tr>\n",
       "  </thead>\n",
       "  <tbody>\n",
       "    <tr>\n",
       "      <th>0</th>\n",
       "      <td>17</td>\n",
       "      <td>198</td>\n",
       "      <td>26</td>\n",
       "      <td>100</td>\n",
       "      <td>66</td>\n",
       "      <td>393</td>\n",
       "      <td>304</td>\n",
       "      <td>564</td>\n",
       "      <td>216</td>\n",
       "      <td>675</td>\n",
       "      <td>...</td>\n",
       "      <td>4</td>\n",
       "      <td>548</td>\n",
       "      <td>2</td>\n",
       "      <td>42</td>\n",
       "      <td>8</td>\n",
       "      <td>0</td>\n",
       "      <td>26</td>\n",
       "      <td>25</td>\n",
       "      <td>6</td>\n",
       "      <td>2442</td>\n",
       "    </tr>\n",
       "    <tr>\n",
       "      <th>1</th>\n",
       "      <td>1</td>\n",
       "      <td>154</td>\n",
       "      <td>35</td>\n",
       "      <td>116</td>\n",
       "      <td>37</td>\n",
       "      <td>568</td>\n",
       "      <td>350</td>\n",
       "      <td>769</td>\n",
       "      <td>478</td>\n",
       "      <td>681</td>\n",
       "      <td>...</td>\n",
       "      <td>37</td>\n",
       "      <td>479</td>\n",
       "      <td>3</td>\n",
       "      <td>34</td>\n",
       "      <td>39</td>\n",
       "      <td>2</td>\n",
       "      <td>19</td>\n",
       "      <td>63</td>\n",
       "      <td>4</td>\n",
       "      <td>2373</td>\n",
       "    </tr>\n",
       "    <tr>\n",
       "      <th>2</th>\n",
       "      <td>11</td>\n",
       "      <td>170</td>\n",
       "      <td>19</td>\n",
       "      <td>153</td>\n",
       "      <td>64</td>\n",
       "      <td>494</td>\n",
       "      <td>390</td>\n",
       "      <td>972</td>\n",
       "      <td>426</td>\n",
       "      <td>687</td>\n",
       "      <td>...</td>\n",
       "      <td>20</td>\n",
       "      <td>365</td>\n",
       "      <td>4</td>\n",
       "      <td>4</td>\n",
       "      <td>93</td>\n",
       "      <td>0</td>\n",
       "      <td>37</td>\n",
       "      <td>22</td>\n",
       "      <td>4</td>\n",
       "      <td>2520</td>\n",
       "    </tr>\n",
       "    <tr>\n",
       "      <th>3</th>\n",
       "      <td>3</td>\n",
       "      <td>227</td>\n",
       "      <td>13</td>\n",
       "      <td>172</td>\n",
       "      <td>45</td>\n",
       "      <td>545</td>\n",
       "      <td>480</td>\n",
       "      <td>757</td>\n",
       "      <td>349</td>\n",
       "      <td>712</td>\n",
       "      <td>...</td>\n",
       "      <td>7</td>\n",
       "      <td>1202</td>\n",
       "      <td>8</td>\n",
       "      <td>24</td>\n",
       "      <td>25</td>\n",
       "      <td>2</td>\n",
       "      <td>9</td>\n",
       "      <td>80</td>\n",
       "      <td>5</td>\n",
       "      <td>2505</td>\n",
       "    </tr>\n",
       "    <tr>\n",
       "      <th>4</th>\n",
       "      <td>0</td>\n",
       "      <td>183</td>\n",
       "      <td>17</td>\n",
       "      <td>174</td>\n",
       "      <td>31</td>\n",
       "      <td>457</td>\n",
       "      <td>632</td>\n",
       "      <td>1153</td>\n",
       "      <td>403</td>\n",
       "      <td>725</td>\n",
       "      <td>...</td>\n",
       "      <td>10</td>\n",
       "      <td>735</td>\n",
       "      <td>2</td>\n",
       "      <td>27</td>\n",
       "      <td>23</td>\n",
       "      <td>22</td>\n",
       "      <td>41</td>\n",
       "      <td>42</td>\n",
       "      <td>7</td>\n",
       "      <td>2244</td>\n",
       "    </tr>\n",
       "    <tr>\n",
       "      <th>...</th>\n",
       "      <td>...</td>\n",
       "      <td>...</td>\n",
       "      <td>...</td>\n",
       "      <td>...</td>\n",
       "      <td>...</td>\n",
       "      <td>...</td>\n",
       "      <td>...</td>\n",
       "      <td>...</td>\n",
       "      <td>...</td>\n",
       "      <td>...</td>\n",
       "      <td>...</td>\n",
       "      <td>...</td>\n",
       "      <td>...</td>\n",
       "      <td>...</td>\n",
       "      <td>...</td>\n",
       "      <td>...</td>\n",
       "      <td>...</td>\n",
       "      <td>...</td>\n",
       "      <td>...</td>\n",
       "      <td>...</td>\n",
       "      <td>...</td>\n",
       "    </tr>\n",
       "    <tr>\n",
       "      <th>154</th>\n",
       "      <td>146</td>\n",
       "      <td>452</td>\n",
       "      <td>633</td>\n",
       "      <td>599</td>\n",
       "      <td>516</td>\n",
       "      <td>1607</td>\n",
       "      <td>1990</td>\n",
       "      <td>1763</td>\n",
       "      <td>680</td>\n",
       "      <td>1512</td>\n",
       "      <td>...</td>\n",
       "      <td>24</td>\n",
       "      <td>173</td>\n",
       "      <td>79</td>\n",
       "      <td>45</td>\n",
       "      <td>38</td>\n",
       "      <td>22</td>\n",
       "      <td>147</td>\n",
       "      <td>59</td>\n",
       "      <td>105</td>\n",
       "      <td>3944</td>\n",
       "    </tr>\n",
       "    <tr>\n",
       "      <th>155</th>\n",
       "      <td>68</td>\n",
       "      <td>582</td>\n",
       "      <td>837</td>\n",
       "      <td>756</td>\n",
       "      <td>491</td>\n",
       "      <td>1635</td>\n",
       "      <td>2086</td>\n",
       "      <td>1920</td>\n",
       "      <td>571</td>\n",
       "      <td>1540</td>\n",
       "      <td>...</td>\n",
       "      <td>28</td>\n",
       "      <td>165</td>\n",
       "      <td>51</td>\n",
       "      <td>29</td>\n",
       "      <td>39</td>\n",
       "      <td>12</td>\n",
       "      <td>146</td>\n",
       "      <td>40</td>\n",
       "      <td>75</td>\n",
       "      <td>3734</td>\n",
       "    </tr>\n",
       "    <tr>\n",
       "      <th>156</th>\n",
       "      <td>41</td>\n",
       "      <td>544</td>\n",
       "      <td>803</td>\n",
       "      <td>724</td>\n",
       "      <td>618</td>\n",
       "      <td>1602</td>\n",
       "      <td>1934</td>\n",
       "      <td>1951</td>\n",
       "      <td>619</td>\n",
       "      <td>1510</td>\n",
       "      <td>...</td>\n",
       "      <td>19</td>\n",
       "      <td>169</td>\n",
       "      <td>62</td>\n",
       "      <td>22</td>\n",
       "      <td>33</td>\n",
       "      <td>7</td>\n",
       "      <td>155</td>\n",
       "      <td>46</td>\n",
       "      <td>111</td>\n",
       "      <td>4067</td>\n",
       "    </tr>\n",
       "    <tr>\n",
       "      <th>157</th>\n",
       "      <td>108</td>\n",
       "      <td>501</td>\n",
       "      <td>905</td>\n",
       "      <td>636</td>\n",
       "      <td>680</td>\n",
       "      <td>1557</td>\n",
       "      <td>2076</td>\n",
       "      <td>1833</td>\n",
       "      <td>573</td>\n",
       "      <td>1514</td>\n",
       "      <td>...</td>\n",
       "      <td>17</td>\n",
       "      <td>157</td>\n",
       "      <td>97</td>\n",
       "      <td>35</td>\n",
       "      <td>24</td>\n",
       "      <td>25</td>\n",
       "      <td>166</td>\n",
       "      <td>44</td>\n",
       "      <td>98</td>\n",
       "      <td>3419</td>\n",
       "    </tr>\n",
       "    <tr>\n",
       "      <th>158</th>\n",
       "      <td>53</td>\n",
       "      <td>531</td>\n",
       "      <td>553</td>\n",
       "      <td>802</td>\n",
       "      <td>424</td>\n",
       "      <td>1498</td>\n",
       "      <td>2089</td>\n",
       "      <td>1932</td>\n",
       "      <td>585</td>\n",
       "      <td>1455</td>\n",
       "      <td>...</td>\n",
       "      <td>11</td>\n",
       "      <td>97</td>\n",
       "      <td>73</td>\n",
       "      <td>39</td>\n",
       "      <td>31</td>\n",
       "      <td>21</td>\n",
       "      <td>216</td>\n",
       "      <td>35</td>\n",
       "      <td>101</td>\n",
       "      <td>2706</td>\n",
       "    </tr>\n",
       "  </tbody>\n",
       "</table>\n",
       "<p>159 rows × 34 columns</p>\n",
       "</div>"
      ],
      "text/plain": [
       "      LA   JK   HP   PB   UT    HR    RJ    UP   BR    GJ  ...  AR    AS  ML  \\\n",
       "0     17  198   26  100   66   393   304   564  216   675  ...   4   548   2   \n",
       "1      1  154   35  116   37   568   350   769  478   681  ...  37   479   3   \n",
       "2     11  170   19  153   64   494   390   972  426   687  ...  20   365   4   \n",
       "3      3  227   13  172   45   545   480   757  349   712  ...   7  1202   8   \n",
       "4      0  183   17  174   31   457   632  1153  403   725  ...  10   735   2   \n",
       "..   ...  ...  ...  ...  ...   ...   ...   ...  ...   ...  ...  ..   ...  ..   \n",
       "154  146  452  633  599  516  1607  1990  1763  680  1512  ...  24   173  79   \n",
       "155   68  582  837  756  491  1635  2086  1920  571  1540  ...  28   165  51   \n",
       "156   41  544  803  724  618  1602  1934  1951  619  1510  ...  19   169  62   \n",
       "157  108  501  905  636  680  1557  2076  1833  573  1514  ...  17   157  97   \n",
       "158   53  531  553  802  424  1498  2089  1932  585  1455  ...  11    97  73   \n",
       "\n",
       "     NL  TR  MZ   MN  PY   CH    DL  \n",
       "0    42   8   0   26  25    6  2442  \n",
       "1    34  39   2   19  63    4  2373  \n",
       "2     4  93   0   37  22    4  2520  \n",
       "3    24  25   2    9  80    5  2505  \n",
       "4    27  23  22   41  42    7  2244  \n",
       "..   ..  ..  ..  ...  ..  ...   ...  \n",
       "154  45  38  22  147  59  105  3944  \n",
       "155  29  39  12  146  40   75  3734  \n",
       "156  22  33   7  155  46  111  4067  \n",
       "157  35  24  25  166  44   98  3419  \n",
       "158  39  31  21  216  35  101  2706  \n",
       "\n",
       "[159 rows x 34 columns]"
      ]
     },
     "execution_count": 79,
     "metadata": {},
     "output_type": "execute_result"
    }
   ],
   "source": [
    "wave_1_data[state_ordered]"
   ]
  },
  {
   "cell_type": "code",
   "execution_count": 80,
   "metadata": {},
   "outputs": [],
   "source": [
    "wave_1_data[state_ordered] = wave_1_data[state_ordered].iloc[1:, :].reset_index(drop=True) - wave_1_data[state_ordered].iloc[:-1, :].reset_index(drop=True)"
   ]
  },
  {
   "cell_type": "code",
   "execution_count": 81,
   "metadata": {},
   "outputs": [],
   "source": [
    "wave_1_data = wave_1_data.iloc[:-1, :]"
   ]
  },
  {
   "cell_type": "code",
   "execution_count": 44,
   "metadata": {},
   "outputs": [],
   "source": [
    "from sklearn.preprocessing import StandardScaler, MinMaxScaler\n",
    "scaler = MinMaxScaler()\n",
    "wave_1_data[state_ordered] = scaler.fit_transform(wave_1_data[state_ordered])"
   ]
  },
  {
   "cell_type": "code",
   "execution_count": 45,
   "metadata": {
    "scrolled": true
   },
   "outputs": [
    {
     "data": {
      "text/plain": [
       "['minmaxscaler.pkl']"
      ]
     },
     "execution_count": 45,
     "metadata": {},
     "output_type": "execute_result"
    }
   ],
   "source": [
    "import joblib \n",
    "joblib.dump(scaler, 'minmaxscaler.pkl') "
   ]
  },
  {
   "cell_type": "code",
   "execution_count": 82,
   "metadata": {},
   "outputs": [],
   "source": [
    "temp_case_data = []\n",
    "for date in wave_1_data['Date']:\n",
    "    cases_on_date = wave_1_data[wave_1_data['Date'] == date].loc[:, state_ordered].values[0].tolist()\n",
    "    temp_case_data.append(cases_on_date)"
   ]
  },
  {
   "cell_type": "code",
   "execution_count": 83,
   "metadata": {},
   "outputs": [],
   "source": [
    "node_ids = dict(zip(states, range(len(states))))"
   ]
  },
  {
   "cell_type": "code",
   "execution_count": 84,
   "metadata": {},
   "outputs": [
    {
     "name": "stderr",
     "output_type": "stream",
     "text": [
      "c:\\users\\siddh\\appdata\\local\\programs\\python\\python37\\lib\\site-packages\\dgl\\base.py:45: DGLWarning: Recommend creating graphs by `dgl.graph(data)` instead of `dgl.DGLGraph(data)`.\n",
      "  return warnings.warn(message, category=category, stacklevel=1)\n"
     ]
    }
   ],
   "source": [
    "G = dgl.DGLGraph()\n",
    "G.add_nodes(34)\n",
    "u, v = build_map_1()\n",
    "G = dgl.graph((u, v))"
   ]
  },
  {
   "cell_type": "code",
   "execution_count": 85,
   "metadata": {},
   "outputs": [
    {
     "name": "stdout",
     "output_type": "stream",
     "text": [
      "34\n",
      "128\n",
      "Graph(num_nodes=34, num_edges=128,\n",
      "      ndata_schemes={}\n",
      "      edata_schemes={})\n"
     ]
    }
   ],
   "source": [
    "print(G.number_of_nodes())\n",
    "print(G.number_of_edges())\n",
    "print(G)"
   ]
  },
  {
   "cell_type": "code",
   "execution_count": 86,
   "metadata": {},
   "outputs": [],
   "source": [
    "edge_list = list(G.to_networkx().edges())\n",
    "for i in range(len(edge_list)):\n",
    "    edge_list[i] = (int(edge_list[i][0]), int(edge_list[i][1]))"
   ]
  },
  {
   "cell_type": "code",
   "execution_count": 87,
   "metadata": {},
   "outputs": [],
   "source": [
    "processed_data = {\n",
    "    \"edges\": edge_list,\n",
    "    \"node_ids\": node_ids,\n",
    "    \"FX\": temp_case_data\n",
    "}"
   ]
  },
  {
   "cell_type": "code",
   "execution_count": 88,
   "metadata": {},
   "outputs": [],
   "source": [
    "data_file = open(\"processed_data.json\", \"w\") \n",
    "json.dump(processed_data, data_file) \n",
    "data_file.close() "
   ]
  },
  {
   "cell_type": "code",
   "execution_count": 89,
   "metadata": {},
   "outputs": [
    {
     "data": {
      "text/plain": [
       "[<matplotlib.lines.Line2D at 0x18a06962f08>]"
      ]
     },
     "execution_count": 89,
     "metadata": {},
     "output_type": "execute_result"
    },
    {
     "data": {
      "image/png": "[encoded data removed]",
      "text/plain": [
       "<Figure size 432x288 with 1 Axes>"
      ]
     },
     "metadata": {
      "needs_background": "light"
     },
     "output_type": "display_data"
    }
   ],
   "source": [
    "plt.plot(wave_1_data[state_ordered].iloc[:, 0].values)"
   ]
  },
  {
   "cell_type": "code",
   "execution_count": 90,
   "metadata": {},
   "outputs": [
    {
     "data": {
      "text/plain": [
       "[<matplotlib.lines.Line2D at 0x18a06ac4708>]"
      ]
     },
     "execution_count": 90,
     "metadata": {},
     "output_type": "execute_result"
    },
    {
     "data": {
      "image/png": "[encoded data removed]",
      "text/plain": [
       "<Figure size 432x288 with 1 Axes>"
      ]
     },
     "metadata": {
      "needs_background": "light"
     },
     "output_type": "display_data"
    }
   ],
   "source": [
    "plt.plot(wave_1_data['AP'])"
   ]
  },
  {
   "cell_type": "code",
   "execution_count": null,
   "metadata": {},
   "outputs": [],
   "source": []
  }
 ],
 "metadata": {
  "kernelspec": {
   "display_name": "Python 3",
   "language": "python",
   "name": "python3"
  },
  "language_info": {
   "codemirror_mode": {
    "name": "ipython",
    "version": 3
   },
   "file_extension": ".py",
   "mimetype": "text/x-python",
   "name": "python",
   "nbconvert_exporter": "python",
   "pygments_lexer": "ipython3",
   "version": "3.7.4"
  }
 },
 "nbformat": 4,
 "nbformat_minor": 2
}
