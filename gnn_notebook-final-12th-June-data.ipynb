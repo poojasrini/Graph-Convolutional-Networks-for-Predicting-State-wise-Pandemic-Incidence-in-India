{
 "cells": [
  {
   "cell_type": "markdown",
   "metadata": {},
   "source": [
    "## Imports"
   ]
  },
  {
   "cell_type": "code",
   "execution_count": 1,
   "metadata": {
    "colab": {
     "base_uri": "https://localhost:8080/"
    },
    "id": "NZQkvXIxws5L",
    "outputId": "e14d17b3-b684-47f2-ae92-a43b874ea854"
   },
   "outputs": [
    {
     "name": "stderr",
     "output_type": "stream",
     "text": [
      "Using backend: pytorch\n"
     ]
    }
   ],
   "source": [
    "import dgl\n",
    "import numpy as np\n",
    "import pandas as pd\n",
    "import networkx as nx\n",
    "import random\n",
    "import itertools\n",
    "\n",
    "from helper_functions import build_map_1"
   ]
  },
  {
   "cell_type": "code",
   "execution_count": 2,
   "metadata": {},
   "outputs": [],
   "source": [
    "import torch\n",
    "import torch.nn as nn\n",
    "import torch.nn.functional as F\n",
    "from dgl.nn.pytorch import GraphConv"
   ]
  },
  {
   "cell_type": "markdown",
   "metadata": {},
   "source": [
    "## Creating the graph:"
   ]
  },
  {
   "cell_type": "code",
   "execution_count": 3,
   "metadata": {
    "id": "TGOS54Tev894"
   },
   "outputs": [],
   "source": [
    "# CONSTANTS\n",
    "\n",
    "n_states = 34"
   ]
  },
  {
   "cell_type": "code",
   "execution_count": 4,
   "metadata": {
    "id": "D__CS6ra7kz-"
   },
   "outputs": [
    {
     "name": "stderr",
     "output_type": "stream",
     "text": [
      "c:\\users\\siddh\\appdata\\local\\programs\\python\\python37\\lib\\site-packages\\dgl\\base.py:45: DGLWarning: Recommend creating graphs by `dgl.graph(data)` instead of `dgl.DGLGraph(data)`.\n",
      "  return warnings.warn(message, category=category, stacklevel=1)\n"
     ]
    }
   ],
   "source": [
    "G = dgl.DGLGraph()\n",
    "G.add_nodes(n_states)\n",
    "u, v = build_map_1()\n",
    "G = dgl.graph((u, v))"
   ]
  },
  {
   "cell_type": "code",
   "execution_count": 5,
   "metadata": {
    "colab": {
     "base_uri": "https://localhost:8080/"
    },
    "id": "Fa4QrYLEoCXr",
    "outputId": "4898a6b4-e01a-4213-a3e8-b551e69c32f3"
   },
   "outputs": [
    {
     "name": "stdout",
     "output_type": "stream",
     "text": [
      "34\n",
      "128\n",
      "Graph(num_nodes=34, num_edges=128,\n",
      "      ndata_schemes={}\n",
      "      edata_schemes={})\n"
     ]
    }
   ],
   "source": [
    "print(G.number_of_nodes())\n",
    "print(G.number_of_edges())\n",
    "print(G)"
   ]
  },
  {
   "cell_type": "code",
   "execution_count": 6,
   "metadata": {
    "colab": {
     "base_uri": "https://localhost:8080/",
     "height": 319
    },
    "id": "FvU3EOCX8Q9-",
    "outputId": "fb343463-d388-4650-d177-325d219a896d"
   },
   "outputs": [],
   "source": [
    "nx_G = G.to_networkx().to_undirected()\n",
    "pos = nx.kamada_kawai_layout(nx_G)\n",
    "\n",
    "nx.draw(nx_G, pos, with_labels=True, node_color=[[.9, .3, .3]])"
   ]
  },
  {
   "cell_type": "code",
   "execution_count": 7,
   "metadata": {},
   "outputs": [],
   "source": [
    "import json\n",
    "cases = json.load(open(\"./data/alldata.json\", \"r\"))"
   ]
  },
  {
   "cell_type": "code",
   "execution_count": 8,
   "metadata": {},
   "outputs": [],
   "source": [
    "states_ = open('./data/state_code_mapping.txt', 'r').read()"
   ]
  },
  {
   "cell_type": "code",
   "execution_count": 9,
   "metadata": {},
   "outputs": [],
   "source": [
    "name_map_dict = dict([[s.rsplit(\" \", 1)[0], s.rsplit(\" \", 1)[1]] for s in states_.split('\\n')])"
   ]
  },
  {
   "cell_type": "markdown",
   "metadata": {},
   "source": [
    "## Loading and pre-processing the data:"
   ]
  },
  {
   "cell_type": "code",
   "execution_count": 10,
   "metadata": {},
   "outputs": [
    {
     "data": {
      "text/plain": [
       "dict_keys(['AN', 'AP', 'AR', 'AS', 'BR', 'CH', 'CT', 'DL', 'DN', 'GA', 'GJ', 'HP', 'HR', 'JH', 'JK', 'KA', 'KL', 'LA', 'LD', 'MH', 'ML', 'MN', 'MP', 'MZ', 'NL', 'OR', 'PB', 'PY', 'RJ', 'SK', 'TG', 'TN', 'TR', 'TT', 'UN', 'UP', 'UT', 'WB'])"
      ]
     },
     "execution_count": 10,
     "metadata": {},
     "output_type": "execute_result"
    }
   ],
   "source": [
    "cases.keys()"
   ]
  },
  {
   "cell_type": "code",
   "execution_count": 11,
   "metadata": {},
   "outputs": [],
   "source": [
    "# manually found this online since data wasn't present in the file\n",
    "cases['LA']['dates']['2020-06-12']['total']['confirmed'] = 239"
   ]
  },
  {
   "cell_type": "code",
   "execution_count": 12,
   "metadata": {},
   "outputs": [],
   "source": [
    "with open('./data/states_list.txt', 'r') as file:\n",
    "    states = file.readlines()\n",
    "\n",
    "for ind in range(len(states) - 1):\n",
    "    states[ind] = states[ind][:-1]"
   ]
  },
  {
   "cell_type": "code",
   "execution_count": 13,
   "metadata": {},
   "outputs": [
    {
     "data": {
      "text/html": [
       "<div>\n",
       "<style scoped>\n",
       "    .dataframe tbody tr th:only-of-type {\n",
       "        vertical-align: middle;\n",
       "    }\n",
       "\n",
       "    .dataframe tbody tr th {\n",
       "        vertical-align: top;\n",
       "    }\n",
       "\n",
       "    .dataframe thead th {\n",
       "        text-align: right;\n",
       "    }\n",
       "</style>\n",
       "<table border=\"1\" class=\"dataframe\">\n",
       "  <thead>\n",
       "    <tr style=\"text-align: right;\">\n",
       "      <th></th>\n",
       "      <th>Rank</th>\n",
       "      <th>State or union territory</th>\n",
       "      <th>Population</th>\n",
       "      <th>National Share (%)</th>\n",
       "      <th>Decadal growth(2001–2012)</th>\n",
       "      <th>Rural population</th>\n",
       "      <th>Percent rural</th>\n",
       "      <th>Urban population</th>\n",
       "      <th>Percent urban</th>\n",
       "      <th>Area[16]</th>\n",
       "      <th>Density[a]</th>\n",
       "      <th>Sex ratio</th>\n",
       "      <th>Foreign Visits</th>\n",
       "      <th>Health Index</th>\n",
       "    </tr>\n",
       "  </thead>\n",
       "  <tbody>\n",
       "    <tr>\n",
       "      <th>0</th>\n",
       "      <td>1</td>\n",
       "      <td>Uttar Pradesh</td>\n",
       "      <td>199,812,341</td>\n",
       "      <td>16.51</td>\n",
       "      <td>20.2%</td>\n",
       "      <td>155,317,278</td>\n",
       "      <td>77.73</td>\n",
       "      <td>44,495,063</td>\n",
       "      <td>22.27</td>\n",
       "      <td>240,928 km2 (93,023 sq mi)</td>\n",
       "      <td>828.0</td>\n",
       "      <td>912</td>\n",
       "      <td>4745181</td>\n",
       "      <td>29.16</td>\n",
       "    </tr>\n",
       "    <tr>\n",
       "      <th>1</th>\n",
       "      <td>2</td>\n",
       "      <td>Maharashtra</td>\n",
       "      <td>112,374,333</td>\n",
       "      <td>9.28</td>\n",
       "      <td>20.0%</td>\n",
       "      <td>61,556,074</td>\n",
       "      <td>54.78</td>\n",
       "      <td>50,818,259</td>\n",
       "      <td>45.22</td>\n",
       "      <td>307,713 km2 (118,809 sq mi)</td>\n",
       "      <td>365.0</td>\n",
       "      <td>929</td>\n",
       "      <td>5528704</td>\n",
       "      <td>64.53</td>\n",
       "    </tr>\n",
       "    <tr>\n",
       "      <th>2</th>\n",
       "      <td>3</td>\n",
       "      <td>Bihar</td>\n",
       "      <td>104,099,452</td>\n",
       "      <td>8.60</td>\n",
       "      <td>25.4%</td>\n",
       "      <td>92,341,436</td>\n",
       "      <td>88.71</td>\n",
       "      <td>11,758,016</td>\n",
       "      <td>11.29</td>\n",
       "      <td>94,163 km2 (36,357 sq mi)</td>\n",
       "      <td>1102.0</td>\n",
       "      <td>918</td>\n",
       "      <td>1093141</td>\n",
       "      <td>32.42</td>\n",
       "    </tr>\n",
       "    <tr>\n",
       "      <th>3</th>\n",
       "      <td>4</td>\n",
       "      <td>West Bengal</td>\n",
       "      <td>91,276,115</td>\n",
       "      <td>7.54</td>\n",
       "      <td>13.8%</td>\n",
       "      <td>62,183,113</td>\n",
       "      <td>68.13</td>\n",
       "      <td>29,093,002</td>\n",
       "      <td>31.87</td>\n",
       "      <td>88,752 km2 (34,267 sq mi)</td>\n",
       "      <td>1029.0</td>\n",
       "      <td>953</td>\n",
       "      <td>1656145</td>\n",
       "      <td>58.25</td>\n",
       "    </tr>\n",
       "    <tr>\n",
       "      <th>4</th>\n",
       "      <td>5</td>\n",
       "      <td>Madhya Pradesh</td>\n",
       "      <td>72,626,809</td>\n",
       "      <td>6.00</td>\n",
       "      <td>16.3%</td>\n",
       "      <td>52,557,404</td>\n",
       "      <td>72.37</td>\n",
       "      <td>20,069,405</td>\n",
       "      <td>27.63</td>\n",
       "      <td>308,245 km2 (119,014 sq mi)</td>\n",
       "      <td>236.0</td>\n",
       "      <td>931</td>\n",
       "      <td>327958</td>\n",
       "      <td>38.69</td>\n",
       "    </tr>\n",
       "  </tbody>\n",
       "</table>\n",
       "</div>"
      ],
      "text/plain": [
       "  Rank State or union territory   Population  National Share (%)  \\\n",
       "0    1            Uttar Pradesh  199,812,341               16.51   \n",
       "1    2              Maharashtra  112,374,333                9.28   \n",
       "2    3                    Bihar  104,099,452                8.60   \n",
       "3    4              West Bengal   91,276,115                7.54   \n",
       "4    5           Madhya Pradesh   72,626,809                6.00   \n",
       "\n",
       "  Decadal growth(2001–2012) Rural population  Percent rural Urban population  \\\n",
       "0                     20.2%      155,317,278          77.73       44,495,063   \n",
       "1                     20.0%       61,556,074          54.78       50,818,259   \n",
       "2                     25.4%       92,341,436          88.71       11,758,016   \n",
       "3                     13.8%       62,183,113          68.13       29,093,002   \n",
       "4                     16.3%       52,557,404          72.37       20,069,405   \n",
       "\n",
       "   Percent urban                     Area[16]  Density[a] Sex ratio  \\\n",
       "0          22.27   240,928 km2 (93,023 sq mi)       828.0       912   \n",
       "1          45.22  307,713 km2 (118,809 sq mi)       365.0       929   \n",
       "2          11.29    94,163 km2 (36,357 sq mi)      1102.0       918   \n",
       "3          31.87    88,752 km2 (34,267 sq mi)      1029.0       953   \n",
       "4          27.63  308,245 km2 (119,014 sq mi)       236.0       931   \n",
       "\n",
       "   Foreign Visits  Health Index  \n",
       "0         4745181         29.16  \n",
       "1         5528704         64.53  \n",
       "2         1093141         32.42  \n",
       "3         1656145         58.25  \n",
       "4          327958         38.69  "
      ]
     },
     "execution_count": 13,
     "metadata": {},
     "output_type": "execute_result"
    }
   ],
   "source": [
    "df = pd.read_csv(\"./data/state_data.csv\")\n",
    "df.head(5)"
   ]
  },
  {
   "cell_type": "code",
   "execution_count": 14,
   "metadata": {},
   "outputs": [],
   "source": [
    "actual_data = pd.read_csv(\"./data/actual_covid_data_17april.csv\")\n",
    "actual_data = actual_data.drop([0, 37]).reset_index(drop=True)\n",
    "actual_data = actual_data.drop([32, 35]).reset_index(drop=True)\n",
    "actual_data.iloc[5, 0] = 'NCT of Delhi'"
   ]
  },
  {
   "cell_type": "code",
   "execution_count": 15,
   "metadata": {},
   "outputs": [
    {
     "name": "stderr",
     "output_type": "stream",
     "text": [
      "c:\\users\\siddh\\appdata\\local\\programs\\python\\python37\\lib\\site-packages\\ipykernel_launcher.py:6: SettingWithCopyWarning: \n",
      "A value is trying to be set on a copy of a slice from a DataFrame.\n",
      "Try using .loc[row_indexer,col_indexer] = value instead\n",
      "\n",
      "See the caveats in the documentation: https://pandas.pydata.org/pandas-docs/stable/user_guide/indexing.html#returning-a-view-versus-a-copy\n",
      "  \n"
     ]
    }
   ],
   "source": [
    "# replacing with data right before the 1st wave (12th June 2020)\n",
    "\n",
    "case_data = actual_data[['State', 'Confirmed']]\n",
    "for state in case_data['State']:\n",
    "    code = name_map_dict[state]\n",
    "    case_data[case_data['State'] == state]['Confirmed'] = cases[code]['dates']['2020-06-12']['total']['confirmed']"
   ]
  },
  {
   "cell_type": "code",
   "execution_count": 16,
   "metadata": {},
   "outputs": [
    {
     "name": "stderr",
     "output_type": "stream",
     "text": [
      "c:\\users\\siddh\\appdata\\local\\programs\\python\\python37\\lib\\site-packages\\ipykernel_launcher.py:1: SettingWithCopyWarning: \n",
      "A value is trying to be set on a copy of a slice from a DataFrame.\n",
      "Try using .loc[row_indexer,col_indexer] = value instead\n",
      "\n",
      "See the caveats in the documentation: https://pandas.pydata.org/pandas-docs/stable/user_guide/indexing.html#returning-a-view-versus-a-copy\n",
      "  \"\"\"Entry point for launching an IPython kernel.\n",
      "c:\\users\\siddh\\appdata\\local\\programs\\python\\python37\\lib\\site-packages\\pandas\\core\\indexing.py:966: SettingWithCopyWarning: \n",
      "A value is trying to be set on a copy of a slice from a DataFrame.\n",
      "Try using .loc[row_indexer,col_indexer] = value instead\n",
      "\n",
      "See the caveats in the documentation: https://pandas.pydata.org/pandas-docs/stable/user_guide/indexing.html#returning-a-view-versus-a-copy\n",
      "  self.obj[item] = s\n"
     ]
    }
   ],
   "source": [
    "case_data['label'] = 0\n",
    "\n",
    "label_1 = case_data['Confirmed'].quantile(q=1/3)\n",
    "label_2 = case_data['Confirmed'].quantile(q=2/3)\n",
    "\n",
    "case_data.iloc[case_data.index[case_data['Confirmed'] >= label_1], 2] = 1\n",
    "case_data.iloc[case_data.index[case_data['Confirmed'] >= label_2], 2] = 2"
   ]
  },
  {
   "cell_type": "code",
   "execution_count": 17,
   "metadata": {},
   "outputs": [],
   "source": [
    "y_true = []\n",
    "for state in states:\n",
    "    y_true.append(case_data[case_data['State'] == state]['label'].values[0])\n",
    "y_true = np.array(y_true)"
   ]
  },
  {
   "cell_type": "code",
   "execution_count": 18,
   "metadata": {},
   "outputs": [],
   "source": [
    "train_ind = [32, 27, 16, 3, 15, 20]\n",
    "train_labels = [0, 0, 1, 1, 2, 2]\n",
    "\n",
    "test_ind = []\n",
    "for i in range(n_states):\n",
    "    if i not in train_ind:\n",
    "        test_ind.append(i)"
   ]
  },
  {
   "cell_type": "markdown",
   "metadata": {},
   "source": [
    "## Encoding the features:"
   ]
  },
  {
   "cell_type": "code",
   "execution_count": 19,
   "metadata": {
    "id": "fjJGvdnmUMDS"
   },
   "outputs": [],
   "source": [
    "#embed = nn.Embedding(n_states, n_states)  \n",
    "\n",
    "#x = torch.arange(0, n_states)\n",
    "#G.ndata['feat'] = torch.nn.functional.one_hot(x).double()\n",
    "\n",
    "#for i in range(n_states):\n",
    "#    G.ndata['feat'][i] = (G.ndata['feat'][i] * df[df['State or union territory'] == states[i]]['National Share (%)'].values[0])\n",
    "#    print(G.ndata['feat'][i])\n",
    "# [21, 12, 5, 10, 27, 32]  [2, 1, 1, 2, 0, 0]"
   ]
  },
  {
   "cell_type": "code",
   "execution_count": 404,
   "metadata": {
    "scrolled": true
   },
   "outputs": [
    {
     "name": "stdout",
     "output_type": "stream",
     "text": [
      "1 Haryana 48046\n",
      "0 Dadra and Nagar Haveli and Daman and Diu 7369\n",
      "2 Kerala 1189771\n",
      "1 Telangana 323326\n",
      "2 Chhattisgarh 6817\n",
      "0 Sikkim 133388\n"
     ]
    }
   ],
   "source": [
    "for i in train_ind:\n",
    "    print(y_true[i], states[i], df[df['State or union territory'] == states[i]]['Foreign Visits'].values[0])"
   ]
  },
  {
   "cell_type": "code",
   "execution_count": 377,
   "metadata": {},
   "outputs": [
    {
     "name": "stdout",
     "output_type": "stream",
     "text": [
      "[5, 14, 21, 19, 11, 23] [1, 0, 2, 1, 2, 0]\n"
     ]
    }
   ],
   "source": [
    "# original\n",
    "train_ind = [32, 27, 16, 3, 15, 20]\n",
    "train_labels = [0, 0, 1, 1, 2, 2]\n",
    "\n",
    "train_ind = [18, 12, 5, 10, 30, 32]  \n",
    "train_labels = [2, 1, 1, 2, 0, 0]\n",
    "\n",
    "#train_ind = random.sample(range(34), k=6)\n",
    "#train_labels = [y_true[i] for i in train_ind]\n",
    "\n",
    "#print(train_ind, train_labels)\n",
    "\n",
    "#train_ind = random.sample([0, 1, 2, 3, 4, 5, 32, 33, 7], k=1) + random.sample([6, 9, 14, 15, 10], k=1) + random.sample([17, 18, 19, 20, 21, 22, 31], k=2) + random.sample([8, 11, 12, 13, 16], k=1) + random.sample([23, 24, 25, 26, 27, 28, 29, 30], k=1) \n",
    "#train_labels = [y_true[i] for i in train_ind]\n",
    "\n",
    "# .82\n",
    "train_ind = [5, 14, 21, 19, 11, 23] \n",
    "train_labels = [1, 0, 2, 1, 2, 0]\n",
    "\n",
    "#train_ind = [30, 10, 20, 12, 32, 14] \n",
    "#train_labels = [y_true[i] for i in train_ind]\n",
    "\n",
    "print(train_ind, train_labels)\n",
    "test_ind = []\n",
    "for i in range(n_states):\n",
    "    if i not in train_ind:\n",
    "        test_ind.append(i)\n",
    "\n",
    "n_feats = 2\n",
    "feats = torch.zeros(n_states, n_feats)\n",
    "for i in range(n_states):\n",
    "    \n",
    "    density = df[df['State or union territory'] == states[i]]['Density[a]'].values[0]\n",
    "    percent_urban = df[df['State or union territory'] == states[i]]['Percent urban'].values[0]\n",
    "    health_index = df[df['State or union territory'] == states[i]]['Health Index'].values[0]\n",
    "    foreign_visits = df[df['State or union territory'] == states[i]]['Foreign Visits'].values[0]\n",
    "    percent_rural = df[df['State or union territory'] == states[i]]['Percent rural'].values[0]\n",
    "    share = df[df['State or union territory'] == states[i]]['National Share (%)'].values[0]\n",
    "    \n",
    "    # adding the features we want: \n",
    "    feats[i] = (torch.Tensor([foreign_visits, density]))\n",
    "    \n",
    "feats = (feats - feats[train_ind, :].mean(axis=0)) / feats[train_ind, :].std(axis=0)"
   ]
  },
  {
   "cell_type": "code",
   "execution_count": 44,
   "metadata": {},
   "outputs": [],
   "source": [
    "acc_dict = {\n",
    "    \"svc\": [],\n",
    "    \"knn\": [],\n",
    "    \"rf\" : [],\n",
    "    \"gcn\": []\n",
    "}"
   ]
  },
  {
   "cell_type": "code",
   "execution_count": 410,
   "metadata": {},
   "outputs": [
    {
     "name": "stdout",
     "output_type": "stream",
     "text": [
      "0.6428571428571429\n",
      "0.35714285714285715\n",
      "0.5714285714285714\n"
     ]
    }
   ],
   "source": [
    "our_data = feats[train_ind, :]\n",
    "\n",
    "from sklearn.linear_model import LogisticRegression\n",
    "from sklearn.neighbors import KNeighborsClassifier\n",
    "from sklearn.svm import SVC\n",
    "from sklearn.ensemble import RandomForestClassifier\n",
    "clf = RandomForestClassifier(n_estimators=32)\n",
    "clf.fit(our_data, train_labels)\n",
    "acc = (clf.predict(feats)[test_ind] == y_true[test_ind]).mean()\n",
    "print(acc)\n",
    "#acc_dict['rf'].append(acc)\n",
    "\n",
    "clf = KNeighborsClassifier(n_neighbors=5)\n",
    "clf.fit(our_data, train_labels)\n",
    "acc = (clf.predict(feats)[test_ind] == y_true[test_ind]).mean()\n",
    "print(acc)\n",
    "#acc_dict['knn'].append(acc)     \n",
    "\n",
    "clf = SVC()\n",
    "clf.fit(our_data, train_labels)\n",
    "acc = (clf.predict(feats)[test_ind] == y_true[test_ind]).mean()\n",
    "print(acc)\n",
    "#acc_dict['svc'].append(acc)"
   ]
  },
  {
   "cell_type": "markdown",
   "metadata": {},
   "source": [
    "## Creating and training the model:"
   ]
  },
  {
   "cell_type": "code",
   "execution_count": 379,
   "metadata": {
    "id": "RiULmJnUrson"
   },
   "outputs": [],
   "source": [
    "class GCN(nn.Module):\n",
    "    def __init__(self, in_feats, hidden_size, num_classes):\n",
    "        super(GCN, self).__init__()\n",
    "        self.conv1 = GraphConv(in_feats, hidden_size)\n",
    "        self.conv2 = GraphConv(hidden_size, num_classes)\n",
    "\n",
    "    def forward(self, g, inputs):\n",
    "        h = self.conv1(g, inputs)\n",
    "        h = F.leaky_relu(h)\n",
    "        h = self.conv2(g, h)\n",
    "        return h"
   ]
  },
  {
   "cell_type": "code",
   "execution_count": 381,
   "metadata": {
    "colab": {
     "base_uri": "https://localhost:8080/"
    },
    "id": "DnXReHAnsfNS",
    "outputId": "4021c6df-8943-47d8-e83f-5f8e70ea6c95"
   },
   "outputs": [
    {
     "name": "stdout",
     "output_type": "stream",
     "text": [
      "Epoch:   0 Train Loss: 1.2599 Train Acc: 0.3333 Val Acc: 0.3214\n",
      "Epoch:  20 Train Loss: 0.8555 Train Acc: 0.6667 Val Acc: 0.5357\n",
      "Epoch:  40 Train Loss: 0.7012 Train Acc: 0.8333 Val Acc: 0.6786\n",
      "Epoch:  60 Train Loss: 0.5699 Train Acc: 0.8333 Val Acc: 0.8571\n",
      "Epoch:  80 Train Loss: 0.4657 Train Acc: 0.8333 Val Acc: 0.8571\n",
      "Epoch: 100 Train Loss: 0.3883 Train Acc: 1.0000 Val Acc: 0.8571\n"
     ]
    }
   ],
   "source": [
    "#embed = nn.Embedding(n_states, n_feats)  \n",
    "#inputs = embed.weight\n",
    "#labeled_nodes = torch.tensor([32, 27, 3, 4, 15, 20])  \n",
    "#labels = torch.tensor([0, 0, 1, 1, 2, 2])  \n",
    "\n",
    "labeled_nodes = torch.tensor(train_ind)  \n",
    "labels = torch.tensor(train_labels) \n",
    "\n",
    "epochs = 200\n",
    "net = GCN(n_feats, 12, 3)\n",
    "optimizer = torch.optim.Adam(net.parameters(), lr=0.01)\n",
    "all_logits = []\n",
    "\n",
    "for epoch in range(epochs + 1):\n",
    "    logits = net(G, feats)\n",
    "    all_logits.append(logits.detach())\n",
    "    logp = F.log_softmax(logits, dim=1)\n",
    "    loss = F.nll_loss(logp[labeled_nodes], labels)\n",
    "    optimizer.zero_grad()\n",
    "    loss.backward()\n",
    "    optimizer.step()\n",
    "\n",
    "    if epoch % 20 == 0:\n",
    "        train_acc = (np.array(y_true)[train_ind] == all_logits[-1].argmax(axis=1).numpy()[train_ind]).mean()\n",
    "        test_acc = (np.array(y_true)[test_ind] == all_logits[-1].argmax(axis=1).numpy()[test_ind]).mean()\n",
    "        #print(f'Epoch: {epoch}\\nLoss: {round(loss.item(), 4)} Test Accuracy: {round(acc, 4)} Train Acc: {round(acc2, 4)}')\n",
    "        print(\"Epoch: %3d Train Loss: %.4f Train Acc: %.4f Val Acc: %.4f\" % (epoch, round(loss.item(), 4), round(train_acc, 4), round(test_acc, 4)))\n",
    "        if round(train_acc, 4) == 1:#0.8214:\n",
    "            break"
   ]
  },
  {
   "cell_type": "code",
   "execution_count": 180,
   "metadata": {},
   "outputs": [
    {
     "name": "stdout",
     "output_type": "stream",
     "text": [
      "0.7857142857142857\n"
     ]
    }
   ],
   "source": [
    "test_acc = (np.array(y_true)[test_ind] == all_logits[-1].argmax(axis=1).numpy()[test_ind]).mean()\n",
    "print(test_acc)\n",
    "acc_dict['gcn'].append(test_acc)"
   ]
  },
  {
   "cell_type": "code",
   "execution_count": 200,
   "metadata": {},
   "outputs": [],
   "source": [
    "#list(map(lambda el: acc_dict[el].pop(), acc_dict))"
   ]
  },
  {
   "cell_type": "code",
   "execution_count": 181,
   "metadata": {},
   "outputs": [
    {
     "data": {
      "text/plain": [
       "{'svc': [0.39285714285714285,\n",
       "  0.42857142857142855,\n",
       "  0.35714285714285715,\n",
       "  0.32142857142857145,\n",
       "  0.39285714285714285,\n",
       "  0.5,\n",
       "  0.2857142857142857,\n",
       "  0.32142857142857145,\n",
       "  0.42857142857142855,\n",
       "  0.5714285714285714],\n",
       " 'knn': [0.32142857142857145,\n",
       "  0.39285714285714285,\n",
       "  0.35714285714285715,\n",
       "  0.42857142857142855,\n",
       "  0.32142857142857145,\n",
       "  0.32142857142857145,\n",
       "  0.2857142857142857,\n",
       "  0.2857142857142857,\n",
       "  0.35714285714285715,\n",
       "  0.35714285714285715],\n",
       " 'rf': [0.35714285714285715,\n",
       "  0.6428571428571429,\n",
       "  0.6428571428571429,\n",
       "  0.5,\n",
       "  0.5714285714285714,\n",
       "  0.5714285714285714,\n",
       "  0.5357142857142857,\n",
       "  0.6785714285714286,\n",
       "  0.5,\n",
       "  0.6071428571428571],\n",
       " 'gcn': [0.6071428571428571,\n",
       "  0.6785714285714286,\n",
       "  0.75,\n",
       "  0.6428571428571429,\n",
       "  0.6071428571428571,\n",
       "  0.7142857142857143,\n",
       "  0.6071428571428571,\n",
       "  0.7142857142857143,\n",
       "  0.5714285714285714,\n",
       "  0.7857142857142857]}"
      ]
     },
     "execution_count": 181,
     "metadata": {},
     "output_type": "execute_result"
    }
   ],
   "source": [
    "acc_dict"
   ]
  },
  {
   "cell_type": "code",
   "execution_count": 263,
   "metadata": {},
   "outputs": [
    {
     "name": "stdout",
     "output_type": "stream",
     "text": [
      "svc 0.5714285714285714 0.4\n",
      "knn 0.42857142857142855 0.34285714285714286\n",
      "rf 0.6785714285714286 0.5607142857142857\n",
      "gcn 0.8214 0.6714257142857142\n"
     ]
    }
   ],
   "source": [
    "for mod in acc_dict:\n",
    "    print(mod, max(acc_dict[mod]), sum(acc_dict[mod]) / len(acc_dict[mod]))"
   ]
  },
  {
   "cell_type": "markdown",
   "metadata": {},
   "source": [
    "## Results:"
   ]
  },
  {
   "cell_type": "code",
   "execution_count": 388,
   "metadata": {
    "id": "LNDkozLeGMGi"
   },
   "outputs": [],
   "source": [
    "op_df = pd.DataFrame(all_logits[-1][:].numpy())\n",
    "op_list = []\n",
    "\n",
    "for i in range(n_states):\n",
    "    op_list.append((all_logits[-1][i].numpy().argmax()))\n",
    "\n",
    "op_df['preds'] = pd.Series(op_list)\n",
    "op_df['State'] = states"
   ]
  },
  {
   "cell_type": "code",
   "execution_count": 389,
   "metadata": {},
   "outputs": [
    {
     "data": {
      "text/plain": [
       "0.8823529411764706"
      ]
     },
     "execution_count": 389,
     "metadata": {},
     "output_type": "execute_result"
    }
   ],
   "source": [
    "final_df = pd.merge(op_df, case_data, on='State')#.sort_values('label', ascending=False)[['State', 'preds', 'label']]\n",
    "(final_df['preds'] == final_df['label']).mean()"
   ]
  },
  {
   "cell_type": "code",
   "execution_count": 390,
   "metadata": {},
   "outputs": [
    {
     "data": {
      "text/html": [
       "<div>\n",
       "<style scoped>\n",
       "    .dataframe tbody tr th:only-of-type {\n",
       "        vertical-align: middle;\n",
       "    }\n",
       "\n",
       "    .dataframe tbody tr th {\n",
       "        vertical-align: top;\n",
       "    }\n",
       "\n",
       "    .dataframe thead th {\n",
       "        text-align: right;\n",
       "    }\n",
       "</style>\n",
       "<table border=\"1\" class=\"dataframe\">\n",
       "  <thead>\n",
       "    <tr style=\"text-align: right;\">\n",
       "      <th></th>\n",
       "      <th>0</th>\n",
       "      <th>1</th>\n",
       "      <th>2</th>\n",
       "      <th>preds</th>\n",
       "      <th>State</th>\n",
       "      <th>Confirmed</th>\n",
       "      <th>label</th>\n",
       "    </tr>\n",
       "  </thead>\n",
       "  <tbody>\n",
       "    <tr>\n",
       "      <th>0</th>\n",
       "      <td>8.336432</td>\n",
       "      <td>2.739926</td>\n",
       "      <td>-6.445020</td>\n",
       "      <td>0</td>\n",
       "      <td>Ladakh</td>\n",
       "      <td>11709</td>\n",
       "      <td>0</td>\n",
       "    </tr>\n",
       "    <tr>\n",
       "      <th>1</th>\n",
       "      <td>1.359403</td>\n",
       "      <td>1.620766</td>\n",
       "      <td>-5.881773</td>\n",
       "      <td>1</td>\n",
       "      <td>Jammu and Kashmir</td>\n",
       "      <td>145166</td>\n",
       "      <td>1</td>\n",
       "    </tr>\n",
       "    <tr>\n",
       "      <th>2</th>\n",
       "      <td>-10.149055</td>\n",
       "      <td>-0.705744</td>\n",
       "      <td>-4.284385</td>\n",
       "      <td>1</td>\n",
       "      <td>Himachal Pradesh</td>\n",
       "      <td>75587</td>\n",
       "      <td>1</td>\n",
       "    </tr>\n",
       "    <tr>\n",
       "      <th>3</th>\n",
       "      <td>-4.837475</td>\n",
       "      <td>0.020606</td>\n",
       "      <td>-4.378413</td>\n",
       "      <td>1</td>\n",
       "      <td>Punjab</td>\n",
       "      <td>290707</td>\n",
       "      <td>1</td>\n",
       "    </tr>\n",
       "    <tr>\n",
       "      <th>4</th>\n",
       "      <td>-2.374469</td>\n",
       "      <td>0.079920</td>\n",
       "      <td>-2.926488</td>\n",
       "      <td>1</td>\n",
       "      <td>Uttarakhand</td>\n",
       "      <td>121403</td>\n",
       "      <td>1</td>\n",
       "    </tr>\n",
       "    <tr>\n",
       "      <th>5</th>\n",
       "      <td>-6.507901</td>\n",
       "      <td>-0.980952</td>\n",
       "      <td>-2.242189</td>\n",
       "      <td>1</td>\n",
       "      <td>Haryana</td>\n",
       "      <td>342077</td>\n",
       "      <td>1</td>\n",
       "    </tr>\n",
       "    <tr>\n",
       "      <th>6</th>\n",
       "      <td>-20.968472</td>\n",
       "      <td>-3.912248</td>\n",
       "      <td>0.516029</td>\n",
       "      <td>2</td>\n",
       "      <td>Rajasthan</td>\n",
       "      <td>404355</td>\n",
       "      <td>2</td>\n",
       "    </tr>\n",
       "    <tr>\n",
       "      <th>7</th>\n",
       "      <td>-13.620948</td>\n",
       "      <td>-2.756685</td>\n",
       "      <td>0.532975</td>\n",
       "      <td>2</td>\n",
       "      <td>Uttar Pradesh</td>\n",
       "      <td>821054</td>\n",
       "      <td>2</td>\n",
       "    </tr>\n",
       "    <tr>\n",
       "      <th>8</th>\n",
       "      <td>-4.334144</td>\n",
       "      <td>-0.934465</td>\n",
       "      <td>-1.348792</td>\n",
       "      <td>1</td>\n",
       "      <td>Bihar</td>\n",
       "      <td>307557</td>\n",
       "      <td>1</td>\n",
       "    </tr>\n",
       "    <tr>\n",
       "      <th>9</th>\n",
       "      <td>-1.968250</td>\n",
       "      <td>-0.765931</td>\n",
       "      <td>-0.761814</td>\n",
       "      <td>2</td>\n",
       "      <td>Gujarat</td>\n",
       "      <td>384688</td>\n",
       "      <td>2</td>\n",
       "    </tr>\n",
       "    <tr>\n",
       "      <th>10</th>\n",
       "      <td>-4.651919</td>\n",
       "      <td>-1.234836</td>\n",
       "      <td>-0.625335</td>\n",
       "      <td>2</td>\n",
       "      <td>Madhya Pradesh</td>\n",
       "      <td>384563</td>\n",
       "      <td>2</td>\n",
       "    </tr>\n",
       "    <tr>\n",
       "      <th>11</th>\n",
       "      <td>-4.388391</td>\n",
       "      <td>-1.215237</td>\n",
       "      <td>-1.020510</td>\n",
       "      <td>2</td>\n",
       "      <td>Chhattisgarh</td>\n",
       "      <td>516412</td>\n",
       "      <td>2</td>\n",
       "    </tr>\n",
       "    <tr>\n",
       "      <th>12</th>\n",
       "      <td>-3.550543</td>\n",
       "      <td>-0.811381</td>\n",
       "      <td>-1.573375</td>\n",
       "      <td>1</td>\n",
       "      <td>Jharkhand</td>\n",
       "      <td>155115</td>\n",
       "      <td>1</td>\n",
       "    </tr>\n",
       "    <tr>\n",
       "      <th>13</th>\n",
       "      <td>-0.201365</td>\n",
       "      <td>0.328390</td>\n",
       "      <td>-2.808434</td>\n",
       "      <td>1</td>\n",
       "      <td>West Bengal</td>\n",
       "      <td>651508</td>\n",
       "      <td>2</td>\n",
       "    </tr>\n",
       "    <tr>\n",
       "      <th>14</th>\n",
       "      <td>0.660369</td>\n",
       "      <td>-0.297645</td>\n",
       "      <td>-1.272878</td>\n",
       "      <td>0</td>\n",
       "      <td>Dadra and Nagar Haveli and Daman and Diu</td>\n",
       "      <td>4568</td>\n",
       "      <td>0</td>\n",
       "    </tr>\n",
       "    <tr>\n",
       "      <th>15</th>\n",
       "      <td>-6.056616</td>\n",
       "      <td>-1.620767</td>\n",
       "      <td>0.222537</td>\n",
       "      <td>2</td>\n",
       "      <td>Maharashtra</td>\n",
       "      <td>3703584</td>\n",
       "      <td>2</td>\n",
       "    </tr>\n",
       "    <tr>\n",
       "      <th>16</th>\n",
       "      <td>-0.529539</td>\n",
       "      <td>-0.384119</td>\n",
       "      <td>-1.308678</td>\n",
       "      <td>1</td>\n",
       "      <td>Odisha</td>\n",
       "      <td>364594</td>\n",
       "      <td>1</td>\n",
       "    </tr>\n",
       "    <tr>\n",
       "      <th>17</th>\n",
       "      <td>-0.850873</td>\n",
       "      <td>-0.477824</td>\n",
       "      <td>-1.115511</td>\n",
       "      <td>1</td>\n",
       "      <td>Goa</td>\n",
       "      <td>66261</td>\n",
       "      <td>1</td>\n",
       "    </tr>\n",
       "    <tr>\n",
       "      <th>18</th>\n",
       "      <td>-5.577538</td>\n",
       "      <td>-1.445095</td>\n",
       "      <td>-0.461071</td>\n",
       "      <td>2</td>\n",
       "      <td>Karnataka</td>\n",
       "      <td>1141998</td>\n",
       "      <td>2</td>\n",
       "    </tr>\n",
       "    <tr>\n",
       "      <th>19</th>\n",
       "      <td>-1.961885</td>\n",
       "      <td>-0.740891</td>\n",
       "      <td>-0.753172</td>\n",
       "      <td>1</td>\n",
       "      <td>Telangana</td>\n",
       "      <td>346331</td>\n",
       "      <td>1</td>\n",
       "    </tr>\n",
       "    <tr>\n",
       "      <th>20</th>\n",
       "      <td>-3.581290</td>\n",
       "      <td>-1.226105</td>\n",
       "      <td>-0.587204</td>\n",
       "      <td>2</td>\n",
       "      <td>Andhra Pradesh</td>\n",
       "      <td>955455</td>\n",
       "      <td>2</td>\n",
       "    </tr>\n",
       "    <tr>\n",
       "      <th>21</th>\n",
       "      <td>-5.832585</td>\n",
       "      <td>-1.557529</td>\n",
       "      <td>0.160531</td>\n",
       "      <td>2</td>\n",
       "      <td>Kerala</td>\n",
       "      <td>1221168</td>\n",
       "      <td>2</td>\n",
       "    </tr>\n",
       "    <tr>\n",
       "      <th>22</th>\n",
       "      <td>-12.647258</td>\n",
       "      <td>-2.361637</td>\n",
       "      <td>0.989440</td>\n",
       "      <td>2</td>\n",
       "      <td>Tamil Nadu</td>\n",
       "      <td>971384</td>\n",
       "      <td>2</td>\n",
       "    </tr>\n",
       "    <tr>\n",
       "      <th>23</th>\n",
       "      <td>3.856583</td>\n",
       "      <td>0.654785</td>\n",
       "      <td>-2.772319</td>\n",
       "      <td>0</td>\n",
       "      <td>Sikkim</td>\n",
       "      <td>6519</td>\n",
       "      <td>0</td>\n",
       "    </tr>\n",
       "    <tr>\n",
       "      <th>24</th>\n",
       "      <td>10.621128</td>\n",
       "      <td>4.674181</td>\n",
       "      <td>-8.808664</td>\n",
       "      <td>0</td>\n",
       "      <td>Arunachal Pradesh</td>\n",
       "      <td>16948</td>\n",
       "      <td>0</td>\n",
       "    </tr>\n",
       "    <tr>\n",
       "      <th>25</th>\n",
       "      <td>17.630684</td>\n",
       "      <td>7.942176</td>\n",
       "      <td>-14.792749</td>\n",
       "      <td>0</td>\n",
       "      <td>Assam</td>\n",
       "      <td>222940</td>\n",
       "      <td>1</td>\n",
       "    </tr>\n",
       "    <tr>\n",
       "      <th>26</th>\n",
       "      <td>6.788625</td>\n",
       "      <td>2.570681</td>\n",
       "      <td>-5.445159</td>\n",
       "      <td>0</td>\n",
       "      <td>Meghalaya</td>\n",
       "      <td>14798</td>\n",
       "      <td>0</td>\n",
       "    </tr>\n",
       "    <tr>\n",
       "      <th>27</th>\n",
       "      <td>12.434414</td>\n",
       "      <td>5.535943</td>\n",
       "      <td>-10.361236</td>\n",
       "      <td>0</td>\n",
       "      <td>Nagaland</td>\n",
       "      <td>12504</td>\n",
       "      <td>0</td>\n",
       "    </tr>\n",
       "    <tr>\n",
       "      <th>28</th>\n",
       "      <td>9.284251</td>\n",
       "      <td>3.866583</td>\n",
       "      <td>-7.621674</td>\n",
       "      <td>0</td>\n",
       "      <td>Tripura</td>\n",
       "      <td>33930</td>\n",
       "      <td>0</td>\n",
       "    </tr>\n",
       "    <tr>\n",
       "      <th>29</th>\n",
       "      <td>12.675437</td>\n",
       "      <td>5.667872</td>\n",
       "      <td>-10.566583</td>\n",
       "      <td>0</td>\n",
       "      <td>Mizoram</td>\n",
       "      <td>4809</td>\n",
       "      <td>0</td>\n",
       "    </tr>\n",
       "    <tr>\n",
       "      <th>30</th>\n",
       "      <td>12.290418</td>\n",
       "      <td>5.518915</td>\n",
       "      <td>-10.253826</td>\n",
       "      <td>0</td>\n",
       "      <td>Manipur</td>\n",
       "      <td>29610</td>\n",
       "      <td>0</td>\n",
       "    </tr>\n",
       "    <tr>\n",
       "      <th>31</th>\n",
       "      <td>-4.254689</td>\n",
       "      <td>-1.394898</td>\n",
       "      <td>-0.063553</td>\n",
       "      <td>2</td>\n",
       "      <td>Puducherry</td>\n",
       "      <td>47108</td>\n",
       "      <td>0</td>\n",
       "    </tr>\n",
       "    <tr>\n",
       "      <th>32</th>\n",
       "      <td>-23.397354</td>\n",
       "      <td>-4.299700</td>\n",
       "      <td>0.356637</td>\n",
       "      <td>2</td>\n",
       "      <td>Chandigarh</td>\n",
       "      <td>32878</td>\n",
       "      <td>0</td>\n",
       "    </tr>\n",
       "    <tr>\n",
       "      <th>33</th>\n",
       "      <td>-22.565664</td>\n",
       "      <td>-4.148842</td>\n",
       "      <td>0.651171</td>\n",
       "      <td>2</td>\n",
       "      <td>NCT of Delhi</td>\n",
       "      <td>803623</td>\n",
       "      <td>2</td>\n",
       "    </tr>\n",
       "  </tbody>\n",
       "</table>\n",
       "</div>"
      ],
      "text/plain": [
       "            0         1          2  preds  \\\n",
       "0    8.336432  2.739926  -6.445020      0   \n",
       "1    1.359403  1.620766  -5.881773      1   \n",
       "2  -10.149055 -0.705744  -4.284385      1   \n",
       "3   -4.837475  0.020606  -4.378413      1   \n",
       "4   -2.374469  0.079920  -2.926488      1   \n",
       "5   -6.507901 -0.980952  -2.242189      1   \n",
       "6  -20.968472 -3.912248   0.516029      2   \n",
       "7  -13.620948 -2.756685   0.532975      2   \n",
       "8   -4.334144 -0.934465  -1.348792      1   \n",
       "9   -1.968250 -0.765931  -0.761814      2   \n",
       "10  -4.651919 -1.234836  -0.625335      2   \n",
       "11  -4.388391 -1.215237  -1.020510      2   \n",
       "12  -3.550543 -0.811381  -1.573375      1   \n",
       "13  -0.201365  0.328390  -2.808434      1   \n",
       "14   0.660369 -0.297645  -1.272878      0   \n",
       "15  -6.056616 -1.620767   0.222537      2   \n",
       "16  -0.529539 -0.384119  -1.308678      1   \n",
       "17  -0.850873 -0.477824  -1.115511      1   \n",
       "18  -5.577538 -1.445095  -0.461071      2   \n",
       "19  -1.961885 -0.740891  -0.753172      1   \n",
       "20  -3.581290 -1.226105  -0.587204      2   \n",
       "21  -5.832585 -1.557529   0.160531      2   \n",
       "22 -12.647258 -2.361637   0.989440      2   \n",
       "23   3.856583  0.654785  -2.772319      0   \n",
       "24  10.621128  4.674181  -8.808664      0   \n",
       "25  17.630684  7.942176 -14.792749      0   \n",
       "26   6.788625  2.570681  -5.445159      0   \n",
       "27  12.434414  5.535943 -10.361236      0   \n",
       "28   9.284251  3.866583  -7.621674      0   \n",
       "29  12.675437  5.667872 -10.566583      0   \n",
       "30  12.290418  5.518915 -10.253826      0   \n",
       "31  -4.254689 -1.394898  -0.063553      2   \n",
       "32 -23.397354 -4.299700   0.356637      2   \n",
       "33 -22.565664 -4.148842   0.651171      2   \n",
       "\n",
       "                                       State  Confirmed  label  \n",
       "0                                     Ladakh      11709      0  \n",
       "1                          Jammu and Kashmir     145166      1  \n",
       "2                           Himachal Pradesh      75587      1  \n",
       "3                                     Punjab     290707      1  \n",
       "4                                Uttarakhand     121403      1  \n",
       "5                                    Haryana     342077      1  \n",
       "6                                  Rajasthan     404355      2  \n",
       "7                              Uttar Pradesh     821054      2  \n",
       "8                                      Bihar     307557      1  \n",
       "9                                    Gujarat     384688      2  \n",
       "10                            Madhya Pradesh     384563      2  \n",
       "11                              Chhattisgarh     516412      2  \n",
       "12                                 Jharkhand     155115      1  \n",
       "13                               West Bengal     651508      2  \n",
       "14  Dadra and Nagar Haveli and Daman and Diu       4568      0  \n",
       "15                               Maharashtra    3703584      2  \n",
       "16                                    Odisha     364594      1  \n",
       "17                                       Goa      66261      1  \n",
       "18                                 Karnataka    1141998      2  \n",
       "19                                 Telangana     346331      1  \n",
       "20                            Andhra Pradesh     955455      2  \n",
       "21                                    Kerala    1221168      2  \n",
       "22                                Tamil Nadu     971384      2  \n",
       "23                                    Sikkim       6519      0  \n",
       "24                         Arunachal Pradesh      16948      0  \n",
       "25                                     Assam     222940      1  \n",
       "26                                 Meghalaya      14798      0  \n",
       "27                                  Nagaland      12504      0  \n",
       "28                                   Tripura      33930      0  \n",
       "29                                   Mizoram       4809      0  \n",
       "30                                   Manipur      29610      0  \n",
       "31                                Puducherry      47108      0  \n",
       "32                                Chandigarh      32878      0  \n",
       "33                              NCT of Delhi     803623      2  "
      ]
     },
     "execution_count": 390,
     "metadata": {},
     "output_type": "execute_result"
    }
   ],
   "source": [
    "final_df"
   ]
  },
  {
   "cell_type": "code",
   "execution_count": 391,
   "metadata": {},
   "outputs": [
    {
     "data": {
      "text/plain": [
       "2    13\n",
       "1    11\n",
       "0    10\n",
       "Name: preds, dtype: int64"
      ]
     },
     "execution_count": 391,
     "metadata": {},
     "output_type": "execute_result"
    }
   ],
   "source": [
    "final_df['preds'].value_counts()"
   ]
  },
  {
   "cell_type": "code",
   "execution_count": 392,
   "metadata": {},
   "outputs": [
    {
     "data": {
      "text/plain": [
       "2    12\n",
       "1    11\n",
       "0    11\n",
       "Name: label, dtype: int64"
      ]
     },
     "execution_count": 392,
     "metadata": {},
     "output_type": "execute_result"
    }
   ],
   "source": [
    "final_df['label'].value_counts()"
   ]
  },
  {
   "cell_type": "code",
   "execution_count": 393,
   "metadata": {},
   "outputs": [
    {
     "data": {
      "text/html": [
       "<div>\n",
       "<style scoped>\n",
       "    .dataframe tbody tr th:only-of-type {\n",
       "        vertical-align: middle;\n",
       "    }\n",
       "\n",
       "    .dataframe tbody tr th {\n",
       "        vertical-align: top;\n",
       "    }\n",
       "\n",
       "    .dataframe thead th {\n",
       "        text-align: right;\n",
       "    }\n",
       "</style>\n",
       "<table border=\"1\" class=\"dataframe\">\n",
       "  <thead>\n",
       "    <tr style=\"text-align: right;\">\n",
       "      <th></th>\n",
       "      <th>0</th>\n",
       "      <th>1</th>\n",
       "      <th>2</th>\n",
       "      <th>preds</th>\n",
       "      <th>State</th>\n",
       "      <th>Confirmed</th>\n",
       "      <th>label</th>\n",
       "    </tr>\n",
       "  </thead>\n",
       "  <tbody>\n",
       "    <tr>\n",
       "      <th>13</th>\n",
       "      <td>-0.201365</td>\n",
       "      <td>0.328390</td>\n",
       "      <td>-2.808434</td>\n",
       "      <td>1</td>\n",
       "      <td>West Bengal</td>\n",
       "      <td>651508</td>\n",
       "      <td>2</td>\n",
       "    </tr>\n",
       "    <tr>\n",
       "      <th>25</th>\n",
       "      <td>17.630684</td>\n",
       "      <td>7.942176</td>\n",
       "      <td>-14.792749</td>\n",
       "      <td>0</td>\n",
       "      <td>Assam</td>\n",
       "      <td>222940</td>\n",
       "      <td>1</td>\n",
       "    </tr>\n",
       "    <tr>\n",
       "      <th>31</th>\n",
       "      <td>-4.254689</td>\n",
       "      <td>-1.394898</td>\n",
       "      <td>-0.063553</td>\n",
       "      <td>2</td>\n",
       "      <td>Puducherry</td>\n",
       "      <td>47108</td>\n",
       "      <td>0</td>\n",
       "    </tr>\n",
       "    <tr>\n",
       "      <th>32</th>\n",
       "      <td>-23.397354</td>\n",
       "      <td>-4.299700</td>\n",
       "      <td>0.356637</td>\n",
       "      <td>2</td>\n",
       "      <td>Chandigarh</td>\n",
       "      <td>32878</td>\n",
       "      <td>0</td>\n",
       "    </tr>\n",
       "  </tbody>\n",
       "</table>\n",
       "</div>"
      ],
      "text/plain": [
       "            0         1          2  preds        State  Confirmed  label\n",
       "13  -0.201365  0.328390  -2.808434      1  West Bengal     651508      2\n",
       "25  17.630684  7.942176 -14.792749      0        Assam     222940      1\n",
       "31  -4.254689 -1.394898  -0.063553      2   Puducherry      47108      0\n",
       "32 -23.397354 -4.299700   0.356637      2   Chandigarh      32878      0"
      ]
     },
     "execution_count": 393,
     "metadata": {},
     "output_type": "execute_result"
    }
   ],
   "source": [
    "final_df[final_df['preds'] != final_df['label']]"
   ]
  },
  {
   "cell_type": "code",
   "execution_count": 394,
   "metadata": {
    "scrolled": false
   },
   "outputs": [],
   "source": [
    "#!pip install chart_studio\n",
    "import plotly.express as px\n",
    "import chart_studio.plotly as py"
   ]
  },
  {
   "cell_type": "code",
   "execution_count": 395,
   "metadata": {},
   "outputs": [],
   "source": [
    "st = '''Andhra Pradesh\t15.91°N\t79.74°E\n",
    "Arunachal Pradesh\t28.21°N\t94.72°E\n",
    "Assam\t26.20°N\t92.93°E\n",
    "Bihar\t25.09°N\t85.31°E\n",
    "Chhattisgarh\t21.27°N\t81.86°E\n",
    "Goa\t15.29°N\t74.12°E\n",
    "Gujarat\t22.25°N\t71.19°E\n",
    "Haryana\t29.05°N\t76.08°E\n",
    "Himachal Pradesh\t31.10°N\t77.17°E\n",
    "Jammu and Kashmir\t33.77 °N\t76.57°E\n",
    "Jharkhand\t23.61°N\t85.27°E\n",
    "Karnataka\t15.31°N\t75.71°E\n",
    "Kerala\t10.85°N\t76.27°E\n",
    "Madhya Pradesh\t22.97°N\t78.65°E\n",
    "Maharashtra\t19.75°N\t75.71°E\n",
    "Manipur\t24.66°N\t93.90°E\n",
    "Meghalaya\t25.46°N\t91.36°E\n",
    "Mizoram\t23.16°N\t92.93°E\n",
    "Nagaland\t26.15°N\t94.56°E\n",
    "Odisha\t20.95°N\t85.09°E\n",
    "Punjab\t31.14°N\t75.34°E\n",
    "Rajasthan\t27.02°N\t74.21°E\n",
    "Sikkim\t27.53°N\t88.51°E\n",
    "Tamil Nadu\t11.12°N\t78.65°E\n",
    "Tripura\t23.94°N\t91.98°E\n",
    "Uttarakhand\t30.06°N\t79.01°E\n",
    "Uttar Pradesh\t26.84°N\t80.94°E\n",
    "West Bengal\t22.98°N\t87.85°E'''"
   ]
  },
  {
   "cell_type": "code",
   "execution_count": 396,
   "metadata": {},
   "outputs": [],
   "source": [
    "arr = st.split('\\n')\n",
    "vals = []\n",
    "\n",
    "for i, ar in enumerate(arr):\n",
    "    d = arr[i].split('\\t')\n",
    "    vals.append([d[0], float(d[1][:-2].strip()), float(d[2][:-2].strip())])\n",
    "    \n",
    "vals.append(['Dadra and Nagar Haveli and Daman and Diu', 20.26657819, 73.0166178])\n",
    "vals.append(['Ladakh', 34.2268, 77.5619])\n",
    "vals.append(['Puducherry', 11.9416, 79.8083])\n",
    "vals.append(['NCT of Delhi',28.7041, 77.1025])\n",
    "vals.append(['Chandigarh', 30.7333, 76.7794])\n",
    "vals.append(['Telangana', 18.1124, 79.0193])"
   ]
  },
  {
   "cell_type": "code",
   "execution_count": 397,
   "metadata": {},
   "outputs": [],
   "source": [
    "res = []\n",
    "for i in states:\n",
    "    f = False\n",
    "    for st in vals:\n",
    "        if st[0] == i:\n",
    "            res.append(st)\n",
    "            f = True\n",
    "            break\n",
    "    if not f:\n",
    "        print(i)"
   ]
  },
  {
   "cell_type": "code",
   "execution_count": 398,
   "metadata": {},
   "outputs": [],
   "source": [
    "final_df['lat'] = [val[1] for val in res]\n",
    "final_df['long'] = [val[2] for val in res]"
   ]
  },
  {
   "cell_type": "code",
   "execution_count": 399,
   "metadata": {
    "scrolled": true
   },
   "outputs": [
    {
     "data": {
      "application/vnd.plotly.v1+json": {
       "config": {
        "plotlyServerURL": "https://plot.ly"
       },
       "data": [
        {
         "geo": "geo",
         "hovertemplate": "size=%{marker.size}<br>State=%{text}<br>lat=%{lat}<br>long=%{lon}<br>label=%{marker.color}<extra></extra>",
         "lat": [
          34.2268,
          33.77,
          31.1,
          31.14,
          30.06,
          29.05,
          27.02,
          26.84,
          25.09,
          22.25,
          22.97,
          21.27,
          23.61,
          22.98,
          20.26657819,
          19.75,
          20.95,
          15.29,
          15.31,
          18.1124,
          15.91,
          10.85,
          11.12,
          27.53,
          28.21,
          26.2,
          25.46,
          26.15,
          23.94,
          23.16,
          24.66,
          11.9416,
          30.7333,
          28.7041
         ],
         "legendgroup": "",
         "lon": [
          77.5619,
          76.57,
          77.17,
          75.34,
          79.01,
          76.08,
          74.21,
          80.94,
          85.31,
          71.19,
          78.65,
          81.86,
          85.27,
          87.85,
          73.0166178,
          75.71,
          85.09,
          74.12,
          75.71,
          79.0193,
          79.74,
          76.27,
          78.65,
          88.51,
          94.72,
          92.93,
          91.36,
          94.56,
          91.98,
          92.93,
          93.9,
          79.8083,
          76.7794,
          77.1025
         ],
         "marker": {
          "color": [
           0,
           1,
           1,
           1,
           1,
           1,
           2,
           2,
           1,
           2,
           2,
           2,
           1,
           2,
           0,
           2,
           1,
           1,
           2,
           1,
           2,
           2,
           2,
           0,
           0,
           1,
           0,
           0,
           0,
           0,
           0,
           0,
           0,
           2
          ],
          "coloraxis": "coloraxis",
          "size": [
           1,
           2,
           2,
           2,
           2,
           2,
           3,
           3,
           2,
           3,
           3,
           3,
           2,
           3,
           1,
           3,
           2,
           2,
           3,
           2,
           3,
           3,
           3,
           1,
           1,
           2,
           1,
           1,
           1,
           1,
           1,
           1,
           1,
           3
          ],
          "sizemode": "area",
          "sizeref": 0.0075
         },
         "name": "",
         "showlegend": false,
         "text": [
          "Ladakh",
          "Jammu and Kashmir",
          "Himachal Pradesh",
          "Punjab",
          "Uttarakhand",
          "Haryana",
          "Rajasthan",
          "Uttar Pradesh",
          "Bihar",
          "Gujarat",
          "Madhya Pradesh",
          "Chhattisgarh",
          "Jharkhand",
          "West Bengal",
          "Dadra and Nagar Haveli and Daman and Diu",
          "Maharashtra",
          "Odisha",
          "Goa",
          "Karnataka",
          "Telangana",
          "Andhra Pradesh",
          "Kerala",
          "Tamil Nadu",
          "Sikkim",
          "Arunachal Pradesh",
          "Assam",
          "Meghalaya",
          "Nagaland",
          "Tripura",
          "Mizoram",
          "Manipur",
          "Puducherry",
          "Chandigarh",
          "NCT of Delhi"
         ],
         "type": "scattergeo"
        }
       ],
       "layout": {
        "coloraxis": {
         "colorbar": {
          "title": {
           "text": "label"
          }
         },
         "colorscale": [
          [
           0,
           "#0d0887"
          ],
          [
           0.1111111111111111,
           "#46039f"
          ],
          [
           0.2222222222222222,
           "#7201a8"
          ],
          [
           0.3333333333333333,
           "#9c179e"
          ],
          [
           0.4444444444444444,
           "#bd3786"
          ],
          [
           0.5555555555555556,
           "#d8576b"
          ],
          [
           0.6666666666666666,
           "#ed7953"
          ],
          [
           0.7777777777777778,
           "#fb9f3a"
          ],
          [
           0.8888888888888888,
           "#fdca26"
          ],
          [
           1,
           "#f0f921"
          ]
         ]
        },
        "geo": {
         "center": {
          "lat": 19,
          "lon": -99
         },
         "domain": {
          "x": [
           0,
           1
          ],
          "y": [
           0,
           1
          ]
         },
         "projection": {
          "type": "natural earth"
         },
         "scope": "asia"
        },
        "legend": {
         "itemsizing": "constant",
         "tracegroupgap": 0
        },
        "margin": {
         "t": 60
        },
        "template": {
         "data": {
          "bar": [
           {
            "error_x": {
             "color": "#2a3f5f"
            },
            "error_y": {
             "color": "#2a3f5f"
            },
            "marker": {
             "line": {
              "color": "#E5ECF6",
              "width": 0.5
             }
            },
            "type": "bar"
           }
          ],
          "barpolar": [
           {
            "marker": {
             "line": {
              "color": "#E5ECF6",
              "width": 0.5
             }
            },
            "type": "barpolar"
           }
          ],
          "carpet": [
           {
            "aaxis": {
             "endlinecolor": "#2a3f5f",
             "gridcolor": "white",
             "linecolor": "white",
             "minorgridcolor": "white",
             "startlinecolor": "#2a3f5f"
            },
            "baxis": {
             "endlinecolor": "#2a3f5f",
             "gridcolor": "white",
             "linecolor": "white",
             "minorgridcolor": "white",
             "startlinecolor": "#2a3f5f"
            },
            "type": "carpet"
           }
          ],
          "choropleth": [
           {
            "colorbar": {
             "outlinewidth": 0,
             "ticks": ""
            },
            "type": "choropleth"
           }
          ],
          "contour": [
           {
            "colorbar": {
             "outlinewidth": 0,
             "ticks": ""
            },
            "colorscale": [
             [
              0,
              "#0d0887"
             ],
             [
              0.1111111111111111,
              "#46039f"
             ],
             [
              0.2222222222222222,
              "#7201a8"
             ],
             [
              0.3333333333333333,
              "#9c179e"
             ],
             [
              0.4444444444444444,
              "#bd3786"
             ],
             [
              0.5555555555555556,
              "#d8576b"
             ],
             [
              0.6666666666666666,
              "#ed7953"
             ],
             [
              0.7777777777777778,
              "#fb9f3a"
             ],
             [
              0.8888888888888888,
              "#fdca26"
             ],
             [
              1,
              "#f0f921"
             ]
            ],
            "type": "contour"
           }
          ],
          "contourcarpet": [
           {
            "colorbar": {
             "outlinewidth": 0,
             "ticks": ""
            },
            "type": "contourcarpet"
           }
          ],
          "heatmap": [
           {
            "colorbar": {
             "outlinewidth": 0,
             "ticks": ""
            },
            "colorscale": [
             [
              0,
              "#0d0887"
             ],
             [
              0.1111111111111111,
              "#46039f"
             ],
             [
              0.2222222222222222,
              "#7201a8"
             ],
             [
              0.3333333333333333,
              "#9c179e"
             ],
             [
              0.4444444444444444,
              "#bd3786"
             ],
             [
              0.5555555555555556,
              "#d8576b"
             ],
             [
              0.6666666666666666,
              "#ed7953"
             ],
             [
              0.7777777777777778,
              "#fb9f3a"
             ],
             [
              0.8888888888888888,
              "#fdca26"
             ],
             [
              1,
              "#f0f921"
             ]
            ],
            "type": "heatmap"
           }
          ],
          "heatmapgl": [
           {
            "colorbar": {
             "outlinewidth": 0,
             "ticks": ""
            },
            "colorscale": [
             [
              0,
              "#0d0887"
             ],
             [
              0.1111111111111111,
              "#46039f"
             ],
             [
              0.2222222222222222,
              "#7201a8"
             ],
             [
              0.3333333333333333,
              "#9c179e"
             ],
             [
              0.4444444444444444,
              "#bd3786"
             ],
             [
              0.5555555555555556,
              "#d8576b"
             ],
             [
              0.6666666666666666,
              "#ed7953"
             ],
             [
              0.7777777777777778,
              "#fb9f3a"
             ],
             [
              0.8888888888888888,
              "#fdca26"
             ],
             [
              1,
              "#f0f921"
             ]
            ],
            "type": "heatmapgl"
           }
          ],
          "histogram": [
           {
            "marker": {
             "colorbar": {
              "outlinewidth": 0,
              "ticks": ""
             }
            },
            "type": "histogram"
           }
          ],
          "histogram2d": [
           {
            "colorbar": {
             "outlinewidth": 0,
             "ticks": ""
            },
            "colorscale": [
             [
              0,
              "#0d0887"
             ],
             [
              0.1111111111111111,
              "#46039f"
             ],
             [
              0.2222222222222222,
              "#7201a8"
             ],
             [
              0.3333333333333333,
              "#9c179e"
             ],
             [
              0.4444444444444444,
              "#bd3786"
             ],
             [
              0.5555555555555556,
              "#d8576b"
             ],
             [
              0.6666666666666666,
              "#ed7953"
             ],
             [
              0.7777777777777778,
              "#fb9f3a"
             ],
             [
              0.8888888888888888,
              "#fdca26"
             ],
             [
              1,
              "#f0f921"
             ]
            ],
            "type": "histogram2d"
           }
          ],
          "histogram2dcontour": [
           {
            "colorbar": {
             "outlinewidth": 0,
             "ticks": ""
            },
            "colorscale": [
             [
              0,
              "#0d0887"
             ],
             [
              0.1111111111111111,
              "#46039f"
             ],
             [
              0.2222222222222222,
              "#7201a8"
             ],
             [
              0.3333333333333333,
              "#9c179e"
             ],
             [
              0.4444444444444444,
              "#bd3786"
             ],
             [
              0.5555555555555556,
              "#d8576b"
             ],
             [
              0.6666666666666666,
              "#ed7953"
             ],
             [
              0.7777777777777778,
              "#fb9f3a"
             ],
             [
              0.8888888888888888,
              "#fdca26"
             ],
             [
              1,
              "#f0f921"
             ]
            ],
            "type": "histogram2dcontour"
           }
          ],
          "mesh3d": [
           {
            "colorbar": {
             "outlinewidth": 0,
             "ticks": ""
            },
            "type": "mesh3d"
           }
          ],
          "parcoords": [
           {
            "line": {
             "colorbar": {
              "outlinewidth": 0,
              "ticks": ""
             }
            },
            "type": "parcoords"
           }
          ],
          "pie": [
           {
            "automargin": true,
            "type": "pie"
           }
          ],
          "scatter": [
           {
            "marker": {
             "colorbar": {
              "outlinewidth": 0,
              "ticks": ""
             }
            },
            "type": "scatter"
           }
          ],
          "scatter3d": [
           {
            "line": {
             "colorbar": {
              "outlinewidth": 0,
              "ticks": ""
             }
            },
            "marker": {
             "colorbar": {
              "outlinewidth": 0,
              "ticks": ""
             }
            },
            "type": "scatter3d"
           }
          ],
          "scattercarpet": [
           {
            "marker": {
             "colorbar": {
              "outlinewidth": 0,
              "ticks": ""
             }
            },
            "type": "scattercarpet"
           }
          ],
          "scattergeo": [
           {
            "marker": {
             "colorbar": {
              "outlinewidth": 0,
              "ticks": ""
             }
            },
            "type": "scattergeo"
           }
          ],
          "scattergl": [
           {
            "marker": {
             "colorbar": {
              "outlinewidth": 0,
              "ticks": ""
             }
            },
            "type": "scattergl"
           }
          ],
          "scattermapbox": [
           {
            "marker": {
             "colorbar": {
              "outlinewidth": 0,
              "ticks": ""
             }
            },
            "type": "scattermapbox"
           }
          ],
          "scatterpolar": [
           {
            "marker": {
             "colorbar": {
              "outlinewidth": 0,
              "ticks": ""
             }
            },
            "type": "scatterpolar"
           }
          ],
          "scatterpolargl": [
           {
            "marker": {
             "colorbar": {
              "outlinewidth": 0,
              "ticks": ""
             }
            },
            "type": "scatterpolargl"
           }
          ],
          "scatterternary": [
           {
            "marker": {
             "colorbar": {
              "outlinewidth": 0,
              "ticks": ""
             }
            },
            "type": "scatterternary"
           }
          ],
          "surface": [
           {
            "colorbar": {
             "outlinewidth": 0,
             "ticks": ""
            },
            "colorscale": [
             [
              0,
              "#0d0887"
             ],
             [
              0.1111111111111111,
              "#46039f"
             ],
             [
              0.2222222222222222,
              "#7201a8"
             ],
             [
              0.3333333333333333,
              "#9c179e"
             ],
             [
              0.4444444444444444,
              "#bd3786"
             ],
             [
              0.5555555555555556,
              "#d8576b"
             ],
             [
              0.6666666666666666,
              "#ed7953"
             ],
             [
              0.7777777777777778,
              "#fb9f3a"
             ],
             [
              0.8888888888888888,
              "#fdca26"
             ],
             [
              1,
              "#f0f921"
             ]
            ],
            "type": "surface"
           }
          ],
          "table": [
           {
            "cells": {
             "fill": {
              "color": "#EBF0F8"
             },
             "line": {
              "color": "white"
             }
            },
            "header": {
             "fill": {
              "color": "#C8D4E3"
             },
             "line": {
              "color": "white"
             }
            },
            "type": "table"
           }
          ]
         },
         "layout": {
          "annotationdefaults": {
           "arrowcolor": "#2a3f5f",
           "arrowhead": 0,
           "arrowwidth": 1
          },
          "coloraxis": {
           "colorbar": {
            "outlinewidth": 0,
            "ticks": ""
           }
          },
          "colorscale": {
           "diverging": [
            [
             0,
             "#8e0152"
            ],
            [
             0.1,
             "#c51b7d"
            ],
            [
             0.2,
             "#de77ae"
            ],
            [
             0.3,
             "#f1b6da"
            ],
            [
             0.4,
             "#fde0ef"
            ],
            [
             0.5,
             "#f7f7f7"
            ],
            [
             0.6,
             "#e6f5d0"
            ],
            [
             0.7,
             "#b8e186"
            ],
            [
             0.8,
             "#7fbc41"
            ],
            [
             0.9,
             "#4d9221"
            ],
            [
             1,
             "#276419"
            ]
           ],
           "sequential": [
            [
             0,
             "#0d0887"
            ],
            [
             0.1111111111111111,
             "#46039f"
            ],
            [
             0.2222222222222222,
             "#7201a8"
            ],
            [
             0.3333333333333333,
             "#9c179e"
            ],
            [
             0.4444444444444444,
             "#bd3786"
            ],
            [
             0.5555555555555556,
             "#d8576b"
            ],
            [
             0.6666666666666666,
             "#ed7953"
            ],
            [
             0.7777777777777778,
             "#fb9f3a"
            ],
            [
             0.8888888888888888,
             "#fdca26"
            ],
            [
             1,
             "#f0f921"
            ]
           ],
           "sequentialminus": [
            [
             0,
             "#0d0887"
            ],
            [
             0.1111111111111111,
             "#46039f"
            ],
            [
             0.2222222222222222,
             "#7201a8"
            ],
            [
             0.3333333333333333,
             "#9c179e"
            ],
            [
             0.4444444444444444,
             "#bd3786"
            ],
            [
             0.5555555555555556,
             "#d8576b"
            ],
            [
             0.6666666666666666,
             "#ed7953"
            ],
            [
             0.7777777777777778,
             "#fb9f3a"
            ],
            [
             0.8888888888888888,
             "#fdca26"
            ],
            [
             1,
             "#f0f921"
            ]
           ]
          },
          "colorway": [
           "#636efa",
           "#EF553B",
           "#00cc96",
           "#ab63fa",
           "#FFA15A",
           "#19d3f3",
           "#FF6692",
           "#B6E880",
           "#FF97FF",
           "#FECB52"
          ],
          "font": {
           "color": "#2a3f5f"
          },
          "geo": {
           "bgcolor": "white",
           "lakecolor": "white",
           "landcolor": "#E5ECF6",
           "showlakes": true,
           "showland": true,
           "subunitcolor": "white"
          },
          "hoverlabel": {
           "align": "left"
          },
          "hovermode": "closest",
          "mapbox": {
           "style": "light"
          },
          "paper_bgcolor": "white",
          "plot_bgcolor": "#E5ECF6",
          "polar": {
           "angularaxis": {
            "gridcolor": "white",
            "linecolor": "white",
            "ticks": ""
           },
           "bgcolor": "#E5ECF6",
           "radialaxis": {
            "gridcolor": "white",
            "linecolor": "white",
            "ticks": ""
           }
          },
          "scene": {
           "xaxis": {
            "backgroundcolor": "#E5ECF6",
            "gridcolor": "white",
            "gridwidth": 2,
            "linecolor": "white",
            "showbackground": true,
            "ticks": "",
            "zerolinecolor": "white"
           },
           "yaxis": {
            "backgroundcolor": "#E5ECF6",
            "gridcolor": "white",
            "gridwidth": 2,
            "linecolor": "white",
            "showbackground": true,
            "ticks": "",
            "zerolinecolor": "white"
           },
           "zaxis": {
            "backgroundcolor": "#E5ECF6",
            "gridcolor": "white",
            "gridwidth": 2,
            "linecolor": "white",
            "showbackground": true,
            "ticks": "",
            "zerolinecolor": "white"
           }
          },
          "shapedefaults": {
           "line": {
            "color": "#2a3f5f"
           }
          },
          "ternary": {
           "aaxis": {
            "gridcolor": "white",
            "linecolor": "white",
            "ticks": ""
           },
           "baxis": {
            "gridcolor": "white",
            "linecolor": "white",
            "ticks": ""
           },
           "bgcolor": "#E5ECF6",
           "caxis": {
            "gridcolor": "white",
            "linecolor": "white",
            "ticks": ""
           }
          },
          "title": {
           "x": 0.05
          },
          "xaxis": {
           "automargin": true,
           "gridcolor": "white",
           "linecolor": "white",
           "ticks": "",
           "title": {
            "standoff": 15
           },
           "zerolinecolor": "white",
           "zerolinewidth": 2
          },
          "yaxis": {
           "automargin": true,
           "gridcolor": "white",
           "linecolor": "white",
           "ticks": "",
           "title": {
            "standoff": 15
           },
           "zerolinecolor": "white",
           "zerolinewidth": 2
          }
         }
        },
        "width": 800
       }
      },
      "text/html": [
       "<div>\n",
       "        \n",
       "        \n",
       "            <div id=\"dbd6c600-0290-4ccc-bd5d-7f4b19ad1e3f\" class=\"plotly-graph-div\" style=\"height:525px; width:800px;\"></div>\n",
       "            <script type=\"text/javascript\">\n",
       "                require([\"plotly\"], function(Plotly) {\n",
       "                    window.PLOTLYENV=window.PLOTLYENV || {};\n",
       "                    \n",
       "                if (document.getElementById(\"dbd6c600-0290-4ccc-bd5d-7f4b19ad1e3f\")) {\n",
       "                    Plotly.newPlot(\n",
       "                        'dbd6c600-0290-4ccc-bd5d-7f4b19ad1e3f',\n",
       "                        [{\"geo\": \"geo\", \"hovertemplate\": \"size=%{marker.size}<br>State=%{text}<br>lat=%{lat}<br>long=%{lon}<br>label=%{marker.color}<extra></extra>\", \"lat\": [34.2268, 33.77, 31.1, 31.14, 30.06, 29.05, 27.02, 26.84, 25.09, 22.25, 22.97, 21.27, 23.61, 22.98, 20.26657819, 19.75, 20.95, 15.29, 15.31, 18.1124, 15.91, 10.85, 11.12, 27.53, 28.21, 26.2, 25.46, 26.15, 23.94, 23.16, 24.66, 11.9416, 30.7333, 28.7041], \"legendgroup\": \"\", \"lon\": [77.5619, 76.57, 77.17, 75.34, 79.01, 76.08, 74.21, 80.94, 85.31, 71.19, 78.65, 81.86, 85.27, 87.85, 73.0166178, 75.71, 85.09, 74.12, 75.71, 79.0193, 79.74, 76.27, 78.65, 88.51, 94.72, 92.93, 91.36, 94.56, 91.98, 92.93, 93.9, 79.8083, 76.7794, 77.1025], \"marker\": {\"color\": [0, 1, 1, 1, 1, 1, 2, 2, 1, 2, 2, 2, 1, 2, 0, 2, 1, 1, 2, 1, 2, 2, 2, 0, 0, 1, 0, 0, 0, 0, 0, 0, 0, 2], \"coloraxis\": \"coloraxis\", \"size\": [1, 2, 2, 2, 2, 2, 3, 3, 2, 3, 3, 3, 2, 3, 1, 3, 2, 2, 3, 2, 3, 3, 3, 1, 1, 2, 1, 1, 1, 1, 1, 1, 1, 3], \"sizemode\": \"area\", \"sizeref\": 0.0075}, \"name\": \"\", \"showlegend\": false, \"text\": [\"Ladakh\", \"Jammu and Kashmir\", \"Himachal Pradesh\", \"Punjab\", \"Uttarakhand\", \"Haryana\", \"Rajasthan\", \"Uttar Pradesh\", \"Bihar\", \"Gujarat\", \"Madhya Pradesh\", \"Chhattisgarh\", \"Jharkhand\", \"West Bengal\", \"Dadra and Nagar Haveli and Daman and Diu\", \"Maharashtra\", \"Odisha\", \"Goa\", \"Karnataka\", \"Telangana\", \"Andhra Pradesh\", \"Kerala\", \"Tamil Nadu\", \"Sikkim\", \"Arunachal Pradesh\", \"Assam\", \"Meghalaya\", \"Nagaland\", \"Tripura\", \"Mizoram\", \"Manipur\", \"Puducherry\", \"Chandigarh\", \"NCT of Delhi\"], \"type\": \"scattergeo\"}],\n",
       "                        {\"coloraxis\": {\"colorbar\": {\"title\": {\"text\": \"label\"}}, \"colorscale\": [[0.0, \"#0d0887\"], [0.1111111111111111, \"#46039f\"], [0.2222222222222222, \"#7201a8\"], [0.3333333333333333, \"#9c179e\"], [0.4444444444444444, \"#bd3786\"], [0.5555555555555556, \"#d8576b\"], [0.6666666666666666, \"#ed7953\"], [0.7777777777777778, \"#fb9f3a\"], [0.8888888888888888, \"#fdca26\"], [1.0, \"#f0f921\"]]}, \"geo\": {\"center\": {\"lat\": 19, \"lon\": -99}, \"domain\": {\"x\": [0.0, 1.0], \"y\": [0.0, 1.0]}, \"projection\": {\"type\": \"natural earth\"}, \"scope\": \"asia\"}, \"legend\": {\"itemsizing\": \"constant\", \"tracegroupgap\": 0}, \"margin\": {\"t\": 60}, \"template\": {\"data\": {\"bar\": [{\"error_x\": {\"color\": \"#2a3f5f\"}, \"error_y\": {\"color\": \"#2a3f5f\"}, \"marker\": {\"line\": {\"color\": \"#E5ECF6\", \"width\": 0.5}}, \"type\": \"bar\"}], \"barpolar\": [{\"marker\": {\"line\": {\"color\": \"#E5ECF6\", \"width\": 0.5}}, \"type\": \"barpolar\"}], \"carpet\": [{\"aaxis\": {\"endlinecolor\": \"#2a3f5f\", \"gridcolor\": \"white\", \"linecolor\": \"white\", \"minorgridcolor\": \"white\", \"startlinecolor\": \"#2a3f5f\"}, \"baxis\": {\"endlinecolor\": \"#2a3f5f\", \"gridcolor\": \"white\", \"linecolor\": \"white\", \"minorgridcolor\": \"white\", \"startlinecolor\": \"#2a3f5f\"}, \"type\": \"carpet\"}], \"choropleth\": [{\"colorbar\": {\"outlinewidth\": 0, \"ticks\": \"\"}, \"type\": \"choropleth\"}], \"contour\": [{\"colorbar\": {\"outlinewidth\": 0, \"ticks\": \"\"}, \"colorscale\": [[0.0, \"#0d0887\"], [0.1111111111111111, \"#46039f\"], [0.2222222222222222, \"#7201a8\"], [0.3333333333333333, \"#9c179e\"], [0.4444444444444444, \"#bd3786\"], [0.5555555555555556, \"#d8576b\"], [0.6666666666666666, \"#ed7953\"], [0.7777777777777778, \"#fb9f3a\"], [0.8888888888888888, \"#fdca26\"], [1.0, \"#f0f921\"]], \"type\": \"contour\"}], \"contourcarpet\": [{\"colorbar\": {\"outlinewidth\": 0, \"ticks\": \"\"}, \"type\": \"contourcarpet\"}], \"heatmap\": [{\"colorbar\": {\"outlinewidth\": 0, \"ticks\": \"\"}, \"colorscale\": [[0.0, \"#0d0887\"], [0.1111111111111111, \"#46039f\"], [0.2222222222222222, \"#7201a8\"], [0.3333333333333333, \"#9c179e\"], [0.4444444444444444, \"#bd3786\"], [0.5555555555555556, \"#d8576b\"], [0.6666666666666666, \"#ed7953\"], [0.7777777777777778, \"#fb9f3a\"], [0.8888888888888888, \"#fdca26\"], [1.0, \"#f0f921\"]], \"type\": \"heatmap\"}], \"heatmapgl\": [{\"colorbar\": {\"outlinewidth\": 0, \"ticks\": \"\"}, \"colorscale\": [[0.0, \"#0d0887\"], [0.1111111111111111, \"#46039f\"], [0.2222222222222222, \"#7201a8\"], [0.3333333333333333, \"#9c179e\"], [0.4444444444444444, \"#bd3786\"], [0.5555555555555556, \"#d8576b\"], [0.6666666666666666, \"#ed7953\"], [0.7777777777777778, \"#fb9f3a\"], [0.8888888888888888, \"#fdca26\"], [1.0, \"#f0f921\"]], \"type\": \"heatmapgl\"}], \"histogram\": [{\"marker\": {\"colorbar\": {\"outlinewidth\": 0, \"ticks\": \"\"}}, \"type\": \"histogram\"}], \"histogram2d\": [{\"colorbar\": {\"outlinewidth\": 0, \"ticks\": \"\"}, \"colorscale\": [[0.0, \"#0d0887\"], [0.1111111111111111, \"#46039f\"], [0.2222222222222222, \"#7201a8\"], [0.3333333333333333, \"#9c179e\"], [0.4444444444444444, \"#bd3786\"], [0.5555555555555556, \"#d8576b\"], [0.6666666666666666, \"#ed7953\"], [0.7777777777777778, \"#fb9f3a\"], [0.8888888888888888, \"#fdca26\"], [1.0, \"#f0f921\"]], \"type\": \"histogram2d\"}], \"histogram2dcontour\": [{\"colorbar\": {\"outlinewidth\": 0, \"ticks\": \"\"}, \"colorscale\": [[0.0, \"#0d0887\"], [0.1111111111111111, \"#46039f\"], [0.2222222222222222, \"#7201a8\"], [0.3333333333333333, \"#9c179e\"], [0.4444444444444444, \"#bd3786\"], [0.5555555555555556, \"#d8576b\"], [0.6666666666666666, \"#ed7953\"], [0.7777777777777778, \"#fb9f3a\"], [0.8888888888888888, \"#fdca26\"], [1.0, \"#f0f921\"]], \"type\": \"histogram2dcontour\"}], \"mesh3d\": [{\"colorbar\": {\"outlinewidth\": 0, \"ticks\": \"\"}, \"type\": \"mesh3d\"}], \"parcoords\": [{\"line\": {\"colorbar\": {\"outlinewidth\": 0, \"ticks\": \"\"}}, \"type\": \"parcoords\"}], \"pie\": [{\"automargin\": true, \"type\": \"pie\"}], \"scatter\": [{\"marker\": {\"colorbar\": {\"outlinewidth\": 0, \"ticks\": \"\"}}, \"type\": \"scatter\"}], \"scatter3d\": [{\"line\": {\"colorbar\": {\"outlinewidth\": 0, \"ticks\": \"\"}}, \"marker\": {\"colorbar\": {\"outlinewidth\": 0, \"ticks\": \"\"}}, \"type\": \"scatter3d\"}], \"scattercarpet\": [{\"marker\": {\"colorbar\": {\"outlinewidth\": 0, \"ticks\": \"\"}}, \"type\": \"scattercarpet\"}], \"scattergeo\": [{\"marker\": {\"colorbar\": {\"outlinewidth\": 0, \"ticks\": \"\"}}, \"type\": \"scattergeo\"}], \"scattergl\": [{\"marker\": {\"colorbar\": {\"outlinewidth\": 0, \"ticks\": \"\"}}, \"type\": \"scattergl\"}], \"scattermapbox\": [{\"marker\": {\"colorbar\": {\"outlinewidth\": 0, \"ticks\": \"\"}}, \"type\": \"scattermapbox\"}], \"scatterpolar\": [{\"marker\": {\"colorbar\": {\"outlinewidth\": 0, \"ticks\": \"\"}}, \"type\": \"scatterpolar\"}], \"scatterpolargl\": [{\"marker\": {\"colorbar\": {\"outlinewidth\": 0, \"ticks\": \"\"}}, \"type\": \"scatterpolargl\"}], \"scatterternary\": [{\"marker\": {\"colorbar\": {\"outlinewidth\": 0, \"ticks\": \"\"}}, \"type\": \"scatterternary\"}], \"surface\": [{\"colorbar\": {\"outlinewidth\": 0, \"ticks\": \"\"}, \"colorscale\": [[0.0, \"#0d0887\"], [0.1111111111111111, \"#46039f\"], [0.2222222222222222, \"#7201a8\"], [0.3333333333333333, \"#9c179e\"], [0.4444444444444444, \"#bd3786\"], [0.5555555555555556, \"#d8576b\"], [0.6666666666666666, \"#ed7953\"], [0.7777777777777778, \"#fb9f3a\"], [0.8888888888888888, \"#fdca26\"], [1.0, \"#f0f921\"]], \"type\": \"surface\"}], \"table\": [{\"cells\": {\"fill\": {\"color\": \"#EBF0F8\"}, \"line\": {\"color\": \"white\"}}, \"header\": {\"fill\": {\"color\": \"#C8D4E3\"}, \"line\": {\"color\": \"white\"}}, \"type\": \"table\"}]}, \"layout\": {\"annotationdefaults\": {\"arrowcolor\": \"#2a3f5f\", \"arrowhead\": 0, \"arrowwidth\": 1}, \"coloraxis\": {\"colorbar\": {\"outlinewidth\": 0, \"ticks\": \"\"}}, \"colorscale\": {\"diverging\": [[0, \"#8e0152\"], [0.1, \"#c51b7d\"], [0.2, \"#de77ae\"], [0.3, \"#f1b6da\"], [0.4, \"#fde0ef\"], [0.5, \"#f7f7f7\"], [0.6, \"#e6f5d0\"], [0.7, \"#b8e186\"], [0.8, \"#7fbc41\"], [0.9, \"#4d9221\"], [1, \"#276419\"]], \"sequential\": [[0.0, \"#0d0887\"], [0.1111111111111111, \"#46039f\"], [0.2222222222222222, \"#7201a8\"], [0.3333333333333333, \"#9c179e\"], [0.4444444444444444, \"#bd3786\"], [0.5555555555555556, \"#d8576b\"], [0.6666666666666666, \"#ed7953\"], [0.7777777777777778, \"#fb9f3a\"], [0.8888888888888888, \"#fdca26\"], [1.0, \"#f0f921\"]], \"sequentialminus\": [[0.0, \"#0d0887\"], [0.1111111111111111, \"#46039f\"], [0.2222222222222222, \"#7201a8\"], [0.3333333333333333, \"#9c179e\"], [0.4444444444444444, \"#bd3786\"], [0.5555555555555556, \"#d8576b\"], [0.6666666666666666, \"#ed7953\"], [0.7777777777777778, \"#fb9f3a\"], [0.8888888888888888, \"#fdca26\"], [1.0, \"#f0f921\"]]}, \"colorway\": [\"#636efa\", \"#EF553B\", \"#00cc96\", \"#ab63fa\", \"#FFA15A\", \"#19d3f3\", \"#FF6692\", \"#B6E880\", \"#FF97FF\", \"#FECB52\"], \"font\": {\"color\": \"#2a3f5f\"}, \"geo\": {\"bgcolor\": \"white\", \"lakecolor\": \"white\", \"landcolor\": \"#E5ECF6\", \"showlakes\": true, \"showland\": true, \"subunitcolor\": \"white\"}, \"hoverlabel\": {\"align\": \"left\"}, \"hovermode\": \"closest\", \"mapbox\": {\"style\": \"light\"}, \"paper_bgcolor\": \"white\", \"plot_bgcolor\": \"#E5ECF6\", \"polar\": {\"angularaxis\": {\"gridcolor\": \"white\", \"linecolor\": \"white\", \"ticks\": \"\"}, \"bgcolor\": \"#E5ECF6\", \"radialaxis\": {\"gridcolor\": \"white\", \"linecolor\": \"white\", \"ticks\": \"\"}}, \"scene\": {\"xaxis\": {\"backgroundcolor\": \"#E5ECF6\", \"gridcolor\": \"white\", \"gridwidth\": 2, \"linecolor\": \"white\", \"showbackground\": true, \"ticks\": \"\", \"zerolinecolor\": \"white\"}, \"yaxis\": {\"backgroundcolor\": \"#E5ECF6\", \"gridcolor\": \"white\", \"gridwidth\": 2, \"linecolor\": \"white\", \"showbackground\": true, \"ticks\": \"\", \"zerolinecolor\": \"white\"}, \"zaxis\": {\"backgroundcolor\": \"#E5ECF6\", \"gridcolor\": \"white\", \"gridwidth\": 2, \"linecolor\": \"white\", \"showbackground\": true, \"ticks\": \"\", \"zerolinecolor\": \"white\"}}, \"shapedefaults\": {\"line\": {\"color\": \"#2a3f5f\"}}, \"ternary\": {\"aaxis\": {\"gridcolor\": \"white\", \"linecolor\": \"white\", \"ticks\": \"\"}, \"baxis\": {\"gridcolor\": \"white\", \"linecolor\": \"white\", \"ticks\": \"\"}, \"bgcolor\": \"#E5ECF6\", \"caxis\": {\"gridcolor\": \"white\", \"linecolor\": \"white\", \"ticks\": \"\"}}, \"title\": {\"x\": 0.05}, \"xaxis\": {\"automargin\": true, \"gridcolor\": \"white\", \"linecolor\": \"white\", \"ticks\": \"\", \"title\": {\"standoff\": 15}, \"zerolinecolor\": \"white\", \"zerolinewidth\": 2}, \"yaxis\": {\"automargin\": true, \"gridcolor\": \"white\", \"linecolor\": \"white\", \"ticks\": \"\", \"title\": {\"standoff\": 15}, \"zerolinecolor\": \"white\", \"zerolinewidth\": 2}}}, \"width\": 800},\n",
       "                        {\"responsive\": true}\n",
       "                    ).then(function(){\n",
       "                            \n",
       "var gd = document.getElementById('dbd6c600-0290-4ccc-bd5d-7f4b19ad1e3f');\n",
       "var x = new MutationObserver(function (mutations, observer) {{\n",
       "        var display = window.getComputedStyle(gd).display;\n",
       "        if (!display || display === 'none') {{\n",
       "            console.log([gd, 'removed!']);\n",
       "            Plotly.purge(gd);\n",
       "            observer.disconnect();\n",
       "        }}\n",
       "}});\n",
       "\n",
       "// Listen for the removal of the full notebook cells\n",
       "var notebookContainer = gd.closest('#notebook-container');\n",
       "if (notebookContainer) {{\n",
       "    x.observe(notebookContainer, {childList: true});\n",
       "}}\n",
       "\n",
       "// Listen for the clearing of the current output cell\n",
       "var outputEl = gd.closest('.output');\n",
       "if (outputEl) {{\n",
       "    x.observe(outputEl, {childList: true});\n",
       "}}\n",
       "\n",
       "                        })\n",
       "                };\n",
       "                });\n",
       "            </script>\n",
       "        </div>"
      ]
     },
     "metadata": {},
     "output_type": "display_data"
    },
    {
     "data": {
      "text/plain": [
       "'\\nChandigarh\\nNagaland\\nOdisha\\nPunjab\\nMaharashtra\\nAndhra Pradesh\\n'"
      ]
     },
     "execution_count": 399,
     "metadata": {},
     "output_type": "execute_result"
    }
   ],
   "source": [
    "fig = px.scatter_geo(final_df, \n",
    "                     lat=\"lat\", \n",
    "                     lon=\"long\", \n",
    "                     color='label', \n",
    "                     size=final_df['label']+1, \n",
    "                     scope='asia', \n",
    "                     center={'lat':19,'lon':-99}, \n",
    "                     width=800, \n",
    "                     text=final_df['State'],\n",
    "                     projection=\"natural earth\")\n",
    "\n",
    "fig.show()\n",
    "\n",
    "'''\n",
    "Chandigarh\n",
    "Nagaland\n",
    "Odisha\n",
    "Punjab\n",
    "Maharashtra\n",
    "Andhra Pradesh\n",
    "'''"
   ]
  },
  {
   "cell_type": "code",
   "execution_count": 411,
   "metadata": {},
   "outputs": [
    {
     "data": {
      "application/vnd.plotly.v1+json": {
       "config": {
        "plotlyServerURL": "https://plot.ly"
       },
       "data": [
        {
         "geo": "geo",
         "hovertemplate": "size=%{marker.size}<br>State=%{text}<br>lat=%{lat}<br>long=%{lon}<br>preds=%{marker.color}<extra></extra>",
         "lat": [
          34.2268,
          33.77,
          31.1,
          31.14,
          30.06,
          29.05,
          27.02,
          26.84,
          25.09,
          22.25,
          22.97,
          21.27,
          23.61,
          22.98,
          20.26657819,
          19.75,
          20.95,
          15.29,
          15.31,
          18.1124,
          15.91,
          10.85,
          11.12,
          27.53,
          28.21,
          26.2,
          25.46,
          26.15,
          23.94,
          23.16,
          24.66,
          11.9416,
          30.7333,
          28.7041
         ],
         "legendgroup": "",
         "lon": [
          77.5619,
          76.57,
          77.17,
          75.34,
          79.01,
          76.08,
          74.21,
          80.94,
          85.31,
          71.19,
          78.65,
          81.86,
          85.27,
          87.85,
          73.0166178,
          75.71,
          85.09,
          74.12,
          75.71,
          79.0193,
          79.74,
          76.27,
          78.65,
          88.51,
          94.72,
          92.93,
          91.36,
          94.56,
          91.98,
          92.93,
          93.9,
          79.8083,
          76.7794,
          77.1025
         ],
         "marker": {
          "color": [
           0,
           1,
           1,
           1,
           1,
           1,
           2,
           2,
           1,
           2,
           2,
           2,
           1,
           1,
           0,
           2,
           1,
           1,
           2,
           1,
           2,
           2,
           2,
           0,
           0,
           0,
           0,
           0,
           0,
           0,
           0,
           2,
           2,
           2
          ],
          "coloraxis": "coloraxis",
          "size": [
           1,
           2,
           2,
           2,
           2,
           2,
           3,
           3,
           2,
           3,
           3,
           3,
           2,
           2,
           1,
           3,
           2,
           2,
           3,
           2,
           3,
           3,
           3,
           1,
           1,
           1,
           1,
           1,
           1,
           1,
           1,
           3,
           3,
           3
          ],
          "sizemode": "area",
          "sizeref": 0.0075
         },
         "name": "",
         "showlegend": false,
         "text": [
          "Ladakh",
          "Jammu and Kashmir",
          "Himachal Pradesh",
          "Punjab",
          "Uttarakhand",
          "Haryana",
          "Rajasthan",
          "Uttar Pradesh",
          "Bihar",
          "Gujarat",
          "Madhya Pradesh",
          "Chhattisgarh",
          "Jharkhand",
          "West Bengal",
          "Dadra and Nagar Haveli and Daman and Diu",
          "Maharashtra",
          "Odisha",
          "Goa",
          "Karnataka",
          "Telangana",
          "Andhra Pradesh",
          "Kerala",
          "Tamil Nadu",
          "Sikkim",
          "Arunachal Pradesh",
          "Assam",
          "Meghalaya",
          "Nagaland",
          "Tripura",
          "Mizoram",
          "Manipur",
          "Puducherry",
          "Chandigarh",
          "NCT of Delhi"
         ],
         "type": "scattergeo"
        }
       ],
       "layout": {
        "coloraxis": {
         "colorbar": {
          "title": {
           "text": "preds"
          }
         },
         "colorscale": [
          [
           0,
           "#0d0887"
          ],
          [
           0.1111111111111111,
           "#46039f"
          ],
          [
           0.2222222222222222,
           "#7201a8"
          ],
          [
           0.3333333333333333,
           "#9c179e"
          ],
          [
           0.4444444444444444,
           "#bd3786"
          ],
          [
           0.5555555555555556,
           "#d8576b"
          ],
          [
           0.6666666666666666,
           "#ed7953"
          ],
          [
           0.7777777777777778,
           "#fb9f3a"
          ],
          [
           0.8888888888888888,
           "#fdca26"
          ],
          [
           1,
           "#f0f921"
          ]
         ]
        },
        "geo": {
         "center": {
          "lat": 19,
          "lon": -99
         },
         "domain": {
          "x": [
           0,
           1
          ],
          "y": [
           0,
           1
          ]
         },
         "projection": {
          "type": "natural earth"
         },
         "scope": "asia"
        },
        "legend": {
         "itemsizing": "constant",
         "tracegroupgap": 0
        },
        "margin": {
         "t": 60
        },
        "template": {
         "data": {
          "bar": [
           {
            "error_x": {
             "color": "#2a3f5f"
            },
            "error_y": {
             "color": "#2a3f5f"
            },
            "marker": {
             "line": {
              "color": "#E5ECF6",
              "width": 0.5
             }
            },
            "type": "bar"
           }
          ],
          "barpolar": [
           {
            "marker": {
             "line": {
              "color": "#E5ECF6",
              "width": 0.5
             }
            },
            "type": "barpolar"
           }
          ],
          "carpet": [
           {
            "aaxis": {
             "endlinecolor": "#2a3f5f",
             "gridcolor": "white",
             "linecolor": "white",
             "minorgridcolor": "white",
             "startlinecolor": "#2a3f5f"
            },
            "baxis": {
             "endlinecolor": "#2a3f5f",
             "gridcolor": "white",
             "linecolor": "white",
             "minorgridcolor": "white",
             "startlinecolor": "#2a3f5f"
            },
            "type": "carpet"
           }
          ],
          "choropleth": [
           {
            "colorbar": {
             "outlinewidth": 0,
             "ticks": ""
            },
            "type": "choropleth"
           }
          ],
          "contour": [
           {
            "colorbar": {
             "outlinewidth": 0,
             "ticks": ""
            },
            "colorscale": [
             [
              0,
              "#0d0887"
             ],
             [
              0.1111111111111111,
              "#46039f"
             ],
             [
              0.2222222222222222,
              "#7201a8"
             ],
             [
              0.3333333333333333,
              "#9c179e"
             ],
             [
              0.4444444444444444,
              "#bd3786"
             ],
             [
              0.5555555555555556,
              "#d8576b"
             ],
             [
              0.6666666666666666,
              "#ed7953"
             ],
             [
              0.7777777777777778,
              "#fb9f3a"
             ],
             [
              0.8888888888888888,
              "#fdca26"
             ],
             [
              1,
              "#f0f921"
             ]
            ],
            "type": "contour"
           }
          ],
          "contourcarpet": [
           {
            "colorbar": {
             "outlinewidth": 0,
             "ticks": ""
            },
            "type": "contourcarpet"
           }
          ],
          "heatmap": [
           {
            "colorbar": {
             "outlinewidth": 0,
             "ticks": ""
            },
            "colorscale": [
             [
              0,
              "#0d0887"
             ],
             [
              0.1111111111111111,
              "#46039f"
             ],
             [
              0.2222222222222222,
              "#7201a8"
             ],
             [
              0.3333333333333333,
              "#9c179e"
             ],
             [
              0.4444444444444444,
              "#bd3786"
             ],
             [
              0.5555555555555556,
              "#d8576b"
             ],
             [
              0.6666666666666666,
              "#ed7953"
             ],
             [
              0.7777777777777778,
              "#fb9f3a"
             ],
             [
              0.8888888888888888,
              "#fdca26"
             ],
             [
              1,
              "#f0f921"
             ]
            ],
            "type": "heatmap"
           }
          ],
          "heatmapgl": [
           {
            "colorbar": {
             "outlinewidth": 0,
             "ticks": ""
            },
            "colorscale": [
             [
              0,
              "#0d0887"
             ],
             [
              0.1111111111111111,
              "#46039f"
             ],
             [
              0.2222222222222222,
              "#7201a8"
             ],
             [
              0.3333333333333333,
              "#9c179e"
             ],
             [
              0.4444444444444444,
              "#bd3786"
             ],
             [
              0.5555555555555556,
              "#d8576b"
             ],
             [
              0.6666666666666666,
              "#ed7953"
             ],
             [
              0.7777777777777778,
              "#fb9f3a"
             ],
             [
              0.8888888888888888,
              "#fdca26"
             ],
             [
              1,
              "#f0f921"
             ]
            ],
            "type": "heatmapgl"
           }
          ],
          "histogram": [
           {
            "marker": {
             "colorbar": {
              "outlinewidth": 0,
              "ticks": ""
             }
            },
            "type": "histogram"
           }
          ],
          "histogram2d": [
           {
            "colorbar": {
             "outlinewidth": 0,
             "ticks": ""
            },
            "colorscale": [
             [
              0,
              "#0d0887"
             ],
             [
              0.1111111111111111,
              "#46039f"
             ],
             [
              0.2222222222222222,
              "#7201a8"
             ],
             [
              0.3333333333333333,
              "#9c179e"
             ],
             [
              0.4444444444444444,
              "#bd3786"
             ],
             [
              0.5555555555555556,
              "#d8576b"
             ],
             [
              0.6666666666666666,
              "#ed7953"
             ],
             [
              0.7777777777777778,
              "#fb9f3a"
             ],
             [
              0.8888888888888888,
              "#fdca26"
             ],
             [
              1,
              "#f0f921"
             ]
            ],
            "type": "histogram2d"
           }
          ],
          "histogram2dcontour": [
           {
            "colorbar": {
             "outlinewidth": 0,
             "ticks": ""
            },
            "colorscale": [
             [
              0,
              "#0d0887"
             ],
             [
              0.1111111111111111,
              "#46039f"
             ],
             [
              0.2222222222222222,
              "#7201a8"
             ],
             [
              0.3333333333333333,
              "#9c179e"
             ],
             [
              0.4444444444444444,
              "#bd3786"
             ],
             [
              0.5555555555555556,
              "#d8576b"
             ],
             [
              0.6666666666666666,
              "#ed7953"
             ],
             [
              0.7777777777777778,
              "#fb9f3a"
             ],
             [
              0.8888888888888888,
              "#fdca26"
             ],
             [
              1,
              "#f0f921"
             ]
            ],
            "type": "histogram2dcontour"
           }
          ],
          "mesh3d": [
           {
            "colorbar": {
             "outlinewidth": 0,
             "ticks": ""
            },
            "type": "mesh3d"
           }
          ],
          "parcoords": [
           {
            "line": {
             "colorbar": {
              "outlinewidth": 0,
              "ticks": ""
             }
            },
            "type": "parcoords"
           }
          ],
          "pie": [
           {
            "automargin": true,
            "type": "pie"
           }
          ],
          "scatter": [
           {
            "marker": {
             "colorbar": {
              "outlinewidth": 0,
              "ticks": ""
             }
            },
            "type": "scatter"
           }
          ],
          "scatter3d": [
           {
            "line": {
             "colorbar": {
              "outlinewidth": 0,
              "ticks": ""
             }
            },
            "marker": {
             "colorbar": {
              "outlinewidth": 0,
              "ticks": ""
             }
            },
            "type": "scatter3d"
           }
          ],
          "scattercarpet": [
           {
            "marker": {
             "colorbar": {
              "outlinewidth": 0,
              "ticks": ""
             }
            },
            "type": "scattercarpet"
           }
          ],
          "scattergeo": [
           {
            "marker": {
             "colorbar": {
              "outlinewidth": 0,
              "ticks": ""
             }
            },
            "type": "scattergeo"
           }
          ],
          "scattergl": [
           {
            "marker": {
             "colorbar": {
              "outlinewidth": 0,
              "ticks": ""
             }
            },
            "type": "scattergl"
           }
          ],
          "scattermapbox": [
           {
            "marker": {
             "colorbar": {
              "outlinewidth": 0,
              "ticks": ""
             }
            },
            "type": "scattermapbox"
           }
          ],
          "scatterpolar": [
           {
            "marker": {
             "colorbar": {
              "outlinewidth": 0,
              "ticks": ""
             }
            },
            "type": "scatterpolar"
           }
          ],
          "scatterpolargl": [
           {
            "marker": {
             "colorbar": {
              "outlinewidth": 0,
              "ticks": ""
             }
            },
            "type": "scatterpolargl"
           }
          ],
          "scatterternary": [
           {
            "marker": {
             "colorbar": {
              "outlinewidth": 0,
              "ticks": ""
             }
            },
            "type": "scatterternary"
           }
          ],
          "surface": [
           {
            "colorbar": {
             "outlinewidth": 0,
             "ticks": ""
            },
            "colorscale": [
             [
              0,
              "#0d0887"
             ],
             [
              0.1111111111111111,
              "#46039f"
             ],
             [
              0.2222222222222222,
              "#7201a8"
             ],
             [
              0.3333333333333333,
              "#9c179e"
             ],
             [
              0.4444444444444444,
              "#bd3786"
             ],
             [
              0.5555555555555556,
              "#d8576b"
             ],
             [
              0.6666666666666666,
              "#ed7953"
             ],
             [
              0.7777777777777778,
              "#fb9f3a"
             ],
             [
              0.8888888888888888,
              "#fdca26"
             ],
             [
              1,
              "#f0f921"
             ]
            ],
            "type": "surface"
           }
          ],
          "table": [
           {
            "cells": {
             "fill": {
              "color": "#EBF0F8"
             },
             "line": {
              "color": "white"
             }
            },
            "header": {
             "fill": {
              "color": "#C8D4E3"
             },
             "line": {
              "color": "white"
             }
            },
            "type": "table"
           }
          ]
         },
         "layout": {
          "annotationdefaults": {
           "arrowcolor": "#2a3f5f",
           "arrowhead": 0,
           "arrowwidth": 1
          },
          "coloraxis": {
           "colorbar": {
            "outlinewidth": 0,
            "ticks": ""
           }
          },
          "colorscale": {
           "diverging": [
            [
             0,
             "#8e0152"
            ],
            [
             0.1,
             "#c51b7d"
            ],
            [
             0.2,
             "#de77ae"
            ],
            [
             0.3,
             "#f1b6da"
            ],
            [
             0.4,
             "#fde0ef"
            ],
            [
             0.5,
             "#f7f7f7"
            ],
            [
             0.6,
             "#e6f5d0"
            ],
            [
             0.7,
             "#b8e186"
            ],
            [
             0.8,
             "#7fbc41"
            ],
            [
             0.9,
             "#4d9221"
            ],
            [
             1,
             "#276419"
            ]
           ],
           "sequential": [
            [
             0,
             "#0d0887"
            ],
            [
             0.1111111111111111,
             "#46039f"
            ],
            [
             0.2222222222222222,
             "#7201a8"
            ],
            [
             0.3333333333333333,
             "#9c179e"
            ],
            [
             0.4444444444444444,
             "#bd3786"
            ],
            [
             0.5555555555555556,
             "#d8576b"
            ],
            [
             0.6666666666666666,
             "#ed7953"
            ],
            [
             0.7777777777777778,
             "#fb9f3a"
            ],
            [
             0.8888888888888888,
             "#fdca26"
            ],
            [
             1,
             "#f0f921"
            ]
           ],
           "sequentialminus": [
            [
             0,
             "#0d0887"
            ],
            [
             0.1111111111111111,
             "#46039f"
            ],
            [
             0.2222222222222222,
             "#7201a8"
            ],
            [
             0.3333333333333333,
             "#9c179e"
            ],
            [
             0.4444444444444444,
             "#bd3786"
            ],
            [
             0.5555555555555556,
             "#d8576b"
            ],
            [
             0.6666666666666666,
             "#ed7953"
            ],
            [
             0.7777777777777778,
             "#fb9f3a"
            ],
            [
             0.8888888888888888,
             "#fdca26"
            ],
            [
             1,
             "#f0f921"
            ]
           ]
          },
          "colorway": [
           "#636efa",
           "#EF553B",
           "#00cc96",
           "#ab63fa",
           "#FFA15A",
           "#19d3f3",
           "#FF6692",
           "#B6E880",
           "#FF97FF",
           "#FECB52"
          ],
          "font": {
           "color": "#2a3f5f"
          },
          "geo": {
           "bgcolor": "white",
           "lakecolor": "white",
           "landcolor": "#E5ECF6",
           "showlakes": true,
           "showland": true,
           "subunitcolor": "white"
          },
          "hoverlabel": {
           "align": "left"
          },
          "hovermode": "closest",
          "mapbox": {
           "style": "light"
          },
          "paper_bgcolor": "white",
          "plot_bgcolor": "#E5ECF6",
          "polar": {
           "angularaxis": {
            "gridcolor": "white",
            "linecolor": "white",
            "ticks": ""
           },
           "bgcolor": "#E5ECF6",
           "radialaxis": {
            "gridcolor": "white",
            "linecolor": "white",
            "ticks": ""
           }
          },
          "scene": {
           "xaxis": {
            "backgroundcolor": "#E5ECF6",
            "gridcolor": "white",
            "gridwidth": 2,
            "linecolor": "white",
            "showbackground": true,
            "ticks": "",
            "zerolinecolor": "white"
           },
           "yaxis": {
            "backgroundcolor": "#E5ECF6",
            "gridcolor": "white",
            "gridwidth": 2,
            "linecolor": "white",
            "showbackground": true,
            "ticks": "",
            "zerolinecolor": "white"
           },
           "zaxis": {
            "backgroundcolor": "#E5ECF6",
            "gridcolor": "white",
            "gridwidth": 2,
            "linecolor": "white",
            "showbackground": true,
            "ticks": "",
            "zerolinecolor": "white"
           }
          },
          "shapedefaults": {
           "line": {
            "color": "#2a3f5f"
           }
          },
          "ternary": {
           "aaxis": {
            "gridcolor": "white",
            "linecolor": "white",
            "ticks": ""
           },
           "baxis": {
            "gridcolor": "white",
            "linecolor": "white",
            "ticks": ""
           },
           "bgcolor": "#E5ECF6",
           "caxis": {
            "gridcolor": "white",
            "linecolor": "white",
            "ticks": ""
           }
          },
          "title": {
           "x": 0.05
          },
          "xaxis": {
           "automargin": true,
           "gridcolor": "white",
           "linecolor": "white",
           "ticks": "",
           "title": {
            "standoff": 15
           },
           "zerolinecolor": "white",
           "zerolinewidth": 2
          },
          "yaxis": {
           "automargin": true,
           "gridcolor": "white",
           "linecolor": "white",
           "ticks": "",
           "title": {
            "standoff": 15
           },
           "zerolinecolor": "white",
           "zerolinewidth": 2
          }
         }
        },
        "width": 800
       }
      },
      "text/html": [
       "<div>\n",
       "        \n",
       "        \n",
       "            <div id=\"b99c6fe3-00de-42de-aa36-29a9a73dd1ee\" class=\"plotly-graph-div\" style=\"height:525px; width:800px;\"></div>\n",
       "            <script type=\"text/javascript\">\n",
       "                require([\"plotly\"], function(Plotly) {\n",
       "                    window.PLOTLYENV=window.PLOTLYENV || {};\n",
       "                    \n",
       "                if (document.getElementById(\"b99c6fe3-00de-42de-aa36-29a9a73dd1ee\")) {\n",
       "                    Plotly.newPlot(\n",
       "                        'b99c6fe3-00de-42de-aa36-29a9a73dd1ee',\n",
       "                        [{\"geo\": \"geo\", \"hovertemplate\": \"size=%{marker.size}<br>State=%{text}<br>lat=%{lat}<br>long=%{lon}<br>preds=%{marker.color}<extra></extra>\", \"lat\": [34.2268, 33.77, 31.1, 31.14, 30.06, 29.05, 27.02, 26.84, 25.09, 22.25, 22.97, 21.27, 23.61, 22.98, 20.26657819, 19.75, 20.95, 15.29, 15.31, 18.1124, 15.91, 10.85, 11.12, 27.53, 28.21, 26.2, 25.46, 26.15, 23.94, 23.16, 24.66, 11.9416, 30.7333, 28.7041], \"legendgroup\": \"\", \"lon\": [77.5619, 76.57, 77.17, 75.34, 79.01, 76.08, 74.21, 80.94, 85.31, 71.19, 78.65, 81.86, 85.27, 87.85, 73.0166178, 75.71, 85.09, 74.12, 75.71, 79.0193, 79.74, 76.27, 78.65, 88.51, 94.72, 92.93, 91.36, 94.56, 91.98, 92.93, 93.9, 79.8083, 76.7794, 77.1025], \"marker\": {\"color\": [0, 1, 1, 1, 1, 1, 2, 2, 1, 2, 2, 2, 1, 1, 0, 2, 1, 1, 2, 1, 2, 2, 2, 0, 0, 0, 0, 0, 0, 0, 0, 2, 2, 2], \"coloraxis\": \"coloraxis\", \"size\": [1, 2, 2, 2, 2, 2, 3, 3, 2, 3, 3, 3, 2, 2, 1, 3, 2, 2, 3, 2, 3, 3, 3, 1, 1, 1, 1, 1, 1, 1, 1, 3, 3, 3], \"sizemode\": \"area\", \"sizeref\": 0.0075}, \"name\": \"\", \"showlegend\": false, \"text\": [\"Ladakh\", \"Jammu and Kashmir\", \"Himachal Pradesh\", \"Punjab\", \"Uttarakhand\", \"Haryana\", \"Rajasthan\", \"Uttar Pradesh\", \"Bihar\", \"Gujarat\", \"Madhya Pradesh\", \"Chhattisgarh\", \"Jharkhand\", \"West Bengal\", \"Dadra and Nagar Haveli and Daman and Diu\", \"Maharashtra\", \"Odisha\", \"Goa\", \"Karnataka\", \"Telangana\", \"Andhra Pradesh\", \"Kerala\", \"Tamil Nadu\", \"Sikkim\", \"Arunachal Pradesh\", \"Assam\", \"Meghalaya\", \"Nagaland\", \"Tripura\", \"Mizoram\", \"Manipur\", \"Puducherry\", \"Chandigarh\", \"NCT of Delhi\"], \"type\": \"scattergeo\"}],\n",
       "                        {\"coloraxis\": {\"colorbar\": {\"title\": {\"text\": \"preds\"}}, \"colorscale\": [[0.0, \"#0d0887\"], [0.1111111111111111, \"#46039f\"], [0.2222222222222222, \"#7201a8\"], [0.3333333333333333, \"#9c179e\"], [0.4444444444444444, \"#bd3786\"], [0.5555555555555556, \"#d8576b\"], [0.6666666666666666, \"#ed7953\"], [0.7777777777777778, \"#fb9f3a\"], [0.8888888888888888, \"#fdca26\"], [1.0, \"#f0f921\"]]}, \"geo\": {\"center\": {\"lat\": 19, \"lon\": -99}, \"domain\": {\"x\": [0.0, 1.0], \"y\": [0.0, 1.0]}, \"projection\": {\"type\": \"natural earth\"}, \"scope\": \"asia\"}, \"legend\": {\"itemsizing\": \"constant\", \"tracegroupgap\": 0}, \"margin\": {\"t\": 60}, \"template\": {\"data\": {\"bar\": [{\"error_x\": {\"color\": \"#2a3f5f\"}, \"error_y\": {\"color\": \"#2a3f5f\"}, \"marker\": {\"line\": {\"color\": \"#E5ECF6\", \"width\": 0.5}}, \"type\": \"bar\"}], \"barpolar\": [{\"marker\": {\"line\": {\"color\": \"#E5ECF6\", \"width\": 0.5}}, \"type\": \"barpolar\"}], \"carpet\": [{\"aaxis\": {\"endlinecolor\": \"#2a3f5f\", \"gridcolor\": \"white\", \"linecolor\": \"white\", \"minorgridcolor\": \"white\", \"startlinecolor\": \"#2a3f5f\"}, \"baxis\": {\"endlinecolor\": \"#2a3f5f\", \"gridcolor\": \"white\", \"linecolor\": \"white\", \"minorgridcolor\": \"white\", \"startlinecolor\": \"#2a3f5f\"}, \"type\": \"carpet\"}], \"choropleth\": [{\"colorbar\": {\"outlinewidth\": 0, \"ticks\": \"\"}, \"type\": \"choropleth\"}], \"contour\": [{\"colorbar\": {\"outlinewidth\": 0, \"ticks\": \"\"}, \"colorscale\": [[0.0, \"#0d0887\"], [0.1111111111111111, \"#46039f\"], [0.2222222222222222, \"#7201a8\"], [0.3333333333333333, \"#9c179e\"], [0.4444444444444444, \"#bd3786\"], [0.5555555555555556, \"#d8576b\"], [0.6666666666666666, \"#ed7953\"], [0.7777777777777778, \"#fb9f3a\"], [0.8888888888888888, \"#fdca26\"], [1.0, \"#f0f921\"]], \"type\": \"contour\"}], \"contourcarpet\": [{\"colorbar\": {\"outlinewidth\": 0, \"ticks\": \"\"}, \"type\": \"contourcarpet\"}], \"heatmap\": [{\"colorbar\": {\"outlinewidth\": 0, \"ticks\": \"\"}, \"colorscale\": [[0.0, \"#0d0887\"], [0.1111111111111111, \"#46039f\"], [0.2222222222222222, \"#7201a8\"], [0.3333333333333333, \"#9c179e\"], [0.4444444444444444, \"#bd3786\"], [0.5555555555555556, \"#d8576b\"], [0.6666666666666666, \"#ed7953\"], [0.7777777777777778, \"#fb9f3a\"], [0.8888888888888888, \"#fdca26\"], [1.0, \"#f0f921\"]], \"type\": \"heatmap\"}], \"heatmapgl\": [{\"colorbar\": {\"outlinewidth\": 0, \"ticks\": \"\"}, \"colorscale\": [[0.0, \"#0d0887\"], [0.1111111111111111, \"#46039f\"], [0.2222222222222222, \"#7201a8\"], [0.3333333333333333, \"#9c179e\"], [0.4444444444444444, \"#bd3786\"], [0.5555555555555556, \"#d8576b\"], [0.6666666666666666, \"#ed7953\"], [0.7777777777777778, \"#fb9f3a\"], [0.8888888888888888, \"#fdca26\"], [1.0, \"#f0f921\"]], \"type\": \"heatmapgl\"}], \"histogram\": [{\"marker\": {\"colorbar\": {\"outlinewidth\": 0, \"ticks\": \"\"}}, \"type\": \"histogram\"}], \"histogram2d\": [{\"colorbar\": {\"outlinewidth\": 0, \"ticks\": \"\"}, \"colorscale\": [[0.0, \"#0d0887\"], [0.1111111111111111, \"#46039f\"], [0.2222222222222222, \"#7201a8\"], [0.3333333333333333, \"#9c179e\"], [0.4444444444444444, \"#bd3786\"], [0.5555555555555556, \"#d8576b\"], [0.6666666666666666, \"#ed7953\"], [0.7777777777777778, \"#fb9f3a\"], [0.8888888888888888, \"#fdca26\"], [1.0, \"#f0f921\"]], \"type\": \"histogram2d\"}], \"histogram2dcontour\": [{\"colorbar\": {\"outlinewidth\": 0, \"ticks\": \"\"}, \"colorscale\": [[0.0, \"#0d0887\"], [0.1111111111111111, \"#46039f\"], [0.2222222222222222, \"#7201a8\"], [0.3333333333333333, \"#9c179e\"], [0.4444444444444444, \"#bd3786\"], [0.5555555555555556, \"#d8576b\"], [0.6666666666666666, \"#ed7953\"], [0.7777777777777778, \"#fb9f3a\"], [0.8888888888888888, \"#fdca26\"], [1.0, \"#f0f921\"]], \"type\": \"histogram2dcontour\"}], \"mesh3d\": [{\"colorbar\": {\"outlinewidth\": 0, \"ticks\": \"\"}, \"type\": \"mesh3d\"}], \"parcoords\": [{\"line\": {\"colorbar\": {\"outlinewidth\": 0, \"ticks\": \"\"}}, \"type\": \"parcoords\"}], \"pie\": [{\"automargin\": true, \"type\": \"pie\"}], \"scatter\": [{\"marker\": {\"colorbar\": {\"outlinewidth\": 0, \"ticks\": \"\"}}, \"type\": \"scatter\"}], \"scatter3d\": [{\"line\": {\"colorbar\": {\"outlinewidth\": 0, \"ticks\": \"\"}}, \"marker\": {\"colorbar\": {\"outlinewidth\": 0, \"ticks\": \"\"}}, \"type\": \"scatter3d\"}], \"scattercarpet\": [{\"marker\": {\"colorbar\": {\"outlinewidth\": 0, \"ticks\": \"\"}}, \"type\": \"scattercarpet\"}], \"scattergeo\": [{\"marker\": {\"colorbar\": {\"outlinewidth\": 0, \"ticks\": \"\"}}, \"type\": \"scattergeo\"}], \"scattergl\": [{\"marker\": {\"colorbar\": {\"outlinewidth\": 0, \"ticks\": \"\"}}, \"type\": \"scattergl\"}], \"scattermapbox\": [{\"marker\": {\"colorbar\": {\"outlinewidth\": 0, \"ticks\": \"\"}}, \"type\": \"scattermapbox\"}], \"scatterpolar\": [{\"marker\": {\"colorbar\": {\"outlinewidth\": 0, \"ticks\": \"\"}}, \"type\": \"scatterpolar\"}], \"scatterpolargl\": [{\"marker\": {\"colorbar\": {\"outlinewidth\": 0, \"ticks\": \"\"}}, \"type\": \"scatterpolargl\"}], \"scatterternary\": [{\"marker\": {\"colorbar\": {\"outlinewidth\": 0, \"ticks\": \"\"}}, \"type\": \"scatterternary\"}], \"surface\": [{\"colorbar\": {\"outlinewidth\": 0, \"ticks\": \"\"}, \"colorscale\": [[0.0, \"#0d0887\"], [0.1111111111111111, \"#46039f\"], [0.2222222222222222, \"#7201a8\"], [0.3333333333333333, \"#9c179e\"], [0.4444444444444444, \"#bd3786\"], [0.5555555555555556, \"#d8576b\"], [0.6666666666666666, \"#ed7953\"], [0.7777777777777778, \"#fb9f3a\"], [0.8888888888888888, \"#fdca26\"], [1.0, \"#f0f921\"]], \"type\": \"surface\"}], \"table\": [{\"cells\": {\"fill\": {\"color\": \"#EBF0F8\"}, \"line\": {\"color\": \"white\"}}, \"header\": {\"fill\": {\"color\": \"#C8D4E3\"}, \"line\": {\"color\": \"white\"}}, \"type\": \"table\"}]}, \"layout\": {\"annotationdefaults\": {\"arrowcolor\": \"#2a3f5f\", \"arrowhead\": 0, \"arrowwidth\": 1}, \"coloraxis\": {\"colorbar\": {\"outlinewidth\": 0, \"ticks\": \"\"}}, \"colorscale\": {\"diverging\": [[0, \"#8e0152\"], [0.1, \"#c51b7d\"], [0.2, \"#de77ae\"], [0.3, \"#f1b6da\"], [0.4, \"#fde0ef\"], [0.5, \"#f7f7f7\"], [0.6, \"#e6f5d0\"], [0.7, \"#b8e186\"], [0.8, \"#7fbc41\"], [0.9, \"#4d9221\"], [1, \"#276419\"]], \"sequential\": [[0.0, \"#0d0887\"], [0.1111111111111111, \"#46039f\"], [0.2222222222222222, \"#7201a8\"], [0.3333333333333333, \"#9c179e\"], [0.4444444444444444, \"#bd3786\"], [0.5555555555555556, \"#d8576b\"], [0.6666666666666666, \"#ed7953\"], [0.7777777777777778, \"#fb9f3a\"], [0.8888888888888888, \"#fdca26\"], [1.0, \"#f0f921\"]], \"sequentialminus\": [[0.0, \"#0d0887\"], [0.1111111111111111, \"#46039f\"], [0.2222222222222222, \"#7201a8\"], [0.3333333333333333, \"#9c179e\"], [0.4444444444444444, \"#bd3786\"], [0.5555555555555556, \"#d8576b\"], [0.6666666666666666, \"#ed7953\"], [0.7777777777777778, \"#fb9f3a\"], [0.8888888888888888, \"#fdca26\"], [1.0, \"#f0f921\"]]}, \"colorway\": [\"#636efa\", \"#EF553B\", \"#00cc96\", \"#ab63fa\", \"#FFA15A\", \"#19d3f3\", \"#FF6692\", \"#B6E880\", \"#FF97FF\", \"#FECB52\"], \"font\": {\"color\": \"#2a3f5f\"}, \"geo\": {\"bgcolor\": \"white\", \"lakecolor\": \"white\", \"landcolor\": \"#E5ECF6\", \"showlakes\": true, \"showland\": true, \"subunitcolor\": \"white\"}, \"hoverlabel\": {\"align\": \"left\"}, \"hovermode\": \"closest\", \"mapbox\": {\"style\": \"light\"}, \"paper_bgcolor\": \"white\", \"plot_bgcolor\": \"#E5ECF6\", \"polar\": {\"angularaxis\": {\"gridcolor\": \"white\", \"linecolor\": \"white\", \"ticks\": \"\"}, \"bgcolor\": \"#E5ECF6\", \"radialaxis\": {\"gridcolor\": \"white\", \"linecolor\": \"white\", \"ticks\": \"\"}}, \"scene\": {\"xaxis\": {\"backgroundcolor\": \"#E5ECF6\", \"gridcolor\": \"white\", \"gridwidth\": 2, \"linecolor\": \"white\", \"showbackground\": true, \"ticks\": \"\", \"zerolinecolor\": \"white\"}, \"yaxis\": {\"backgroundcolor\": \"#E5ECF6\", \"gridcolor\": \"white\", \"gridwidth\": 2, \"linecolor\": \"white\", \"showbackground\": true, \"ticks\": \"\", \"zerolinecolor\": \"white\"}, \"zaxis\": {\"backgroundcolor\": \"#E5ECF6\", \"gridcolor\": \"white\", \"gridwidth\": 2, \"linecolor\": \"white\", \"showbackground\": true, \"ticks\": \"\", \"zerolinecolor\": \"white\"}}, \"shapedefaults\": {\"line\": {\"color\": \"#2a3f5f\"}}, \"ternary\": {\"aaxis\": {\"gridcolor\": \"white\", \"linecolor\": \"white\", \"ticks\": \"\"}, \"baxis\": {\"gridcolor\": \"white\", \"linecolor\": \"white\", \"ticks\": \"\"}, \"bgcolor\": \"#E5ECF6\", \"caxis\": {\"gridcolor\": \"white\", \"linecolor\": \"white\", \"ticks\": \"\"}}, \"title\": {\"x\": 0.05}, \"xaxis\": {\"automargin\": true, \"gridcolor\": \"white\", \"linecolor\": \"white\", \"ticks\": \"\", \"title\": {\"standoff\": 15}, \"zerolinecolor\": \"white\", \"zerolinewidth\": 2}, \"yaxis\": {\"automargin\": true, \"gridcolor\": \"white\", \"linecolor\": \"white\", \"ticks\": \"\", \"title\": {\"standoff\": 15}, \"zerolinecolor\": \"white\", \"zerolinewidth\": 2}}}, \"width\": 800},\n",
       "                        {\"responsive\": true}\n",
       "                    ).then(function(){\n",
       "                            \n",
       "var gd = document.getElementById('b99c6fe3-00de-42de-aa36-29a9a73dd1ee');\n",
       "var x = new MutationObserver(function (mutations, observer) {{\n",
       "        var display = window.getComputedStyle(gd).display;\n",
       "        if (!display || display === 'none') {{\n",
       "            console.log([gd, 'removed!']);\n",
       "            Plotly.purge(gd);\n",
       "            observer.disconnect();\n",
       "        }}\n",
       "}});\n",
       "\n",
       "// Listen for the removal of the full notebook cells\n",
       "var notebookContainer = gd.closest('#notebook-container');\n",
       "if (notebookContainer) {{\n",
       "    x.observe(notebookContainer, {childList: true});\n",
       "}}\n",
       "\n",
       "// Listen for the clearing of the current output cell\n",
       "var outputEl = gd.closest('.output');\n",
       "if (outputEl) {{\n",
       "    x.observe(outputEl, {childList: true});\n",
       "}}\n",
       "\n",
       "                        })\n",
       "                };\n",
       "                });\n",
       "            </script>\n",
       "        </div>"
      ]
     },
     "metadata": {},
     "output_type": "display_data"
    }
   ],
   "source": [
    "fig = px.scatter_geo(final_df, \n",
    "                     lat=\"lat\", \n",
    "                     lon=\"long\", \n",
    "                     color='preds', \n",
    "                     size=final_df['preds']+1, \n",
    "                     scope='asia', \n",
    "                     center={'lat':19,'lon':-99}, \n",
    "                     width=800, \n",
    "                     text=final_df['State'],\n",
    "                     projection=\"natural earth\")\n",
    "\n",
    "fig.show()"
   ]
  },
  {
   "cell_type": "code",
   "execution_count": null,
   "metadata": {},
   "outputs": [],
   "source": []
  }
 ],
 "metadata": {
  "colab": {
   "collapsed_sections": [],
   "name": "dgl_maps_in.ipynb",
   "provenance": []
  },
  "kernelspec": {
   "display_name": "Python 3",
   "language": "python",
   "name": "python3"
  },
  "language_info": {
   "codemirror_mode": {
    "name": "ipython",
    "version": 3
   },
   "file_extension": ".py",
   "mimetype": "text/x-python",
   "name": "python",
   "nbconvert_exporter": "python",
   "pygments_lexer": "ipython3",
   "version": "3.7.4"
  }
 },
 "nbformat": 4,
 "nbformat_minor": 1
}
